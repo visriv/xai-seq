{
  "cells": [
    {
      "cell_type": "code",
      "execution_count": 1,
      "id": "7ff5a093",
      "metadata": {
        "id": "7ff5a093",
        "colab": {
          "base_uri": "https://localhost:8080/"
        },
        "outputId": "a70753fd-c068-4afa-9e7b-8020e4f491ab"
      },
      "outputs": [
        {
          "output_type": "stream",
          "name": "stdout",
          "text": [
            "Requirement already satisfied: yfinance in /usr/local/lib/python3.10/dist-packages (0.2.21)\n",
            "Requirement already satisfied: pandas>=1.3.0 in /usr/local/lib/python3.10/dist-packages (from yfinance) (1.5.3)\n",
            "Requirement already satisfied: numpy>=1.16.5 in /usr/local/lib/python3.10/dist-packages (from yfinance) (1.22.4)\n",
            "Requirement already satisfied: requests>=2.26 in /usr/local/lib/python3.10/dist-packages (from yfinance) (2.27.1)\n",
            "Requirement already satisfied: multitasking>=0.0.7 in /usr/local/lib/python3.10/dist-packages (from yfinance) (0.0.11)\n",
            "Requirement already satisfied: lxml>=4.9.1 in /usr/local/lib/python3.10/dist-packages (from yfinance) (4.9.2)\n",
            "Requirement already satisfied: appdirs>=1.4.4 in /usr/local/lib/python3.10/dist-packages (from yfinance) (1.4.4)\n",
            "Requirement already satisfied: pytz>=2022.5 in /usr/local/lib/python3.10/dist-packages (from yfinance) (2022.7.1)\n",
            "Requirement already satisfied: frozendict>=2.3.4 in /usr/local/lib/python3.10/dist-packages (from yfinance) (2.3.8)\n",
            "Requirement already satisfied: beautifulsoup4>=4.11.1 in /usr/local/lib/python3.10/dist-packages (from yfinance) (4.11.2)\n",
            "Requirement already satisfied: html5lib>=1.1 in /usr/local/lib/python3.10/dist-packages (from yfinance) (1.1)\n",
            "Requirement already satisfied: soupsieve>1.2 in /usr/local/lib/python3.10/dist-packages (from beautifulsoup4>=4.11.1->yfinance) (2.4.1)\n",
            "Requirement already satisfied: six>=1.9 in /usr/local/lib/python3.10/dist-packages (from html5lib>=1.1->yfinance) (1.16.0)\n",
            "Requirement already satisfied: webencodings in /usr/local/lib/python3.10/dist-packages (from html5lib>=1.1->yfinance) (0.5.1)\n",
            "Requirement already satisfied: python-dateutil>=2.8.1 in /usr/local/lib/python3.10/dist-packages (from pandas>=1.3.0->yfinance) (2.8.2)\n",
            "Requirement already satisfied: urllib3<1.27,>=1.21.1 in /usr/local/lib/python3.10/dist-packages (from requests>=2.26->yfinance) (1.26.16)\n",
            "Requirement already satisfied: certifi>=2017.4.17 in /usr/local/lib/python3.10/dist-packages (from requests>=2.26->yfinance) (2023.5.7)\n",
            "Requirement already satisfied: charset-normalizer~=2.0.0 in /usr/local/lib/python3.10/dist-packages (from requests>=2.26->yfinance) (2.0.12)\n",
            "Requirement already satisfied: idna<4,>=2.5 in /usr/local/lib/python3.10/dist-packages (from requests>=2.26->yfinance) (3.4)\n",
            "Collecting transformers\n",
            "  Downloading transformers-4.30.2-py3-none-any.whl (7.2 MB)\n",
            "\u001b[2K     \u001b[90m━━━━━━━━━━━━━━━━━━━━━━━━━━━━━━━━━━━━━━━━\u001b[0m \u001b[32m7.2/7.2 MB\u001b[0m \u001b[31m110.2 MB/s\u001b[0m eta \u001b[36m0:00:00\u001b[0m\n",
            "\u001b[?25hRequirement already satisfied: filelock in /usr/local/lib/python3.10/dist-packages (from transformers) (3.12.2)\n",
            "Collecting huggingface-hub<1.0,>=0.14.1 (from transformers)\n",
            "  Downloading huggingface_hub-0.15.1-py3-none-any.whl (236 kB)\n",
            "\u001b[2K     \u001b[90m━━━━━━━━━━━━━━━━━━━━━━━━━━━━━━━━━━━━━━\u001b[0m \u001b[32m236.8/236.8 kB\u001b[0m \u001b[31m30.6 MB/s\u001b[0m eta \u001b[36m0:00:00\u001b[0m\n",
            "\u001b[?25hRequirement already satisfied: numpy>=1.17 in /usr/local/lib/python3.10/dist-packages (from transformers) (1.22.4)\n",
            "Requirement already satisfied: packaging>=20.0 in /usr/local/lib/python3.10/dist-packages (from transformers) (23.1)\n",
            "Requirement already satisfied: pyyaml>=5.1 in /usr/local/lib/python3.10/dist-packages (from transformers) (6.0)\n",
            "Requirement already satisfied: regex!=2019.12.17 in /usr/local/lib/python3.10/dist-packages (from transformers) (2022.10.31)\n",
            "Requirement already satisfied: requests in /usr/local/lib/python3.10/dist-packages (from transformers) (2.27.1)\n",
            "Collecting tokenizers!=0.11.3,<0.14,>=0.11.1 (from transformers)\n",
            "  Downloading tokenizers-0.13.3-cp310-cp310-manylinux_2_17_x86_64.manylinux2014_x86_64.whl (7.8 MB)\n",
            "\u001b[2K     \u001b[90m━━━━━━━━━━━━━━━━━━━━━━━━━━━━━━━━━━━━━━━━\u001b[0m \u001b[32m7.8/7.8 MB\u001b[0m \u001b[31m132.0 MB/s\u001b[0m eta \u001b[36m0:00:00\u001b[0m\n",
            "\u001b[?25hCollecting safetensors>=0.3.1 (from transformers)\n",
            "  Downloading safetensors-0.3.1-cp310-cp310-manylinux_2_17_x86_64.manylinux2014_x86_64.whl (1.3 MB)\n",
            "\u001b[2K     \u001b[90m━━━━━━━━━━━━━━━━━━━━━━━━━━━━━━━━━━━━━━━━\u001b[0m \u001b[32m1.3/1.3 MB\u001b[0m \u001b[31m75.2 MB/s\u001b[0m eta \u001b[36m0:00:00\u001b[0m\n",
            "\u001b[?25hRequirement already satisfied: tqdm>=4.27 in /usr/local/lib/python3.10/dist-packages (from transformers) (4.65.0)\n",
            "Requirement already satisfied: fsspec in /usr/local/lib/python3.10/dist-packages (from huggingface-hub<1.0,>=0.14.1->transformers) (2023.6.0)\n",
            "Requirement already satisfied: typing-extensions>=3.7.4.3 in /usr/local/lib/python3.10/dist-packages (from huggingface-hub<1.0,>=0.14.1->transformers) (4.6.3)\n",
            "Requirement already satisfied: urllib3<1.27,>=1.21.1 in /usr/local/lib/python3.10/dist-packages (from requests->transformers) (1.26.16)\n",
            "Requirement already satisfied: certifi>=2017.4.17 in /usr/local/lib/python3.10/dist-packages (from requests->transformers) (2023.5.7)\n",
            "Requirement already satisfied: charset-normalizer~=2.0.0 in /usr/local/lib/python3.10/dist-packages (from requests->transformers) (2.0.12)\n",
            "Requirement already satisfied: idna<4,>=2.5 in /usr/local/lib/python3.10/dist-packages (from requests->transformers) (3.4)\n",
            "Installing collected packages: tokenizers, safetensors, huggingface-hub, transformers\n",
            "Successfully installed huggingface-hub-0.15.1 safetensors-0.3.1 tokenizers-0.13.3 transformers-4.30.2\n",
            "Collecting wandb\n",
            "  Downloading wandb-0.15.4-py3-none-any.whl (2.1 MB)\n",
            "\u001b[2K     \u001b[90m━━━━━━━━━━━━━━━━━━━━━━━━━━━━━━━━━━━━━━━━\u001b[0m \u001b[32m2.1/2.1 MB\u001b[0m \u001b[31m65.9 MB/s\u001b[0m eta \u001b[36m0:00:00\u001b[0m\n",
            "\u001b[?25hRequirement already satisfied: Click!=8.0.0,>=7.0 in /usr/local/lib/python3.10/dist-packages (from wandb) (8.1.3)\n",
            "Collecting GitPython!=3.1.29,>=1.0.0 (from wandb)\n",
            "  Downloading GitPython-3.1.31-py3-none-any.whl (184 kB)\n",
            "\u001b[2K     \u001b[90m━━━━━━━━━━━━━━━━━━━━━━━━━━━━━━━━━━━━━━\u001b[0m \u001b[32m184.3/184.3 kB\u001b[0m \u001b[31m17.6 MB/s\u001b[0m eta \u001b[36m0:00:00\u001b[0m\n",
            "\u001b[?25hRequirement already satisfied: requests<3,>=2.0.0 in /usr/local/lib/python3.10/dist-packages (from wandb) (2.27.1)\n",
            "Requirement already satisfied: psutil>=5.0.0 in /usr/local/lib/python3.10/dist-packages (from wandb) (5.9.5)\n",
            "Collecting sentry-sdk>=1.0.0 (from wandb)\n",
            "  Downloading sentry_sdk-1.26.0-py2.py3-none-any.whl (209 kB)\n",
            "\u001b[2K     \u001b[90m━━━━━━━━━━━━━━━━━━━━━━━━━━━━━━━━━━━━━━\u001b[0m \u001b[32m209.4/209.4 kB\u001b[0m \u001b[31m26.1 MB/s\u001b[0m eta \u001b[36m0:00:00\u001b[0m\n",
            "\u001b[?25hCollecting docker-pycreds>=0.4.0 (from wandb)\n",
            "  Downloading docker_pycreds-0.4.0-py2.py3-none-any.whl (9.0 kB)\n",
            "Requirement already satisfied: PyYAML in /usr/local/lib/python3.10/dist-packages (from wandb) (6.0)\n",
            "Collecting pathtools (from wandb)\n",
            "  Downloading pathtools-0.1.2.tar.gz (11 kB)\n",
            "  Preparing metadata (setup.py) ... \u001b[?25l\u001b[?25hdone\n",
            "Collecting setproctitle (from wandb)\n",
            "  Downloading setproctitle-1.3.2-cp310-cp310-manylinux_2_5_x86_64.manylinux1_x86_64.manylinux_2_17_x86_64.manylinux2014_x86_64.whl (30 kB)\n",
            "Requirement already satisfied: setuptools in /usr/local/lib/python3.10/dist-packages (from wandb) (67.7.2)\n",
            "Requirement already satisfied: appdirs>=1.4.3 in /usr/local/lib/python3.10/dist-packages (from wandb) (1.4.4)\n",
            "Requirement already satisfied: protobuf!=4.21.0,<5,>=3.19.0 in /usr/local/lib/python3.10/dist-packages (from wandb) (3.20.3)\n",
            "Requirement already satisfied: six>=1.4.0 in /usr/local/lib/python3.10/dist-packages (from docker-pycreds>=0.4.0->wandb) (1.16.0)\n",
            "Collecting gitdb<5,>=4.0.1 (from GitPython!=3.1.29,>=1.0.0->wandb)\n",
            "  Downloading gitdb-4.0.10-py3-none-any.whl (62 kB)\n",
            "\u001b[2K     \u001b[90m━━━━━━━━━━━━━━━━━━━━━━━━━━━━━━━━━━━━━━━━\u001b[0m \u001b[32m62.7/62.7 kB\u001b[0m \u001b[31m8.6 MB/s\u001b[0m eta \u001b[36m0:00:00\u001b[0m\n",
            "\u001b[?25hRequirement already satisfied: urllib3<1.27,>=1.21.1 in /usr/local/lib/python3.10/dist-packages (from requests<3,>=2.0.0->wandb) (1.26.16)\n",
            "Requirement already satisfied: certifi>=2017.4.17 in /usr/local/lib/python3.10/dist-packages (from requests<3,>=2.0.0->wandb) (2023.5.7)\n",
            "Requirement already satisfied: charset-normalizer~=2.0.0 in /usr/local/lib/python3.10/dist-packages (from requests<3,>=2.0.0->wandb) (2.0.12)\n",
            "Requirement already satisfied: idna<4,>=2.5 in /usr/local/lib/python3.10/dist-packages (from requests<3,>=2.0.0->wandb) (3.4)\n",
            "Collecting smmap<6,>=3.0.1 (from gitdb<5,>=4.0.1->GitPython!=3.1.29,>=1.0.0->wandb)\n",
            "  Downloading smmap-5.0.0-py3-none-any.whl (24 kB)\n",
            "Building wheels for collected packages: pathtools\n",
            "  Building wheel for pathtools (setup.py) ... \u001b[?25l\u001b[?25hdone\n",
            "  Created wheel for pathtools: filename=pathtools-0.1.2-py3-none-any.whl size=8791 sha256=4b9c1367288c4549002223ccafd3709690ed21ac4081abf4e81cca87c56c2c7c\n",
            "  Stored in directory: /root/.cache/pip/wheels/e7/f3/22/152153d6eb222ee7a56ff8617d80ee5207207a8c00a7aab794\n",
            "Successfully built pathtools\n",
            "Installing collected packages: pathtools, smmap, setproctitle, sentry-sdk, docker-pycreds, gitdb, GitPython, wandb\n",
            "Successfully installed GitPython-3.1.31 docker-pycreds-0.4.0 gitdb-4.0.10 pathtools-0.1.2 sentry-sdk-1.26.0 setproctitle-1.3.2 smmap-5.0.0 wandb-0.15.4\n",
            "Requirement already satisfied: beautifulsoup4 in /usr/local/lib/python3.10/dist-packages (4.11.2)\n",
            "Requirement already satisfied: soupsieve>1.2 in /usr/local/lib/python3.10/dist-packages (from beautifulsoup4) (2.4.1)\n"
          ]
        }
      ],
      "source": [
        "!pip install yfinance\n",
        "!pip install transformers\n",
        "!pip install wandb\n",
        "!pip install beautifulsoup4\n"
      ]
    },
    {
      "cell_type": "code",
      "execution_count": 2,
      "id": "1a3524a9",
      "metadata": {
        "id": "1a3524a9"
      },
      "outputs": [],
      "source": [
        "import yfinance as yf\n",
        "import datetime\n",
        "import numpy as np\n",
        "import pandas as pd\n",
        "from pylab import mpl, plt\n",
        "import math, time\n",
        "import itertools\n",
        "from datetime import datetime\n",
        "from operator import itemgetter\n",
        "from tqdm import tqdm\n",
        "from math import sqrt\n",
        "import torch\n",
        "import torch.nn as nn\n",
        "from torch.autograd import Variable\n",
        "from transformers import RobertaTokenizer, RobertaModel\n",
        "import torch.nn.functional as F"
      ]
    },
    {
      "cell_type": "code",
      "execution_count": 3,
      "id": "24afc749",
      "metadata": {
        "id": "24afc749"
      },
      "outputs": [],
      "source": [
        "from torch import cuda\n",
        "device = 'cuda' if cuda.is_available() else 'cpu'"
      ]
    },
    {
      "cell_type": "code",
      "execution_count": 4,
      "id": "e128245b",
      "metadata": {
        "id": "e128245b",
        "colab": {
          "base_uri": "https://localhost:8080/",
          "height": 179
        },
        "outputId": "b2d1c779-a781-4776-e51a-171fd42e3bb7"
      },
      "outputs": [
        {
          "output_type": "display_data",
          "data": {
            "text/plain": [
              "<IPython.core.display.Javascript object>"
            ],
            "application/javascript": [
              "\n",
              "        window._wandbApiKey = new Promise((resolve, reject) => {\n",
              "            function loadScript(url) {\n",
              "            return new Promise(function(resolve, reject) {\n",
              "                let newScript = document.createElement(\"script\");\n",
              "                newScript.onerror = reject;\n",
              "                newScript.onload = resolve;\n",
              "                document.body.appendChild(newScript);\n",
              "                newScript.src = url;\n",
              "            });\n",
              "            }\n",
              "            loadScript(\"https://cdn.jsdelivr.net/npm/postmate/build/postmate.min.js\").then(() => {\n",
              "            const iframe = document.createElement('iframe')\n",
              "            iframe.style.cssText = \"width:0;height:0;border:none\"\n",
              "            document.body.appendChild(iframe)\n",
              "            const handshake = new Postmate({\n",
              "                container: iframe,\n",
              "                url: 'https://wandb.ai/authorize'\n",
              "            });\n",
              "            const timeout = setTimeout(() => reject(\"Couldn't auto authenticate\"), 5000)\n",
              "            handshake.then(function(child) {\n",
              "                child.on('authorize', data => {\n",
              "                    clearTimeout(timeout)\n",
              "                    resolve(data)\n",
              "                });\n",
              "            });\n",
              "            })\n",
              "        });\n",
              "    "
            ]
          },
          "metadata": {}
        },
        {
          "output_type": "stream",
          "name": "stderr",
          "text": [
            "\u001b[34m\u001b[1mwandb\u001b[0m: Appending key for api.wandb.ai to your netrc file: /root/.netrc\n",
            "\u001b[34m\u001b[1mwandb\u001b[0m: Currently logged in as: \u001b[33mvisriv\u001b[0m. Use \u001b[1m`wandb login --relogin`\u001b[0m to force relogin\n"
          ]
        },
        {
          "output_type": "display_data",
          "data": {
            "text/plain": [
              "<IPython.core.display.HTML object>"
            ],
            "text/html": [
              "Tracking run with wandb version 0.15.4"
            ]
          },
          "metadata": {}
        },
        {
          "output_type": "display_data",
          "data": {
            "text/plain": [
              "<IPython.core.display.HTML object>"
            ],
            "text/html": [
              "Run data is saved locally in <code>/content/wandb/run-20230703_071330-retxgha2</code>"
            ]
          },
          "metadata": {}
        },
        {
          "output_type": "display_data",
          "data": {
            "text/plain": [
              "<IPython.core.display.HTML object>"
            ],
            "text/html": [
              "Syncing run <strong><a href='https://wandb.ai/visriv/stock_prediction/runs/retxgha2' target=\"_blank\">fancy-salad-32</a></strong> to <a href='https://wandb.ai/visriv/stock_prediction' target=\"_blank\">Weights & Biases</a> (<a href='https://wandb.me/run' target=\"_blank\">docs</a>)<br/>"
            ]
          },
          "metadata": {}
        },
        {
          "output_type": "display_data",
          "data": {
            "text/plain": [
              "<IPython.core.display.HTML object>"
            ],
            "text/html": [
              " View project at <a href='https://wandb.ai/visriv/stock_prediction' target=\"_blank\">https://wandb.ai/visriv/stock_prediction</a>"
            ]
          },
          "metadata": {}
        },
        {
          "output_type": "display_data",
          "data": {
            "text/plain": [
              "<IPython.core.display.HTML object>"
            ],
            "text/html": [
              " View run at <a href='https://wandb.ai/visriv/stock_prediction/runs/retxgha2' target=\"_blank\">https://wandb.ai/visriv/stock_prediction/runs/retxgha2</a>"
            ]
          },
          "metadata": {}
        },
        {
          "output_type": "execute_result",
          "data": {
            "text/html": [
              "<button onClick=\"this.nextSibling.style.display='block';this.style.display='none';\">Display W&B run</button><iframe src='https://wandb.ai/visriv/stock_prediction/runs/retxgha2?jupyter=true' style='border:none;width:100%;height:420px;display:none;'></iframe>"
            ],
            "text/plain": [
              "<wandb.sdk.wandb_run.Run at 0x7fa5650afa30>"
            ]
          },
          "metadata": {},
          "execution_count": 4
        }
      ],
      "source": [
        "import wandb\n",
        "wandb.login()\n",
        "wandb.init(project=\"stock_prediction\")"
      ]
    },
    {
      "cell_type": "markdown",
      "id": "76ea47cc",
      "metadata": {
        "id": "76ea47cc"
      },
      "source": [
        "### Hyperparams"
      ]
    },
    {
      "cell_type": "code",
      "execution_count": 5,
      "id": "9a8dec6d",
      "metadata": {
        "id": "9a8dec6d"
      },
      "outputs": [],
      "source": [
        "no_of_days_to_lookforward = 1\n",
        "no_of_days_to_lookback = 5\n",
        "up_threshold = 0.015\n",
        "down_threshold = -0.015\n",
        "max_text_per_iter = 20\n",
        "batch_size = 8\n",
        "MAX_LEN = 10\n",
        "num_epochs = 200"
      ]
    },
    {
      "cell_type": "markdown",
      "id": "af59387d",
      "metadata": {
        "id": "af59387d"
      },
      "source": [
        "### Get stocks data for last N days"
      ]
    },
    {
      "cell_type": "code",
      "execution_count": 6,
      "id": "6ebb836a",
      "metadata": {
        "id": "6ebb836a"
      },
      "outputs": [],
      "source": [
        "!mkdir data\n"
      ]
    },
    {
      "cell_type": "code",
      "execution_count": 7,
      "id": "64983989",
      "metadata": {
        "id": "64983989",
        "colab": {
          "base_uri": "https://localhost:8080/"
        },
        "outputId": "8565a71f-4afc-4285-ab58-edbd3985c2e1"
      },
      "outputs": [
        {
          "output_type": "stream",
          "name": "stdout",
          "text": [
            "[*********************100%***********************]  1 of 1 completed\n",
            "[*********************100%***********************]  1 of 1 completed\n"
          ]
        }
      ],
      "source": [
        "stock_symbols = [ 'XOM']\n",
        "no_of_days = 4*365\n",
        "\n",
        "EXPORT_DATA_FOLDER = './data/'\n",
        "# !mkdir data\n",
        "# Set the start and end dates for the data\n",
        "# here matching it with dates of news text available\n",
        "train_start = datetime.strptime('2020/01/04', '%Y/%m/%d')\n",
        "train_end = datetime.strptime('2022/09/30', '%Y/%m/%d')\n",
        "test_start = datetime.strptime('2022/10/01', '%Y/%m/%d')\n",
        "test_end = datetime.strptime('2023/01/04', '%Y/%m/%d')\n",
        "\n",
        "\n",
        "# start = datetime.datetime.now() - datetime.timedelta(days=no_of_days)\n",
        "# end = datetime.datetime.now()\n",
        "\n",
        "# Get training data\n",
        "for symbol in stock_symbols:\n",
        "    # Download the historical price and volume data using yfinance\n",
        "    train_data_raw = yf.download(symbol, start=train_start, end=train_end)\n",
        "\n",
        "    # Normalize features by percent of changes between today and yesterday\n",
        "    pct_change_open = train_data_raw['Open'].pct_change().fillna(0)\n",
        "    pct_change_high = train_data_raw['High'].pct_change().fillna(0)\n",
        "    pct_change_high_over_open = (train_data_raw['High']-train_data_raw['Open'])/train_data_raw['Open']\n",
        "    pct_change_low = train_data_raw['Low'].pct_change().fillna(0)\n",
        "    pct_change_low_over_open = (train_data_raw['Low']-train_data_raw['Open'])/train_data_raw['Open']\n",
        "    pct_change_close = train_data_raw['Close'].pct_change().fillna(0)\n",
        "    pct_change_close_over_open = (train_data_raw['Close']-train_data_raw['Open'])/train_data_raw['Open']\n",
        "    pct_change_adjclose = train_data_raw['Adj Close'].pct_change().fillna(0)\n",
        "    pct_change_adjclose_over_open = (train_data_raw['Adj Close']-train_data_raw['Open'])/train_data_raw['Open']\n",
        "    pct_change_volume = train_data_raw['Volume'].pct_change().fillna(0)\n",
        "\n",
        "    # Prepare labels: 2 means the close price of tomorow is higher than today's close price; 1 is down; 0 means the movement is between up_threshold and down_threshold\n",
        "    label = np.where(pct_change_close > up_threshold, 2, np.where(pct_change_close < down_threshold, 1, 0))[1:]\n",
        "    label = np.append(label, 0)\n",
        "\n",
        "    # Construct a train_data_norm data frame\n",
        "    train_data_norm = pd.DataFrame({'Open_norm':pct_change_open,\n",
        "                              'High_norm':pct_change_high,\n",
        "                              'Low_norm': pct_change_low,\n",
        "                              'Close_norm':pct_change_close,\n",
        "                              'Volume_norm':pct_change_volume,\n",
        "                              'High-Open_norm':pct_change_high_over_open,\n",
        "                              'Low-Open_norm':pct_change_low_over_open,\n",
        "                              'Close-Open_norm':pct_change_close_over_open,\n",
        "                              'Label_2up1down':label})\n",
        "\n",
        "    # Normalize by min-max normalization after the pct normalization\n",
        "    train_data_norm['Open_norm'] = train_data_norm['Open_norm'].apply(lambda x: (x - train_data_norm['Open_norm'].min()) / (train_data_norm['Open_norm'].max() - train_data_norm['Open_norm'].min()))\n",
        "    train_data_norm['High_norm'] = train_data_norm['High_norm'].apply(lambda x: (x - train_data_norm['High_norm'].min()) / (train_data_norm['High_norm'].max() - train_data_norm['High_norm'].min()))\n",
        "    train_data_norm['Low_norm'] = train_data_norm['Low_norm'].apply(lambda x: (x - train_data_norm['Low_norm'].min()) / (train_data_norm['Low_norm'].max() - train_data_norm['Low_norm'].min()))\n",
        "    train_data_norm['Close_norm'] = train_data_norm['Close_norm'].apply(lambda x: (x - train_data_norm['Close_norm'].min()) / (train_data_norm['Close_norm'].max() - train_data_norm['Close_norm'].min()))\n",
        "    train_data_norm['Volume_norm'] = train_data_norm['Volume_norm'].apply(lambda x: (x - train_data_norm['Volume_norm'].min()) / (train_data_norm['Volume_norm'].max() - train_data_norm['Volume_norm'].min()))\n",
        "    train_data_norm['High-Open_norm'] = train_data_norm['High-Open_norm'].apply(lambda x: (x - train_data_norm['High-Open_norm'].min()) / (train_data_norm['High-Open_norm'].max() - train_data_norm['High-Open_norm'].min()))\n",
        "    train_data_norm['Low-Open_norm'] = train_data_norm['Low-Open_norm'].apply(lambda x: (x - train_data_norm['Low-Open_norm'].min()) / (train_data_norm['Low-Open_norm'].max() - train_data_norm['Low-Open_norm'].min()))\n",
        "    train_data_norm['Close-Open_norm'] = train_data_norm['Close-Open_norm'].apply(lambda x: (x - train_data_norm['Close-Open_norm'].min()) / (train_data_norm['Close-Open_norm'].max() - train_data_norm['Close-Open_norm'].min()))\n",
        "\n",
        "    # Remove the first and the last row, becuase of NAN values\n",
        "    train_data_raw = train_data_raw.iloc[1:-1]\n",
        "    train_data_norm = train_data_norm.iloc[1:-1]\n",
        "\n",
        "    train_data_raw.to_csv(EXPORT_DATA_FOLDER+symbol+'train_raw_data.csv', index=True)\n",
        "    train_data_norm.to_csv(EXPORT_DATA_FOLDER+symbol+'train_norm_data.csv', index=True)\n",
        "\n",
        "\n",
        "# Get test data\n",
        "for symbol in stock_symbols:\n",
        "    # Download the historical price and volume data using yfinance\n",
        "    test_data_raw = yf.download(symbol, start=test_start, end=test_end)\n",
        "\n",
        "    # Normalize features by percent of changes between today and yesterday\n",
        "    pct_change_open = test_data_raw['Open'].pct_change().fillna(0)\n",
        "    pct_change_high = test_data_raw['High'].pct_change().fillna(0)\n",
        "    pct_change_high_over_open = (test_data_raw['High']-test_data_raw['Open'])/test_data_raw['Open']\n",
        "    pct_change_low = test_data_raw['Low'].pct_change().fillna(0)\n",
        "    pct_change_low_over_open = (test_data_raw['Low']-test_data_raw['Open'])/test_data_raw['Open']\n",
        "    pct_change_close = test_data_raw['Close'].pct_change().fillna(0)\n",
        "    pct_change_close_over_open = (test_data_raw['Close']-test_data_raw['Open'])/test_data_raw['Open']\n",
        "    pct_change_adjclose = test_data_raw['Adj Close'].pct_change().fillna(0)\n",
        "    pct_change_adjclose_over_open = (test_data_raw['Adj Close']-test_data_raw['Open'])/test_data_raw['Open']\n",
        "    pct_change_volume = test_data_raw['Volume'].pct_change().fillna(0)\n",
        "\n",
        "    # Prepare labels: 2 means the close price of tomorow is higher than today's close price; 1 is down; 0 means the movement is between up_threshold and down_threshold\n",
        "    label = np.where(pct_change_close > up_threshold, 2, np.where(pct_change_close < down_threshold, 1, 0))[1:]\n",
        "    label = np.append(label, 0)\n",
        "\n",
        "    # Construct a test_data_norm data frame\n",
        "    test_data_norm = pd.DataFrame({'Open_norm':pct_change_open,\n",
        "                              'High_norm':pct_change_high,\n",
        "                              'Low_norm': pct_change_low,\n",
        "                              'Close_norm':pct_change_close,\n",
        "                              'Volume_norm':pct_change_volume,\n",
        "                              'High-Open_norm':pct_change_high_over_open,\n",
        "                              'Low-Open_norm':pct_change_low_over_open,\n",
        "                              'Close-Open_norm':pct_change_close_over_open,\n",
        "                              'Label_2up1down':label})\n",
        "\n",
        "    # Normalize by min-max normalization after the pct normalization\n",
        "    test_data_norm['Open_norm'] = test_data_norm['Open_norm'].apply(lambda x: (x - test_data_norm['Open_norm'].min()) / (test_data_norm['Open_norm'].max() - test_data_norm['Open_norm'].min()))\n",
        "    test_data_norm['High_norm'] = test_data_norm['High_norm'].apply(lambda x: (x - test_data_norm['High_norm'].min()) / (test_data_norm['High_norm'].max() - test_data_norm['High_norm'].min()))\n",
        "    test_data_norm['Low_norm'] = test_data_norm['Low_norm'].apply(lambda x: (x - test_data_norm['Low_norm'].min()) / (test_data_norm['Low_norm'].max() - test_data_norm['Low_norm'].min()))\n",
        "    test_data_norm['Close_norm'] = test_data_norm['Close_norm'].apply(lambda x: (x - test_data_norm['Close_norm'].min()) / (test_data_norm['Close_norm'].max() - test_data_norm['Close_norm'].min()))\n",
        "    test_data_norm['Volume_norm'] = test_data_norm['Volume_norm'].apply(lambda x: (x - test_data_norm['Volume_norm'].min()) / (test_data_norm['Volume_norm'].max() - test_data_norm['Volume_norm'].min()))\n",
        "    test_data_norm['High-Open_norm'] = test_data_norm['High-Open_norm'].apply(lambda x: (x - test_data_norm['High-Open_norm'].min()) / (test_data_norm['High-Open_norm'].max() - test_data_norm['High-Open_norm'].min()))\n",
        "    test_data_norm['Low-Open_norm'] = test_data_norm['Low-Open_norm'].apply(lambda x: (x - test_data_norm['Low-Open_norm'].min()) / (test_data_norm['Low-Open_norm'].max() - test_data_norm['Low-Open_norm'].min()))\n",
        "    test_data_norm['Close-Open_norm'] = test_data_norm['Close-Open_norm'].apply(lambda x: (x - test_data_norm['Close-Open_norm'].min()) / (test_data_norm['Close-Open_norm'].max() - test_data_norm['Close-Open_norm'].min()))\n",
        "\n",
        "    # Remove the first and the last row, becuase of NAN values\n",
        "    test_data_raw = test_data_raw.iloc[1:-1]\n",
        "    test_data_norm = test_data_norm.iloc[1:-1]\n",
        "\n",
        "    test_data_raw.to_csv(EXPORT_DATA_FOLDER+symbol+'test_raw_data.csv', index=True)\n",
        "    test_data_norm.to_csv(EXPORT_DATA_FOLDER+symbol+'test_norm_data.csv', index=True)\n"
      ]
    },
    {
      "cell_type": "code",
      "execution_count": null,
      "id": "044f2161",
      "metadata": {
        "id": "044f2161"
      },
      "outputs": [],
      "source": []
    },
    {
      "cell_type": "markdown",
      "id": "9ac476c4",
      "metadata": {
        "id": "9ac476c4"
      },
      "source": [
        "## TODO"
      ]
    },
    {
      "cell_type": "code",
      "execution_count": null,
      "id": "01cc7891",
      "metadata": {
        "id": "01cc7891"
      },
      "outputs": [],
      "source": [
        "'''\n",
        "(2023-06-05)\n",
        "cuda support check\n",
        "//read textual data into correct shape\n",
        "hyperparam tuning: number of neurons: tune to right number of neurons in FC in model\n",
        "//max_text_per_iter -> code in dataloader to maintain the size\n",
        "\n",
        "(2023-06-07)\n",
        "cuda check\n",
        "roberta encoder fix\n",
        "multi label - how to create target label?\n",
        "\n",
        "'''"
      ]
    },
    {
      "cell_type": "markdown",
      "id": "0f1b8731",
      "metadata": {
        "id": "0f1b8731"
      },
      "source": [
        "## Prep textual data"
      ]
    },
    {
      "cell_type": "markdown",
      "source": [
        "### Crawl textual news data from internet"
      ],
      "metadata": {
        "id": "SXhjZ2x4UuT2"
      },
      "id": "SXhjZ2x4UuT2"
    },
    {
      "cell_type": "code",
      "source": [
        "# Import libraries\n",
        "from bs4 import BeautifulSoup\n",
        "from urllib.request import urlopen\n",
        "from urllib.request import Request\n",
        "from nltk.sentiment.vader import SentimentIntensityAnalyzer\n",
        "\n",
        "# Parameters\n",
        "n = 3 #the # of article headlines displayed per ticker\n",
        "tickers = ['AAPL', 'TSLA', 'AMZN']\n",
        "\n",
        "\n",
        "\n",
        "# Get Data\n",
        "finviz_url = 'https://finviz.com/quote.ashx?t='\n",
        "news_tables = {}\n",
        "\n",
        "for ticker in tickers:\n",
        "    url = finviz_url + ticker\n",
        "    req = Request(url=url,\n",
        "                  headers={'user-agent': 'Mozilla/5.0',\n",
        "                                   'referer': 'https://...'})\n",
        "    resp = urlopen(req)\n",
        "    html = BeautifulSoup(resp, features=\"lxml\")\n",
        "    news_table = html.find(id='news-table')\n",
        "    news_tables[ticker] = news_table\n",
        "\n",
        "try:\n",
        "    for ticker in tickers:\n",
        "        df = news_tables[ticker]\n",
        "        df_tr = df.findAll('tr')\n",
        "\n",
        "        print ('\\n')\n",
        "        print ('Recent News Headlines for {}: '.format(ticker))\n",
        "\n",
        "        for i, table_row in enumerate(df_tr):\n",
        "            a_text = table_row.a.text\n",
        "            td_text = table_row.td.text\n",
        "            td_text = td_text.strip()\n",
        "            print(a_text,'(',td_text,')')\n",
        "            if i == n-1:\n",
        "                break\n",
        "except KeyError:\n",
        "    pass\n",
        "\n",
        "\n",
        "# Iterate through the news\n",
        "parsed_news = []\n",
        "for file_name, news_table in news_tables.items():\n",
        "    for x in news_table.findAll('tr'):\n",
        "        text = x.a.get_text()\n",
        "        date_scrape = x.td.text.split()\n",
        "\n",
        "        if len(date_scrape) == 1:\n",
        "            time = date_scrape[0]\n",
        "\n",
        "        else:\n",
        "            date = date_scrape[0]\n",
        "            time = date_scrape[1]\n",
        "\n",
        "        ticker = file_name.split('_')[0]\n",
        "\n",
        "        parsed_news.append([ticker, date, time, text])\n",
        "\n"
      ],
      "metadata": {
        "id": "4oOXAgDCUuz_"
      },
      "id": "4oOXAgDCUuz_",
      "execution_count": null,
      "outputs": []
    },
    {
      "cell_type": "markdown",
      "source": [
        "### Read downloaded data from saved files"
      ],
      "metadata": {
        "id": "yjXll-U6U1fV"
      },
      "id": "yjXll-U6U1fV"
    },
    {
      "cell_type": "code",
      "source": [
        "from google.colab import drive\n",
        "drive.mount('/content/drive')"
      ],
      "metadata": {
        "id": "4t4-Er1hFOh7",
        "colab": {
          "base_uri": "https://localhost:8080/"
        },
        "outputId": "97e0c693-b3a6-4a14-80f2-addd9e0d091e"
      },
      "id": "4t4-Er1hFOh7",
      "execution_count": 8,
      "outputs": [
        {
          "output_type": "stream",
          "name": "stdout",
          "text": [
            "Mounted at /content/drive\n"
          ]
        }
      ]
    },
    {
      "cell_type": "code",
      "execution_count": 9,
      "id": "a8a06ae3",
      "metadata": {
        "id": "a8a06ae3"
      },
      "outputs": [],
      "source": [
        "text_data_df = pd.read_csv('/content/drive/MyDrive/machine_learning/projects/xai-seq/data/XOM_20200401_20230401_medium.csv',\n",
        "                           sep= ',',\n",
        "                           header= 0,\n",
        "                           engine='python',\n",
        "                           on_bad_lines = 'skip')\n",
        "text_data_df = text_data_df[['Date', 'News']]\n",
        "\n",
        "\n",
        "text_data_df = text_data_df.groupby('Date')['News'].apply('$$$###'.join)\n",
        "\n",
        "text_data_df.index = pd.to_datetime(text_data_df.index, dayfirst=True)\n",
        "# text_data_df\n"
      ]
    },
    {
      "cell_type": "code",
      "execution_count": 10,
      "id": "3155ea81",
      "metadata": {
        "id": "3155ea81",
        "colab": {
          "base_uri": "https://localhost:8080/"
        },
        "outputId": "937786b4-b135-4c13-97a2-d31dbd2e5759"
      },
      "outputs": [
        {
          "output_type": "stream",
          "name": "stdout",
          "text": [
            "2020-04-01 00:00:00\n",
            "2022-09-28 00:00:00\n",
            "2022-10-04 00:00:00\n",
            "2022-12-30 00:00:00\n"
          ]
        }
      ],
      "source": [
        "all_train_df = train_data_norm.join(text_data_df, how = 'inner')\n",
        "all_test_df = test_data_norm.join(text_data_df, how = 'inner')\n",
        "\n",
        "print(all_train_df.index.min())\n",
        "print(all_train_df.index.max())\n",
        "print(all_test_df.index.min())\n",
        "print(all_test_df.index.max())"
      ]
    },
    {
      "cell_type": "markdown",
      "source": [
        "### Merge textual and numerical data\n"
      ],
      "metadata": {
        "id": "nuUgt-MnU-aV"
      },
      "id": "nuUgt-MnU-aV"
    },
    {
      "cell_type": "code",
      "source": [],
      "metadata": {
        "id": "Hqcs8FqVU_U3"
      },
      "id": "Hqcs8FqVU_U3",
      "execution_count": null,
      "outputs": []
    },
    {
      "cell_type": "code",
      "execution_count": 11,
      "id": "56e91800",
      "metadata": {
        "id": "56e91800",
        "colab": {
          "base_uri": "https://localhost:8080/"
        },
        "outputId": "d8678fb3-8afa-4814-b525-53b3c14062d7"
      },
      "outputs": [
        {
          "output_type": "stream",
          "name": "stdout",
          "text": [
            "<class 'numpy.ndarray'>\n",
            "<class 'numpy.ndarray'>\n",
            "624\n",
            "624\n",
            "624\n",
            "torch.Size([624, 5, 8])\n",
            "624\n",
            "20\n"
          ]
        }
      ],
      "source": [
        "all_train = all_train_df.values\n",
        "\n",
        "window_size = no_of_days_to_lookback\n",
        "\n",
        "X_numerical_train = []\n",
        "y_train = []\n",
        "X_text_train = []\n",
        "X_text_train_curr = []\n",
        "\n",
        "\n",
        "\n",
        "\n",
        "\n",
        "for i in range(window_size, len(all_train) - no_of_days_to_lookforward + 1):\n",
        "    X_numerical_train.append(all_train[i-window_size: i, :-2])\n",
        "\n",
        "    # split and append sequence of text\n",
        "    curr_seq = all_train[i-window_size: i, -1]\n",
        "    for j in range(window_size):\n",
        "        split_curr_seq = curr_seq[window_size - 1 -j].split('$$$###')\n",
        "        X_text_train_curr = X_text_train_curr + split_curr_seq\n",
        "\n",
        "    if len(X_text_train_curr) > max_text_per_iter:\n",
        "        X_text_train_curr = X_text_train_curr[:max_text_per_iter]\n",
        "\n",
        "    X_text_train.append(X_text_train_curr)\n",
        "\n",
        "    # target labels\n",
        "    y_train.append(all_train[i:i+no_of_days_to_lookforward, -2])\n",
        "\n",
        "X_numerical_train, y_train = np.array(X_numerical_train).astype(np.float16), np.array(y_train).astype(np.int32)\n",
        "print(type(X_numerical_train))\n",
        "print(type(y_train))\n",
        "\n",
        "X_numerical_train = torch.from_numpy(X_numerical_train).type(torch.Tensor)\n",
        "y_train = torch.from_numpy(y_train).long()\n",
        "\n",
        "print(len(X_numerical_train))\n",
        "print(len(X_text_train))\n",
        "print(len(y_train))\n",
        "print(X_numerical_train.shape)\n",
        "\n",
        "print(len(X_text_train))\n",
        "print(len(X_text_train[2]))\n",
        "# print(X_text_train[2])"
      ]
    },
    {
      "cell_type": "code",
      "execution_count": 12,
      "id": "e404c5e2",
      "metadata": {
        "id": "e404c5e2",
        "colab": {
          "base_uri": "https://localhost:8080/"
        },
        "outputId": "09592d4a-0a7d-41a1-e5d1-36813208cf07"
      },
      "outputs": [
        {
          "output_type": "stream",
          "name": "stdout",
          "text": [
            "<class 'numpy.ndarray'>\n",
            "<class 'numpy.ndarray'>\n",
            "57\n",
            "57\n",
            "57\n",
            "torch.Size([57, 5, 8])\n",
            "57\n",
            "20\n"
          ]
        }
      ],
      "source": [
        "all_test = all_test_df.values\n",
        "\n",
        "\n",
        "X_numerical_test = []\n",
        "y_test = []\n",
        "X_text_test = []\n",
        "X_text_test_curr = []\n",
        "\n",
        "for i in range(window_size, len(all_test) - no_of_days_to_lookforward + 1):\n",
        "    X_numerical_test.append(all_test[i-window_size: i, :-2])\n",
        "\n",
        "    # split and append sequence of text (in reverse order to add the latest news first)\n",
        "    curr_seq = all_test[i-window_size: i, -1]\n",
        "    for j in range(window_size):\n",
        "        split_curr_seq = curr_seq[window_size - 1 -j].split('$$$###')\n",
        "        X_text_test_curr = X_text_test_curr + split_curr_seq\n",
        "\n",
        "    if len(X_text_test_curr) > max_text_per_iter:\n",
        "        X_text_test_curr = X_text_test_curr[:max_text_per_iter]\n",
        "\n",
        "    X_text_test.append(X_text_test_curr)\n",
        "\n",
        "    # target labels\n",
        "    y_test.append(all_test[i:i+no_of_days_to_lookforward, -2])\n",
        "\n",
        "X_numerical_test, y_test = np.array(X_numerical_test).astype(np.float16), np.array(y_test).astype(np.int32)\n",
        "print(type(X_numerical_test))\n",
        "print(type(y_test))\n",
        "\n",
        "X_numerical_test = torch.from_numpy(X_numerical_test).type(torch.Tensor)\n",
        "y_test = torch.from_numpy(y_test).long()\n",
        "\n",
        "print(len(X_numerical_test))\n",
        "print(len(X_text_test))\n",
        "print(len(y_test))\n",
        "print(X_numerical_test.shape)\n",
        "\n",
        "print(len(X_text_test))\n",
        "print(len(X_text_test[2]))\n",
        "# print(X_text_test[2])"
      ]
    },
    {
      "cell_type": "code",
      "execution_count": null,
      "id": "745ef2ef",
      "metadata": {
        "id": "745ef2ef"
      },
      "outputs": [],
      "source": []
    },
    {
      "cell_type": "code",
      "execution_count": null,
      "id": "90dc1ed8",
      "metadata": {
        "id": "90dc1ed8"
      },
      "outputs": [],
      "source": []
    },
    {
      "cell_type": "markdown",
      "id": "b5b453b0",
      "metadata": {
        "id": "b5b453b0"
      },
      "source": [
        "## Data loader"
      ]
    },
    {
      "cell_type": "code",
      "execution_count": 13,
      "id": "dc5998e6",
      "metadata": {
        "id": "dc5998e6",
        "colab": {
          "base_uri": "https://localhost:8080/",
          "height": 113,
          "referenced_widgets": [
            "12a6ec9c36774ab9ab327c4e189f53bd",
            "c29370bb389b483e972836e918b04e2e",
            "8bd5ab3ce7314841a8c98cd40d5be85f",
            "20d8959a944a4d63b79dde3921908a51",
            "02a266ab9a1f4aa0b4b09dda9aa12480",
            "8bdb1438281047bfbcb84d93cf6f1571",
            "18d7c32a71f74883a0275d088014c592",
            "3e2f2133e4b04fb68a86bafe1465f5fd",
            "4ccf92a2df9e4ef8a9969849b0e2d8bd",
            "d1444912342549b08bbcb4327c334974",
            "80fbceabc4ac4188be083729acc33043",
            "17c3c58c48c44a5b828148737f9b60f7",
            "a28063b5af74444b8fa995cf5b6c8e7c",
            "d1dba112eb3749c0b573aecc10648a23",
            "325e3ba0f48745079c78b384825d677a",
            "03118303c1f941f09c56d3b12a0289e0",
            "be47314a648d49e282b6bce98275a9ee",
            "441e2222f4174452bed060701bdf6007",
            "71fa2d925ada4ae4a59185d4e76b0668",
            "49ccc736b7404ad2b6cff0ea01894648",
            "a92ed91442a24d2790ca1616e4753953",
            "d2ce0ec790774593ac96910985130c93",
            "81cc5d40dad74d07a2afd0a3dafc8103",
            "cc8371b8a2ea4b99863362d9b9c30195",
            "cc24d67faa0949d98e8d6d938a962b3f",
            "5a41431ad46746dea5e1acbfaa0779ae",
            "636c2add18734cb2af3f0fd5c58c15ae",
            "2dfd583640eb4f5dbc620f04ccba0441",
            "ca4f1af2a351434fa4da02ddfecc53fa",
            "356caf8690434d6a8ad01255eb7dc98b",
            "5455e0446d4e4195b27ea58437cbfef2",
            "5db8cfd2bc8e4e19a464bf761a570b9a",
            "2cca2692d5664e4c80e0bb8e4db6555e"
          ]
        },
        "outputId": "4619b85b-4e0e-4ba2-ea1f-0af4ea141748"
      },
      "outputs": [
        {
          "output_type": "display_data",
          "data": {
            "text/plain": [
              "Downloading (…)olve/main/vocab.json:   0%|          | 0.00/899k [00:00<?, ?B/s]"
            ],
            "application/vnd.jupyter.widget-view+json": {
              "version_major": 2,
              "version_minor": 0,
              "model_id": "12a6ec9c36774ab9ab327c4e189f53bd"
            }
          },
          "metadata": {}
        },
        {
          "output_type": "display_data",
          "data": {
            "text/plain": [
              "Downloading (…)olve/main/merges.txt:   0%|          | 0.00/456k [00:00<?, ?B/s]"
            ],
            "application/vnd.jupyter.widget-view+json": {
              "version_major": 2,
              "version_minor": 0,
              "model_id": "17c3c58c48c44a5b828148737f9b60f7"
            }
          },
          "metadata": {}
        },
        {
          "output_type": "display_data",
          "data": {
            "text/plain": [
              "Downloading (…)lve/main/config.json:   0%|          | 0.00/482 [00:00<?, ?B/s]"
            ],
            "application/vnd.jupyter.widget-view+json": {
              "version_major": 2,
              "version_minor": 0,
              "model_id": "81cc5d40dad74d07a2afd0a3dafc8103"
            }
          },
          "metadata": {}
        }
      ],
      "source": [
        "from torch.utils.data import Dataset\n",
        "from torch.utils.data import DataLoader\n",
        "\n",
        "tokenizer = RobertaTokenizer.from_pretrained('roberta-large', truncation=True, do_lower_case=True)\n",
        "\n",
        "class SiameseDataloader(Dataset):\n",
        "\n",
        "    def __init__(self, X_numerical_train, y_train, X_text_train, MAX_LEN, tokenizer):\n",
        "        self.X_numerical_train = X_numerical_train\n",
        "        self.X_text_train = X_text_train\n",
        "        self.MAX_LEN = MAX_LEN\n",
        "        self.tokenizer = tokenizer\n",
        "\n",
        "    def __getitem__(self, index):\n",
        "\n",
        "\n",
        "        input_ids = []\n",
        "        attention_masks = []\n",
        "        token_type_ids = []\n",
        "        input_seq = []\n",
        "\n",
        "        for sent in X_text_train[index]:\n",
        "            encoded_sent = self.tokenizer.encode_plus(\n",
        "                text=sent,\n",
        "                add_special_tokens=True,        # Add `[CLS]` and `[SEP]` special tokens\n",
        "                max_length=self.MAX_LEN,             # Choose max length to truncate/pad\n",
        "                pad_to_max_length=True,         # Pad sentence to max length\n",
        "                #return_attention_mask=True      # Return attention mask\n",
        "                return_token_type_ids=True\n",
        "                )\n",
        "            input_ids.append(encoded_sent.get('input_ids'))\n",
        "            attention_masks.append(encoded_sent.get('attention_mask'))\n",
        "            token_type_ids.append(encoded_sent.get('token_type_ids'))\n",
        "\n",
        "        # Convert lists to tensors\n",
        "        input_ids = torch.tensor(input_ids)\n",
        "        attention_masks = torch.tensor(attention_masks)\n",
        "        token_type_ids = torch.tensor(token_type_ids)\n",
        "\n",
        "\n",
        "        return {\n",
        "            'x_numerical': X_numerical_train[index],\n",
        "            'ids': torch.tensor(input_ids, dtype=torch.long),\n",
        "            'mask': torch.tensor(attention_masks, dtype=torch.long),\n",
        "            'token_type_ids': torch.tensor(token_type_ids, dtype=torch.long),\n",
        "            'targets': torch.tensor(y_train[index], dtype=torch.long)\n",
        "        }\n",
        "\n",
        "\n",
        "\n",
        "\n",
        "\n",
        "    def __len__(self):\n",
        "        return len(self.X_numerical_train)"
      ]
    },
    {
      "cell_type": "code",
      "execution_count": 14,
      "id": "28f5fe04",
      "metadata": {
        "id": "28f5fe04"
      },
      "outputs": [],
      "source": [
        "train_set = SiameseDataloader(X_numerical_train, y_train, X_text_train, MAX_LEN, tokenizer)\n",
        "train_loader = DataLoader(train_set, batch_size=batch_size, shuffle=False)\n",
        "\n",
        "\n",
        "test_set = SiameseDataloader(X_numerical_test, y_test, X_text_test, MAX_LEN, tokenizer)\n",
        "test_loader = DataLoader(test_set, batch_size=batch_size, shuffle=False)\n"
      ]
    },
    {
      "cell_type": "code",
      "execution_count": null,
      "id": "47ffaf95",
      "metadata": {
        "id": "47ffaf95"
      },
      "outputs": [],
      "source": []
    },
    {
      "cell_type": "code",
      "execution_count": null,
      "id": "534fa3fa",
      "metadata": {
        "id": "534fa3fa"
      },
      "outputs": [],
      "source": []
    },
    {
      "cell_type": "code",
      "execution_count": null,
      "id": "c0cda822",
      "metadata": {
        "id": "c0cda822"
      },
      "outputs": [],
      "source": []
    },
    {
      "cell_type": "code",
      "execution_count": null,
      "id": "5bd1b75e",
      "metadata": {
        "id": "5bd1b75e"
      },
      "outputs": [],
      "source": []
    },
    {
      "cell_type": "code",
      "execution_count": null,
      "id": "a942555c",
      "metadata": {
        "id": "a942555c"
      },
      "outputs": [],
      "source": []
    },
    {
      "cell_type": "code",
      "execution_count": null,
      "id": "a236ebbb",
      "metadata": {
        "id": "a236ebbb"
      },
      "outputs": [],
      "source": []
    },
    {
      "cell_type": "code",
      "execution_count": null,
      "id": "b7bd91c9",
      "metadata": {
        "id": "b7bd91c9"
      },
      "outputs": [],
      "source": []
    },
    {
      "cell_type": "code",
      "execution_count": null,
      "id": "5c16bd7f",
      "metadata": {
        "id": "5c16bd7f"
      },
      "outputs": [],
      "source": []
    },
    {
      "cell_type": "code",
      "execution_count": null,
      "id": "7ea6ee1e",
      "metadata": {
        "id": "7ea6ee1e"
      },
      "outputs": [],
      "source": []
    },
    {
      "cell_type": "markdown",
      "id": "bcf87d32",
      "metadata": {
        "id": "bcf87d32"
      },
      "source": [
        "## Build model\n"
      ]
    },
    {
      "cell_type": "code",
      "execution_count": 15,
      "id": "e4e33819",
      "metadata": {
        "id": "e4e33819"
      },
      "outputs": [],
      "source": [
        "\n",
        "\n",
        "import torch.nn as nn\n",
        "\n",
        "class SiameseModel(nn.Module):\n",
        "    def __init__(self, input_dim1, input_dim2,\n",
        "                 hidden_dim1, hidden_dim2, hidden_dim3, hidden_dim4,\n",
        "                 num_layers1, num_layers2, output_dim1, output_dim2):\n",
        "        super(SiameseModel, self).__init__()\n",
        "        self.input_dim1 = input_dim1\n",
        "        self.input_dim2 = input_dim2\n",
        "        self.hidden_dim1 = hidden_dim1\n",
        "        self.hidden_dim2 = hidden_dim2\n",
        "        self.hidden_dim3 = hidden_dim3\n",
        "        self.hidden_dim4 = hidden_dim4\n",
        "        self.num_layers1 = num_layers1\n",
        "        self.num_layers2 = num_layers2\n",
        "        self.output_dim1 = output_dim1\n",
        "        self.output_dim2 = output_dim2\n",
        "\n",
        "\n",
        "\n",
        "        # self.roberta = RobertaModel.from_pretrained(\"roberta-large\").to(device)\n",
        "\n",
        "\n",
        "        self.lstm1 = nn.LSTM(input_dim1, hidden_dim1, num_layers1, batch_first=True)\n",
        "        # self.lstm2 = nn.LSTM(input_dim2, hidden_dim2, num_layers2, batch_first=True)\n",
        "\n",
        "\n",
        "        self.fc1 = nn.Linear(hidden_dim1, output_dim1)\n",
        "        # self.fc2 = nn.Linear(hidden_dim2, output_dim2)\n",
        "        self.fc3 = nn.Linear(output_dim1, hidden_dim3)\n",
        "        # self.fc3 = nn.Linear(output_dim1+output_dim2, hidden_dim3)\n",
        "        self.fc4 = nn.Linear(hidden_dim3, hidden_dim4)\n",
        "        self.fc5 = nn.Linear(hidden_dim4, 3)\n",
        "        # self.lrelu = nn.LeakyReLU(0.1)\n",
        "        # self.lrelu = F.relu()\n",
        "\n",
        "\n",
        "\n",
        "    def forward(self, x1, ids, masks, token_type_ids):\n",
        "        #left tower with numerical features\n",
        "        h_10 = Variable(torch.zeros(self.num_layers1, x1.size(0), self.hidden_dim1)).to(device)\n",
        "        c_10 = Variable(torch.zeros(self.num_layers1, x1.size(0), self.hidden_dim1)).to(device)\n",
        "        ula1, (h_out1, _) = self.lstm1(x1, (h_10, c_10))\n",
        "        h_out1 = h_out1.view(-1, self.hidden_dim1)\n",
        "        out1 = self.fc1(h_out1)\n",
        "\n",
        "\n",
        "\n",
        "\n",
        "        # right tower with roberta on textual features\n",
        "        #TODO\n",
        "        # batch_size_here = ids.shape[0]\n",
        "        # e2 = torch.zeros(batch_size_here, max_text_per_iter,1024).to(device)\n",
        "\n",
        "        # for k in range(ids.shape[1]):\n",
        "        #     seq_ids = ids[:,k,:]\n",
        "        #     seq_masks = masks[:,k,:]\n",
        "        #     seq_token_type_ids = token_type_ids[:,k,:]\n",
        "\n",
        "\n",
        "        #     e2k = self.roberta(input_ids= seq_ids, attention_mask=seq_masks, token_type_ids=seq_token_type_ids)\n",
        "        #     # print(e2.shape)\n",
        "        #     # print(e2k[1].shape)\n",
        "        #     # first 0 is for last_hidden_state: https://huggingface.co/docs/transformers/main/en/model_doc/roberta#transformers.RobertaModel.forward.returns:~:text=transformers.modeling_outputs.-,BaseModelOutputWithPoolingAndCrossAttentions%20or%20tuple(torch.FloatTensor),-A%20transformers.modeling_outputs\n",
        "        #     # the shape of e2k[0] is (batch_size, sequence_length (<=MAX_LEN), hidden_size (=1024))\n",
        "        #     e2k1 = e2k[0][:, 0, :]\n",
        "        #     e2[:,k,:] = e2k1\n",
        "\n",
        "\n",
        "        # print(e2.shape)\n",
        "        # h_20 = Variable(torch.zeros(self.num_layers2, e2.size(0), self.hidden_dim2)).to(device)\n",
        "        # c_20 = Variable(torch.zeros(self.num_layers2, e2.size(0), self.hidden_dim2)).to(device)\n",
        "        # ula2, (h_out2, _) = self.lstm2(e2, (h_20, c_20))\n",
        "        # h_out2 = h_out2.view(-1, self.hidden_dim2)\n",
        "        # out2 = self.fc2(h_out2)\n",
        "\n",
        "\n",
        "\n",
        "\n",
        "        # siamese merging layers\n",
        "\n",
        "        output = out1\n",
        "        # output = torch.cat((out1, out2),1)\n",
        "        output = F.relu(self.fc3(output))\n",
        "        output = F.relu(self.fc4(output))\n",
        "\n",
        "        # output = self.lrelu(self.fc3(output))\n",
        "        # output = self.lrelu(self.fc4(output))\n",
        "        output = self.fc5(output)\n",
        "        return output\n",
        "\n",
        "#TODO : correct these values\n",
        "model = SiameseModel(input_dim1 = 8, input_dim2 = 1024,\n",
        "                 hidden_dim1 = 20, hidden_dim2 = 768, hidden_dim3 = 128, hidden_dim4 = 64,\n",
        "                 num_layers1 = 1, num_layers2 = 1, output_dim1 = 10, output_dim2 = 256).to(device)\n",
        "\n",
        "\n",
        "\n",
        "\n"
      ]
    },
    {
      "cell_type": "code",
      "execution_count": 16,
      "id": "33bdcfab",
      "metadata": {
        "id": "33bdcfab",
        "colab": {
          "base_uri": "https://localhost:8080/"
        },
        "outputId": "2eda77ad-964a-4dbe-e9c3-a4d26ab24602"
      },
      "outputs": [
        {
          "output_type": "stream",
          "name": "stdout",
          "text": [
            "SiameseModel(\n",
            "  (lstm1): LSTM(8, 20, batch_first=True)\n",
            "  (fc1): Linear(in_features=20, out_features=10, bias=True)\n",
            "  (fc3): Linear(in_features=10, out_features=128, bias=True)\n",
            "  (fc4): Linear(in_features=128, out_features=64, bias=True)\n",
            "  (fc5): Linear(in_features=64, out_features=3, bias=True)\n",
            ")\n",
            "12\n"
          ]
        }
      ],
      "source": [
        "print(model)\n",
        "print(len(list(model.parameters())))\n",
        "# for i in range(len(list(model.parameters()))):\n",
        "#     print(list(model.parameters())[i].size())\n"
      ]
    },
    {
      "cell_type": "code",
      "source": [
        "global grad_dict\n",
        "!mkdir output\n",
        "grad_dict = []\n",
        "def plot_grad_flow(named_parameters, batch_id, epoch):\n",
        "    out_path_name = str(epoch) + '_' + str(batch_id) + '.png'\n",
        "    ave_grads = []\n",
        "    layers = []\n",
        "    for n, p in named_parameters:\n",
        "        if(p.requires_grad) and (\"bias\" not in n):\n",
        "            if p.grad is not None:\n",
        "                layers.append(n)\n",
        "                ave_grads.append(p.grad.abs().mean().cpu().data.numpy())\n",
        "                grad_dict.append([epoch, n, p.grad.abs().mean().cpu().data.numpy()] )\n",
        "            else:\n",
        "                print(\"empty gradients in\", n)\n",
        "    plt.plot(ave_grads, alpha=0.3, color=\"b\")\n",
        "    plt.hlines(0, 0, len(ave_grads)+1, linewidth=1, color=\"k\" )\n",
        "    plt.xticks(range(0,len(ave_grads), 1), layers, rotation=\"vertical\")\n",
        "    plt.xlim(xmin=0, xmax=len(ave_grads))\n",
        "    plt.xlabel(\"Layers\")\n",
        "    plt.ylabel(\"average gradient\")\n",
        "    plt.title(\"Gradient flow\")\n",
        "    plt.grid(True)\n",
        "    plt.savefig('output/' + out_path_name)\n",
        "\n",
        "    wandb.log({\"grad flow in this batch\": wandb.Image('output/' + out_path_name), \"epoch\": epoch,\n",
        "               'batch_id': batch_id})\n",
        "\n"
      ],
      "metadata": {
        "id": "BhZdTSfZmiVj"
      },
      "id": "BhZdTSfZmiVj",
      "execution_count": 20,
      "outputs": []
    },
    {
      "cell_type": "markdown",
      "id": "05f5b46a",
      "metadata": {
        "id": "05f5b46a"
      },
      "source": [
        "## Train model"
      ]
    },
    {
      "cell_type": "code",
      "execution_count": 18,
      "id": "088c2407",
      "metadata": {
        "id": "088c2407"
      },
      "outputs": [],
      "source": [
        "criterion = nn.CrossEntropyLoss()\n",
        "optimiser = torch.optim.Adam(model.parameters(), lr=0.01)\n",
        "loss_arr = np.zeros(num_epochs)"
      ]
    },
    {
      "cell_type": "code",
      "execution_count": null,
      "id": "699d13c0",
      "metadata": {
        "id": "699d13c0",
        "colab": {
          "base_uri": "https://localhost:8080/"
        },
        "outputId": "d178dd86-0d05-4bd1-c5f0-248ec76767bf"
      },
      "outputs": [
        {
          "output_type": "stream",
          "name": "stderr",
          "text": [
            "\r0it [00:00, ?it/s]/usr/local/lib/python3.10/dist-packages/transformers/tokenization_utils_base.py:2377: FutureWarning: The `pad_to_max_length` argument is deprecated and will be removed in a future version, use `padding=True` or `padding='longest'` to pad to the longest sequence in the batch, or use `padding='max_length'` to pad to a max length. In this case, you can give a specific length with `max_length` (e.g. `max_length=45`) or leave max_length to None to pad to the maximal input size of the model (e.g. 512 for Bert).\n",
            "  warnings.warn(\n",
            "<ipython-input-13-96f1b91088ac>:43: UserWarning: To copy construct from a tensor, it is recommended to use sourceTensor.clone().detach() or sourceTensor.clone().detach().requires_grad_(True), rather than torch.tensor(sourceTensor).\n",
            "  'ids': torch.tensor(input_ids, dtype=torch.long),\n",
            "<ipython-input-13-96f1b91088ac>:44: UserWarning: To copy construct from a tensor, it is recommended to use sourceTensor.clone().detach() or sourceTensor.clone().detach().requires_grad_(True), rather than torch.tensor(sourceTensor).\n",
            "  'mask': torch.tensor(attention_masks, dtype=torch.long),\n",
            "<ipython-input-13-96f1b91088ac>:45: UserWarning: To copy construct from a tensor, it is recommended to use sourceTensor.clone().detach() or sourceTensor.clone().detach().requires_grad_(True), rather than torch.tensor(sourceTensor).\n",
            "  'token_type_ids': torch.tensor(token_type_ids, dtype=torch.long),\n",
            "<ipython-input-13-96f1b91088ac>:46: UserWarning: To copy construct from a tensor, it is recommended to use sourceTensor.clone().detach() or sourceTensor.clone().detach().requires_grad_(True), rather than torch.tensor(sourceTensor).\n",
            "  'targets': torch.tensor(y_train[index], dtype=torch.long)\n",
            "78it [00:18,  4.17it/s]\n"
          ]
        },
        {
          "output_type": "stream",
          "name": "stdout",
          "text": [
            "Train Loss at epoch 0: 1.031922459602356\n",
            "\n"
          ]
        },
        {
          "output_type": "stream",
          "name": "stderr",
          "text": [
            "8it [00:00, 16.25it/s]\n"
          ]
        },
        {
          "output_type": "stream",
          "name": "stdout",
          "text": [
            "test Loss at epoch 0: 1.0886926651000977\n",
            "\n"
          ]
        },
        {
          "output_type": "stream",
          "name": "stderr",
          "text": [
            "78it [00:22,  3.54it/s]\n"
          ]
        },
        {
          "output_type": "stream",
          "name": "stdout",
          "text": [
            "Train Loss at epoch 1: 1.0269883871078491\n",
            "\n"
          ]
        },
        {
          "output_type": "stream",
          "name": "stderr",
          "text": [
            "8it [00:00,  9.99it/s]\n"
          ]
        },
        {
          "output_type": "stream",
          "name": "stdout",
          "text": [
            "test Loss at epoch 1: 1.0893001556396484\n",
            "\n"
          ]
        },
        {
          "output_type": "stream",
          "name": "stderr",
          "text": [
            "78it [00:22,  3.47it/s]\n"
          ]
        },
        {
          "output_type": "stream",
          "name": "stdout",
          "text": [
            "Train Loss at epoch 2: 1.0362145900726318\n",
            "\n"
          ]
        },
        {
          "output_type": "stream",
          "name": "stderr",
          "text": [
            "8it [00:00, 15.88it/s]\n"
          ]
        },
        {
          "output_type": "stream",
          "name": "stdout",
          "text": [
            "test Loss at epoch 2: 1.108236312866211\n",
            "\n"
          ]
        },
        {
          "output_type": "stream",
          "name": "stderr",
          "text": [
            "78it [00:28,  2.76it/s]\n"
          ]
        },
        {
          "output_type": "stream",
          "name": "stdout",
          "text": [
            "Train Loss at epoch 3: 1.0308719873428345\n",
            "\n"
          ]
        },
        {
          "output_type": "stream",
          "name": "stderr",
          "text": [
            "8it [00:00, 16.49it/s]\n"
          ]
        },
        {
          "output_type": "stream",
          "name": "stdout",
          "text": [
            "test Loss at epoch 3: 1.1209747791290283\n",
            "\n"
          ]
        },
        {
          "output_type": "stream",
          "name": "stderr",
          "text": [
            "78it [00:29,  2.61it/s]\n"
          ]
        },
        {
          "output_type": "stream",
          "name": "stdout",
          "text": [
            "Train Loss at epoch 4: 1.0305964946746826\n",
            "\n"
          ]
        },
        {
          "output_type": "stream",
          "name": "stderr",
          "text": [
            "8it [00:00, 16.75it/s]\n"
          ]
        },
        {
          "output_type": "stream",
          "name": "stdout",
          "text": [
            "test Loss at epoch 4: 1.1234426498413086\n",
            "\n"
          ]
        },
        {
          "output_type": "stream",
          "name": "stderr",
          "text": [
            "78it [00:32,  2.42it/s]\n"
          ]
        },
        {
          "output_type": "stream",
          "name": "stdout",
          "text": [
            "Train Loss at epoch 5: 1.0307949781417847\n",
            "\n"
          ]
        },
        {
          "output_type": "stream",
          "name": "stderr",
          "text": [
            "8it [00:00, 16.52it/s]\n"
          ]
        },
        {
          "output_type": "stream",
          "name": "stdout",
          "text": [
            "test Loss at epoch 5: 1.123755931854248\n",
            "\n"
          ]
        },
        {
          "output_type": "stream",
          "name": "stderr",
          "text": [
            "78it [00:33,  2.32it/s]\n"
          ]
        },
        {
          "output_type": "stream",
          "name": "stdout",
          "text": [
            "Train Loss at epoch 6: 1.0308257341384888\n",
            "\n"
          ]
        },
        {
          "output_type": "stream",
          "name": "stderr",
          "text": [
            "8it [00:00, 15.93it/s]\n"
          ]
        },
        {
          "output_type": "stream",
          "name": "stdout",
          "text": [
            "test Loss at epoch 6: 1.1237895488739014\n",
            "\n"
          ]
        },
        {
          "output_type": "stream",
          "name": "stderr",
          "text": [
            "78it [00:36,  2.15it/s]\n"
          ]
        },
        {
          "output_type": "stream",
          "name": "stdout",
          "text": [
            "Train Loss at epoch 7: 1.0308301448822021\n",
            "\n"
          ]
        },
        {
          "output_type": "stream",
          "name": "stderr",
          "text": [
            "8it [00:00, 15.68it/s]\n"
          ]
        },
        {
          "output_type": "stream",
          "name": "stdout",
          "text": [
            "test Loss at epoch 7: 1.1237859725952148\n",
            "\n"
          ]
        },
        {
          "output_type": "stream",
          "name": "stderr",
          "text": [
            "78it [00:40,  1.93it/s]\n"
          ]
        },
        {
          "output_type": "stream",
          "name": "stdout",
          "text": [
            "Train Loss at epoch 8: 1.0308305025100708\n",
            "\n"
          ]
        },
        {
          "output_type": "stream",
          "name": "stderr",
          "text": [
            "8it [00:00, 16.19it/s]\n"
          ]
        },
        {
          "output_type": "stream",
          "name": "stdout",
          "text": [
            "test Loss at epoch 8: 1.1237785816192627\n",
            "\n"
          ]
        },
        {
          "output_type": "stream",
          "name": "stderr",
          "text": [
            "78it [00:39,  1.96it/s]\n"
          ]
        },
        {
          "output_type": "stream",
          "name": "stdout",
          "text": [
            "Train Loss at epoch 9: 1.0308301448822021\n",
            "\n"
          ]
        },
        {
          "output_type": "stream",
          "name": "stderr",
          "text": [
            "8it [00:00, 13.13it/s]\n"
          ]
        },
        {
          "output_type": "stream",
          "name": "stdout",
          "text": [
            "test Loss at epoch 9: 1.123772144317627\n",
            "\n"
          ]
        },
        {
          "output_type": "stream",
          "name": "stderr",
          "text": [
            "78it [00:44,  1.76it/s]\n"
          ]
        },
        {
          "output_type": "stream",
          "name": "stdout",
          "text": [
            "Train Loss at epoch 10: 1.0308297872543335\n",
            "\n"
          ]
        },
        {
          "output_type": "stream",
          "name": "stderr",
          "text": [
            "8it [00:00, 16.31it/s]\n"
          ]
        },
        {
          "output_type": "stream",
          "name": "stdout",
          "text": [
            "test Loss at epoch 10: 1.1237666606903076\n",
            "\n"
          ]
        },
        {
          "output_type": "stream",
          "name": "stderr",
          "text": [
            "78it [00:46,  1.67it/s]\n"
          ]
        },
        {
          "output_type": "stream",
          "name": "stdout",
          "text": [
            "Train Loss at epoch 11: 1.0308294296264648\n",
            "\n"
          ]
        },
        {
          "output_type": "stream",
          "name": "stderr",
          "text": [
            "8it [00:00, 15.12it/s]\n"
          ]
        },
        {
          "output_type": "stream",
          "name": "stdout",
          "text": [
            "test Loss at epoch 11: 1.1237621307373047\n",
            "\n"
          ]
        },
        {
          "output_type": "stream",
          "name": "stderr",
          "text": [
            "13it [00:08,  1.20it/s]"
          ]
        }
      ],
      "source": [
        "# roberta = RobertaModel.from_pretrained(\"roberta-large\").to(device)\n",
        "train_loss_record = []\n",
        "wandb.watch(model, log = 'all')\n",
        "for epoch in range(num_epochs):\n",
        "    train_loss = []\n",
        "    train_loss_sum = []\n",
        "    train_correct = 0\n",
        "    train_total = 0\n",
        "\n",
        "    for idx, data in tqdm(enumerate(train_loader, 0)):\n",
        "        x_numerical = data['x_numerical'].to(device, dtype = torch.float)\n",
        "        ids = data['ids'].to(device, dtype = torch.long)\n",
        "        masks = data['mask'].to(device, dtype = torch.long)\n",
        "        token_type_ids = data['token_type_ids'].to(device, dtype = torch.long)\n",
        "        targets = data['targets'].to(device, dtype = torch.long)\n",
        "\n",
        "        # debugging roberta encoder and second lstm\n",
        "        '''\n",
        "        debug starts here\n",
        "        '''\n",
        "        # if idx > 1:\n",
        "        #     break\n",
        "        # batch_size_here = data['ids'].shape[0]\n",
        "        # print('batch_size_here:', batch_size_here)\n",
        "        # e2 = torch.zeros(batch_size_here, max_text_per_iter, 1024)\n",
        "        # print('ids shape:', ids.shape)\n",
        "\n",
        "        # for k in range(ids.shape[1]):  #number of sentences in sequence = max_text_per_iter\n",
        "        #     print('k:', k)\n",
        "        #     seq_ids = ids[:,k,:].to(device)\n",
        "        #     seq_masks = masks[:,k,:].to(device)\n",
        "        #     seq_token_type_ids = token_type_ids[:,k,:].to(device)\n",
        "\n",
        "\n",
        "        #     e2k = roberta(input_ids= seq_ids, attention_mask=seq_masks, token_type_ids=seq_token_type_ids)\n",
        "        #     print(e2.shape)\n",
        "        #     print(e2k[1].shape)\n",
        "        #     #first 0 is for last_hidden_state: https://huggingface.co/docs/transformers/main/en/model_doc/roberta#transformers.RobertaModel.forward.returns:~:text=transformers.modeling_outputs.-,BaseModelOutputWithPoolingAndCrossAttentions%20or%20tuple(torch.FloatTensor),-A%20transformers.modeling_outputs\n",
        "        #     # the shape of e2k[0] is (batch_size, sequence_length (<=MAX_LEN), hidden_size (=1024))\n",
        "        #     e2k1 = e2k[0][:, 0, :]\n",
        "        #     e2[:,k,:] = e2k1\n",
        "\n",
        "\n",
        "\n",
        "\n",
        "        # lstm2 = nn.LSTM(1024, 768, 1, batch_first=True)\n",
        "        # fc2 = nn.Linear(768, 256)\n",
        "\n",
        "        # h_20 = Variable(torch.zeros(1, e2.size(0), 768))\n",
        "        # c_20 = Variable(torch.zeros(1, e2.size(0), 768))\n",
        "        # ula2, (h_out2, _) = lstm2(e2, (h_20, c_20))\n",
        "        # h_out2 = h_out2.view(-1, 768)\n",
        "        # out2 = fc2(h_out2)\n",
        "\n",
        "\n",
        "    #     print(ids.shape)\n",
        "    #     print(masks.shape)\n",
        "    #     print(token_type_ids.shape)\n",
        "\n",
        "        # print(out2)\n",
        "\n",
        "\n",
        "\n",
        "        '''\n",
        "        debug ends here\n",
        "        '''\n",
        "\n",
        "\n",
        "\n",
        "        y_pred = model(x_numerical, ids, masks, token_type_ids)\n",
        "        # print('y_pred:', y_pred)\n",
        "        _, pred_label = torch.max(y_pred.data, 1)\n",
        "\n",
        "        loss = criterion(y_pred, targets.reshape(-1))\n",
        "\n",
        "         # Zero out gradient, else they will accumulate between epochs\n",
        "        optimiser.zero_grad()\n",
        "\n",
        "        # Backward pass\n",
        "        loss.backward()\n",
        "        plot_grad_flow(model.named_parameters(), idx, epoch) # version 1\n",
        "\n",
        "        # Update parameters\n",
        "        optimiser.step()\n",
        "\n",
        "\n",
        "\n",
        "        train_loss.append(loss.data.cpu())\n",
        "        train_loss_sum.append(loss.data.cpu())\n",
        "\n",
        "\n",
        "        wandb.log({'avg train loss in this batch': loss.item(), 'epoch': epoch, 'batch_id': idx})\n",
        "        # Get accuracy\n",
        "        train_total += targets.reshape(-1).size(0)\n",
        "        train_correct += (pred_label == targets.reshape(-1)).sum()\n",
        "    train_accuracy = 100 * train_correct / train_total\n",
        "\n",
        "    # Record at every epoch\n",
        "    print('Train Loss at epoch {}: {}\\n'.format(epoch, np.mean(train_loss_sum)))\n",
        "    train_loss_record.append(np.mean(train_loss_sum))\n",
        "    wandb.log({'avg train loss in this epoch': np.mean(train_loss_sum), 'epoch': epoch})\n",
        "    wandb.log({'train accuracy in this epoch': train_accuracy, 'epoch': epoch})\n",
        "\n",
        "\n",
        "\n",
        "\n",
        "\n",
        "\n",
        "    # evaluate on test set every epoch\n",
        "    test_loss = []\n",
        "    test_loss_sum = []\n",
        "\n",
        "    correct = 0\n",
        "    total = 0\n",
        "\n",
        "    for idx, data in tqdm(enumerate(test_loader, 0)):\n",
        "        test_x_numerical = data['x_numerical'].to(device, dtype = torch.float)\n",
        "        test_ids = data['ids'].to(device, dtype = torch.long)\n",
        "        test_masks = data['mask'].to(device, dtype = torch.long)\n",
        "        test_token_type_ids = data['token_type_ids'].to(device, dtype = torch.long)\n",
        "        test_targets = data['targets'].to(device, dtype = torch.long)\n",
        "\n",
        "        y_pred = model(test_x_numerical, test_ids, test_masks, test_token_type_ids)\n",
        "        _, pred_label = torch.max(y_pred.data, 1)\n",
        "\n",
        "#         print('y_pred:', y_pred)\n",
        "        tloss = criterion(y_pred, test_targets.reshape(-1))\n",
        "\n",
        "        test_loss.append(tloss.data.cpu())\n",
        "        test_loss_sum.append(tloss.data.cpu())\n",
        "\n",
        "        wandb.log({'avg test loss in this batch': tloss.item(), 'epoch': epoch, 'batch_id': idx})\n",
        "\n",
        "        # Get accuracy\n",
        "        total += test_targets.reshape(-1).size(0)\n",
        "        correct += (pred_label == test_targets.reshape(-1)).sum()\n",
        "    accuracy = 100 * correct / total\n",
        "\n",
        "    # Record at every epoch\n",
        "    print('test Loss at epoch {}: {}\\n'.format(epoch, np.mean(test_loss_sum)))\n",
        "    wandb.log({'avg test loss in this epoch': np.mean(test_loss_sum), 'epoch': epoch})\n",
        "    wandb.log({'test accuracy in this epoch': accuracy, 'epoch': epoch})\n",
        "\n",
        "\n",
        "\n",
        "\n",
        "\n",
        "\n",
        "\n",
        "\n",
        "\n"
      ]
    },
    {
      "cell_type": "code",
      "source": [
        "fig, ax = plt.plot(loss.cpu().data.numpy() )\n",
        "\n"
      ],
      "metadata": {
        "id": "Czyuam3JfJj2"
      },
      "id": "Czyuam3JfJj2",
      "execution_count": null,
      "outputs": []
    },
    {
      "cell_type": "code",
      "source": [
        "# evaluate on test set every epoch\n",
        "test_loss = []\n",
        "test_loss_sum = []\n",
        "\n",
        "correct = 0\n",
        "total = 0\n",
        "\n",
        "for idx, data in tqdm(enumerate(test_loader, 0)):\n",
        "    test_x_numerical = data['x_numerical'].to(device, dtype = torch.float)\n",
        "    test_ids = data['ids'].to(device, dtype = torch.long)\n",
        "    test_masks = data['mask'].to(device, dtype = torch.long)\n",
        "    test_token_type_ids = data['token_type_ids'].to(device, dtype = torch.long)\n",
        "    test_targets = data['targets'].to(device, dtype = torch.long)\n",
        "\n",
        "    y_pred = model(test_x_numerical, test_ids, test_masks, test_token_type_ids)\n",
        "    _, pred_label = torch.max(y_pred.data, 1)\n",
        "\n",
        "#         print('y_pred:', y_pred)\n",
        "    tloss = criterion(y_pred, test_targets.reshape(-1))\n",
        "\n",
        "    test_loss.append(tloss.data.cpu())\n",
        "    test_loss_sum.append(tloss.data.cpu())\n",
        "\n",
        "    wandb.log({'avg test loss in this batch': tloss.item(), 'epoch': epoch, 'batch_id': idx})\n",
        "\n",
        "    # Get accuracy\n",
        "    total += test_targets.reshape(-1).size(0)\n",
        "    correct += (pred_label == test_targets.reshape(-1)).sum()\n",
        "accuracy = 100 * correct / total"
      ],
      "metadata": {
        "id": "TB_GL_Ilbfy4"
      },
      "id": "TB_GL_Ilbfy4",
      "execution_count": null,
      "outputs": []
    },
    {
      "cell_type": "code",
      "execution_count": null,
      "id": "bb6bbec1",
      "metadata": {
        "id": "bb6bbec1"
      },
      "outputs": [],
      "source": [
        "print(e2k[0].shape)\n",
        "print(e2k[1].shape)\n",
        "print(e2k)"
      ]
    },
    {
      "cell_type": "code",
      "execution_count": null,
      "id": "4aac5f8f",
      "metadata": {
        "id": "4aac5f8f"
      },
      "outputs": [],
      "source": []
    },
    {
      "cell_type": "code",
      "execution_count": null,
      "id": "e1122c8c",
      "metadata": {
        "id": "e1122c8c"
      },
      "outputs": [],
      "source": [
        "run_id = str(1)\n",
        "!mkdir output/$run_id\n",
        "output_model_file = 'roberta_stock_pred.bin'\n",
        "output_vocab_file = './output' + str(run_id)\n",
        "\n",
        "model_to_save = model\n",
        "torch.save(model_to_save, output_model_file)\n",
        "tokenizer.save_vocabulary(output_vocab_file)\n"
      ]
    },
    {
      "cell_type": "code",
      "execution_count": null,
      "id": "3049d3f4",
      "metadata": {
        "id": "3049d3f4"
      },
      "outputs": [],
      "source": []
    },
    {
      "cell_type": "code",
      "execution_count": null,
      "id": "1807d2b1",
      "metadata": {
        "id": "1807d2b1"
      },
      "outputs": [],
      "source": [
        "plt.plot(loss_arr, label=\"Training loss\")\n",
        "plt.legend()\n",
        "plt.show()"
      ]
    },
    {
      "cell_type": "code",
      "execution_count": null,
      "id": "2cf315ee",
      "metadata": {
        "id": "2cf315ee"
      },
      "outputs": [],
      "source": [
        "\n",
        "'''"
      ]
    }
  ],
  "metadata": {
    "kernelspec": {
      "display_name": "Python 3",
      "name": "python3"
    },
    "language_info": {
      "codemirror_mode": {
        "name": "ipython",
        "version": 3
      },
      "file_extension": ".py",
      "mimetype": "text/x-python",
      "name": "python",
      "nbconvert_exporter": "python",
      "pygments_lexer": "ipython3",
      "version": "3.9.6"
    },
    "colab": {
      "provenance": [],
      "gpuType": "T4"
    },
    "accelerator": "GPU",
    "widgets": {
      "application/vnd.jupyter.widget-state+json": {
        "12a6ec9c36774ab9ab327c4e189f53bd": {
          "model_module": "@jupyter-widgets/controls",
          "model_name": "HBoxModel",
          "model_module_version": "1.5.0",
          "state": {
            "_dom_classes": [],
            "_model_module": "@jupyter-widgets/controls",
            "_model_module_version": "1.5.0",
            "_model_name": "HBoxModel",
            "_view_count": null,
            "_view_module": "@jupyter-widgets/controls",
            "_view_module_version": "1.5.0",
            "_view_name": "HBoxView",
            "box_style": "",
            "children": [
              "IPY_MODEL_c29370bb389b483e972836e918b04e2e",
              "IPY_MODEL_8bd5ab3ce7314841a8c98cd40d5be85f",
              "IPY_MODEL_20d8959a944a4d63b79dde3921908a51"
            ],
            "layout": "IPY_MODEL_02a266ab9a1f4aa0b4b09dda9aa12480"
          }
        },
        "c29370bb389b483e972836e918b04e2e": {
          "model_module": "@jupyter-widgets/controls",
          "model_name": "HTMLModel",
          "model_module_version": "1.5.0",
          "state": {
            "_dom_classes": [],
            "_model_module": "@jupyter-widgets/controls",
            "_model_module_version": "1.5.0",
            "_model_name": "HTMLModel",
            "_view_count": null,
            "_view_module": "@jupyter-widgets/controls",
            "_view_module_version": "1.5.0",
            "_view_name": "HTMLView",
            "description": "",
            "description_tooltip": null,
            "layout": "IPY_MODEL_8bdb1438281047bfbcb84d93cf6f1571",
            "placeholder": "​",
            "style": "IPY_MODEL_18d7c32a71f74883a0275d088014c592",
            "value": "Downloading (…)olve/main/vocab.json: 100%"
          }
        },
        "8bd5ab3ce7314841a8c98cd40d5be85f": {
          "model_module": "@jupyter-widgets/controls",
          "model_name": "FloatProgressModel",
          "model_module_version": "1.5.0",
          "state": {
            "_dom_classes": [],
            "_model_module": "@jupyter-widgets/controls",
            "_model_module_version": "1.5.0",
            "_model_name": "FloatProgressModel",
            "_view_count": null,
            "_view_module": "@jupyter-widgets/controls",
            "_view_module_version": "1.5.0",
            "_view_name": "ProgressView",
            "bar_style": "success",
            "description": "",
            "description_tooltip": null,
            "layout": "IPY_MODEL_3e2f2133e4b04fb68a86bafe1465f5fd",
            "max": 898823,
            "min": 0,
            "orientation": "horizontal",
            "style": "IPY_MODEL_4ccf92a2df9e4ef8a9969849b0e2d8bd",
            "value": 898823
          }
        },
        "20d8959a944a4d63b79dde3921908a51": {
          "model_module": "@jupyter-widgets/controls",
          "model_name": "HTMLModel",
          "model_module_version": "1.5.0",
          "state": {
            "_dom_classes": [],
            "_model_module": "@jupyter-widgets/controls",
            "_model_module_version": "1.5.0",
            "_model_name": "HTMLModel",
            "_view_count": null,
            "_view_module": "@jupyter-widgets/controls",
            "_view_module_version": "1.5.0",
            "_view_name": "HTMLView",
            "description": "",
            "description_tooltip": null,
            "layout": "IPY_MODEL_d1444912342549b08bbcb4327c334974",
            "placeholder": "​",
            "style": "IPY_MODEL_80fbceabc4ac4188be083729acc33043",
            "value": " 899k/899k [00:00&lt;00:00, 19.8MB/s]"
          }
        },
        "02a266ab9a1f4aa0b4b09dda9aa12480": {
          "model_module": "@jupyter-widgets/base",
          "model_name": "LayoutModel",
          "model_module_version": "1.2.0",
          "state": {
            "_model_module": "@jupyter-widgets/base",
            "_model_module_version": "1.2.0",
            "_model_name": "LayoutModel",
            "_view_count": null,
            "_view_module": "@jupyter-widgets/base",
            "_view_module_version": "1.2.0",
            "_view_name": "LayoutView",
            "align_content": null,
            "align_items": null,
            "align_self": null,
            "border": null,
            "bottom": null,
            "display": null,
            "flex": null,
            "flex_flow": null,
            "grid_area": null,
            "grid_auto_columns": null,
            "grid_auto_flow": null,
            "grid_auto_rows": null,
            "grid_column": null,
            "grid_gap": null,
            "grid_row": null,
            "grid_template_areas": null,
            "grid_template_columns": null,
            "grid_template_rows": null,
            "height": null,
            "justify_content": null,
            "justify_items": null,
            "left": null,
            "margin": null,
            "max_height": null,
            "max_width": null,
            "min_height": null,
            "min_width": null,
            "object_fit": null,
            "object_position": null,
            "order": null,
            "overflow": null,
            "overflow_x": null,
            "overflow_y": null,
            "padding": null,
            "right": null,
            "top": null,
            "visibility": null,
            "width": null
          }
        },
        "8bdb1438281047bfbcb84d93cf6f1571": {
          "model_module": "@jupyter-widgets/base",
          "model_name": "LayoutModel",
          "model_module_version": "1.2.0",
          "state": {
            "_model_module": "@jupyter-widgets/base",
            "_model_module_version": "1.2.0",
            "_model_name": "LayoutModel",
            "_view_count": null,
            "_view_module": "@jupyter-widgets/base",
            "_view_module_version": "1.2.0",
            "_view_name": "LayoutView",
            "align_content": null,
            "align_items": null,
            "align_self": null,
            "border": null,
            "bottom": null,
            "display": null,
            "flex": null,
            "flex_flow": null,
            "grid_area": null,
            "grid_auto_columns": null,
            "grid_auto_flow": null,
            "grid_auto_rows": null,
            "grid_column": null,
            "grid_gap": null,
            "grid_row": null,
            "grid_template_areas": null,
            "grid_template_columns": null,
            "grid_template_rows": null,
            "height": null,
            "justify_content": null,
            "justify_items": null,
            "left": null,
            "margin": null,
            "max_height": null,
            "max_width": null,
            "min_height": null,
            "min_width": null,
            "object_fit": null,
            "object_position": null,
            "order": null,
            "overflow": null,
            "overflow_x": null,
            "overflow_y": null,
            "padding": null,
            "right": null,
            "top": null,
            "visibility": null,
            "width": null
          }
        },
        "18d7c32a71f74883a0275d088014c592": {
          "model_module": "@jupyter-widgets/controls",
          "model_name": "DescriptionStyleModel",
          "model_module_version": "1.5.0",
          "state": {
            "_model_module": "@jupyter-widgets/controls",
            "_model_module_version": "1.5.0",
            "_model_name": "DescriptionStyleModel",
            "_view_count": null,
            "_view_module": "@jupyter-widgets/base",
            "_view_module_version": "1.2.0",
            "_view_name": "StyleView",
            "description_width": ""
          }
        },
        "3e2f2133e4b04fb68a86bafe1465f5fd": {
          "model_module": "@jupyter-widgets/base",
          "model_name": "LayoutModel",
          "model_module_version": "1.2.0",
          "state": {
            "_model_module": "@jupyter-widgets/base",
            "_model_module_version": "1.2.0",
            "_model_name": "LayoutModel",
            "_view_count": null,
            "_view_module": "@jupyter-widgets/base",
            "_view_module_version": "1.2.0",
            "_view_name": "LayoutView",
            "align_content": null,
            "align_items": null,
            "align_self": null,
            "border": null,
            "bottom": null,
            "display": null,
            "flex": null,
            "flex_flow": null,
            "grid_area": null,
            "grid_auto_columns": null,
            "grid_auto_flow": null,
            "grid_auto_rows": null,
            "grid_column": null,
            "grid_gap": null,
            "grid_row": null,
            "grid_template_areas": null,
            "grid_template_columns": null,
            "grid_template_rows": null,
            "height": null,
            "justify_content": null,
            "justify_items": null,
            "left": null,
            "margin": null,
            "max_height": null,
            "max_width": null,
            "min_height": null,
            "min_width": null,
            "object_fit": null,
            "object_position": null,
            "order": null,
            "overflow": null,
            "overflow_x": null,
            "overflow_y": null,
            "padding": null,
            "right": null,
            "top": null,
            "visibility": null,
            "width": null
          }
        },
        "4ccf92a2df9e4ef8a9969849b0e2d8bd": {
          "model_module": "@jupyter-widgets/controls",
          "model_name": "ProgressStyleModel",
          "model_module_version": "1.5.0",
          "state": {
            "_model_module": "@jupyter-widgets/controls",
            "_model_module_version": "1.5.0",
            "_model_name": "ProgressStyleModel",
            "_view_count": null,
            "_view_module": "@jupyter-widgets/base",
            "_view_module_version": "1.2.0",
            "_view_name": "StyleView",
            "bar_color": null,
            "description_width": ""
          }
        },
        "d1444912342549b08bbcb4327c334974": {
          "model_module": "@jupyter-widgets/base",
          "model_name": "LayoutModel",
          "model_module_version": "1.2.0",
          "state": {
            "_model_module": "@jupyter-widgets/base",
            "_model_module_version": "1.2.0",
            "_model_name": "LayoutModel",
            "_view_count": null,
            "_view_module": "@jupyter-widgets/base",
            "_view_module_version": "1.2.0",
            "_view_name": "LayoutView",
            "align_content": null,
            "align_items": null,
            "align_self": null,
            "border": null,
            "bottom": null,
            "display": null,
            "flex": null,
            "flex_flow": null,
            "grid_area": null,
            "grid_auto_columns": null,
            "grid_auto_flow": null,
            "grid_auto_rows": null,
            "grid_column": null,
            "grid_gap": null,
            "grid_row": null,
            "grid_template_areas": null,
            "grid_template_columns": null,
            "grid_template_rows": null,
            "height": null,
            "justify_content": null,
            "justify_items": null,
            "left": null,
            "margin": null,
            "max_height": null,
            "max_width": null,
            "min_height": null,
            "min_width": null,
            "object_fit": null,
            "object_position": null,
            "order": null,
            "overflow": null,
            "overflow_x": null,
            "overflow_y": null,
            "padding": null,
            "right": null,
            "top": null,
            "visibility": null,
            "width": null
          }
        },
        "80fbceabc4ac4188be083729acc33043": {
          "model_module": "@jupyter-widgets/controls",
          "model_name": "DescriptionStyleModel",
          "model_module_version": "1.5.0",
          "state": {
            "_model_module": "@jupyter-widgets/controls",
            "_model_module_version": "1.5.0",
            "_model_name": "DescriptionStyleModel",
            "_view_count": null,
            "_view_module": "@jupyter-widgets/base",
            "_view_module_version": "1.2.0",
            "_view_name": "StyleView",
            "description_width": ""
          }
        },
        "17c3c58c48c44a5b828148737f9b60f7": {
          "model_module": "@jupyter-widgets/controls",
          "model_name": "HBoxModel",
          "model_module_version": "1.5.0",
          "state": {
            "_dom_classes": [],
            "_model_module": "@jupyter-widgets/controls",
            "_model_module_version": "1.5.0",
            "_model_name": "HBoxModel",
            "_view_count": null,
            "_view_module": "@jupyter-widgets/controls",
            "_view_module_version": "1.5.0",
            "_view_name": "HBoxView",
            "box_style": "",
            "children": [
              "IPY_MODEL_a28063b5af74444b8fa995cf5b6c8e7c",
              "IPY_MODEL_d1dba112eb3749c0b573aecc10648a23",
              "IPY_MODEL_325e3ba0f48745079c78b384825d677a"
            ],
            "layout": "IPY_MODEL_03118303c1f941f09c56d3b12a0289e0"
          }
        },
        "a28063b5af74444b8fa995cf5b6c8e7c": {
          "model_module": "@jupyter-widgets/controls",
          "model_name": "HTMLModel",
          "model_module_version": "1.5.0",
          "state": {
            "_dom_classes": [],
            "_model_module": "@jupyter-widgets/controls",
            "_model_module_version": "1.5.0",
            "_model_name": "HTMLModel",
            "_view_count": null,
            "_view_module": "@jupyter-widgets/controls",
            "_view_module_version": "1.5.0",
            "_view_name": "HTMLView",
            "description": "",
            "description_tooltip": null,
            "layout": "IPY_MODEL_be47314a648d49e282b6bce98275a9ee",
            "placeholder": "​",
            "style": "IPY_MODEL_441e2222f4174452bed060701bdf6007",
            "value": "Downloading (…)olve/main/merges.txt: 100%"
          }
        },
        "d1dba112eb3749c0b573aecc10648a23": {
          "model_module": "@jupyter-widgets/controls",
          "model_name": "FloatProgressModel",
          "model_module_version": "1.5.0",
          "state": {
            "_dom_classes": [],
            "_model_module": "@jupyter-widgets/controls",
            "_model_module_version": "1.5.0",
            "_model_name": "FloatProgressModel",
            "_view_count": null,
            "_view_module": "@jupyter-widgets/controls",
            "_view_module_version": "1.5.0",
            "_view_name": "ProgressView",
            "bar_style": "success",
            "description": "",
            "description_tooltip": null,
            "layout": "IPY_MODEL_71fa2d925ada4ae4a59185d4e76b0668",
            "max": 456318,
            "min": 0,
            "orientation": "horizontal",
            "style": "IPY_MODEL_49ccc736b7404ad2b6cff0ea01894648",
            "value": 456318
          }
        },
        "325e3ba0f48745079c78b384825d677a": {
          "model_module": "@jupyter-widgets/controls",
          "model_name": "HTMLModel",
          "model_module_version": "1.5.0",
          "state": {
            "_dom_classes": [],
            "_model_module": "@jupyter-widgets/controls",
            "_model_module_version": "1.5.0",
            "_model_name": "HTMLModel",
            "_view_count": null,
            "_view_module": "@jupyter-widgets/controls",
            "_view_module_version": "1.5.0",
            "_view_name": "HTMLView",
            "description": "",
            "description_tooltip": null,
            "layout": "IPY_MODEL_a92ed91442a24d2790ca1616e4753953",
            "placeholder": "​",
            "style": "IPY_MODEL_d2ce0ec790774593ac96910985130c93",
            "value": " 456k/456k [00:00&lt;00:00, 11.9MB/s]"
          }
        },
        "03118303c1f941f09c56d3b12a0289e0": {
          "model_module": "@jupyter-widgets/base",
          "model_name": "LayoutModel",
          "model_module_version": "1.2.0",
          "state": {
            "_model_module": "@jupyter-widgets/base",
            "_model_module_version": "1.2.0",
            "_model_name": "LayoutModel",
            "_view_count": null,
            "_view_module": "@jupyter-widgets/base",
            "_view_module_version": "1.2.0",
            "_view_name": "LayoutView",
            "align_content": null,
            "align_items": null,
            "align_self": null,
            "border": null,
            "bottom": null,
            "display": null,
            "flex": null,
            "flex_flow": null,
            "grid_area": null,
            "grid_auto_columns": null,
            "grid_auto_flow": null,
            "grid_auto_rows": null,
            "grid_column": null,
            "grid_gap": null,
            "grid_row": null,
            "grid_template_areas": null,
            "grid_template_columns": null,
            "grid_template_rows": null,
            "height": null,
            "justify_content": null,
            "justify_items": null,
            "left": null,
            "margin": null,
            "max_height": null,
            "max_width": null,
            "min_height": null,
            "min_width": null,
            "object_fit": null,
            "object_position": null,
            "order": null,
            "overflow": null,
            "overflow_x": null,
            "overflow_y": null,
            "padding": null,
            "right": null,
            "top": null,
            "visibility": null,
            "width": null
          }
        },
        "be47314a648d49e282b6bce98275a9ee": {
          "model_module": "@jupyter-widgets/base",
          "model_name": "LayoutModel",
          "model_module_version": "1.2.0",
          "state": {
            "_model_module": "@jupyter-widgets/base",
            "_model_module_version": "1.2.0",
            "_model_name": "LayoutModel",
            "_view_count": null,
            "_view_module": "@jupyter-widgets/base",
            "_view_module_version": "1.2.0",
            "_view_name": "LayoutView",
            "align_content": null,
            "align_items": null,
            "align_self": null,
            "border": null,
            "bottom": null,
            "display": null,
            "flex": null,
            "flex_flow": null,
            "grid_area": null,
            "grid_auto_columns": null,
            "grid_auto_flow": null,
            "grid_auto_rows": null,
            "grid_column": null,
            "grid_gap": null,
            "grid_row": null,
            "grid_template_areas": null,
            "grid_template_columns": null,
            "grid_template_rows": null,
            "height": null,
            "justify_content": null,
            "justify_items": null,
            "left": null,
            "margin": null,
            "max_height": null,
            "max_width": null,
            "min_height": null,
            "min_width": null,
            "object_fit": null,
            "object_position": null,
            "order": null,
            "overflow": null,
            "overflow_x": null,
            "overflow_y": null,
            "padding": null,
            "right": null,
            "top": null,
            "visibility": null,
            "width": null
          }
        },
        "441e2222f4174452bed060701bdf6007": {
          "model_module": "@jupyter-widgets/controls",
          "model_name": "DescriptionStyleModel",
          "model_module_version": "1.5.0",
          "state": {
            "_model_module": "@jupyter-widgets/controls",
            "_model_module_version": "1.5.0",
            "_model_name": "DescriptionStyleModel",
            "_view_count": null,
            "_view_module": "@jupyter-widgets/base",
            "_view_module_version": "1.2.0",
            "_view_name": "StyleView",
            "description_width": ""
          }
        },
        "71fa2d925ada4ae4a59185d4e76b0668": {
          "model_module": "@jupyter-widgets/base",
          "model_name": "LayoutModel",
          "model_module_version": "1.2.0",
          "state": {
            "_model_module": "@jupyter-widgets/base",
            "_model_module_version": "1.2.0",
            "_model_name": "LayoutModel",
            "_view_count": null,
            "_view_module": "@jupyter-widgets/base",
            "_view_module_version": "1.2.0",
            "_view_name": "LayoutView",
            "align_content": null,
            "align_items": null,
            "align_self": null,
            "border": null,
            "bottom": null,
            "display": null,
            "flex": null,
            "flex_flow": null,
            "grid_area": null,
            "grid_auto_columns": null,
            "grid_auto_flow": null,
            "grid_auto_rows": null,
            "grid_column": null,
            "grid_gap": null,
            "grid_row": null,
            "grid_template_areas": null,
            "grid_template_columns": null,
            "grid_template_rows": null,
            "height": null,
            "justify_content": null,
            "justify_items": null,
            "left": null,
            "margin": null,
            "max_height": null,
            "max_width": null,
            "min_height": null,
            "min_width": null,
            "object_fit": null,
            "object_position": null,
            "order": null,
            "overflow": null,
            "overflow_x": null,
            "overflow_y": null,
            "padding": null,
            "right": null,
            "top": null,
            "visibility": null,
            "width": null
          }
        },
        "49ccc736b7404ad2b6cff0ea01894648": {
          "model_module": "@jupyter-widgets/controls",
          "model_name": "ProgressStyleModel",
          "model_module_version": "1.5.0",
          "state": {
            "_model_module": "@jupyter-widgets/controls",
            "_model_module_version": "1.5.0",
            "_model_name": "ProgressStyleModel",
            "_view_count": null,
            "_view_module": "@jupyter-widgets/base",
            "_view_module_version": "1.2.0",
            "_view_name": "StyleView",
            "bar_color": null,
            "description_width": ""
          }
        },
        "a92ed91442a24d2790ca1616e4753953": {
          "model_module": "@jupyter-widgets/base",
          "model_name": "LayoutModel",
          "model_module_version": "1.2.0",
          "state": {
            "_model_module": "@jupyter-widgets/base",
            "_model_module_version": "1.2.0",
            "_model_name": "LayoutModel",
            "_view_count": null,
            "_view_module": "@jupyter-widgets/base",
            "_view_module_version": "1.2.0",
            "_view_name": "LayoutView",
            "align_content": null,
            "align_items": null,
            "align_self": null,
            "border": null,
            "bottom": null,
            "display": null,
            "flex": null,
            "flex_flow": null,
            "grid_area": null,
            "grid_auto_columns": null,
            "grid_auto_flow": null,
            "grid_auto_rows": null,
            "grid_column": null,
            "grid_gap": null,
            "grid_row": null,
            "grid_template_areas": null,
            "grid_template_columns": null,
            "grid_template_rows": null,
            "height": null,
            "justify_content": null,
            "justify_items": null,
            "left": null,
            "margin": null,
            "max_height": null,
            "max_width": null,
            "min_height": null,
            "min_width": null,
            "object_fit": null,
            "object_position": null,
            "order": null,
            "overflow": null,
            "overflow_x": null,
            "overflow_y": null,
            "padding": null,
            "right": null,
            "top": null,
            "visibility": null,
            "width": null
          }
        },
        "d2ce0ec790774593ac96910985130c93": {
          "model_module": "@jupyter-widgets/controls",
          "model_name": "DescriptionStyleModel",
          "model_module_version": "1.5.0",
          "state": {
            "_model_module": "@jupyter-widgets/controls",
            "_model_module_version": "1.5.0",
            "_model_name": "DescriptionStyleModel",
            "_view_count": null,
            "_view_module": "@jupyter-widgets/base",
            "_view_module_version": "1.2.0",
            "_view_name": "StyleView",
            "description_width": ""
          }
        },
        "81cc5d40dad74d07a2afd0a3dafc8103": {
          "model_module": "@jupyter-widgets/controls",
          "model_name": "HBoxModel",
          "model_module_version": "1.5.0",
          "state": {
            "_dom_classes": [],
            "_model_module": "@jupyter-widgets/controls",
            "_model_module_version": "1.5.0",
            "_model_name": "HBoxModel",
            "_view_count": null,
            "_view_module": "@jupyter-widgets/controls",
            "_view_module_version": "1.5.0",
            "_view_name": "HBoxView",
            "box_style": "",
            "children": [
              "IPY_MODEL_cc8371b8a2ea4b99863362d9b9c30195",
              "IPY_MODEL_cc24d67faa0949d98e8d6d938a962b3f",
              "IPY_MODEL_5a41431ad46746dea5e1acbfaa0779ae"
            ],
            "layout": "IPY_MODEL_636c2add18734cb2af3f0fd5c58c15ae"
          }
        },
        "cc8371b8a2ea4b99863362d9b9c30195": {
          "model_module": "@jupyter-widgets/controls",
          "model_name": "HTMLModel",
          "model_module_version": "1.5.0",
          "state": {
            "_dom_classes": [],
            "_model_module": "@jupyter-widgets/controls",
            "_model_module_version": "1.5.0",
            "_model_name": "HTMLModel",
            "_view_count": null,
            "_view_module": "@jupyter-widgets/controls",
            "_view_module_version": "1.5.0",
            "_view_name": "HTMLView",
            "description": "",
            "description_tooltip": null,
            "layout": "IPY_MODEL_2dfd583640eb4f5dbc620f04ccba0441",
            "placeholder": "​",
            "style": "IPY_MODEL_ca4f1af2a351434fa4da02ddfecc53fa",
            "value": "Downloading (…)lve/main/config.json: 100%"
          }
        },
        "cc24d67faa0949d98e8d6d938a962b3f": {
          "model_module": "@jupyter-widgets/controls",
          "model_name": "FloatProgressModel",
          "model_module_version": "1.5.0",
          "state": {
            "_dom_classes": [],
            "_model_module": "@jupyter-widgets/controls",
            "_model_module_version": "1.5.0",
            "_model_name": "FloatProgressModel",
            "_view_count": null,
            "_view_module": "@jupyter-widgets/controls",
            "_view_module_version": "1.5.0",
            "_view_name": "ProgressView",
            "bar_style": "success",
            "description": "",
            "description_tooltip": null,
            "layout": "IPY_MODEL_356caf8690434d6a8ad01255eb7dc98b",
            "max": 482,
            "min": 0,
            "orientation": "horizontal",
            "style": "IPY_MODEL_5455e0446d4e4195b27ea58437cbfef2",
            "value": 482
          }
        },
        "5a41431ad46746dea5e1acbfaa0779ae": {
          "model_module": "@jupyter-widgets/controls",
          "model_name": "HTMLModel",
          "model_module_version": "1.5.0",
          "state": {
            "_dom_classes": [],
            "_model_module": "@jupyter-widgets/controls",
            "_model_module_version": "1.5.0",
            "_model_name": "HTMLModel",
            "_view_count": null,
            "_view_module": "@jupyter-widgets/controls",
            "_view_module_version": "1.5.0",
            "_view_name": "HTMLView",
            "description": "",
            "description_tooltip": null,
            "layout": "IPY_MODEL_5db8cfd2bc8e4e19a464bf761a570b9a",
            "placeholder": "​",
            "style": "IPY_MODEL_2cca2692d5664e4c80e0bb8e4db6555e",
            "value": " 482/482 [00:00&lt;00:00, 11.2kB/s]"
          }
        },
        "636c2add18734cb2af3f0fd5c58c15ae": {
          "model_module": "@jupyter-widgets/base",
          "model_name": "LayoutModel",
          "model_module_version": "1.2.0",
          "state": {
            "_model_module": "@jupyter-widgets/base",
            "_model_module_version": "1.2.0",
            "_model_name": "LayoutModel",
            "_view_count": null,
            "_view_module": "@jupyter-widgets/base",
            "_view_module_version": "1.2.0",
            "_view_name": "LayoutView",
            "align_content": null,
            "align_items": null,
            "align_self": null,
            "border": null,
            "bottom": null,
            "display": null,
            "flex": null,
            "flex_flow": null,
            "grid_area": null,
            "grid_auto_columns": null,
            "grid_auto_flow": null,
            "grid_auto_rows": null,
            "grid_column": null,
            "grid_gap": null,
            "grid_row": null,
            "grid_template_areas": null,
            "grid_template_columns": null,
            "grid_template_rows": null,
            "height": null,
            "justify_content": null,
            "justify_items": null,
            "left": null,
            "margin": null,
            "max_height": null,
            "max_width": null,
            "min_height": null,
            "min_width": null,
            "object_fit": null,
            "object_position": null,
            "order": null,
            "overflow": null,
            "overflow_x": null,
            "overflow_y": null,
            "padding": null,
            "right": null,
            "top": null,
            "visibility": null,
            "width": null
          }
        },
        "2dfd583640eb4f5dbc620f04ccba0441": {
          "model_module": "@jupyter-widgets/base",
          "model_name": "LayoutModel",
          "model_module_version": "1.2.0",
          "state": {
            "_model_module": "@jupyter-widgets/base",
            "_model_module_version": "1.2.0",
            "_model_name": "LayoutModel",
            "_view_count": null,
            "_view_module": "@jupyter-widgets/base",
            "_view_module_version": "1.2.0",
            "_view_name": "LayoutView",
            "align_content": null,
            "align_items": null,
            "align_self": null,
            "border": null,
            "bottom": null,
            "display": null,
            "flex": null,
            "flex_flow": null,
            "grid_area": null,
            "grid_auto_columns": null,
            "grid_auto_flow": null,
            "grid_auto_rows": null,
            "grid_column": null,
            "grid_gap": null,
            "grid_row": null,
            "grid_template_areas": null,
            "grid_template_columns": null,
            "grid_template_rows": null,
            "height": null,
            "justify_content": null,
            "justify_items": null,
            "left": null,
            "margin": null,
            "max_height": null,
            "max_width": null,
            "min_height": null,
            "min_width": null,
            "object_fit": null,
            "object_position": null,
            "order": null,
            "overflow": null,
            "overflow_x": null,
            "overflow_y": null,
            "padding": null,
            "right": null,
            "top": null,
            "visibility": null,
            "width": null
          }
        },
        "ca4f1af2a351434fa4da02ddfecc53fa": {
          "model_module": "@jupyter-widgets/controls",
          "model_name": "DescriptionStyleModel",
          "model_module_version": "1.5.0",
          "state": {
            "_model_module": "@jupyter-widgets/controls",
            "_model_module_version": "1.5.0",
            "_model_name": "DescriptionStyleModel",
            "_view_count": null,
            "_view_module": "@jupyter-widgets/base",
            "_view_module_version": "1.2.0",
            "_view_name": "StyleView",
            "description_width": ""
          }
        },
        "356caf8690434d6a8ad01255eb7dc98b": {
          "model_module": "@jupyter-widgets/base",
          "model_name": "LayoutModel",
          "model_module_version": "1.2.0",
          "state": {
            "_model_module": "@jupyter-widgets/base",
            "_model_module_version": "1.2.0",
            "_model_name": "LayoutModel",
            "_view_count": null,
            "_view_module": "@jupyter-widgets/base",
            "_view_module_version": "1.2.0",
            "_view_name": "LayoutView",
            "align_content": null,
            "align_items": null,
            "align_self": null,
            "border": null,
            "bottom": null,
            "display": null,
            "flex": null,
            "flex_flow": null,
            "grid_area": null,
            "grid_auto_columns": null,
            "grid_auto_flow": null,
            "grid_auto_rows": null,
            "grid_column": null,
            "grid_gap": null,
            "grid_row": null,
            "grid_template_areas": null,
            "grid_template_columns": null,
            "grid_template_rows": null,
            "height": null,
            "justify_content": null,
            "justify_items": null,
            "left": null,
            "margin": null,
            "max_height": null,
            "max_width": null,
            "min_height": null,
            "min_width": null,
            "object_fit": null,
            "object_position": null,
            "order": null,
            "overflow": null,
            "overflow_x": null,
            "overflow_y": null,
            "padding": null,
            "right": null,
            "top": null,
            "visibility": null,
            "width": null
          }
        },
        "5455e0446d4e4195b27ea58437cbfef2": {
          "model_module": "@jupyter-widgets/controls",
          "model_name": "ProgressStyleModel",
          "model_module_version": "1.5.0",
          "state": {
            "_model_module": "@jupyter-widgets/controls",
            "_model_module_version": "1.5.0",
            "_model_name": "ProgressStyleModel",
            "_view_count": null,
            "_view_module": "@jupyter-widgets/base",
            "_view_module_version": "1.2.0",
            "_view_name": "StyleView",
            "bar_color": null,
            "description_width": ""
          }
        },
        "5db8cfd2bc8e4e19a464bf761a570b9a": {
          "model_module": "@jupyter-widgets/base",
          "model_name": "LayoutModel",
          "model_module_version": "1.2.0",
          "state": {
            "_model_module": "@jupyter-widgets/base",
            "_model_module_version": "1.2.0",
            "_model_name": "LayoutModel",
            "_view_count": null,
            "_view_module": "@jupyter-widgets/base",
            "_view_module_version": "1.2.0",
            "_view_name": "LayoutView",
            "align_content": null,
            "align_items": null,
            "align_self": null,
            "border": null,
            "bottom": null,
            "display": null,
            "flex": null,
            "flex_flow": null,
            "grid_area": null,
            "grid_auto_columns": null,
            "grid_auto_flow": null,
            "grid_auto_rows": null,
            "grid_column": null,
            "grid_gap": null,
            "grid_row": null,
            "grid_template_areas": null,
            "grid_template_columns": null,
            "grid_template_rows": null,
            "height": null,
            "justify_content": null,
            "justify_items": null,
            "left": null,
            "margin": null,
            "max_height": null,
            "max_width": null,
            "min_height": null,
            "min_width": null,
            "object_fit": null,
            "object_position": null,
            "order": null,
            "overflow": null,
            "overflow_x": null,
            "overflow_y": null,
            "padding": null,
            "right": null,
            "top": null,
            "visibility": null,
            "width": null
          }
        },
        "2cca2692d5664e4c80e0bb8e4db6555e": {
          "model_module": "@jupyter-widgets/controls",
          "model_name": "DescriptionStyleModel",
          "model_module_version": "1.5.0",
          "state": {
            "_model_module": "@jupyter-widgets/controls",
            "_model_module_version": "1.5.0",
            "_model_name": "DescriptionStyleModel",
            "_view_count": null,
            "_view_module": "@jupyter-widgets/base",
            "_view_module_version": "1.2.0",
            "_view_name": "StyleView",
            "description_width": ""
          }
        }
      }
    }
  },
  "nbformat": 4,
  "nbformat_minor": 5
}