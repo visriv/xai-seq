{
 "cells": [
  {
   "cell_type": "code",
   "execution_count": 1,
   "id": "7ff5a093",
   "metadata": {
    "id": "7ff5a093"
   },
   "outputs": [
    {
     "name": "stdout",
     "output_type": "stream",
     "text": [
      "Looking in indexes: https://pypi.org/simple, https://pip.repos.neuron.amazonaws.com\n",
      "Requirement already satisfied: yfinance in /home/ec2-user/anaconda3/envs/pytorch_p310/lib/python3.10/site-packages (0.2.25)\n",
      "Requirement already satisfied: pandas>=1.3.0 in /home/ec2-user/anaconda3/envs/pytorch_p310/lib/python3.10/site-packages (from yfinance) (1.5.3)\n",
      "Requirement already satisfied: numpy>=1.16.5 in /home/ec2-user/anaconda3/envs/pytorch_p310/lib/python3.10/site-packages (from yfinance) (1.24.3)\n",
      "Requirement already satisfied: requests>=2.26 in /home/ec2-user/anaconda3/envs/pytorch_p310/lib/python3.10/site-packages (from yfinance) (2.29.0)\n",
      "Requirement already satisfied: multitasking>=0.0.7 in /home/ec2-user/anaconda3/envs/pytorch_p310/lib/python3.10/site-packages (from yfinance) (0.0.11)\n",
      "Requirement already satisfied: lxml>=4.9.1 in /home/ec2-user/anaconda3/envs/pytorch_p310/lib/python3.10/site-packages (from yfinance) (4.9.3)\n",
      "Requirement already satisfied: appdirs>=1.4.4 in /home/ec2-user/anaconda3/envs/pytorch_p310/lib/python3.10/site-packages (from yfinance) (1.4.4)\n",
      "Requirement already satisfied: pytz>=2022.5 in /home/ec2-user/anaconda3/envs/pytorch_p310/lib/python3.10/site-packages (from yfinance) (2023.3)\n",
      "Requirement already satisfied: frozendict>=2.3.4 in /home/ec2-user/anaconda3/envs/pytorch_p310/lib/python3.10/site-packages (from yfinance) (2.3.8)\n",
      "Requirement already satisfied: beautifulsoup4>=4.11.1 in /home/ec2-user/anaconda3/envs/pytorch_p310/lib/python3.10/site-packages (from yfinance) (4.12.2)\n",
      "Requirement already satisfied: html5lib>=1.1 in /home/ec2-user/anaconda3/envs/pytorch_p310/lib/python3.10/site-packages (from yfinance) (1.1)\n",
      "Requirement already satisfied: soupsieve>1.2 in /home/ec2-user/anaconda3/envs/pytorch_p310/lib/python3.10/site-packages (from beautifulsoup4>=4.11.1->yfinance) (2.3.2.post1)\n",
      "Requirement already satisfied: six>=1.9 in /home/ec2-user/anaconda3/envs/pytorch_p310/lib/python3.10/site-packages (from html5lib>=1.1->yfinance) (1.16.0)\n",
      "Requirement already satisfied: webencodings in /home/ec2-user/anaconda3/envs/pytorch_p310/lib/python3.10/site-packages (from html5lib>=1.1->yfinance) (0.5.1)\n",
      "Requirement already satisfied: python-dateutil>=2.8.1 in /home/ec2-user/anaconda3/envs/pytorch_p310/lib/python3.10/site-packages (from pandas>=1.3.0->yfinance) (2.8.2)\n",
      "Requirement already satisfied: charset-normalizer<4,>=2 in /home/ec2-user/anaconda3/envs/pytorch_p310/lib/python3.10/site-packages (from requests>=2.26->yfinance) (3.1.0)\n",
      "Requirement already satisfied: idna<4,>=2.5 in /home/ec2-user/anaconda3/envs/pytorch_p310/lib/python3.10/site-packages (from requests>=2.26->yfinance) (3.4)\n",
      "Requirement already satisfied: urllib3<1.27,>=1.21.1 in /home/ec2-user/anaconda3/envs/pytorch_p310/lib/python3.10/site-packages (from requests>=2.26->yfinance) (1.26.14)\n",
      "Requirement already satisfied: certifi>=2017.4.17 in /home/ec2-user/anaconda3/envs/pytorch_p310/lib/python3.10/site-packages (from requests>=2.26->yfinance) (2023.5.7)\n",
      "Looking in indexes: https://pypi.org/simple, https://pip.repos.neuron.amazonaws.com\n",
      "Requirement already satisfied: transformers in /home/ec2-user/anaconda3/envs/pytorch_p310/lib/python3.10/site-packages (4.31.0)\n",
      "Requirement already satisfied: filelock in /home/ec2-user/anaconda3/envs/pytorch_p310/lib/python3.10/site-packages (from transformers) (3.12.0)\n",
      "Requirement already satisfied: huggingface-hub<1.0,>=0.14.1 in /home/ec2-user/anaconda3/envs/pytorch_p310/lib/python3.10/site-packages (from transformers) (0.16.4)\n",
      "Requirement already satisfied: numpy>=1.17 in /home/ec2-user/anaconda3/envs/pytorch_p310/lib/python3.10/site-packages (from transformers) (1.24.3)\n",
      "Requirement already satisfied: packaging>=20.0 in /home/ec2-user/anaconda3/envs/pytorch_p310/lib/python3.10/site-packages (from transformers) (21.3)\n",
      "Requirement already satisfied: pyyaml>=5.1 in /home/ec2-user/anaconda3/envs/pytorch_p310/lib/python3.10/site-packages (from transformers) (5.4.1)\n",
      "Requirement already satisfied: regex!=2019.12.17 in /home/ec2-user/anaconda3/envs/pytorch_p310/lib/python3.10/site-packages (from transformers) (2023.6.3)\n",
      "Requirement already satisfied: requests in /home/ec2-user/anaconda3/envs/pytorch_p310/lib/python3.10/site-packages (from transformers) (2.29.0)\n",
      "Requirement already satisfied: tokenizers!=0.11.3,<0.14,>=0.11.1 in /home/ec2-user/anaconda3/envs/pytorch_p310/lib/python3.10/site-packages (from transformers) (0.13.3)\n",
      "Requirement already satisfied: safetensors>=0.3.1 in /home/ec2-user/anaconda3/envs/pytorch_p310/lib/python3.10/site-packages (from transformers) (0.3.1)\n",
      "Requirement already satisfied: tqdm>=4.27 in /home/ec2-user/anaconda3/envs/pytorch_p310/lib/python3.10/site-packages (from transformers) (4.65.0)\n",
      "Requirement already satisfied: fsspec in /home/ec2-user/anaconda3/envs/pytorch_p310/lib/python3.10/site-packages (from huggingface-hub<1.0,>=0.14.1->transformers) (2023.5.0)\n",
      "Requirement already satisfied: typing-extensions>=3.7.4.3 in /home/ec2-user/anaconda3/envs/pytorch_p310/lib/python3.10/site-packages (from huggingface-hub<1.0,>=0.14.1->transformers) (4.5.0)\n",
      "Requirement already satisfied: pyparsing!=3.0.5,>=2.0.2 in /home/ec2-user/anaconda3/envs/pytorch_p310/lib/python3.10/site-packages (from packaging>=20.0->transformers) (3.0.9)\n",
      "Requirement already satisfied: charset-normalizer<4,>=2 in /home/ec2-user/anaconda3/envs/pytorch_p310/lib/python3.10/site-packages (from requests->transformers) (3.1.0)\n",
      "Requirement already satisfied: idna<4,>=2.5 in /home/ec2-user/anaconda3/envs/pytorch_p310/lib/python3.10/site-packages (from requests->transformers) (3.4)\n",
      "Requirement already satisfied: urllib3<1.27,>=1.21.1 in /home/ec2-user/anaconda3/envs/pytorch_p310/lib/python3.10/site-packages (from requests->transformers) (1.26.14)\n",
      "Requirement already satisfied: certifi>=2017.4.17 in /home/ec2-user/anaconda3/envs/pytorch_p310/lib/python3.10/site-packages (from requests->transformers) (2023.5.7)\n",
      "Looking in indexes: https://pypi.org/simple, https://pip.repos.neuron.amazonaws.com\n",
      "Requirement already satisfied: wandb in /home/ec2-user/anaconda3/envs/pytorch_p310/lib/python3.10/site-packages (0.15.5)\n",
      "Requirement already satisfied: Click!=8.0.0,>=7.1 in /home/ec2-user/anaconda3/envs/pytorch_p310/lib/python3.10/site-packages (from wandb) (8.1.3)\n",
      "Requirement already satisfied: GitPython!=3.1.29,>=1.0.0 in /home/ec2-user/anaconda3/envs/pytorch_p310/lib/python3.10/site-packages (from wandb) (3.1.32)\n",
      "Requirement already satisfied: requests<3,>=2.0.0 in /home/ec2-user/anaconda3/envs/pytorch_p310/lib/python3.10/site-packages (from wandb) (2.29.0)\n",
      "Requirement already satisfied: psutil>=5.0.0 in /home/ec2-user/anaconda3/envs/pytorch_p310/lib/python3.10/site-packages (from wandb) (5.9.5)\n",
      "Requirement already satisfied: sentry-sdk>=1.0.0 in /home/ec2-user/anaconda3/envs/pytorch_p310/lib/python3.10/site-packages (from wandb) (1.28.1)\n",
      "Requirement already satisfied: docker-pycreds>=0.4.0 in /home/ec2-user/anaconda3/envs/pytorch_p310/lib/python3.10/site-packages (from wandb) (0.4.0)\n",
      "Requirement already satisfied: PyYAML in /home/ec2-user/anaconda3/envs/pytorch_p310/lib/python3.10/site-packages (from wandb) (5.4.1)\n",
      "Requirement already satisfied: pathtools in /home/ec2-user/anaconda3/envs/pytorch_p310/lib/python3.10/site-packages (from wandb) (0.1.2)\n",
      "Requirement already satisfied: setproctitle in /home/ec2-user/anaconda3/envs/pytorch_p310/lib/python3.10/site-packages (from wandb) (1.3.2)\n",
      "Requirement already satisfied: setuptools in /home/ec2-user/anaconda3/envs/pytorch_p310/lib/python3.10/site-packages (from wandb) (67.7.2)\n",
      "Requirement already satisfied: appdirs>=1.4.3 in /home/ec2-user/anaconda3/envs/pytorch_p310/lib/python3.10/site-packages (from wandb) (1.4.4)\n",
      "Requirement already satisfied: protobuf!=4.21.0,<5,>=3.19.0 in /home/ec2-user/anaconda3/envs/pytorch_p310/lib/python3.10/site-packages (from wandb) (3.20.3)\n",
      "Requirement already satisfied: six>=1.4.0 in /home/ec2-user/anaconda3/envs/pytorch_p310/lib/python3.10/site-packages (from docker-pycreds>=0.4.0->wandb) (1.16.0)\n",
      "Requirement already satisfied: gitdb<5,>=4.0.1 in /home/ec2-user/anaconda3/envs/pytorch_p310/lib/python3.10/site-packages (from GitPython!=3.1.29,>=1.0.0->wandb) (4.0.10)\n",
      "Requirement already satisfied: charset-normalizer<4,>=2 in /home/ec2-user/anaconda3/envs/pytorch_p310/lib/python3.10/site-packages (from requests<3,>=2.0.0->wandb) (3.1.0)\n",
      "Requirement already satisfied: idna<4,>=2.5 in /home/ec2-user/anaconda3/envs/pytorch_p310/lib/python3.10/site-packages (from requests<3,>=2.0.0->wandb) (3.4)\n",
      "Requirement already satisfied: urllib3<1.27,>=1.21.1 in /home/ec2-user/anaconda3/envs/pytorch_p310/lib/python3.10/site-packages (from requests<3,>=2.0.0->wandb) (1.26.14)\n",
      "Requirement already satisfied: certifi>=2017.4.17 in /home/ec2-user/anaconda3/envs/pytorch_p310/lib/python3.10/site-packages (from requests<3,>=2.0.0->wandb) (2023.5.7)\n",
      "Requirement already satisfied: smmap<6,>=3.0.1 in /home/ec2-user/anaconda3/envs/pytorch_p310/lib/python3.10/site-packages (from gitdb<5,>=4.0.1->GitPython!=3.1.29,>=1.0.0->wandb) (5.0.0)\n",
      "Looking in indexes: https://pypi.org/simple, https://pip.repos.neuron.amazonaws.com\n",
      "Requirement already satisfied: beautifulsoup4 in /home/ec2-user/anaconda3/envs/pytorch_p310/lib/python3.10/site-packages (4.12.2)\n",
      "Requirement already satisfied: soupsieve>1.2 in /home/ec2-user/anaconda3/envs/pytorch_p310/lib/python3.10/site-packages (from beautifulsoup4) (2.3.2.post1)\n"
     ]
    }
   ],
   "source": [
    "!pip install yfinance\n",
    "!pip install transformers\n",
    "!pip install wandb\n",
    "!pip install beautifulsoup4\n"
   ]
  },
  {
   "cell_type": "code",
   "execution_count": 2,
   "id": "1a3524a9",
   "metadata": {
    "id": "1a3524a9"
   },
   "outputs": [],
   "source": [
    "import yfinance as yf\n",
    "import datetime\n",
    "import numpy as np\n",
    "import pandas as pd\n",
    "from pylab import mpl, plt\n",
    "import math, time\n",
    "import itertools\n",
    "from datetime import datetime\n",
    "from operator import itemgetter\n",
    "from tqdm import tqdm\n",
    "from math import sqrt\n",
    "import torch\n",
    "import torch.nn as nn\n",
    "from torch.autograd import Variable\n",
    "from transformers import RobertaTokenizer, RobertaModel\n",
    "import torch.nn.functional as F"
   ]
  },
  {
   "cell_type": "code",
   "execution_count": 3,
   "id": "24afc749",
   "metadata": {
    "id": "24afc749"
   },
   "outputs": [],
   "source": [
    "from torch import cuda\n",
    "device = 'cuda' if cuda.is_available() else 'cpu'\n",
    "# from google.colab import drive\n",
    "# drive.mount('/content/drive')"
   ]
  },
  {
   "cell_type": "code",
   "execution_count": null,
   "id": "09ef9b66",
   "metadata": {},
   "outputs": [],
   "source": [
    "!nvidia-smi"
   ]
  },
  {
   "cell_type": "code",
   "execution_count": 4,
   "id": "e128245b",
   "metadata": {
    "id": "e128245b"
   },
   "outputs": [
    {
     "name": "stderr",
     "output_type": "stream",
     "text": [
      "Failed to detect the name of this notebook, you can set it manually with the WANDB_NOTEBOOK_NAME environment variable to enable code saving.\n",
      "\u001b[34m\u001b[1mwandb\u001b[0m: Currently logged in as: \u001b[33mvisriv\u001b[0m. Use \u001b[1m`wandb login --relogin`\u001b[0m to force relogin\n"
     ]
    },
    {
     "data": {
      "text/html": [
       "Tracking run with wandb version 0.15.5"
      ],
      "text/plain": [
       "<IPython.core.display.HTML object>"
      ]
     },
     "metadata": {},
     "output_type": "display_data"
    },
    {
     "data": {
      "text/html": [
       "Run data is saved locally in <code>/home/ec2-user/SageMaker/wandb/run-20230720_040021-2u6boszt</code>"
      ],
      "text/plain": [
       "<IPython.core.display.HTML object>"
      ]
     },
     "metadata": {},
     "output_type": "display_data"
    },
    {
     "data": {
      "text/html": [
       "Syncing run <strong><a href='https://wandb.ai/visriv/stock_prediction/runs/2u6boszt' target=\"_blank\">solar-vortex-51</a></strong> to <a href='https://wandb.ai/visriv/stock_prediction' target=\"_blank\">Weights & Biases</a> (<a href='https://wandb.me/run' target=\"_blank\">docs</a>)<br/>"
      ],
      "text/plain": [
       "<IPython.core.display.HTML object>"
      ]
     },
     "metadata": {},
     "output_type": "display_data"
    },
    {
     "data": {
      "text/html": [
       " View project at <a href='https://wandb.ai/visriv/stock_prediction' target=\"_blank\">https://wandb.ai/visriv/stock_prediction</a>"
      ],
      "text/plain": [
       "<IPython.core.display.HTML object>"
      ]
     },
     "metadata": {},
     "output_type": "display_data"
    },
    {
     "data": {
      "text/html": [
       " View run at <a href='https://wandb.ai/visriv/stock_prediction/runs/2u6boszt' target=\"_blank\">https://wandb.ai/visriv/stock_prediction/runs/2u6boszt</a>"
      ],
      "text/plain": [
       "<IPython.core.display.HTML object>"
      ]
     },
     "metadata": {},
     "output_type": "display_data"
    },
    {
     "data": {
      "text/html": [
       "<button onClick=\"this.nextSibling.style.display='block';this.style.display='none';\">Display W&B run</button><iframe src='https://wandb.ai/visriv/stock_prediction/runs/2u6boszt?jupyter=true' style='border:none;width:100%;height:420px;display:none;'></iframe>"
      ],
      "text/plain": [
       "<wandb.sdk.wandb_run.Run at 0x7f96e8d1bb50>"
      ]
     },
     "execution_count": 4,
     "metadata": {},
     "output_type": "execute_result"
    }
   ],
   "source": [
    "import wandb\n",
    "wandb.login()\n",
    "wandb.init(project=\"stock_prediction\")"
   ]
  },
  {
   "cell_type": "markdown",
   "id": "76ea47cc",
   "metadata": {
    "id": "76ea47cc"
   },
   "source": [
    "### Hyperparams"
   ]
  },
  {
   "cell_type": "code",
   "execution_count": 5,
   "id": "9a8dec6d",
   "metadata": {
    "id": "9a8dec6d"
   },
   "outputs": [],
   "source": [
    "no_of_days_to_lookforward = 1\n",
    "no_of_days_to_lookback = 10\n",
    "up_threshold = 0.015\n",
    "down_threshold = -0.015\n",
    "max_text_per_iter = 20\n",
    "batch_size = 16\n",
    "MAX_LEN = 10\n",
    "num_epochs = 200\n",
    "save_freq_epoch = 10\n",
    "run_id = str(51)\n",
    "output_path = '/content/drive/MyDrive/machine_learning/projects/xai-seq/output/run_' + run_id\n",
    "# !mkdir $output_path\n",
    "# !mkdir /content/drive/MyDrive/machine_learning/projects/xai-seq/output/\n"
   ]
  },
  {
   "cell_type": "markdown",
   "id": "af59387d",
   "metadata": {
    "id": "af59387d"
   },
   "source": [
    "### Get stocks data for last N days"
   ]
  },
  {
   "cell_type": "code",
   "execution_count": 6,
   "id": "6ebb836a",
   "metadata": {
    "id": "6ebb836a"
   },
   "outputs": [
    {
     "name": "stdout",
     "output_type": "stream",
     "text": [
      "mkdir: cannot create directory ‘data’: File exists\r\n"
     ]
    }
   ],
   "source": [
    "!mkdir data\n"
   ]
  },
  {
   "cell_type": "code",
   "execution_count": 7,
   "id": "64983989",
   "metadata": {
    "id": "64983989"
   },
   "outputs": [
    {
     "name": "stdout",
     "output_type": "stream",
     "text": [
      "[*********************100%***********************]  1 of 1 completed\n",
      "[*********************100%***********************]  1 of 1 completed\n"
     ]
    }
   ],
   "source": [
    "stock_symbols = [ 'XOM']#, 'CVX', 'COP', 'SHEL']\n",
    "no_of_days = 4*365\n",
    "\n",
    "EXPORT_DATA_FOLDER = './data/'\n",
    "# !mkdir data\n",
    "# Set the start and end dates for the data\n",
    "# here matching it with dates of news text available\n",
    "train_start = datetime.strptime('2020/01/04', '%Y/%m/%d')\n",
    "train_end = datetime.strptime('2022/09/30', '%Y/%m/%d')\n",
    "test_start = datetime.strptime('2022/10/01', '%Y/%m/%d')\n",
    "test_end = datetime.strptime('2023/01/04', '%Y/%m/%d')\n",
    "\n",
    "\n",
    "# start = datetime.datetime.now() - datetime.timedelta(days=no_of_days)\n",
    "# end = datetime.datetime.now()\n",
    "\n",
    "train_data_final = pd.DataFrame()\n",
    "test_data_final = pd.DataFrame()\n",
    "\n",
    "# Get training data\n",
    "for symbol in stock_symbols:\n",
    "    # Download the historical price and volume data using yfiance\n",
    "    train_data_raw = yf.download(symbol, start=train_start, end=train_end)\n",
    "\n",
    "    # Normalize features by percent of changes between today and yesterday\n",
    "    pct_change_open = train_data_raw['Open'].fillna(0)#.pct_change().fillna(0)\n",
    "    pct_change_high = train_data_raw['High'].fillna(0)#.pct_change().fillna(0)\n",
    "    pct_change_high_over_open = (train_data_raw['High']-train_data_raw['Open'])/train_data_raw['Open']\n",
    "    pct_change_low = train_data_raw['Low'].fillna(0)#.pct_change().fillna(0)\n",
    "    pct_change_low_over_open = (train_data_raw['Low']-train_data_raw['Open'])/train_data_raw['Open']\n",
    "    pct_change_close = train_data_raw['Close'].pct_change().fillna(0)\n",
    "    close = train_data_raw['Close'].fillna(0)#.pct_change().fillna(0)\n",
    "    pct_change_close_over_open = (train_data_raw['Close']-train_data_raw['Open'])/train_data_raw['Open']\n",
    "    pct_change_adjclose = train_data_raw['Adj Close'].fillna(0)#.pct_change().fillna(0)\n",
    "    pct_change_adjclose_over_open = (train_data_raw['Adj Close']-train_data_raw['Open'])/train_data_raw['Open']\n",
    "    pct_change_volume = train_data_raw['Volume'].fillna(0)#.pct_change().fillna(0)\n",
    "\n",
    "    # Prepare labels: 2 means the close price of tomorow is higher than today's close price; 1 is down; 0 means the movement is between up_threshold and down_threshold\n",
    "    label = np.where(pct_change_close > up_threshold, 2, np.where(pct_change_close < down_threshold, 1, 0))[1:]\n",
    "    label = np.append(label, 0)\n",
    "\n",
    "    # Construct a train_data_norm data frame\n",
    "    train_data_norm = pd.DataFrame({'Open_norm':pct_change_open,\n",
    "                              'High_norm':pct_change_high,\n",
    "                              'Low_norm': pct_change_low,\n",
    "                              'Close_norm':pct_change_close,\n",
    "                              'Close':close,\n",
    "                              'Volume_norm':pct_change_volume,\n",
    "                              'High-Open_norm':pct_change_high_over_open,\n",
    "                              'Low-Open_norm':pct_change_low_over_open,\n",
    "                              'Close-Open_norm':pct_change_close_over_open,\n",
    "                              'Label_2up1down':label})\n",
    "\n",
    "    # Normalize by min-max normalization after the pct normalization\n",
    "    train_data_norm['Open_norm'] = train_data_norm['Open_norm'].apply(lambda x: (x - train_data_norm['Open_norm'].min()) / (train_data_norm['Open_norm'].max() - train_data_norm['Open_norm'].min()))\n",
    "    train_data_norm['High_norm'] = train_data_norm['High_norm'].apply(lambda x: (x - train_data_norm['High_norm'].min()) / (train_data_norm['High_norm'].max() - train_data_norm['High_norm'].min()))\n",
    "    train_data_norm['Low_norm'] = train_data_norm['Low_norm'].apply(lambda x: (x - train_data_norm['Low_norm'].min()) / (train_data_norm['Low_norm'].max() - train_data_norm['Low_norm'].min()))\n",
    "    train_data_norm['Close_norm'] = train_data_norm['Close_norm'].apply(lambda x: (x - train_data_norm['Close_norm'].min()) / (train_data_norm['Close_norm'].max() - train_data_norm['Close_norm'].min()))\n",
    "    train_data_norm['Close'] = train_data_norm['Close'].apply(lambda x: (x - train_data_norm['Close'].min()) / (train_data_norm['Close'].max() - train_data_norm['Close'].min()))\n",
    "    train_data_norm['Volume_norm'] = train_data_norm['Volume_norm'].apply(lambda x: (x - train_data_norm['Volume_norm'].min()) / (train_data_norm['Volume_norm'].max() - train_data_norm['Volume_norm'].min()))\n",
    "    train_data_norm['High-Open_norm'] = train_data_norm['High-Open_norm'].apply(lambda x: (x - train_data_norm['High-Open_norm'].min()) / (train_data_norm['High-Open_norm'].max() - train_data_norm['High-Open_norm'].min()))\n",
    "    train_data_norm['Low-Open_norm'] = train_data_norm['Low-Open_norm'].apply(lambda x: (x - train_data_norm['Low-Open_norm'].min()) / (train_data_norm['Low-Open_norm'].max() - train_data_norm['Low-Open_norm'].min()))\n",
    "    train_data_norm['Close-Open_norm'] = train_data_norm['Close-Open_norm'].apply(lambda x: (x - train_data_norm['Close-Open_norm'].min()) / (train_data_norm['Close-Open_norm'].max() - train_data_norm['Close-Open_norm'].min()))\n",
    "\n",
    "    # Remove the first and the last row, becuase of NAN values\n",
    "    train_data_raw = train_data_raw.iloc[1:-1]\n",
    "    train_data_norm = train_data_norm.iloc[1:-1]\n",
    "\n",
    "    train_data_raw.to_csv(EXPORT_DATA_FOLDER+symbol+'train_raw_data.csv', index=True)\n",
    "    train_data_norm.to_csv(EXPORT_DATA_FOLDER+symbol+'train_norm_data.csv', index=True)\n",
    "\n",
    "    train_data_final = pd.concat([train_data_final, train_data_norm])\n",
    "\n",
    "# Get test data\n",
    "for symbol in stock_symbols:\n",
    "    # Download the historical price and volume data using yfiance\n",
    "    test_data_raw = yf.download(symbol, start=test_start, end=test_end)\n",
    "\n",
    "    # Normalize features by percent of changes between today and yesterday\n",
    "    pct_change_open = test_data_raw['Open'].fillna(0)#.pct_change().fillna(0)\n",
    "    pct_change_high = test_data_raw['High'].fillna(0)#.pct_change().fillna(0)\n",
    "    pct_change_high_over_open = (test_data_raw['High']-test_data_raw['Open'])/test_data_raw['Open']\n",
    "    pct_change_low = test_data_raw['Low'].fillna(0)#.pct_change().fillna(0)\n",
    "    pct_change_low_over_open = (test_data_raw['Low']-test_data_raw['Open'])/test_data_raw['Open']\n",
    "    pct_change_close = test_data_raw['Close'].pct_change().fillna(0)\n",
    "    close = test_data_raw['Close'].fillna(0)#.pct_change().fillna(0)\n",
    "    pct_change_close_over_open = (test_data_raw['Close']-test_data_raw['Open'])/test_data_raw['Open']\n",
    "    pct_change_adjclose = test_data_raw['Adj Close'].fillna(0)#.pct_change().fillna(0)\n",
    "    pct_change_adjclose_over_open = (test_data_raw['Adj Close']-test_data_raw['Open'])/test_data_raw['Open']\n",
    "    pct_change_volume = test_data_raw['Volume'].fillna(0)#.pct_change().fillna(0)\n",
    "\n",
    "    # Prepare labels: 2 means the close price of tomorow is higher than today's close price; 1 is down; 0 means the movement is between up_threshold and down_threshold\n",
    "    label = np.where(pct_change_close > up_threshold, 2, np.where(pct_change_close < down_threshold, 1, 0))[1:]\n",
    "    label = np.append(label, 0)\n",
    "\n",
    "    # Construct a test_data_norm data frame\n",
    "    test_data_norm = pd.DataFrame({'Open_norm':pct_change_open,\n",
    "                              'High_norm':pct_change_high,\n",
    "                              'Low_norm': pct_change_low,\n",
    "                              'Close_norm':pct_change_close,\n",
    "                              'Close':close,\n",
    "                              'Volume_norm':pct_change_volume,\n",
    "                              'High-Open_norm':pct_change_high_over_open,\n",
    "                              'Low-Open_norm':pct_change_low_over_open,\n",
    "                              'Close-Open_norm':pct_change_close_over_open,\n",
    "                              'Label_2up1down':label})\n",
    "\n",
    "    # Normalize by min-max normalization after the pct normalization\n",
    "    test_data_norm['Open_norm'] = test_data_norm['Open_norm'].apply(lambda x: (x - test_data_norm['Open_norm'].min()) / (test_data_norm['Open_norm'].max() - test_data_norm['Open_norm'].min()))\n",
    "    test_data_norm['High_norm'] = test_data_norm['High_norm'].apply(lambda x: (x - test_data_norm['High_norm'].min()) / (test_data_norm['High_norm'].max() - test_data_norm['High_norm'].min()))\n",
    "    test_data_norm['Low_norm'] = test_data_norm['Low_norm'].apply(lambda x: (x - test_data_norm['Low_norm'].min()) / (test_data_norm['Low_norm'].max() - test_data_norm['Low_norm'].min()))\n",
    "    test_data_norm['Close_norm'] = test_data_norm['Close_norm'].apply(lambda x: (x - test_data_norm['Close_norm'].min()) / (test_data_norm['Close_norm'].max() - test_data_norm['Close_norm'].min()))\n",
    "    test_data_norm['Close'] = test_data_norm['Close'].apply(lambda x: (x - test_data_norm['Close'].min()) / (test_data_norm['Close'].max() - test_data_norm['Close'].min()))\n",
    "    test_data_norm['Volume_norm'] = test_data_norm['Volume_norm'].apply(lambda x: (x - test_data_norm['Volume_norm'].min()) / (test_data_norm['Volume_norm'].max() - test_data_norm['Volume_norm'].min()))\n",
    "    test_data_norm['High-Open_norm'] = test_data_norm['High-Open_norm'].apply(lambda x: (x - test_data_norm['High-Open_norm'].min()) / (test_data_norm['High-Open_norm'].max() - test_data_norm['High-Open_norm'].min()))\n",
    "    test_data_norm['Low-Open_norm'] = test_data_norm['Low-Open_norm'].apply(lambda x: (x - test_data_norm['Low-Open_norm'].min()) / (test_data_norm['Low-Open_norm'].max() - test_data_norm['Low-Open_norm'].min()))\n",
    "    test_data_norm['Close-Open_norm'] = test_data_norm['Close-Open_norm'].apply(lambda x: (x - test_data_norm['Close-Open_norm'].min()) / (test_data_norm['Close-Open_norm'].max() - test_data_norm['Close-Open_norm'].min()))\n",
    "\n",
    "    # Remove the first and the last row, becuase of NAN values\n",
    "    test_data_raw = test_data_raw.iloc[1:-1]\n",
    "    test_data_norm = test_data_norm.iloc[1:-1]\n",
    "\n",
    "    test_data_raw.to_csv(EXPORT_DATA_FOLDER+symbol+'test_raw_data.csv', index=True)\n",
    "    test_data_norm.to_csv(EXPORT_DATA_FOLDER+symbol+'test_norm_data.csv', index=True)\n",
    "    \n",
    "    test_data_final = pd.concat([test_data_final, test_data_norm])\n",
    "\n"
   ]
  },
  {
   "cell_type": "code",
   "execution_count": 9,
   "id": "044f2161",
   "metadata": {
    "id": "044f2161"
   },
   "outputs": [
    {
     "data": {
      "text/plain": [
       "[<matplotlib.lines.Line2D at 0x7f96e1fc8d90>]"
      ]
     },
     "execution_count": 9,
     "metadata": {},
     "output_type": "execute_result"
    },
    {
     "data": {
      "image/png": "[encoded data removed]",
      "text/plain": [
       "<Figure size 640x480 with 1 Axes>"
      ]
     },
     "metadata": {},
     "output_type": "display_data"
    }
   ],
   "source": [
    "# train_data_raw\n",
    "# train_data_final\n",
    "plt.plot(train_data_raw['Open'])\n",
    "plt.plot(test_data_raw['Open'])\n",
    "# plt.plot(train_data_final['Close_norm'])\n",
    "# plt.plot(test_data_final['Close_norm'])"
   ]
  },
  {
   "cell_type": "code",
   "execution_count": 10,
   "id": "153cf18f",
   "metadata": {},
   "outputs": [
    {
     "data": {
      "text/plain": [
       "688"
      ]
     },
     "execution_count": 10,
     "metadata": {},
     "output_type": "execute_result"
    }
   ],
   "source": [
    "len(train_data_raw)"
   ]
  },
  {
   "cell_type": "markdown",
   "id": "9ac476c4",
   "metadata": {
    "id": "9ac476c4"
   },
   "source": [
    "## TODO"
   ]
  },
  {
   "cell_type": "code",
   "execution_count": null,
   "id": "01cc7891",
   "metadata": {
    "id": "01cc7891"
   },
   "outputs": [],
   "source": [
    "'''\n",
    "(2023-06-05)\n",
    "cuda support check\n",
    "//read textual data into correct shape\n",
    "hyperparam tuning: number of neurons: tune to right number of neurons in FC in model\n",
    "//max_text_per_iter -> code in dataloader to maintain the size\n",
    "\n",
    "(2023-06-07)\n",
    "cuda check\n",
    "roberta encoder fix\n",
    "multi label - how to create target label?\n",
    "\n",
    "'''"
   ]
  },
  {
   "cell_type": "markdown",
   "id": "0f1b8731",
   "metadata": {
    "id": "0f1b8731"
   },
   "source": [
    "## Prep textual data"
   ]
  },
  {
   "cell_type": "markdown",
   "id": "SXhjZ2x4UuT2",
   "metadata": {
    "id": "SXhjZ2x4UuT2"
   },
   "source": [
    "### Crawl textual news data from internet"
   ]
  },
  {
   "cell_type": "code",
   "execution_count": null,
   "id": "4oOXAgDCUuz_",
   "metadata": {
    "id": "4oOXAgDCUuz_"
   },
   "outputs": [],
   "source": [
    "# Import libraries\n",
    "from bs4 import BeautifulSoup\n",
    "from urllib.request import urlopen\n",
    "from urllib.request import Request\n",
    "from nltk.sentiment.vader import SentimentIntensityAnalyzer\n",
    "\n",
    "# Parameters\n",
    "n = 3 #the # of article headlines displayed per ticker\n",
    "tickers = ['AAPL', 'TSLA', 'AMZN']\n",
    "\n",
    "\n",
    "\n",
    "# Get Data\n",
    "finviz_url = 'https://finviz.com/quote.ashx?t='\n",
    "news_tables = {}\n",
    "\n",
    "for ticker in tickers:\n",
    "    url = finviz_url + ticker\n",
    "    req = Request(url=url,\n",
    "                  headers={'user-agent': 'Mozilla/5.0',\n",
    "                                   'referer': 'https://...'})\n",
    "    resp = urlopen(req)\n",
    "    html = BeautifulSoup(resp, features=\"lxml\")\n",
    "    news_table = html.find(id='news-table')\n",
    "    news_tables[ticker] = news_table\n",
    "\n",
    "try:\n",
    "    for ticker in tickers:\n",
    "        df = news_tables[ticker]\n",
    "        df_tr = df.findAll('tr')\n",
    "\n",
    "        print ('\\n')\n",
    "        print ('Recent News Headlines for {}: '.format(ticker))\n",
    "\n",
    "        for i, table_row in enumerate(df_tr):\n",
    "            a_text = table_row.a.text\n",
    "            td_text = table_row.td.text\n",
    "            td_text = td_text.strip()\n",
    "            print(a_text,'(',td_text,')')\n",
    "            if i == n-1:\n",
    "                break\n",
    "except KeyError:\n",
    "    pass\n",
    "\n",
    "\n",
    "# Iterate through the news\n",
    "parsed_news = []\n",
    "for file_name, news_table in news_tables.items():\n",
    "    for x in news_table.findAll('tr'):\n",
    "        text = x.a.get_text()\n",
    "        date_scrape = x.td.text.split()\n",
    "\n",
    "        if len(date_scrape) == 1:\n",
    "            time = date_scrape[0]\n",
    "\n",
    "        else:\n",
    "            date = date_scrape[0]\n",
    "            time = date_scrape[1]\n",
    "\n",
    "        ticker = file_name.split('_')[0]\n",
    "\n",
    "        parsed_news.append([ticker, date, time, text])\n",
    "\n"
   ]
  },
  {
   "cell_type": "markdown",
   "id": "yjXll-U6U1fV",
   "metadata": {
    "id": "yjXll-U6U1fV"
   },
   "source": [
    "### Read downloaded data from saved files"
   ]
  },
  {
   "cell_type": "code",
   "execution_count": null,
   "id": "4t4-Er1hFOh7",
   "metadata": {
    "id": "4t4-Er1hFOh7"
   },
   "outputs": [],
   "source": []
  },
  {
   "cell_type": "code",
   "execution_count": 11,
   "id": "a8a06ae3",
   "metadata": {
    "id": "a8a06ae3",
    "scrolled": true
   },
   "outputs": [],
   "source": [
    "text_data_df = pd.read_csv('./data/XOM_20200401_20230401_medium (1).csv',\n",
    "                           sep= ',',\n",
    "                           header= 0,\n",
    "                           engine='python',\n",
    "                           on_bad_lines = 'skip')\n",
    "text_data_df = text_data_df[['Date', 'News']]\n",
    "\n",
    "\n",
    "text_data_df = text_data_df.groupby('Date')['News'].apply('$$$###'.join)\n",
    "\n",
    "text_data_df.index = pd.to_datetime(text_data_df.index, dayfirst=True)\n",
    "# text_data_df\n"
   ]
  },
  {
   "cell_type": "code",
   "execution_count": 12,
   "id": "3155ea81",
   "metadata": {
    "id": "3155ea81"
   },
   "outputs": [
    {
     "name": "stdout",
     "output_type": "stream",
     "text": [
      "2020-01-07 00:00:00\n",
      "2022-09-28 00:00:00\n",
      "2022-10-04 00:00:00\n",
      "2022-12-30 00:00:00\n"
     ]
    }
   ],
   "source": [
    "all_train_df = train_data_final.join(text_data_df, how = 'left')\n",
    "all_test_df = test_data_final.join(text_data_df, how = 'left')\n",
    "\n",
    "print(all_train_df.index.min())\n",
    "print(all_train_df.index.max())\n",
    "print(all_test_df.index.min())\n",
    "print(all_test_df.index.max())"
   ]
  },
  {
   "cell_type": "code",
   "execution_count": 13,
   "id": "2WWhDJkjpOYV",
   "metadata": {
    "id": "2WWhDJkjpOYV"
   },
   "outputs": [
    {
     "data": {
      "text/plain": [
       "array([[<Axes: title={'center': 'Open_norm'}>,\n",
       "        <Axes: title={'center': 'High_norm'}>,\n",
       "        <Axes: title={'center': 'Low_norm'}>],\n",
       "       [<Axes: title={'center': 'Close_norm'}>,\n",
       "        <Axes: title={'center': 'Close'}>,\n",
       "        <Axes: title={'center': 'Volume_norm'}>],\n",
       "       [<Axes: title={'center': 'High-Open_norm'}>,\n",
       "        <Axes: title={'center': 'Low-Open_norm'}>,\n",
       "        <Axes: title={'center': 'Close-Open_norm'}>],\n",
       "       [<Axes: title={'center': 'Label_2up1down'}>, <Axes: >, <Axes: >]],\n",
       "      dtype=object)"
      ]
     },
     "execution_count": 13,
     "metadata": {},
     "output_type": "execute_result"
    },
    {
     "data": {
      "image/png": "[encoded data removed]",
      "text/plain": [
       "<Figure size 640x480 with 12 Axes>"
      ]
     },
     "metadata": {},
     "output_type": "display_data"
    }
   ],
   "source": [
    "# check class imbalance\n",
    "# train_data_norm.describe()\n",
    "train_data_final.hist()"
   ]
  },
  {
   "cell_type": "code",
   "execution_count": 14,
   "id": "ffc356b1",
   "metadata": {},
   "outputs": [
    {
     "data": {
      "text/html": [
       "<div>\n",
       "<style scoped>\n",
       "    .dataframe tbody tr th:only-of-type {\n",
       "        vertical-align: middle;\n",
       "    }\n",
       "\n",
       "    .dataframe tbody tr th {\n",
       "        vertical-align: top;\n",
       "    }\n",
       "\n",
       "    .dataframe thead th {\n",
       "        text-align: right;\n",
       "    }\n",
       "</style>\n",
       "<table border=\"1\" class=\"dataframe\">\n",
       "  <thead>\n",
       "    <tr style=\"text-align: right;\">\n",
       "      <th></th>\n",
       "      <th>Open_norm</th>\n",
       "      <th>High_norm</th>\n",
       "      <th>Low_norm</th>\n",
       "      <th>Close_norm</th>\n",
       "      <th>Close</th>\n",
       "      <th>Volume_norm</th>\n",
       "      <th>High-Open_norm</th>\n",
       "      <th>Low-Open_norm</th>\n",
       "      <th>Close-Open_norm</th>\n",
       "      <th>Label_2up1down</th>\n",
       "      <th>News</th>\n",
       "    </tr>\n",
       "    <tr>\n",
       "      <th>Date</th>\n",
       "      <th></th>\n",
       "      <th></th>\n",
       "      <th></th>\n",
       "      <th></th>\n",
       "      <th></th>\n",
       "      <th></th>\n",
       "      <th></th>\n",
       "      <th></th>\n",
       "      <th></th>\n",
       "      <th></th>\n",
       "      <th></th>\n",
       "    </tr>\n",
       "  </thead>\n",
       "  <tbody>\n",
       "    <tr>\n",
       "      <th>2020-01-07</th>\n",
       "      <td>0.542314</td>\n",
       "      <td>0.521109</td>\n",
       "      <td>0.540689</td>\n",
       "      <td>0.457875</td>\n",
       "      <td>0.531036</td>\n",
       "      <td>0.122365</td>\n",
       "      <td>0.002804</td>\n",
       "      <td>0.887856</td>\n",
       "      <td>0.429114</td>\n",
       "      <td>1</td>\n",
       "      <td>NaN</td>\n",
       "    </tr>\n",
       "    <tr>\n",
       "      <th>2020-01-08</th>\n",
       "      <td>0.536903</td>\n",
       "      <td>0.517967</td>\n",
       "      <td>0.536023</td>\n",
       "      <td>0.430191</td>\n",
       "      <td>0.516544</td>\n",
       "      <td>0.092914</td>\n",
       "      <td>0.025379</td>\n",
       "      <td>0.892927</td>\n",
       "      <td>0.366102</td>\n",
       "      <td>0</td>\n",
       "      <td>NaN</td>\n",
       "    </tr>\n",
       "    <tr>\n",
       "      <th>2020-01-09</th>\n",
       "      <td>0.523446</td>\n",
       "      <td>0.512638</td>\n",
       "      <td>0.528613</td>\n",
       "      <td>0.521458</td>\n",
       "      <td>0.523790</td>\n",
       "      <td>0.088649</td>\n",
       "      <td>0.108659</td>\n",
       "      <td>0.941092</td>\n",
       "      <td>0.507747</td>\n",
       "      <td>0</td>\n",
       "      <td>NaN</td>\n",
       "    </tr>\n",
       "    <tr>\n",
       "      <th>2020-01-10</th>\n",
       "      <td>0.534406</td>\n",
       "      <td>0.513458</td>\n",
       "      <td>0.535337</td>\n",
       "      <td>0.455050</td>\n",
       "      <td>0.515313</td>\n",
       "      <td>0.051788</td>\n",
       "      <td>0.004241</td>\n",
       "      <td>0.907498</td>\n",
       "      <td>0.374360</td>\n",
       "      <td>0</td>\n",
       "      <td>NaN</td>\n",
       "    </tr>\n",
       "    <tr>\n",
       "      <th>2020-01-13</th>\n",
       "      <td>0.524279</td>\n",
       "      <td>0.512228</td>\n",
       "      <td>0.535200</td>\n",
       "      <td>0.529046</td>\n",
       "      <td>0.524337</td>\n",
       "      <td>0.025064</td>\n",
       "      <td>0.095709</td>\n",
       "      <td>0.989614</td>\n",
       "      <td>0.505794</td>\n",
       "      <td>0</td>\n",
       "      <td>NaN</td>\n",
       "    </tr>\n",
       "    <tr>\n",
       "      <th>...</th>\n",
       "      <td>...</td>\n",
       "      <td>...</td>\n",
       "      <td>...</td>\n",
       "      <td>...</td>\n",
       "      <td>...</td>\n",
       "      <td>...</td>\n",
       "      <td>...</td>\n",
       "      <td>...</td>\n",
       "      <td>...</td>\n",
       "      <td>...</td>\n",
       "      <td>...</td>\n",
       "    </tr>\n",
       "    <tr>\n",
       "      <th>2022-09-22</th>\n",
       "      <td>0.843368</td>\n",
       "      <td>0.823610</td>\n",
       "      <td>0.829010</td>\n",
       "      <td>0.473955</td>\n",
       "      <td>0.808313</td>\n",
       "      <td>0.106026</td>\n",
       "      <td>0.049319</td>\n",
       "      <td>0.854484</td>\n",
       "      <td>0.332352</td>\n",
       "      <td>1</td>\n",
       "      <td>Exxon Mobil shuts Fos-Sur-Mer refinery in Fran...</td>\n",
       "    </tr>\n",
       "    <tr>\n",
       "      <th>2022-09-23</th>\n",
       "      <td>0.778163</td>\n",
       "      <td>0.753108</td>\n",
       "      <td>0.751201</td>\n",
       "      <td>0.277097</td>\n",
       "      <td>0.742412</td>\n",
       "      <td>0.257849</td>\n",
       "      <td>0.000000</td>\n",
       "      <td>0.758137</td>\n",
       "      <td>0.317074</td>\n",
       "      <td>1</td>\n",
       "      <td>Global Brake Fluid Market Research Report 2022...</td>\n",
       "    </tr>\n",
       "    <tr>\n",
       "      <th>2022-09-26</th>\n",
       "      <td>0.742092</td>\n",
       "      <td>0.735620</td>\n",
       "      <td>0.738027</td>\n",
       "      <td>0.407868</td>\n",
       "      <td>0.718212</td>\n",
       "      <td>0.183303</td>\n",
       "      <td>0.153690</td>\n",
       "      <td>0.904995</td>\n",
       "      <td>0.377393</td>\n",
       "      <td>2</td>\n",
       "      <td>Chevron Halting Production At Two Offshore Pla...</td>\n",
       "    </tr>\n",
       "    <tr>\n",
       "      <th>2022-09-27</th>\n",
       "      <td>0.751942</td>\n",
       "      <td>0.745730</td>\n",
       "      <td>0.750652</td>\n",
       "      <td>0.574854</td>\n",
       "      <td>0.742275</td>\n",
       "      <td>0.121312</td>\n",
       "      <td>0.155879</td>\n",
       "      <td>0.925373</td>\n",
       "      <td>0.458716</td>\n",
       "      <td>2</td>\n",
       "      <td>Kumul Bids for 5% Santos Stake in PNG LNG Sant...</td>\n",
       "    </tr>\n",
       "    <tr>\n",
       "      <th>2022-09-28</th>\n",
       "      <td>0.759018</td>\n",
       "      <td>0.777702</td>\n",
       "      <td>0.765884</td>\n",
       "      <td>0.636800</td>\n",
       "      <td>0.784933</td>\n",
       "      <td>0.150579</td>\n",
       "      <td>0.365008</td>\n",
       "      <td>0.981453</td>\n",
       "      <td>0.658145</td>\n",
       "      <td>0</td>\n",
       "      <td>Carbon Capture, Utilization, and Storage Marke...</td>\n",
       "    </tr>\n",
       "  </tbody>\n",
       "</table>\n",
       "<p>688 rows × 11 columns</p>\n",
       "</div>"
      ],
      "text/plain": [
       "            Open_norm  High_norm  Low_norm  Close_norm     Close  Volume_norm  \\\n",
       "Date                                                                            \n",
       "2020-01-07   0.542314   0.521109  0.540689    0.457875  0.531036     0.122365   \n",
       "2020-01-08   0.536903   0.517967  0.536023    0.430191  0.516544     0.092914   \n",
       "2020-01-09   0.523446   0.512638  0.528613    0.521458  0.523790     0.088649   \n",
       "2020-01-10   0.534406   0.513458  0.535337    0.455050  0.515313     0.051788   \n",
       "2020-01-13   0.524279   0.512228  0.535200    0.529046  0.524337     0.025064   \n",
       "...               ...        ...       ...         ...       ...          ...   \n",
       "2022-09-22   0.843368   0.823610  0.829010    0.473955  0.808313     0.106026   \n",
       "2022-09-23   0.778163   0.753108  0.751201    0.277097  0.742412     0.257849   \n",
       "2022-09-26   0.742092   0.735620  0.738027    0.407868  0.718212     0.183303   \n",
       "2022-09-27   0.751942   0.745730  0.750652    0.574854  0.742275     0.121312   \n",
       "2022-09-28   0.759018   0.777702  0.765884    0.636800  0.784933     0.150579   \n",
       "\n",
       "            High-Open_norm  Low-Open_norm  Close-Open_norm  Label_2up1down  \\\n",
       "Date                                                                         \n",
       "2020-01-07        0.002804       0.887856         0.429114               1   \n",
       "2020-01-08        0.025379       0.892927         0.366102               0   \n",
       "2020-01-09        0.108659       0.941092         0.507747               0   \n",
       "2020-01-10        0.004241       0.907498         0.374360               0   \n",
       "2020-01-13        0.095709       0.989614         0.505794               0   \n",
       "...                    ...            ...              ...             ...   \n",
       "2022-09-22        0.049319       0.854484         0.332352               1   \n",
       "2022-09-23        0.000000       0.758137         0.317074               1   \n",
       "2022-09-26        0.153690       0.904995         0.377393               2   \n",
       "2022-09-27        0.155879       0.925373         0.458716               2   \n",
       "2022-09-28        0.365008       0.981453         0.658145               0   \n",
       "\n",
       "                                                         News  \n",
       "Date                                                           \n",
       "2020-01-07                                                NaN  \n",
       "2020-01-08                                                NaN  \n",
       "2020-01-09                                                NaN  \n",
       "2020-01-10                                                NaN  \n",
       "2020-01-13                                                NaN  \n",
       "...                                                       ...  \n",
       "2022-09-22  Exxon Mobil shuts Fos-Sur-Mer refinery in Fran...  \n",
       "2022-09-23  Global Brake Fluid Market Research Report 2022...  \n",
       "2022-09-26  Chevron Halting Production At Two Offshore Pla...  \n",
       "2022-09-27  Kumul Bids for 5% Santos Stake in PNG LNG Sant...  \n",
       "2022-09-28  Carbon Capture, Utilization, and Storage Marke...  \n",
       "\n",
       "[688 rows x 11 columns]"
      ]
     },
     "execution_count": 14,
     "metadata": {},
     "output_type": "execute_result"
    }
   ],
   "source": [
    "all_train_df"
   ]
  },
  {
   "cell_type": "code",
   "execution_count": 43,
   "id": "2c49d9a1",
   "metadata": {},
   "outputs": [
    {
     "data": {
      "text/plain": [
       "array([0.1392896946702041], dtype=object)"
      ]
     },
     "execution_count": 43,
     "metadata": {},
     "output_type": "execute_result"
    }
   ],
   "source": [
    "all_train[i-window_size: i, 0]\n",
    "all_train[i:i+no_of_days_to_lookforward, 0]"
   ]
  },
  {
   "cell_type": "markdown",
   "id": "nuUgt-MnU-aV",
   "metadata": {
    "id": "nuUgt-MnU-aV"
   },
   "source": [
    "### create windows and label\n",
    "### also split the text seq\n"
   ]
  },
  {
   "cell_type": "code",
   "execution_count": 44,
   "id": "56e91800",
   "metadata": {
    "id": "56e91800"
   },
   "outputs": [
    {
     "name": "stdout",
     "output_type": "stream",
     "text": [
      "<class 'numpy.ndarray'>\n",
      "<class 'numpy.ndarray'>\n",
      "678\n",
      "678\n",
      "678\n",
      "torch.Size([678, 10])\n",
      "678\n",
      "0\n"
     ]
    }
   ],
   "source": [
    "all_train = all_train_df.values\n",
    "\n",
    "window_size = no_of_days_to_lookback\n",
    "\n",
    "X_numerical_train = []\n",
    "y_train = []\n",
    "X_text_train = []\n",
    "X_text_train_curr = []\n",
    "\n",
    "\n",
    "\n",
    "\n",
    "\n",
    "for i in range(window_size, len(all_train) - no_of_days_to_lookforward + 1):\n",
    "    X_numerical_train.append(all_train[i-window_size: i, 0])# :-2])\n",
    "\n",
    "    # split and append sequence of text\n",
    "    curr_seq = all_train[i-window_size: i, -1]\n",
    "    for j in range(window_size):\n",
    "        if (curr_seq[window_size - 1 -j] is not np.NaN):\n",
    "            split_curr_seq = curr_seq[window_size - 1 -j].split('$$$###')\n",
    "        else:\n",
    "            split_curr_seq = []\n",
    "#         X_text_train_curr = X_text_train_curr + split_curr_seq\n",
    "#         else:\n",
    "            \n",
    "\n",
    "    if len(X_text_train_curr) > max_text_per_iter:\n",
    "        X_text_train_curr = X_text_train_curr[:max_text_per_iter]\n",
    "\n",
    "    X_text_train.append(X_text_train_curr)\n",
    "\n",
    "    # target labels\n",
    "    y_train.append(all_train[i:i+no_of_days_to_lookforward, 0])#-2])\n",
    "\n",
    "X_numerical_train, y_train = np.array(X_numerical_train).astype(np.float16), np.array(y_train).astype(np.float16)\n",
    "print(type(X_numerical_train))\n",
    "print(type(y_train))\n",
    "\n",
    "X_numerical_train = torch.from_numpy(X_numerical_train).type(torch.Tensor)\n",
    "y_train = torch.from_numpy(y_train).type(torch.Tensor)#.long()\n",
    "\n",
    "print(len(X_numerical_train))\n",
    "print(len(X_text_train))\n",
    "print(len(y_train))\n",
    "print(X_numerical_train.shape)\n",
    "\n",
    "print(len(X_text_train))\n",
    "print(len(X_text_train[2]))\n",
    "# print(X_text_train[2])"
   ]
  },
  {
   "cell_type": "code",
   "execution_count": 45,
   "id": "e404c5e2",
   "metadata": {
    "id": "e404c5e2"
   },
   "outputs": [
    {
     "name": "stdout",
     "output_type": "stream",
     "text": [
      "<class 'numpy.ndarray'>\n",
      "<class 'numpy.ndarray'>\n",
      "52\n",
      "52\n",
      "52\n",
      "torch.Size([52, 10])\n",
      "52\n",
      "20\n"
     ]
    }
   ],
   "source": [
    "all_test = all_test_df.values\n",
    "\n",
    "\n",
    "X_numerical_test = []\n",
    "y_test = []\n",
    "X_text_test = []\n",
    "X_text_test_curr = []\n",
    "\n",
    "for i in range(window_size, len(all_test) - no_of_days_to_lookforward + 1):\n",
    "    X_numerical_test.append(all_test[i-window_size: i, 0])#:-2])\n",
    "\n",
    "    # split and append sequence of text (in reverse order to add the latest news first)\n",
    "    curr_seq = all_test[i-window_size: i, -1]\n",
    "    for j in range(window_size):\n",
    "        if (curr_seq[window_size - 1 -j] is not np.NaN):\n",
    "            split_curr_seq = curr_seq[window_size - 1 -j].split('$$$###')\n",
    "        else:\n",
    "            split_curr_seq = []\n",
    "            \n",
    "#         split_curr_seq = curr_seq[window_size - 1 -j].split('$$$###')\n",
    "        X_text_test_curr = X_text_test_curr + split_curr_seq\n",
    "\n",
    "    if len(X_text_test_curr) > max_text_per_iter:\n",
    "        X_text_test_curr = X_text_test_curr[:max_text_per_iter]\n",
    "\n",
    "    X_text_test.append(X_text_test_curr)\n",
    "\n",
    "    # target labels\n",
    "    y_test.append(all_test[i:i+no_of_days_to_lookforward, 0])#-2])\n",
    "\n",
    "X_numerical_test, y_test = np.array(X_numerical_test).astype(np.float16), np.array(y_test).astype(np.float16)\n",
    "print(type(X_numerical_test))\n",
    "print(type(y_test))\n",
    "\n",
    "X_numerical_test = torch.from_numpy(X_numerical_test).type(torch.Tensor)\n",
    "y_test = torch.from_numpy(y_test).type(torch.Tensor)#.long()\n",
    "\n",
    "print(len(X_numerical_test))\n",
    "print(len(X_text_test))\n",
    "print(len(y_test))\n",
    "print(X_numerical_test.shape)\n",
    "\n",
    "print(len(X_text_test))\n",
    "print(len(X_text_test[2]))\n",
    "# print(X_text_test[2])"
   ]
  },
  {
   "cell_type": "code",
   "execution_count": 46,
   "id": "dcd7fcba",
   "metadata": {
    "collapsed": true
   },
   "outputs": [
    {
     "data": {
      "text/plain": [
       "tensor([[0.5015],\n",
       "        [0.4897],\n",
       "        [0.4873],\n",
       "        [0.4719],\n",
       "        [0.4675],\n",
       "        [0.4663],\n",
       "        [0.4490],\n",
       "        [0.4409],\n",
       "        [0.4158],\n",
       "        [0.4167],\n",
       "        [0.4070],\n",
       "        [0.4373],\n",
       "        [0.4163],\n",
       "        [0.4033],\n",
       "        [0.4048],\n",
       "        [0.4153],\n",
       "        [0.4114],\n",
       "        [0.4126],\n",
       "        [0.3987],\n",
       "        [0.3982],\n",
       "        [0.3999],\n",
       "        [0.3899],\n",
       "        [0.3635],\n",
       "        [0.3516],\n",
       "        [0.3210],\n",
       "        [0.2817],\n",
       "        [0.2408],\n",
       "        [0.2939],\n",
       "        [0.3127],\n",
       "        [0.2888],\n",
       "        [0.2637],\n",
       "        [0.2418],\n",
       "        [0.1429],\n",
       "        [0.2047],\n",
       "        [0.1523],\n",
       "        [0.1178],\n",
       "        [0.1193],\n",
       "        [0.0415],\n",
       "        [0.0527],\n",
       "        [0.0435],\n",
       "        [0.0322],\n",
       "        [0.0476],\n",
       "        [0.0155],\n",
       "        [0.0417],\n",
       "        [0.0707],\n",
       "        [0.0845],\n",
       "        [0.0793],\n",
       "        [0.0669],\n",
       "        [0.0961],\n",
       "        [0.0756],\n",
       "        [0.1017],\n",
       "        [0.1393],\n",
       "        [0.1175],\n",
       "        [0.1594],\n",
       "        [0.1462],\n",
       "        [0.1949],\n",
       "        [0.1809],\n",
       "        [0.1608],\n",
       "        [0.1331],\n",
       "        [0.1259],\n",
       "        [0.1175],\n",
       "        [0.1296],\n",
       "        [0.1247],\n",
       "        [0.1553],\n",
       "        [0.1626],\n",
       "        [0.1802],\n",
       "        [0.1689],\n",
       "        [0.1798],\n",
       "        [0.2061],\n",
       "        [0.2257],\n",
       "        [0.1973],\n",
       "        [0.1541],\n",
       "        [0.2061],\n",
       "        [0.1876],\n",
       "        [0.1880],\n",
       "        [0.1929],\n",
       "        [0.2040],\n",
       "        [0.1943],\n",
       "        [0.1710],\n",
       "        [0.1340],\n",
       "        [0.1522],\n",
       "        [0.1802],\n",
       "        [0.1962],\n",
       "        [0.1832],\n",
       "        [0.1947],\n",
       "        [0.1754],\n",
       "        [0.1989],\n",
       "        [0.2115],\n",
       "        [0.2084],\n",
       "        [0.1860],\n",
       "        [0.1930],\n",
       "        [0.2144],\n",
       "        [0.2301],\n",
       "        [0.2423],\n",
       "        [0.2808],\n",
       "        [0.3235],\n",
       "        [0.2979],\n",
       "        [0.3064],\n",
       "        [0.2236],\n",
       "        [0.2307],\n",
       "        [0.1934],\n",
       "        [0.2520],\n",
       "        [0.2301],\n",
       "        [0.2040],\n",
       "        [0.2332],\n",
       "        [0.1981],\n",
       "        [0.2148],\n",
       "        [0.2012],\n",
       "        [0.1754],\n",
       "        [0.1869],\n",
       "        [0.1720],\n",
       "        [0.1667],\n",
       "        [0.1815],\n",
       "        [0.1832],\n",
       "        [0.1840],\n",
       "        [0.1733],\n",
       "        [0.1628],\n",
       "        [0.1594],\n",
       "        [0.1348],\n",
       "        [0.1605],\n",
       "        [0.1543],\n",
       "        [0.1890],\n",
       "        [0.1790],\n",
       "        [0.1792],\n",
       "        [0.1637],\n",
       "        [0.1628],\n",
       "        [0.1768],\n",
       "        [0.1664],\n",
       "        [0.1730],\n",
       "        [0.1639],\n",
       "        [0.1735],\n",
       "        [0.1707],\n",
       "        [0.1626],\n",
       "        [0.1353],\n",
       "        [0.1476],\n",
       "        [0.1516],\n",
       "        [0.1768],\n",
       "        [0.1664],\n",
       "        [0.1639],\n",
       "        [0.1746],\n",
       "        [0.1954],\n",
       "        [0.1810],\n",
       "        [0.1677],\n",
       "        [0.1553],\n",
       "        [0.1632],\n",
       "        [0.1552],\n",
       "        [0.1517],\n",
       "        [0.1426],\n",
       "        [0.1372],\n",
       "        [0.1370],\n",
       "        [0.1422],\n",
       "        [0.1281],\n",
       "        [0.1192],\n",
       "        [0.1169],\n",
       "        [0.1281],\n",
       "        [0.1157],\n",
       "        [0.1085],\n",
       "        [0.1081],\n",
       "        [0.1117],\n",
       "        [0.0949],\n",
       "        [0.0963],\n",
       "        [0.0952],\n",
       "        [0.0793],\n",
       "        [0.0763],\n",
       "        [0.0748],\n",
       "        [0.0701],\n",
       "        [0.0824],\n",
       "        [0.0849],\n",
       "        [0.0696],\n",
       "        [0.0701],\n",
       "        [0.0588],\n",
       "        [0.0415],\n",
       "        [0.0359],\n",
       "        [0.0518],\n",
       "        [0.0498],\n",
       "        [0.0448],\n",
       "        [0.0330],\n",
       "        [0.0117],\n",
       "        [0.0265],\n",
       "        [0.0376],\n",
       "        [0.0309],\n",
       "        [0.0343],\n",
       "        [0.0592],\n",
       "        [0.0434],\n",
       "        [0.0461],\n",
       "        [0.0368],\n",
       "        [0.0318],\n",
       "        [0.0411],\n",
       "        [0.0373],\n",
       "        [0.0312],\n",
       "        [0.0291],\n",
       "        [0.0246],\n",
       "        [0.0494],\n",
       "        [0.0305],\n",
       "        [0.0241],\n",
       "        [0.0096],\n",
       "        [0.0000],\n",
       "        [0.0139],\n",
       "        [0.0240],\n",
       "        [0.0427],\n",
       "        [0.0258],\n",
       "        [0.0272],\n",
       "        [0.0235],\n",
       "        [0.0695],\n",
       "        [0.0782],\n",
       "        [0.0788],\n",
       "        [0.0617],\n",
       "        [0.0554],\n",
       "        [0.0858],\n",
       "        [0.0888],\n",
       "        [0.1056],\n",
       "        [0.0756],\n",
       "        [0.0824],\n",
       "        [0.0845],\n",
       "        [0.1262],\n",
       "        [0.1423],\n",
       "        [0.1289],\n",
       "        [0.1164],\n",
       "        [0.1047],\n",
       "        [0.0969],\n",
       "        [0.1201],\n",
       "        [0.1299],\n",
       "        [0.1389],\n",
       "        [0.1266],\n",
       "        [0.1567],\n",
       "        [0.1636],\n",
       "        [0.1705],\n",
       "        [0.1794],\n",
       "        [0.1531],\n",
       "        [0.1711],\n",
       "        [0.1747],\n",
       "        [0.1646],\n",
       "        [0.1345],\n",
       "        [0.1411],\n",
       "        [0.1401],\n",
       "        [0.1421],\n",
       "        [0.1426],\n",
       "        [0.1475],\n",
       "        [0.1376],\n",
       "        [0.1395],\n",
       "        [0.1393],\n",
       "        [0.1447],\n",
       "        [0.1803],\n",
       "        [0.1886],\n",
       "        [0.1913],\n",
       "        [0.1891],\n",
       "        [0.2227],\n",
       "        [0.2375],\n",
       "        [0.2371],\n",
       "        [0.2428],\n",
       "        [0.2365],\n",
       "        [0.2456],\n",
       "        [0.2487],\n",
       "        [0.2164],\n",
       "        [0.2148],\n",
       "        [0.2198],\n",
       "        [0.1886],\n",
       "        [0.2015],\n",
       "        [0.1962],\n",
       "        [0.1965],\n",
       "        [0.1998],\n",
       "        [0.1973],\n",
       "        [0.2285],\n",
       "        [0.2466],\n",
       "        [0.2708],\n",
       "        [0.2671],\n",
       "        [0.2666],\n",
       "        [0.2703],\n",
       "        [0.2500],\n",
       "        [0.2852],\n",
       "        [0.2905],\n",
       "        [0.2969],\n",
       "        [0.2871],\n",
       "        [0.2939],\n",
       "        [0.3269],\n",
       "        [0.3298],\n",
       "        [0.3547],\n",
       "        [0.3191],\n",
       "        [0.3477],\n",
       "        [0.3501],\n",
       "        [0.3469],\n",
       "        [0.3567],\n",
       "        [0.3943],\n",
       "        [0.4185],\n",
       "        [0.4050],\n",
       "        [0.4038],\n",
       "        [0.4214],\n",
       "        [0.4182],\n",
       "        [0.4172],\n",
       "        [0.3904],\n",
       "        [0.3784],\n",
       "        [0.3801],\n",
       "        [0.3511],\n",
       "        [0.3481],\n",
       "        [0.3264],\n",
       "        [0.3423],\n",
       "        [0.3301],\n",
       "        [0.3591],\n",
       "        [0.3596],\n",
       "        [0.3530],\n",
       "        [0.3459],\n",
       "        [0.3457],\n",
       "        [0.3591],\n",
       "        [0.3528],\n",
       "        [0.3467],\n",
       "        [0.3401],\n",
       "        [0.3411],\n",
       "        [0.3518],\n",
       "        [0.3315],\n",
       "        [0.3469],\n",
       "        [0.3608],\n",
       "        [0.3601],\n",
       "        [0.3516],\n",
       "        [0.3477],\n",
       "        [0.3203],\n",
       "        [0.3411],\n",
       "        [0.3311],\n",
       "        [0.3337],\n",
       "        [0.3413],\n",
       "        [0.3538],\n",
       "        [0.3816],\n",
       "        [0.3735],\n",
       "        [0.3687],\n",
       "        [0.3828],\n",
       "        [0.3936],\n",
       "        [0.4087],\n",
       "        [0.4114],\n",
       "        [0.4417],\n",
       "        [0.4192],\n",
       "        [0.3967],\n",
       "        [0.3828],\n",
       "        [0.3958],\n",
       "        [0.4041],\n",
       "        [0.4243],\n",
       "        [0.3843],\n",
       "        [0.3821],\n",
       "        [0.3887],\n",
       "        [0.3838],\n",
       "        [0.3896],\n",
       "        [0.3723],\n",
       "        [0.3860],\n",
       "        [0.3789],\n",
       "        [0.3889],\n",
       "        [0.4070],\n",
       "        [0.4043],\n",
       "        [0.4170],\n",
       "        [0.4150],\n",
       "        [0.4175],\n",
       "        [0.4336],\n",
       "        [0.4468],\n",
       "        [0.4385],\n",
       "        [0.4285],\n",
       "        [0.4312],\n",
       "        [0.4565],\n",
       "        [0.4502],\n",
       "        [0.4104],\n",
       "        [0.4094],\n",
       "        [0.4363],\n",
       "        [0.4529],\n",
       "        [0.4541],\n",
       "        [0.4607],\n",
       "        [0.4600],\n",
       "        [0.4412],\n",
       "        [0.4341],\n",
       "        [0.4568],\n",
       "        [0.4385],\n",
       "        [0.4348],\n",
       "        [0.4131],\n",
       "        [0.3889],\n",
       "        [0.4062],\n",
       "        [0.4026],\n",
       "        [0.4104],\n",
       "        [0.4128],\n",
       "        [0.3850],\n",
       "        [0.3853],\n",
       "        [0.3362],\n",
       "        [0.3342],\n",
       "        [0.3530],\n",
       "        [0.3652],\n",
       "        [0.3591],\n",
       "        [0.3572],\n",
       "        [0.3691],\n",
       "        [0.3689],\n",
       "        [0.3828],\n",
       "        [0.3811],\n",
       "        [0.3625],\n",
       "        [0.3630],\n",
       "        [0.3577],\n",
       "        [0.3569],\n",
       "        [0.3643],\n",
       "        [0.3569],\n",
       "        [0.3608],\n",
       "        [0.3716],\n",
       "        [0.3606],\n",
       "        [0.3555],\n",
       "        [0.3413],\n",
       "        [0.3342],\n",
       "        [0.3330],\n",
       "        [0.3062],\n",
       "        [0.2893],\n",
       "        [0.3127],\n",
       "        [0.3313],\n",
       "        [0.3306],\n",
       "        [0.3301],\n",
       "        [0.3328],\n",
       "        [0.3445],\n",
       "        [0.3264],\n",
       "        [0.3203],\n",
       "        [0.3174],\n",
       "        [0.3289],\n",
       "        [0.3228],\n",
       "        [0.3245],\n",
       "        [0.3081],\n",
       "        [0.3298],\n",
       "        [0.3225],\n",
       "        [0.3369],\n",
       "        [0.3325],\n",
       "        [0.3474],\n",
       "        [0.3320],\n",
       "        [0.3103],\n",
       "        [0.3186],\n",
       "        [0.3193],\n",
       "        [0.3330],\n",
       "        [0.3508],\n",
       "        [0.3806],\n",
       "        [0.3953],\n",
       "        [0.3945],\n",
       "        [0.3982],\n",
       "        [0.3884],\n",
       "        [0.4150],\n",
       "        [0.4316],\n",
       "        [0.4031],\n",
       "        [0.4050],\n",
       "        [0.4141],\n",
       "        [0.4387],\n",
       "        [0.4185],\n",
       "        [0.4075],\n",
       "        [0.4204],\n",
       "        [0.4346],\n",
       "        [0.4395],\n",
       "        [0.4365],\n",
       "        [0.4368],\n",
       "        [0.4448],\n",
       "        [0.4351],\n",
       "        [0.4482],\n",
       "        [0.4590],\n",
       "        [0.4683],\n",
       "        [0.4497],\n",
       "        [0.4668],\n",
       "        [0.4670],\n",
       "        [0.4663],\n",
       "        [0.4526],\n",
       "        [0.4617],\n",
       "        [0.4668],\n",
       "        [0.4736],\n",
       "        [0.4768],\n",
       "        [0.4705],\n",
       "        [0.4548],\n",
       "        [0.4517],\n",
       "        [0.4487],\n",
       "        [0.4568],\n",
       "        [0.4575],\n",
       "        [0.4543],\n",
       "        [0.4229],\n",
       "        [0.4011],\n",
       "        [0.4270],\n",
       "        [0.4324],\n",
       "        [0.4038],\n",
       "        [0.4324],\n",
       "        [0.4031],\n",
       "        [0.4092],\n",
       "        [0.3931],\n",
       "        [0.4233],\n",
       "        [0.4204],\n",
       "        [0.4292],\n",
       "        [0.4329],\n",
       "        [0.4250],\n",
       "        [0.4419],\n",
       "        [0.4309],\n",
       "        [0.4141],\n",
       "        [0.4131],\n",
       "        [0.4165],\n",
       "        [0.4099],\n",
       "        [0.3799],\n",
       "        [0.3931],\n",
       "        [0.4014],\n",
       "        [0.4128],\n",
       "        [0.4094],\n",
       "        [0.4231],\n",
       "        [0.4172],\n",
       "        [0.4136],\n",
       "        [0.4070],\n",
       "        [0.4138],\n",
       "        [0.4539],\n",
       "        [0.4868],\n",
       "        [0.5078],\n",
       "        [0.5146],\n",
       "        [0.5210],\n",
       "        [0.5200],\n",
       "        [0.5513],\n",
       "        [0.5508],\n",
       "        [0.5444],\n",
       "        [0.5747],\n",
       "        [0.5874],\n",
       "        [0.5698],\n",
       "        [0.5796],\n",
       "        [0.5474],\n",
       "        [0.5713],\n",
       "        [0.6108],\n",
       "        [0.6113],\n",
       "        [0.6045],\n",
       "        [0.6045],\n",
       "        [0.6250],\n",
       "        [0.6748],\n",
       "        [0.6753],\n",
       "        [0.6860],\n",
       "        [0.6899],\n",
       "        [0.7056],\n",
       "        [0.6685],\n",
       "        [0.6562],\n",
       "        [0.6548],\n",
       "        [0.6685],\n",
       "        [0.6313],\n",
       "        [0.6572],\n",
       "        [0.6528],\n",
       "        [0.6348],\n",
       "        [0.6694],\n",
       "        [0.6250],\n",
       "        [0.6602],\n",
       "        [0.6284],\n",
       "        [0.6255],\n",
       "        [0.6572],\n",
       "        [0.6826],\n",
       "        [0.6724],\n",
       "        [0.6885],\n",
       "        [0.7422],\n",
       "        [0.7998],\n",
       "        [0.7300],\n",
       "        [0.7300],\n",
       "        [0.7305],\n",
       "        [0.7168],\n",
       "        [0.6577],\n",
       "        [0.6436],\n",
       "        [0.6489],\n",
       "        [0.6611],\n",
       "        [0.6758],\n",
       "        [0.6968],\n",
       "        [0.7202],\n",
       "        [0.7222],\n",
       "        [0.7148],\n",
       "        [0.7183],\n",
       "        [0.6855],\n",
       "        [0.7168],\n",
       "        [0.7139],\n",
       "        [0.7017],\n",
       "        [0.7236],\n",
       "        [0.7227],\n",
       "        [0.7217],\n",
       "        [0.7271],\n",
       "        [0.7456],\n",
       "        [0.7544],\n",
       "        [0.7534],\n",
       "        [0.7656],\n",
       "        [0.7666],\n",
       "        [0.7920],\n",
       "        [0.7852],\n",
       "        [0.7847],\n",
       "        [0.7983],\n",
       "        [0.7666],\n",
       "        [0.7070],\n",
       "        [0.7119],\n",
       "        [0.7212],\n",
       "        [0.7417],\n",
       "        [0.7871],\n",
       "        [0.7437],\n",
       "        [0.7607],\n",
       "        [0.8062],\n",
       "        [0.8413],\n",
       "        [0.8267],\n",
       "        [0.8052],\n",
       "        [0.7524],\n",
       "        [0.7632],\n",
       "        [0.7568],\n",
       "        [0.7764],\n",
       "        [0.7988],\n",
       "        [0.8369],\n",
       "        [0.8477],\n",
       "        [0.7988],\n",
       "        [0.8398],\n",
       "        [0.8496],\n",
       "        [0.8521],\n",
       "        [0.8765],\n",
       "        [0.9043],\n",
       "        [0.8955],\n",
       "        [0.9316],\n",
       "        [0.9102],\n",
       "        [0.9141],\n",
       "        [0.9224],\n",
       "        [0.9404],\n",
       "        [0.9473],\n",
       "        [1.0000],\n",
       "        [0.9990],\n",
       "        [0.9785],\n",
       "        [0.9170],\n",
       "        [0.9155],\n",
       "        [0.8960],\n",
       "        [0.8462],\n",
       "        [0.8262],\n",
       "        [0.7930],\n",
       "        [0.7788],\n",
       "        [0.7944],\n",
       "        [0.7705],\n",
       "        [0.7822],\n",
       "        [0.8286],\n",
       "        [0.8540],\n",
       "        [0.7593],\n",
       "        [0.7676],\n",
       "        [0.7622],\n",
       "        [0.7261],\n",
       "        [0.7485],\n",
       "        [0.7705],\n",
       "        [0.7456],\n",
       "        [0.7266],\n",
       "        [0.7212],\n",
       "        [0.6997],\n",
       "        [0.7407],\n",
       "        [0.7656],\n",
       "        [0.7632],\n",
       "        [0.7793],\n",
       "        [0.7700],\n",
       "        [0.7788],\n",
       "        [0.7871],\n",
       "        [0.8286],\n",
       "        [0.8169],\n",
       "        [0.8433],\n",
       "        [0.8745],\n",
       "        [0.8794],\n",
       "        [0.8779],\n",
       "        [0.8740],\n",
       "        [0.8174],\n",
       "        [0.7622],\n",
       "        [0.7935],\n",
       "        [0.8135],\n",
       "        [0.8223],\n",
       "        [0.8384],\n",
       "        [0.8472],\n",
       "        [0.8203],\n",
       "        [0.8408],\n",
       "        [0.8306],\n",
       "        [0.8564],\n",
       "        [0.8706],\n",
       "        [0.8604],\n",
       "        [0.8896],\n",
       "        [0.9238],\n",
       "        [0.9365],\n",
       "        [0.9346],\n",
       "        [0.9263],\n",
       "        [0.9287],\n",
       "        [0.8687],\n",
       "        [0.8740],\n",
       "        [0.9009],\n",
       "        [0.8984],\n",
       "        [0.8569],\n",
       "        [0.8774],\n",
       "        [0.9033],\n",
       "        [0.9189],\n",
       "        [0.9048],\n",
       "        [0.8989],\n",
       "        [0.8989],\n",
       "        [0.8833],\n",
       "        [0.8267],\n",
       "        [0.8506],\n",
       "        [0.8623],\n",
       "        [0.8433],\n",
       "        [0.7783],\n",
       "        [0.7422],\n",
       "        [0.7520],\n",
       "        [0.7588]])"
      ]
     },
     "execution_count": 46,
     "metadata": {},
     "output_type": "execute_result"
    }
   ],
   "source": [
    "y_train"
   ]
  },
  {
   "cell_type": "markdown",
   "id": "b5b453b0",
   "metadata": {
    "id": "b5b453b0"
   },
   "source": [
    "## Data loader"
   ]
  },
  {
   "cell_type": "code",
   "execution_count": 47,
   "id": "dc5998e6",
   "metadata": {
    "id": "dc5998e6"
   },
   "outputs": [],
   "source": [
    "from torch.utils.data import Dataset\n",
    "from torch.utils.data import DataLoader\n",
    "\n",
    "tokenizer = RobertaTokenizer.from_pretrained('roberta-large', truncation=True, do_lower_case=True)\n",
    "\n",
    "class SiameseDataloader(Dataset):\n",
    "\n",
    "    def __init__(self, X_numerical_train, y_train, X_text_train, MAX_LEN, tokenizer):\n",
    "        self.X_numerical_train = X_numerical_train\n",
    "        self.X_text_train = X_text_train\n",
    "        self.MAX_LEN = MAX_LEN\n",
    "        self.tokenizer = tokenizer\n",
    "\n",
    "    def __getitem__(self, index):\n",
    "\n",
    "\n",
    "        input_ids = []\n",
    "        attention_masks = []\n",
    "        token_type_ids = []\n",
    "        input_seq = []\n",
    "\n",
    "        for sent in X_text_train[index]:\n",
    "            encoded_sent = self.tokenizer.encode_plus(\n",
    "                text=sent,\n",
    "                add_special_tokens=True,        # Add `[CLS]` and `[SEP]` special tokens\n",
    "                max_length=self.MAX_LEN,             # Choose max length to truncate/pad\n",
    "                pad_to_max_length=True,         # Pad sentence to max length\n",
    "                #return_attention_mask=True      # Return attention mask\n",
    "                return_token_type_ids=True\n",
    "                )\n",
    "            input_ids.append(encoded_sent.get('input_ids'))\n",
    "            attention_masks.append(encoded_sent.get('attention_mask'))\n",
    "            token_type_ids.append(encoded_sent.get('token_type_ids'))\n",
    "\n",
    "        # Convert lists to tensors\n",
    "        input_ids = torch.tensor(input_ids)\n",
    "        attention_masks = torch.tensor(attention_masks)\n",
    "        token_type_ids = torch.tensor(token_type_ids)\n",
    "\n",
    "\n",
    "        return {\n",
    "            'x_numerical': X_numerical_train[index],\n",
    "            'ids': torch.tensor(input_ids, dtype=torch.long),\n",
    "            'mask': torch.tensor(attention_masks, dtype=torch.long),\n",
    "            'token_type_ids': torch.tensor(token_type_ids, dtype=torch.long),\n",
    "            'targets': torch.tensor(y_train[index])#, dtype=torch.long)\n",
    "        }\n",
    "\n",
    "\n",
    "\n",
    "\n",
    "\n",
    "    def __len__(self):\n",
    "        return len(self.X_numerical_train)"
   ]
  },
  {
   "cell_type": "code",
   "execution_count": 48,
   "id": "28f5fe04",
   "metadata": {
    "id": "28f5fe04"
   },
   "outputs": [],
   "source": [
    "train_set = SiameseDataloader(X_numerical_train, y_train, X_text_train, MAX_LEN, tokenizer)\n",
    "train_loader = DataLoader(train_set, batch_size=batch_size, shuffle=False)\n",
    "\n",
    "\n",
    "test_set = SiameseDataloader(X_numerical_test, y_test, X_text_test, MAX_LEN, tokenizer)\n",
    "test_loader = DataLoader(test_set, batch_size=batch_size, shuffle=False)\n"
   ]
  },
  {
   "cell_type": "code",
   "execution_count": 49,
   "id": "f256f7d0",
   "metadata": {},
   "outputs": [
    {
     "name": "stderr",
     "output_type": "stream",
     "text": [
      "0it [00:00, ?it/s]/tmp/ipykernel_11411/2984344807.py:43: UserWarning: To copy construct from a tensor, it is recommended to use sourceTensor.clone().detach() or sourceTensor.clone().detach().requires_grad_(True), rather than torch.tensor(sourceTensor).\n",
      "  'ids': torch.tensor(input_ids, dtype=torch.long),\n",
      "/tmp/ipykernel_11411/2984344807.py:44: UserWarning: To copy construct from a tensor, it is recommended to use sourceTensor.clone().detach() or sourceTensor.clone().detach().requires_grad_(True), rather than torch.tensor(sourceTensor).\n",
      "  'mask': torch.tensor(attention_masks, dtype=torch.long),\n",
      "/tmp/ipykernel_11411/2984344807.py:45: UserWarning: To copy construct from a tensor, it is recommended to use sourceTensor.clone().detach() or sourceTensor.clone().detach().requires_grad_(True), rather than torch.tensor(sourceTensor).\n",
      "  'token_type_ids': torch.tensor(token_type_ids, dtype=torch.long),\n",
      "/tmp/ipykernel_11411/2984344807.py:46: UserWarning: To copy construct from a tensor, it is recommended to use sourceTensor.clone().detach() or sourceTensor.clone().detach().requires_grad_(True), rather than torch.tensor(sourceTensor).\n",
      "  'targets': torch.tensor(y_train[index])#, dtype=torch.long)\n",
      "2it [00:00, 234.68it/s]"
     ]
    },
    {
     "name": "stdout",
     "output_type": "stream",
     "text": [
      "{'x_numerical': tensor([[0.5425, 0.5371, 0.5234, 0.5342, 0.5244, 0.5269, 0.5244, 0.5259, 0.5181,\n",
      "         0.5127],\n",
      "        [0.5371, 0.5234, 0.5342, 0.5244, 0.5269, 0.5244, 0.5259, 0.5181, 0.5127,\n",
      "         0.5015],\n",
      "        [0.5234, 0.5342, 0.5244, 0.5269, 0.5244, 0.5259, 0.5181, 0.5127, 0.5015,\n",
      "         0.4897],\n",
      "        [0.5342, 0.5244, 0.5269, 0.5244, 0.5259, 0.5181, 0.5127, 0.5015, 0.4897,\n",
      "         0.4873],\n",
      "        [0.5244, 0.5269, 0.5244, 0.5259, 0.5181, 0.5127, 0.5015, 0.4897, 0.4873,\n",
      "         0.4719],\n",
      "        [0.5269, 0.5244, 0.5259, 0.5181, 0.5127, 0.5015, 0.4897, 0.4873, 0.4719,\n",
      "         0.4675],\n",
      "        [0.5244, 0.5259, 0.5181, 0.5127, 0.5015, 0.4897, 0.4873, 0.4719, 0.4675,\n",
      "         0.4663],\n",
      "        [0.5259, 0.5181, 0.5127, 0.5015, 0.4897, 0.4873, 0.4719, 0.4675, 0.4663,\n",
      "         0.4490],\n",
      "        [0.5181, 0.5127, 0.5015, 0.4897, 0.4873, 0.4719, 0.4675, 0.4663, 0.4490,\n",
      "         0.4409],\n",
      "        [0.5127, 0.5015, 0.4897, 0.4873, 0.4719, 0.4675, 0.4663, 0.4490, 0.4409,\n",
      "         0.4158],\n",
      "        [0.5015, 0.4897, 0.4873, 0.4719, 0.4675, 0.4663, 0.4490, 0.4409, 0.4158,\n",
      "         0.4167],\n",
      "        [0.4897, 0.4873, 0.4719, 0.4675, 0.4663, 0.4490, 0.4409, 0.4158, 0.4167,\n",
      "         0.4070],\n",
      "        [0.4873, 0.4719, 0.4675, 0.4663, 0.4490, 0.4409, 0.4158, 0.4167, 0.4070,\n",
      "         0.4373],\n",
      "        [0.4719, 0.4675, 0.4663, 0.4490, 0.4409, 0.4158, 0.4167, 0.4070, 0.4373,\n",
      "         0.4163],\n",
      "        [0.4675, 0.4663, 0.4490, 0.4409, 0.4158, 0.4167, 0.4070, 0.4373, 0.4163,\n",
      "         0.4033],\n",
      "        [0.4663, 0.4490, 0.4409, 0.4158, 0.4167, 0.4070, 0.4373, 0.4163, 0.4033,\n",
      "         0.4048]]), 'ids': tensor([], size=(16, 0), dtype=torch.int64), 'mask': tensor([], size=(16, 0), dtype=torch.int64), 'token_type_ids': tensor([], size=(16, 0), dtype=torch.int64), 'targets': tensor([[0.5015],\n",
      "        [0.4897],\n",
      "        [0.4873],\n",
      "        [0.4719],\n",
      "        [0.4675],\n",
      "        [0.4663],\n",
      "        [0.4490],\n",
      "        [0.4409],\n",
      "        [0.4158],\n",
      "        [0.4167],\n",
      "        [0.4070],\n",
      "        [0.4373],\n",
      "        [0.4163],\n",
      "        [0.4033],\n",
      "        [0.4048],\n",
      "        [0.4153]])}\n",
      "{'x_numerical': tensor([[0.4490, 0.4409, 0.4158, 0.4167, 0.4070, 0.4373, 0.4163, 0.4033, 0.4048,\n",
      "         0.4153],\n",
      "        [0.4409, 0.4158, 0.4167, 0.4070, 0.4373, 0.4163, 0.4033, 0.4048, 0.4153,\n",
      "         0.4114],\n",
      "        [0.4158, 0.4167, 0.4070, 0.4373, 0.4163, 0.4033, 0.4048, 0.4153, 0.4114,\n",
      "         0.4126],\n",
      "        [0.4167, 0.4070, 0.4373, 0.4163, 0.4033, 0.4048, 0.4153, 0.4114, 0.4126,\n",
      "         0.3987],\n",
      "        [0.4070, 0.4373, 0.4163, 0.4033, 0.4048, 0.4153, 0.4114, 0.4126, 0.3987,\n",
      "         0.3982],\n",
      "        [0.4373, 0.4163, 0.4033, 0.4048, 0.4153, 0.4114, 0.4126, 0.3987, 0.3982,\n",
      "         0.3999],\n",
      "        [0.4163, 0.4033, 0.4048, 0.4153, 0.4114, 0.4126, 0.3987, 0.3982, 0.3999,\n",
      "         0.3899],\n",
      "        [0.4033, 0.4048, 0.4153, 0.4114, 0.4126, 0.3987, 0.3982, 0.3999, 0.3899,\n",
      "         0.3635],\n",
      "        [0.4048, 0.4153, 0.4114, 0.4126, 0.3987, 0.3982, 0.3999, 0.3899, 0.3635,\n",
      "         0.3516],\n",
      "        [0.4153, 0.4114, 0.4126, 0.3987, 0.3982, 0.3999, 0.3899, 0.3635, 0.3516,\n",
      "         0.3210],\n",
      "        [0.4114, 0.4126, 0.3987, 0.3982, 0.3999, 0.3899, 0.3635, 0.3516, 0.3210,\n",
      "         0.2817],\n",
      "        [0.4126, 0.3987, 0.3982, 0.3999, 0.3899, 0.3635, 0.3516, 0.3210, 0.2817,\n",
      "         0.2408],\n",
      "        [0.3987, 0.3982, 0.3999, 0.3899, 0.3635, 0.3516, 0.3210, 0.2817, 0.2408,\n",
      "         0.2939],\n",
      "        [0.3982, 0.3999, 0.3899, 0.3635, 0.3516, 0.3210, 0.2817, 0.2408, 0.2939,\n",
      "         0.3127],\n",
      "        [0.3999, 0.3899, 0.3635, 0.3516, 0.3210, 0.2817, 0.2408, 0.2939, 0.3127,\n",
      "         0.2888],\n",
      "        [0.3899, 0.3635, 0.3516, 0.3210, 0.2817, 0.2408, 0.2939, 0.3127, 0.2888,\n",
      "         0.2637]]), 'ids': tensor([], size=(16, 0), dtype=torch.int64), 'mask': tensor([], size=(16, 0), dtype=torch.int64), 'token_type_ids': tensor([], size=(16, 0), dtype=torch.int64), 'targets': tensor([[0.4114],\n",
      "        [0.4126],\n",
      "        [0.3987],\n",
      "        [0.3982],\n",
      "        [0.3999],\n",
      "        [0.3899],\n",
      "        [0.3635],\n",
      "        [0.3516],\n",
      "        [0.3210],\n",
      "        [0.2817],\n",
      "        [0.2408],\n",
      "        [0.2939],\n",
      "        [0.3127],\n",
      "        [0.2888],\n",
      "        [0.2637],\n",
      "        [0.2418]])}\n"
     ]
    },
    {
     "name": "stderr",
     "output_type": "stream",
     "text": [
      "\n"
     ]
    }
   ],
   "source": [
    "for idx, data in tqdm(enumerate(train_loader, 0)):\n",
    "    if idx > 1:\n",
    "        break\n",
    "    print(data)"
   ]
  },
  {
   "cell_type": "markdown",
   "id": "bcf87d32",
   "metadata": {
    "id": "bcf87d32"
   },
   "source": [
    "## Build model\n"
   ]
  },
  {
   "cell_type": "markdown",
   "id": "mfKG9WSMQ74y",
   "metadata": {
    "id": "mfKG9WSMQ74y"
   },
   "source": [
    "### lstm1, lstm2, roberta, concat, lrelu\n"
   ]
  },
  {
   "cell_type": "code",
   "execution_count": null,
   "id": "KJUOPHMMRVK2",
   "metadata": {
    "id": "KJUOPHMMRVK2"
   },
   "outputs": [],
   "source": [
    "import torch.nn as nn\n",
    "\n",
    "class SiameseModel11(nn.Module):\n",
    "    def __init__(self, input_dim1, input_dim2,\n",
    "                 hidden_dim1, hidden_dim2, hidden_dim3, hidden_dim4,\n",
    "                 num_layers1, num_layers2, output_dim1, output_dim2):\n",
    "        super(SiameseModel11, self).__init__()\n",
    "        self.input_dim1 = input_dim1\n",
    "        self.input_dim2 = input_dim2\n",
    "        self.hidden_dim1 = hidden_dim1\n",
    "        self.hidden_dim2 = hidden_dim2\n",
    "        self.hidden_dim3 = hidden_dim3\n",
    "        self.hidden_dim4 = hidden_dim4\n",
    "        self.num_layers1 = num_layers1\n",
    "        self.num_layers2 = num_layers2\n",
    "        self.output_dim1 = output_dim1\n",
    "        self.output_dim2 = output_dim2\n",
    "\n",
    "        self.roberta = RobertaModel.from_pretrained(\"roberta-large\").to(device)\n",
    "\n",
    "        self.lstm1 = nn.LSTM(input_dim1, hidden_dim1, num_layers1, batch_first=True)\n",
    "        self.lstm2 = nn.LSTM(input_dim2, hidden_dim2, num_layers2, batch_first=True)\n",
    "\n",
    "        self.fc1 = nn.Linear(hidden_dim1, output_dim1)\n",
    "        self.fc2 = nn.Linear(hidden_dim2, output_dim2)\n",
    "        self.fc3 = nn.Linear(output_dim1+output_dim2, hidden_dim3)\n",
    "        self.fc4 = nn.Linear(hidden_dim3, 3)\n",
    "#         self.fc5 = nn.Linear(hidden_dim4, 3)\n",
    "        self.lrelu = nn.LeakyReLU(0.1)\n",
    "\n",
    "\n",
    "\n",
    "    def forward(self, x1, ids, masks, token_type_ids):\n",
    "        #left tower with numerical features\n",
    "        h_10 = Variable(torch.zeros(self.num_layers1, x1.size(0), self.hidden_dim1)).to(device)\n",
    "        c_10 = Variable(torch.zeros(self.num_layers1, x1.size(0), self.hidden_dim1)).to(device)\n",
    "        ula1, (h_out1, _) = self.lstm1(x1, (h_10, c_10))\n",
    "        h_out1 = h_out1.view(-1, self.hidden_dim1)\n",
    "        out1 = self.fc1(h_out1)\n",
    "\n",
    "\n",
    "        # right tower with roberta on textual features\n",
    "        batch_size_here = ids.shape[0]\n",
    "        e2 = torch.zeros(batch_size_here, max_text_per_iter,1024).to(device)\n",
    "\n",
    "        for k in range(ids.shape[1]):\n",
    "            seq_ids = ids[:,k,:]\n",
    "            seq_masks = masks[:,k,:]\n",
    "            seq_token_type_ids = token_type_ids[:,k,:]\n",
    "\n",
    "            e2k = self.roberta(input_ids= seq_ids, attention_mask=seq_masks, token_type_ids=seq_token_type_ids)\n",
    "            # first 0 is for last_hidden_state: https://huggingface.co/docs/transformers/main/en/model_doc/roberta#transformers.RobertaModel.forward.returns:~:text=transformers.modeling_outputs.-,BaseModelOutputWithPoolingAndCrossAttentions%20or%20tuple(torch.FloatTensor),-A%20transformers.modeling_outputs\n",
    "            # the shape of e2k[0] is (batch_size, sequence_length (<=MAX_LEN), hidden_size (=1024))\n",
    "            e2k1 = e2k[0][:, 0, :]\n",
    "            e2[:,k,:] = e2k1\n",
    "\n",
    "\n",
    "        print(e2.shape)\n",
    "        h_20 = Variable(torch.zeros(self.num_layers2, e2.size(0), self.hidden_dim2)).to(device)\n",
    "        c_20 = Variable(torch.zeros(self.num_layers2, e2.size(0), self.hidden_dim2)).to(device)\n",
    "        ula2, (h_out2, _) = self.lstm2(e2, (h_20, c_20))\n",
    "        h_out2 = h_out2.view(-1, self.hidden_dim2)\n",
    "        out2 = self.fc2(h_out2)\n",
    "\n",
    "        # siamese merging layers\n",
    "        output = torch.cat((out1, out2),1)\n",
    "        output = self.lrelu(self.fc3(output))\n",
    "        output = self.fc4(output)\n",
    "\n",
    "\n",
    "        return output\n"
   ]
  },
  {
   "cell_type": "markdown",
   "id": "vMwCdhg6Qtzj",
   "metadata": {
    "id": "vMwCdhg6Qtzj"
   },
   "source": [
    "### fcn1, fcn2, roberta, concat, lrelu"
   ]
  },
  {
   "cell_type": "code",
   "execution_count": null,
   "id": "s8ktZOz3QykD",
   "metadata": {
    "id": "s8ktZOz3QykD"
   },
   "outputs": [],
   "source": [
    "import torch.nn as nn\n",
    "\n",
    "class SiameseModel11_fcn(nn.Module):\n",
    "    def __init__(self, input_dim1, input_dim2,\n",
    "                 hidden_dim1, hidden_dim2, hidden_dim3, hidden_dim4, hidden_dim5, hidden_dim6):\n",
    "        super(SiameseModel11_fcn, self).__init__()\n",
    "        self.input_dim1 = input_dim1\n",
    "        self.input_dim2 = input_dim2\n",
    "        self.hidden_dim1 = hidden_dim1\n",
    "        self.hidden_dim2 = hidden_dim2\n",
    "        self.hidden_dim3 = hidden_dim3\n",
    "        self.hidden_dim4 = hidden_dim4\n",
    "        self.hidden_dim5 = hidden_dim5\n",
    "        self.hidden_dim6 = hidden_dim6\n",
    "\n",
    "\n",
    "        self.roberta = RobertaModel.from_pretrained(\"roberta-large\").to(device)\n",
    "\n",
    "\n",
    "        self.fc11 = nn.Linear(input_dim1, hidden_dim1)\n",
    "        self.fc12 = nn.Linear(hidden_dim1, hidden_dim2)\n",
    "\n",
    "        self.fc21 = nn.Linear(input_dim2, hidden_dim3)\n",
    "        self.fc22 = nn.Linear(hidden_dim3, hidden_dim4)\n",
    "\n",
    "        self.fc31 = nn.Linear(hidden_dim2+hidden_dim4, hidden_dim5)\n",
    "        self.fc32 = nn.Linear(hidden_dim5, hidden_dim6)\n",
    "        self.fc33 = nn.Linear(hidden_dim6, 3)\n",
    "        self.lrelu = nn.LeakyReLU(0.1)\n",
    "\n",
    "\n",
    "\n",
    "    def forward(self, x1, ids, masks, token_type_ids):\n",
    "        #left tower with numerical features\n",
    "\n",
    "        batch_size, seq_len, embedding_size = x1.size()\n",
    "        x1 = torch.reshape(x1, (batch_size, seq_len*embedding_size))\n",
    "\n",
    "        out1 = self.fc11(x1)\n",
    "        print('out1 shape:', out1.shape)\n",
    "\n",
    "        out1 = self.fc12(out1)\n",
    "        print('out1 shape:', out1.shape)\n",
    "\n",
    "        # right tower with roberta on textual features\n",
    "        batch_size_here = ids.shape[0]\n",
    "        e2 = torch.zeros(batch_size_here, max_text_per_iter,1024).to(device)\n",
    "\n",
    "        for k in range(ids.shape[1]):\n",
    "            seq_ids = ids[:,k,:]\n",
    "            seq_masks = masks[:,k,:]\n",
    "            seq_token_type_ids = token_type_ids[:,k,:]\n",
    "\n",
    "            e2k = self.roberta(input_ids= seq_ids, attention_mask=seq_masks, token_type_ids=seq_token_type_ids)\n",
    "            # first 0 is for last_hidden_state: https://huggingface.co/docs/transformers/main/en/model_doc/roberta#transformers.RobertaModel.forward.returns:~:text=transformers.modeling_outputs.-,BaseModelOutputWithPoolingAndCrossAttentions%20or%20tuple(torch.FloatTensor),-A%20transformers.modeling_outputs\n",
    "            # the shape of e2k[0] is (batch_size, sequence_length (<=MAX_LEN), hidden_size (=1024))\n",
    "            e2k1 = e2k[0][:, 0, :]\n",
    "            e2[:,k,:] = e2k1\n",
    "\n",
    "        print(e2.shape)\n",
    "        batch_size, seq_len, embedding_size = e2.size()\n",
    "        e2 = torch.reshape(e2, (batch_size, seq_len*embedding_size))\n",
    "        print(e2.shape)\n",
    "\n",
    "        out2 = self.fc21(e2)\n",
    "        print('out2 shape:', out2.shape)\n",
    "        out2 = self.fc22(out2)\n",
    "        print('out2 shape:', out2.shape)\n",
    "\n",
    "\n",
    "        # siamese merging layers\n",
    "        output = torch.cat((out1, out2),1)\n",
    "        output = self.lrelu(self.fc31(output))\n",
    "        output = self.lrelu(self.fc32(output))\n",
    "        output = self.fc33(output)\n",
    "        return output\n"
   ]
  },
  {
   "cell_type": "markdown",
   "id": "maQVSQvVR6CP",
   "metadata": {
    "id": "maQVSQvVR6CP"
   },
   "source": [
    "### lstm1, mlp, relu"
   ]
  },
  {
   "cell_type": "code",
   "execution_count": null,
   "id": "Yc1ZHghiRKPr",
   "metadata": {
    "id": "Yc1ZHghiRKPr"
   },
   "outputs": [],
   "source": [
    "import torch.nn as nn\n",
    "\n",
    "class SiameseModel10(nn.Module):\n",
    "    def __init__(self, input_dim1, input_dim2,\n",
    "                 hidden_dim1, hidden_dim2, hidden_dim3, hidden_dim4,\n",
    "                 num_layers1, num_layers2, output_dim1, output_dim2):\n",
    "        super(SiameseModel10, self).__init__()\n",
    "        self.input_dim1 = input_dim1\n",
    "        self.input_dim2 = input_dim2\n",
    "        self.hidden_dim1 = hidden_dim1\n",
    "        self.hidden_dim2 = hidden_dim2\n",
    "        self.hidden_dim3 = hidden_dim3\n",
    "        self.hidden_dim4 = hidden_dim4\n",
    "        self.num_layers1 = num_layers1\n",
    "        self.num_layers2 = num_layers2\n",
    "        self.output_dim1 = output_dim1\n",
    "        self.output_dim2 = output_dim2\n",
    "\n",
    "\n",
    "        self.lstm1 = nn.LSTM(input_dim1, hidden_dim1, num_layers1, batch_first=True)\n",
    "\n",
    "        self.fc1 = nn.Linear(hidden_dim1, output_dim1)\n",
    "        self.fc3 = nn.Linear(output_dim1, hidden_dim3)\n",
    "        self.fc4 = nn.Linear(hidden_dim3, hidden_dim4)\n",
    "        self.fc5 = nn.Linear(hidden_dim4, 3)\n",
    "\n",
    "\n",
    "\n",
    "    def forward(self, x1, ids, masks, token_type_ids):\n",
    "        #left tower with numerical features\n",
    "        h_10 = Variable(torch.zeros(self.num_layers1, x1.size(0), self.hidden_dim1)).to(device)\n",
    "        c_10 = Variable(torch.zeros(self.num_layers1, x1.size(0), self.hidden_dim1)).to(device)\n",
    "        ula1, (h_out1, _) = self.lstm1(x1, (h_10, c_10))\n",
    "        h_out1 = h_out1.view(-1, self.hidden_dim1)\n",
    "        out1 = self.fc1(h_out1)\n",
    "\n",
    "\n",
    "        # mlp layers\n",
    "        output = out1\n",
    "        output = F.relu(self.fc3(output))\n",
    "        output = F.relu(self.fc4(output))\n",
    "        output = self.fc5(output)\n",
    "        return output\n"
   ]
  },
  {
   "cell_type": "markdown",
   "id": "dcRte1yrTlYo",
   "metadata": {
    "id": "dcRte1yrTlYo"
   },
   "source": [
    "### lstm1, mlp, lrelu"
   ]
  },
  {
   "cell_type": "code",
   "execution_count": 50,
   "id": "7Sm6o_cITpaX",
   "metadata": {
    "id": "7Sm6o_cITpaX"
   },
   "outputs": [],
   "source": [
    "import torch.nn as nn\n",
    "\n",
    "class SiameseModel10leaky(nn.Module):\n",
    "    def __init__(self, input_dim1,\n",
    "                 hidden_dim1, hidden_dim3, hidden_dim4,\n",
    "                 num_layers1, output_dim1):\n",
    "        super(SiameseModel10leaky, self).__init__()\n",
    "        self.input_dim1 = input_dim1\n",
    "        self.hidden_dim1 = hidden_dim1\n",
    "        self.hidden_dim3 = hidden_dim3\n",
    "        self.hidden_dim4 = hidden_dim4\n",
    "        self.num_layers1 = num_layers1\n",
    "        self.output_dim1 = output_dim1\n",
    "\n",
    "\n",
    "        self.lstm1 = nn.LSTM(input_dim1, hidden_dim1, num_layers1, batch_first=True)\n",
    "\n",
    "        self.fc1 = nn.Linear(hidden_dim1, output_dim1)\n",
    "        self.fc3 = nn.Linear(output_dim1, hidden_dim3)\n",
    "        # self.fc4 = nn.Linear(hidden_dim3, hidden_dim4)\n",
    "        self.fc5 = nn.Linear(hidden_dim3, 1)\n",
    "        self.lrelu = nn.LeakyReLU(0.1)\n",
    "\n",
    "\n",
    "\n",
    "    def forward(self, x1, ids, masks, token_type_ids):\n",
    "        #left tower with numerical features\n",
    "        h_10 = Variable(torch.zeros(self.num_layers1, x1.size(0), self.hidden_dim1)).to(device)\n",
    "        c_10 = Variable(torch.zeros(self.num_layers1, x1.size(0), self.hidden_dim1)).to(device)\n",
    "        if (x1.dim() == 2):\n",
    "            x1 = torch.unsqueeze(x1, 2)\n",
    "        ula1, (h_out1, _) = self.lstm1(x1, (h_10, c_10))\n",
    "        h_out1 = h_out1.view(-1, self.hidden_dim1)\n",
    "        out1 = self.fc1(h_out1)\n",
    "\n",
    "\n",
    "        # mlp layers\n",
    "        output = out1\n",
    "        output = self.lrelu(self.fc3(output))\n",
    "        # output = self.lrelu(self.fc4(output))\n",
    "        output = self.fc5(output)\n",
    "        return output\n"
   ]
  },
  {
   "cell_type": "markdown",
   "id": "Vo098_3sU_Hk",
   "metadata": {
    "id": "Vo098_3sU_Hk"
   },
   "source": [
    "### tranformer, mlp, relu\n"
   ]
  },
  {
   "cell_type": "code",
   "execution_count": 21,
   "id": "e4e33819",
   "metadata": {
    "id": "e4e33819"
   },
   "outputs": [],
   "source": [
    "import torch.nn as nn\n",
    "class PositionalEncoding(nn.Module):\n",
    "    def __init__(self, d_model, max_len=MAX_LEN):\n",
    "        super(PositionalEncoding, self).__init__()\n",
    "        pe = torch.zeros(max_len, d_model)\n",
    "        position = torch.arange(0, max_len, dtype=torch.float).unsqueeze(1)\n",
    "        div_term = torch.exp(torch.arange(0, d_model, 2).float() * (-math.log(10000.0) / d_model))\n",
    "        pe[:, 0::2] = torch.sin(position * div_term)\n",
    "        pe[:, 1::2] = torch.cos(position * div_term)\n",
    "        pe = pe.unsqueeze(0).transpose(0, 1)\n",
    "        #pe.requires_grad = False\n",
    "        self.register_buffer('pe', pe)\n",
    "    def forward(self, x):\n",
    "        return x + self.pe[:x.size(0), :]\n",
    "\n",
    "\n",
    "class SiameseModel20(nn.Module):\n",
    "    def __init__(self, input_dim1,\n",
    "                 hidden_dim1, hidden_dim2, hidden_dim3, hidden_dim4,\n",
    "                 num_layers1,  output_dim1,\n",
    "                 nhead, d_transformer, dropout=0.2 ):\n",
    "        super(SiameseModel20, self).__init__()\n",
    "\n",
    "        self.input_dim1 = input_dim1\n",
    "        self.hidden_dim1 = hidden_dim1\n",
    "        self.hidden_dim2 = hidden_dim2\n",
    "        self.hidden_dim3 = hidden_dim3\n",
    "        self.hidden_dim4 = hidden_dim4\n",
    "        self.num_layers1 = num_layers1\n",
    "        self.output_dim1 = output_dim1\n",
    "        self.lrelu = nn.LeakyReLU(0.1)\n",
    "\n",
    "        self.input_embedding  = nn.Linear(input_dim1, d_transformer)\n",
    "        self.src_mask = None\n",
    "        self.pos_encoder = PositionalEncoding(d_model=d_transformer)\n",
    "        self.encoder_layer = nn.TransformerEncoderLayer(d_model=d_transformer,\n",
    "                                                        nhead=nhead,\n",
    "                                                        dropout=dropout,\n",
    "                                                        batch_first=True,\n",
    "                                                        dim_feedforward = 24)\n",
    "        self.transformer_encoder = nn.TransformerEncoder(self.encoder_layer, num_layers=num_layers1)\n",
    "\n",
    "\n",
    "        # self.lstm1 = nn.LSTM(input_dim1, hidden_dim1, num_layers1, batch_first=True)\n",
    "\n",
    "\n",
    "        self.fc1 = nn.Linear(5*d_transformer, output_dim1)\n",
    "        self.fc3 = nn.Linear(output_dim1, hidden_dim3)\n",
    "        self.fc4 = nn.Linear(hidden_dim3, hidden_dim4)\n",
    "        self.fc5 = nn.Linear(hidden_dim4, 3)\n",
    "        self.init_weights()\n",
    "\n",
    "    def init_weights(self):\n",
    "        initrange = 0.1\n",
    "        self.fc1.bias.data.zero_()\n",
    "        self.fc1.weight.data.uniform_(-initrange, initrange)\n",
    "\n",
    "\n",
    "\n",
    "\n",
    "\n",
    "\n",
    "\n",
    "\n",
    "\n",
    "    def _generate_square_subsequent_mask(self, sz):\n",
    "        mask = (torch.triu(torch.ones(sz, sz)) == 1).transpose(0, 1)\n",
    "        mask = mask.float().masked_fill(mask == 0, float('-inf')).masked_fill(mask == 1, float(0.0))\n",
    "        return mask\n",
    "\n",
    "    def forward(self, x1, ids, masks, token_type_ids):\n",
    "        #left tower with numerical features\n",
    "        # h_10 = Variable(torch.zeros(self.num_layers1, x1.size(0), self.hidden_dim1)).to(device)\n",
    "        # c_10 = Variable(torch.zeros(self.num_layers1, x1.size(0), self.hidden_dim1)).to(device)\n",
    "        # ula1, (h_out1, _) = self.lstm1(x1, (h_10, c_10))\n",
    "        # h_out1 = h_out1.view(-1, self.hidden_dim1)\n",
    "        # out1 = self.fc1(h_out1)\n",
    "\n",
    "        #transformer encoder\n",
    "        if self.src_mask is None or self.src_mask.size(0) != len(x1):\n",
    "            device = x1.device\n",
    "            mask = self._generate_square_subsequent_mask(len(x1)).to(device)\n",
    "            self.src_mask = mask\n",
    "\n",
    "        x1 = self.input_embedding(x1) # linear transformation before positional embedding\n",
    "\n",
    "        x1 = self.pos_encoder(x1)\n",
    "        output = self.transformer_encoder(x1, self.src_mask)#, self.src_mask)\n",
    "        output = torch.flatten(output, start_dim=1)\n",
    "        # output = output.view(-1, self.hidden_dim1)\n",
    "\n",
    "        out1 = self.fc1(output)\n",
    "\n",
    "\n",
    "        # mlp  layers\n",
    "        output = out1\n",
    "        output = self.lrelu(self.fc3(output))\n",
    "        output = self.lrelu(self.fc4(output))\n",
    "        output = self.fc5(output)\n",
    "        return output\n",
    "\n"
   ]
  },
  {
   "cell_type": "markdown",
   "id": "p8paRxDJVjWE",
   "metadata": {
    "id": "p8paRxDJVjWE"
   },
   "source": [
    "### Choose a model"
   ]
  },
  {
   "cell_type": "code",
   "execution_count": 51,
   "id": "33bdcfab",
   "metadata": {
    "id": "33bdcfab"
   },
   "outputs": [
    {
     "data": {
      "text/plain": [
       "'\\nSiameseModel10\\nSiameseModel10leaky\\nSiameseModel20\\n'"
      ]
     },
     "execution_count": 51,
     "metadata": {},
     "output_type": "execute_result"
    }
   ],
   "source": [
    "# model = SiameseModel11(input_dim1 = 8, input_dim2 = 1024,\n",
    "#                        hidden_dim1 = 20, hidden_dim2 = 768, output_dim1 = 10, output_dim2 = 256,\n",
    "#                        hidden_dim3 = 10, hidden_dim4 = 8,\n",
    "#                        num_layers1 = 1, num_layers2 = 1, ).to(device)\n",
    "\n",
    "# model = SiameseModel11_fcn(input_dim1 = 8*5, input_dim2 = 1024*20,\n",
    "#                  hidden_dim1 = 20, hidden_dim2 = 10, hidden_dim3 = 768, hidden_dim4 = 256, hidden_dim5 = 128, hidden_dim6 = 64 ).to(device)\n",
    "\n",
    "model = SiameseModel10leaky(input_dim1 = 1,\n",
    "                 hidden_dim1 = 20, output_dim1 = 10, hidden_dim3 = 10, hidden_dim4 = 8,\n",
    "                 num_layers1 = 1).to(device)\n",
    "\n",
    "# model = SiameseModel20(input_dim1 = 8,\n",
    "#                  hidden_dim1 = 20, hidden_dim2 = 768, hidden_dim3 = 10, hidden_dim4 = 8,\n",
    "#                  num_layers1 = 1, output_dim1 = 10,  nhead = 4, d_transformer = 20, dropout = 0.2).to(device)\n",
    "\n",
    "# model = SiameseModel10(input_dim1 = 8, input_dim2 = 1024,\n",
    "#                  hidden_dim1 = 20, hidden_dim2 = 768, hidden_dim3 = 10, hidden_dim4 = 8,\n",
    "#                  num_layers1 = 1, num_layers2 = 1, output_dim1 = 10, output_dim2 = 256).to(device)\n",
    "# for param in model.roberta.parameters():\n",
    "#     param.requires_grad = False\n",
    "# print(model)\n",
    "\n",
    "'''\n",
    "SiameseModel10\n",
    "SiameseModel10leaky\n",
    "SiameseModel20\n",
    "'''\n",
    "\n",
    "\n"
   ]
  },
  {
   "cell_type": "code",
   "execution_count": 52,
   "id": "7d36SUCJmNGd",
   "metadata": {
    "id": "7d36SUCJmNGd"
   },
   "outputs": [
    {
     "name": "stdout",
     "output_type": "stream",
     "text": [
      "tensor([[0.8569, 0.8774, 0.9033, 0.9189, 0.9048, 0.8989, 0.8989, 0.8833, 0.8267,\n",
      "         0.8506],\n",
      "        [0.8774, 0.9033, 0.9189, 0.9048, 0.8989, 0.8989, 0.8833, 0.8267, 0.8506,\n",
      "         0.8623],\n",
      "        [0.9033, 0.9189, 0.9048, 0.8989, 0.8989, 0.8833, 0.8267, 0.8506, 0.8623,\n",
      "         0.8433],\n",
      "        [0.9189, 0.9048, 0.8989, 0.8989, 0.8833, 0.8267, 0.8506, 0.8623, 0.8433,\n",
      "         0.7783],\n",
      "        [0.9048, 0.8989, 0.8989, 0.8833, 0.8267, 0.8506, 0.8623, 0.8433, 0.7783,\n",
      "         0.7422],\n",
      "        [0.8989, 0.8989, 0.8833, 0.8267, 0.8506, 0.8623, 0.8433, 0.7783, 0.7422,\n",
      "         0.7520]], device='cuda:0')\n",
      "tensor([[0],\n",
      "        [1],\n",
      "        [1],\n",
      "        [2],\n",
      "        [2],\n",
      "        [0]], device='cuda:0')\n"
     ]
    }
   ],
   "source": [
    "print(x_numerical)#.dim()\n",
    "print(targets)"
   ]
  },
  {
   "cell_type": "code",
   "execution_count": 53,
   "id": "BhZdTSfZmiVj",
   "metadata": {
    "id": "BhZdTSfZmiVj"
   },
   "outputs": [
    {
     "name": "stdout",
     "output_type": "stream",
     "text": [
      "tensor([[0.2588],\n",
      "        [0.2588],\n",
      "        [0.2588],\n",
      "        [0.2589],\n",
      "        [0.2589],\n",
      "        [0.2589]], device='cuda:0', grad_fn=<AddmmBackward0>)\n",
      "torch.Size([6, 1])\n"
     ]
    }
   ],
   "source": [
    "y_pred = model(x_numerical, ids, masks, token_type_ids)\n",
    "print(y_pred)\n",
    "print(y_pred.size())\n"
   ]
  },
  {
   "cell_type": "code",
   "execution_count": null,
   "id": "FnrD0WkxQr4U",
   "metadata": {
    "id": "FnrD0WkxQr4U"
   },
   "outputs": [],
   "source": [
    "x1 = x_numerical\n",
    "batch_size, seq_len, embedding_size = x1.size()\n",
    "\n",
    "x1 = torch.reshape(x1, (batch_size, seq_len*embedding_size))\n",
    "print(x1.shape)"
   ]
  },
  {
   "cell_type": "code",
   "execution_count": null,
   "id": "7tT0kAmpY015",
   "metadata": {
    "id": "7tT0kAmpY015"
   },
   "outputs": [],
   "source": [
    "torch.flatten(y_pred, start_dim=1).size()"
   ]
  },
  {
   "cell_type": "markdown",
   "id": "05f5b46a",
   "metadata": {
    "id": "05f5b46a"
   },
   "source": [
    "## Train model"
   ]
  },
  {
   "cell_type": "code",
   "execution_count": 54,
   "id": "088c2407",
   "metadata": {
    "id": "088c2407"
   },
   "outputs": [],
   "source": [
    "criterion = nn.MSELoss()\n",
    "# criterion = nn.CrossEntropyLoss()\n",
    "optimiser = torch.optim.Adam(model.parameters(), lr=0.0001)\n",
    "loss_arr = np.zeros(num_epochs)"
   ]
  },
  {
   "cell_type": "code",
   "execution_count": 55,
   "id": "WZI4ATJNYcfp",
   "metadata": {
    "id": "WZI4ATJNYcfp"
   },
   "outputs": [
    {
     "data": {
      "text/html": [
       "Finishing last run (ID:2u6boszt) before initializing another..."
      ],
      "text/plain": [
       "<IPython.core.display.HTML object>"
      ]
     },
     "metadata": {},
     "output_type": "display_data"
    },
    {
     "data": {
      "text/html": [
       "Waiting for W&B process to finish... <strong style=\"color:green\">(success).</strong>"
      ],
      "text/plain": [
       "<IPython.core.display.HTML object>"
      ]
     },
     "metadata": {},
     "output_type": "display_data"
    },
    {
     "data": {
      "application/vnd.jupyter.widget-view+json": {
       "model_id": "977b6120c4914ab49311ef393822bfce",
       "version_major": 2,
       "version_minor": 0
      },
      "text/plain": [
       "VBox(children=(Label(value='0.001 MB of 0.001 MB uploaded (0.000 MB deduped)\\r'), FloatProgress(value=1.0, max…"
      ]
     },
     "metadata": {},
     "output_type": "display_data"
    },
    {
     "data": {
      "text/html": [
       "<style>\n",
       "    table.wandb td:nth-child(1) { padding: 0 10px; text-align: left ; width: auto;} td:nth-child(2) {text-align: left ; width: 100%}\n",
       "    .wandb-row { display: flex; flex-direction: row; flex-wrap: wrap; justify-content: flex-start; width: 100% }\n",
       "    .wandb-col { display: flex; flex-direction: column; flex-basis: 100%; flex: 1; padding: 10px; }\n",
       "    </style>\n",
       "<div class=\"wandb-row\"><div class=\"wandb-col\"><h3>Run history:</h3><br/><table class=\"wandb\"><tr><td>avg test loss in this batch</td><td>▁▁▁▁▁▁▁▁▁▁▁▁▁▁▁▁▁▁▁▁▁▁▁▁▁▁▁▁▁▁▁▁▁▁▁▁▁▁▁▁</td></tr><tr><td>avg test loss in this epoch</td><td>▁▁▁▁▁▁▁▁▁▁▁▁▁▁▁▁▁▁▁▁▁▁▁▁▁▁▁▁▁▁▁▁▁▁▁▁▁▁▁▁</td></tr><tr><td>avg train loss in this batch</td><td>▇▁▆▂▃▂▁▂▆▄▂▅▃▄▅▁▅▄▅▇▅▆▅▃█▄▁▃▇▃▁▅▂▅▂▂▆▇▄▅</td></tr><tr><td>avg train loss in this epoch</td><td>▁▁▁▁▁▁▁▁▁▁▁▁▁▁▁▁▁▁▁▁▁▁▁▁▁▁▁▁▁▁▁▁▁▁▁▁▁▁▁▁</td></tr><tr><td>batch_id</td><td>▇▄█▃▇▃▆▄▇▃▇▂▆▁▇▃▆▂▅▁▇▃▆▂▅▁▄▂▆▁▅▁▄▂▅▁▅█▄▇</td></tr><tr><td>epoch</td><td>▁▁▁▂▂▂▂▂▂▃▃▃▃▃▃▄▄▄▄▄▅▅▅▅▅▅▆▆▆▆▆▇▇▇▇▇▇███</td></tr><tr><td>gradient_fc1.weight</td><td>▆▆▃▅▅▆▆▆▆▆▆▆▆▇▇▅███▆▆▂▃▁▆▆▆▅▆▅▅▆▆▆▆▆▆▆▇▇</td></tr><tr><td>gradient_fc3.weight</td><td>██▆████████████▆███▇▇▁▃▁▇██▇████████████</td></tr><tr><td>gradient_fc5.weight</td><td>██▅▇▇██████████▅▇▆▆▇▇▄▅▁▇██▇█▇▇█████████</td></tr><tr><td>gradient_lstm1.weight_hh_l0</td><td>▇▆▄▅▅▆▆▆▇▇▇▇▇▇█▅██▇▆▆▂▃▁▆▇▆▅▆▅▅▆▆▇▆▇▇▇▇█</td></tr><tr><td>gradient_lstm1.weight_ih_l0</td><td>█▇▆▆▆▅▄▄▄▃▃▃▃▃▂▁▁▁▂▃▅▆▆▆▆█▇▇▇▆▅▅▄▄▃▃▃▄▃▂</td></tr><tr><td>test accuracy in this epoch</td><td>▁▁▁▁▁▁▁▁▁▁▁▁▁▁▁▁▁▁▁▁▁▁▁▁▁▁▁▁▁▁▁▁▁▁▁▁▁▁▁▁</td></tr><tr><td>train accuracy in this epoch</td><td>▁▁▁▁▁▁▁▁▁▁▁▁▁▁▁▁▁▁▁▁▁▁▁▁▁▁▁▁▁▁▁▁▁▁▁▁▁▁▁▁</td></tr></table><br/></div><div class=\"wandb-col\"><h3>Run summary:</h3><br/><table class=\"wandb\"><tr><td>avg test loss in this batch</td><td>1.08203</td></tr><tr><td>avg test loss in this epoch</td><td>1.10456</td></tr><tr><td>avg train loss in this batch</td><td>1.1002</td></tr><tr><td>avg train loss in this epoch</td><td>1.10055</td></tr><tr><td>batch_id</td><td>3</td></tr><tr><td>epoch</td><td>199</td></tr><tr><td>gradient_fc1.weight</td><td>0.00321</td></tr><tr><td>gradient_fc3.weight</td><td>0.01422</td></tr><tr><td>gradient_fc5.weight</td><td>0.06527</td></tr><tr><td>gradient_lstm1.weight_hh_l0</td><td>0.00019</td></tr><tr><td>gradient_lstm1.weight_ih_l0</td><td>0.00244</td></tr><tr><td>test accuracy in this epoch</td><td>25.0</td></tr><tr><td>train accuracy in this epoch</td><td>25.36873</td></tr></table><br/></div></div>"
      ],
      "text/plain": [
       "<IPython.core.display.HTML object>"
      ]
     },
     "metadata": {},
     "output_type": "display_data"
    },
    {
     "data": {
      "text/html": [
       " View run <strong style=\"color:#cdcd00\">solar-vortex-51</strong> at: <a href='https://wandb.ai/visriv/stock_prediction/runs/2u6boszt' target=\"_blank\">https://wandb.ai/visriv/stock_prediction/runs/2u6boszt</a><br/>Synced 6 W&B file(s), 0 media file(s), 0 artifact file(s) and 1 other file(s)"
      ],
      "text/plain": [
       "<IPython.core.display.HTML object>"
      ]
     },
     "metadata": {},
     "output_type": "display_data"
    },
    {
     "data": {
      "text/html": [
       "Find logs at: <code>./wandb/run-20230720_040021-2u6boszt/logs</code>"
      ],
      "text/plain": [
       "<IPython.core.display.HTML object>"
      ]
     },
     "metadata": {},
     "output_type": "display_data"
    },
    {
     "data": {
      "text/html": [
       "Successfully finished last run (ID:2u6boszt). Initializing new run:<br/>"
      ],
      "text/plain": [
       "<IPython.core.display.HTML object>"
      ]
     },
     "metadata": {},
     "output_type": "display_data"
    },
    {
     "data": {
      "application/vnd.jupyter.widget-view+json": {
       "model_id": "d61c531b8db645afb3b72b961f8fbf47",
       "version_major": 2,
       "version_minor": 0
      },
      "text/plain": [
       "VBox(children=(Label(value='Waiting for wandb.init()...\\r'), FloatProgress(value=0.016668580900053107, max=1.0…"
      ]
     },
     "metadata": {},
     "output_type": "display_data"
    },
    {
     "data": {
      "text/html": [
       "Tracking run with wandb version 0.15.5"
      ],
      "text/plain": [
       "<IPython.core.display.HTML object>"
      ]
     },
     "metadata": {},
     "output_type": "display_data"
    },
    {
     "data": {
      "text/html": [
       "Run data is saved locally in <code>/home/ec2-user/SageMaker/wandb/run-20230720_044221-8rgnzgeb</code>"
      ],
      "text/plain": [
       "<IPython.core.display.HTML object>"
      ]
     },
     "metadata": {},
     "output_type": "display_data"
    },
    {
     "data": {
      "text/html": [
       "Syncing run <strong><a href='https://wandb.ai/visriv/stock_prediction/runs/8rgnzgeb' target=\"_blank\">toasty-serenity-52</a></strong> to <a href='https://wandb.ai/visriv/stock_prediction' target=\"_blank\">Weights & Biases</a> (<a href='https://wandb.me/run' target=\"_blank\">docs</a>)<br/>"
      ],
      "text/plain": [
       "<IPython.core.display.HTML object>"
      ]
     },
     "metadata": {},
     "output_type": "display_data"
    },
    {
     "data": {
      "text/html": [
       " View project at <a href='https://wandb.ai/visriv/stock_prediction' target=\"_blank\">https://wandb.ai/visriv/stock_prediction</a>"
      ],
      "text/plain": [
       "<IPython.core.display.HTML object>"
      ]
     },
     "metadata": {},
     "output_type": "display_data"
    },
    {
     "data": {
      "text/html": [
       " View run at <a href='https://wandb.ai/visriv/stock_prediction/runs/8rgnzgeb' target=\"_blank\">https://wandb.ai/visriv/stock_prediction/runs/8rgnzgeb</a>"
      ],
      "text/plain": [
       "<IPython.core.display.HTML object>"
      ]
     },
     "metadata": {},
     "output_type": "display_data"
    },
    {
     "data": {
      "text/html": [
       "<button onClick=\"this.nextSibling.style.display='block';this.style.display='none';\">Display W&B run</button><iframe src='https://wandb.ai/visriv/stock_prediction/runs/8rgnzgeb?jupyter=true' style='border:none;width:100%;height:420px;display:none;'></iframe>"
      ],
      "text/plain": [
       "<wandb.sdk.wandb_run.Run at 0x7f96e8cb7af0>"
      ]
     },
     "execution_count": 55,
     "metadata": {},
     "output_type": "execute_result"
    }
   ],
   "source": [
    "wandb.init(project=\"stock_prediction\")"
   ]
  },
  {
   "cell_type": "code",
   "execution_count": 57,
   "id": "699d13c0",
   "metadata": {
    "id": "699d13c0"
   },
   "outputs": [
    {
     "name": "stderr",
     "output_type": "stream",
     "text": [
      "0it [00:00, ?it/s]/tmp/ipykernel_11411/2984344807.py:43: UserWarning: To copy construct from a tensor, it is recommended to use sourceTensor.clone().detach() or sourceTensor.clone().detach().requires_grad_(True), rather than torch.tensor(sourceTensor).\n",
      "  'ids': torch.tensor(input_ids, dtype=torch.long),\n",
      "/tmp/ipykernel_11411/2984344807.py:44: UserWarning: To copy construct from a tensor, it is recommended to use sourceTensor.clone().detach() or sourceTensor.clone().detach().requires_grad_(True), rather than torch.tensor(sourceTensor).\n",
      "  'mask': torch.tensor(attention_masks, dtype=torch.long),\n",
      "/tmp/ipykernel_11411/2984344807.py:45: UserWarning: To copy construct from a tensor, it is recommended to use sourceTensor.clone().detach() or sourceTensor.clone().detach().requires_grad_(True), rather than torch.tensor(sourceTensor).\n",
      "  'token_type_ids': torch.tensor(token_type_ids, dtype=torch.long),\n",
      "/tmp/ipykernel_11411/2984344807.py:46: UserWarning: To copy construct from a tensor, it is recommended to use sourceTensor.clone().detach() or sourceTensor.clone().detach().requires_grad_(True), rather than torch.tensor(sourceTensor).\n",
      "  'targets': torch.tensor(y_train[index])#, dtype=torch.long)\n",
      "41it [00:00, 200.92it/s]/home/ec2-user/anaconda3/envs/pytorch_p310/lib/python3.10/site-packages/torch/nn/modules/loss.py:536: UserWarning: Using a target size (torch.Size([6])) that is different to the input size (torch.Size([6, 1])). This will likely lead to incorrect results due to broadcasting. Please ensure they have the same size.\n",
      "  return F.mse_loss(input, target, reduction=self.reduction)\n",
      "43it [00:00, 199.54it/s]\n"
     ]
    },
    {
     "name": "stdout",
     "output_type": "stream",
     "text": [
      "Train Loss at epoch 0: 0.08906666934490204\n",
      "\n"
     ]
    },
    {
     "name": "stderr",
     "output_type": "stream",
     "text": [
      "0it [00:00, ?it/s]/home/ec2-user/anaconda3/envs/pytorch_p310/lib/python3.10/site-packages/torch/nn/modules/loss.py:536: UserWarning: Using a target size (torch.Size([4])) that is different to the input size (torch.Size([4, 1])). This will likely lead to incorrect results due to broadcasting. Please ensure they have the same size.\n",
      "  return F.mse_loss(input, target, reduction=self.reduction)\n",
      "4it [00:00, 444.31it/s]\n"
     ]
    },
    {
     "name": "stdout",
     "output_type": "stream",
     "text": [
      "test Loss at epoch 0: 0.06914562731981277\n",
      "\n"
     ]
    },
    {
     "name": "stderr",
     "output_type": "stream",
     "text": [
      "43it [00:00, 202.61it/s]\n"
     ]
    },
    {
     "name": "stdout",
     "output_type": "stream",
     "text": [
      "Train Loss at epoch 1: 0.08517821133136749\n",
      "\n"
     ]
    },
    {
     "name": "stderr",
     "output_type": "stream",
     "text": [
      "4it [00:00, 492.19it/s]\n"
     ]
    },
    {
     "name": "stdout",
     "output_type": "stream",
     "text": [
      "test Loss at epoch 1: 0.07575760036706924\n",
      "\n"
     ]
    },
    {
     "name": "stderr",
     "output_type": "stream",
     "text": [
      "43it [00:00, 200.32it/s]\n"
     ]
    },
    {
     "name": "stdout",
     "output_type": "stream",
     "text": [
      "Train Loss at epoch 2: 0.08112531155347824\n",
      "\n"
     ]
    },
    {
     "name": "stderr",
     "output_type": "stream",
     "text": [
      "4it [00:00, 519.60it/s]\n"
     ]
    },
    {
     "name": "stdout",
     "output_type": "stream",
     "text": [
      "test Loss at epoch 2: 0.08300858736038208\n",
      "\n"
     ]
    },
    {
     "name": "stderr",
     "output_type": "stream",
     "text": [
      "43it [00:00, 202.48it/s]\n"
     ]
    },
    {
     "name": "stdout",
     "output_type": "stream",
     "text": [
      "Train Loss at epoch 3: 0.07793831080198288\n",
      "\n"
     ]
    },
    {
     "name": "stderr",
     "output_type": "stream",
     "text": [
      "4it [00:00, 540.80it/s]\n"
     ]
    },
    {
     "name": "stdout",
     "output_type": "stream",
     "text": [
      "test Loss at epoch 3: 0.08961793035268784\n",
      "\n"
     ]
    },
    {
     "name": "stderr",
     "output_type": "stream",
     "text": [
      "43it [00:00, 201.54it/s]\n"
     ]
    },
    {
     "name": "stdout",
     "output_type": "stream",
     "text": [
      "Train Loss at epoch 4: 0.07527755945920944\n",
      "\n"
     ]
    },
    {
     "name": "stderr",
     "output_type": "stream",
     "text": [
      "4it [00:00, 469.65it/s]\n"
     ]
    },
    {
     "name": "stdout",
     "output_type": "stream",
     "text": [
      "test Loss at epoch 4: 0.09581266343593597\n",
      "\n"
     ]
    },
    {
     "name": "stderr",
     "output_type": "stream",
     "text": [
      "43it [00:00, 203.38it/s]\n"
     ]
    },
    {
     "name": "stdout",
     "output_type": "stream",
     "text": [
      "Train Loss at epoch 5: 0.07295659184455872\n",
      "\n"
     ]
    },
    {
     "name": "stderr",
     "output_type": "stream",
     "text": [
      "4it [00:00, 466.81it/s]\n"
     ]
    },
    {
     "name": "stdout",
     "output_type": "stream",
     "text": [
      "test Loss at epoch 5: 0.10172738879919052\n",
      "\n"
     ]
    },
    {
     "name": "stderr",
     "output_type": "stream",
     "text": [
      "43it [00:00, 201.79it/s]\n"
     ]
    },
    {
     "name": "stdout",
     "output_type": "stream",
     "text": [
      "Train Loss at epoch 6: 0.07088394463062286\n",
      "\n"
     ]
    },
    {
     "name": "stderr",
     "output_type": "stream",
     "text": [
      "4it [00:00, 504.58it/s]\n"
     ]
    },
    {
     "name": "stdout",
     "output_type": "stream",
     "text": [
      "test Loss at epoch 6: 0.10742282122373581\n",
      "\n"
     ]
    },
    {
     "name": "stderr",
     "output_type": "stream",
     "text": [
      "43it [00:00, 199.55it/s]\n"
     ]
    },
    {
     "name": "stdout",
     "output_type": "stream",
     "text": [
      "Train Loss at epoch 7: 0.06900279223918915\n",
      "\n"
     ]
    },
    {
     "name": "stderr",
     "output_type": "stream",
     "text": [
      "4it [00:00, 470.27it/s]\n"
     ]
    },
    {
     "name": "stdout",
     "output_type": "stream",
     "text": [
      "test Loss at epoch 7: 0.11292397975921631\n",
      "\n"
     ]
    },
    {
     "name": "stderr",
     "output_type": "stream",
     "text": [
      "43it [00:00, 201.64it/s]\n"
     ]
    },
    {
     "name": "stdout",
     "output_type": "stream",
     "text": [
      "Train Loss at epoch 8: 0.06727335602045059\n",
      "\n"
     ]
    },
    {
     "name": "stderr",
     "output_type": "stream",
     "text": [
      "4it [00:00, 458.73it/s]\n"
     ]
    },
    {
     "name": "stdout",
     "output_type": "stream",
     "text": [
      "test Loss at epoch 8: 0.11823946982622147\n",
      "\n"
     ]
    },
    {
     "name": "stderr",
     "output_type": "stream",
     "text": [
      "43it [00:00, 201.60it/s]\n"
     ]
    },
    {
     "name": "stdout",
     "output_type": "stream",
     "text": [
      "Train Loss at epoch 9: 0.06566325575113297\n",
      "\n"
     ]
    },
    {
     "name": "stderr",
     "output_type": "stream",
     "text": [
      "4it [00:00, 452.90it/s]\n"
     ]
    },
    {
     "name": "stdout",
     "output_type": "stream",
     "text": [
      "test Loss at epoch 9: 0.12337059527635574\n",
      "\n"
     ]
    },
    {
     "name": "stderr",
     "output_type": "stream",
     "text": [
      "43it [00:00, 199.50it/s]\n"
     ]
    },
    {
     "name": "stdout",
     "output_type": "stream",
     "text": [
      "Train Loss at epoch 10: 0.06414362788200378\n",
      "\n"
     ]
    },
    {
     "name": "stderr",
     "output_type": "stream",
     "text": [
      "4it [00:00, 446.00it/s]\n"
     ]
    },
    {
     "name": "stdout",
     "output_type": "stream",
     "text": [
      "test Loss at epoch 10: 0.1283147782087326\n",
      "\n"
     ]
    },
    {
     "name": "stderr",
     "output_type": "stream",
     "text": [
      "43it [00:00, 201.24it/s]\n"
     ]
    },
    {
     "name": "stdout",
     "output_type": "stream",
     "text": [
      "Train Loss at epoch 11: 0.0626915842294693\n",
      "\n"
     ]
    },
    {
     "name": "stderr",
     "output_type": "stream",
     "text": [
      "4it [00:00, 457.18it/s]\n"
     ]
    },
    {
     "name": "stdout",
     "output_type": "stream",
     "text": [
      "test Loss at epoch 11: 0.1330544352531433\n",
      "\n"
     ]
    },
    {
     "name": "stderr",
     "output_type": "stream",
     "text": [
      "43it [00:00, 204.01it/s]\n"
     ]
    },
    {
     "name": "stdout",
     "output_type": "stream",
     "text": [
      "Train Loss at epoch 12: 0.06128391996026039\n",
      "\n"
     ]
    },
    {
     "name": "stderr",
     "output_type": "stream",
     "text": [
      "4it [00:00, 535.48it/s]\n"
     ]
    },
    {
     "name": "stdout",
     "output_type": "stream",
     "text": [
      "test Loss at epoch 12: 0.13756808638572693\n",
      "\n"
     ]
    },
    {
     "name": "stderr",
     "output_type": "stream",
     "text": [
      "43it [00:00, 200.40it/s]\n"
     ]
    },
    {
     "name": "stdout",
     "output_type": "stream",
     "text": [
      "Train Loss at epoch 13: 0.059896320104599\n",
      "\n"
     ]
    },
    {
     "name": "stderr",
     "output_type": "stream",
     "text": [
      "4it [00:00, 429.30it/s]\n"
     ]
    },
    {
     "name": "stdout",
     "output_type": "stream",
     "text": [
      "test Loss at epoch 13: 0.1418313980102539\n",
      "\n"
     ]
    },
    {
     "name": "stderr",
     "output_type": "stream",
     "text": [
      "43it [00:00, 201.65it/s]\n"
     ]
    },
    {
     "name": "stdout",
     "output_type": "stream",
     "text": [
      "Train Loss at epoch 14: 0.05851409584283829\n",
      "\n"
     ]
    },
    {
     "name": "stderr",
     "output_type": "stream",
     "text": [
      "4it [00:00, 488.85it/s]\n"
     ]
    },
    {
     "name": "stdout",
     "output_type": "stream",
     "text": [
      "test Loss at epoch 14: 0.1457800567150116\n",
      "\n"
     ]
    },
    {
     "name": "stderr",
     "output_type": "stream",
     "text": [
      "43it [00:00, 199.62it/s]\n"
     ]
    },
    {
     "name": "stdout",
     "output_type": "stream",
     "text": [
      "Train Loss at epoch 15: 0.05712040513753891\n",
      "\n"
     ]
    },
    {
     "name": "stderr",
     "output_type": "stream",
     "text": [
      "4it [00:00, 469.16it/s]\n"
     ]
    },
    {
     "name": "stdout",
     "output_type": "stream",
     "text": [
      "test Loss at epoch 15: 0.14932745695114136\n",
      "\n"
     ]
    },
    {
     "name": "stderr",
     "output_type": "stream",
     "text": [
      "43it [00:00, 203.84it/s]\n"
     ]
    },
    {
     "name": "stdout",
     "output_type": "stream",
     "text": [
      "Train Loss at epoch 16: 0.05566241592168808\n",
      "\n"
     ]
    },
    {
     "name": "stderr",
     "output_type": "stream",
     "text": [
      "4it [00:00, 438.08it/s]\n"
     ]
    },
    {
     "name": "stdout",
     "output_type": "stream",
     "text": [
      "test Loss at epoch 16: 0.15249201655387878\n",
      "\n"
     ]
    },
    {
     "name": "stderr",
     "output_type": "stream",
     "text": [
      "43it [00:00, 207.89it/s]\n"
     ]
    },
    {
     "name": "stdout",
     "output_type": "stream",
     "text": [
      "Train Loss at epoch 17: 0.05411061644554138\n",
      "\n"
     ]
    },
    {
     "name": "stderr",
     "output_type": "stream",
     "text": [
      "4it [00:00, 479.43it/s]\n"
     ]
    },
    {
     "name": "stdout",
     "output_type": "stream",
     "text": [
      "test Loss at epoch 17: 0.15524688363075256\n",
      "\n"
     ]
    },
    {
     "name": "stderr",
     "output_type": "stream",
     "text": [
      "43it [00:00, 202.83it/s]\n"
     ]
    },
    {
     "name": "stdout",
     "output_type": "stream",
     "text": [
      "Train Loss at epoch 18: 0.05242880433797836\n",
      "\n"
     ]
    },
    {
     "name": "stderr",
     "output_type": "stream",
     "text": [
      "4it [00:00, 459.00it/s]\n"
     ]
    },
    {
     "name": "stdout",
     "output_type": "stream",
     "text": [
      "test Loss at epoch 18: 0.15755760669708252\n",
      "\n"
     ]
    },
    {
     "name": "stderr",
     "output_type": "stream",
     "text": [
      "43it [00:00, 203.11it/s]\n"
     ]
    },
    {
     "name": "stdout",
     "output_type": "stream",
     "text": [
      "Train Loss at epoch 19: 0.05057661607861519\n",
      "\n"
     ]
    },
    {
     "name": "stderr",
     "output_type": "stream",
     "text": [
      "4it [00:00, 503.25it/s]\n"
     ]
    },
    {
     "name": "stdout",
     "output_type": "stream",
     "text": [
      "test Loss at epoch 19: 0.1593780517578125\n",
      "\n"
     ]
    },
    {
     "name": "stderr",
     "output_type": "stream",
     "text": [
      "43it [00:00, 213.00it/s]\n"
     ]
    },
    {
     "name": "stdout",
     "output_type": "stream",
     "text": [
      "Train Loss at epoch 20: 0.04850761219859123\n",
      "\n"
     ]
    },
    {
     "name": "stderr",
     "output_type": "stream",
     "text": [
      "4it [00:00, 548.85it/s]\n"
     ]
    },
    {
     "name": "stdout",
     "output_type": "stream",
     "text": [
      "test Loss at epoch 20: 0.16065052151679993\n",
      "\n"
     ]
    },
    {
     "name": "stderr",
     "output_type": "stream",
     "text": [
      "43it [00:00, 216.22it/s]\n"
     ]
    },
    {
     "name": "stdout",
     "output_type": "stream",
     "text": [
      "Train Loss at epoch 21: 0.046167995780706406\n",
      "\n"
     ]
    },
    {
     "name": "stderr",
     "output_type": "stream",
     "text": [
      "4it [00:00, 534.71it/s]\n"
     ]
    },
    {
     "name": "stdout",
     "output_type": "stream",
     "text": [
      "test Loss at epoch 21: 0.16130627691745758\n",
      "\n"
     ]
    },
    {
     "name": "stderr",
     "output_type": "stream",
     "text": [
      "43it [00:00, 228.21it/s]\n"
     ]
    },
    {
     "name": "stdout",
     "output_type": "stream",
     "text": [
      "Train Loss at epoch 22: 0.04349660128355026\n",
      "\n"
     ]
    },
    {
     "name": "stderr",
     "output_type": "stream",
     "text": [
      "4it [00:00, 438.96it/s]\n"
     ]
    },
    {
     "name": "stdout",
     "output_type": "stream",
     "text": [
      "test Loss at epoch 22: 0.16125960648059845\n",
      "\n"
     ]
    },
    {
     "name": "stderr",
     "output_type": "stream",
     "text": [
      "43it [00:00, 232.78it/s]\n"
     ]
    },
    {
     "name": "stdout",
     "output_type": "stream",
     "text": [
      "Train Loss at epoch 23: 0.040425486862659454\n",
      "\n"
     ]
    },
    {
     "name": "stderr",
     "output_type": "stream",
     "text": [
      "4it [00:00, 553.37it/s]\n"
     ]
    },
    {
     "name": "stdout",
     "output_type": "stream",
     "text": [
      "test Loss at epoch 23: 0.16040287911891937\n",
      "\n"
     ]
    },
    {
     "name": "stderr",
     "output_type": "stream",
     "text": [
      "43it [00:00, 230.49it/s]\n"
     ]
    },
    {
     "name": "stdout",
     "output_type": "stream",
     "text": [
      "Train Loss at epoch 24: 0.03688604012131691\n",
      "\n"
     ]
    },
    {
     "name": "stderr",
     "output_type": "stream",
     "text": [
      "4it [00:00, 542.97it/s]\n"
     ]
    },
    {
     "name": "stdout",
     "output_type": "stream",
     "text": [
      "test Loss at epoch 24: 0.158596009016037\n",
      "\n"
     ]
    },
    {
     "name": "stderr",
     "output_type": "stream",
     "text": [
      "43it [00:00, 240.50it/s]\n"
     ]
    },
    {
     "name": "stdout",
     "output_type": "stream",
     "text": [
      "Train Loss at epoch 25: 0.0328228622674942\n",
      "\n"
     ]
    },
    {
     "name": "stderr",
     "output_type": "stream",
     "text": [
      "4it [00:00, 474.75it/s]\n"
     ]
    },
    {
     "name": "stdout",
     "output_type": "stream",
     "text": [
      "test Loss at epoch 25: 0.15568546950817108\n",
      "\n"
     ]
    },
    {
     "name": "stderr",
     "output_type": "stream",
     "text": [
      "43it [00:00, 233.36it/s]\n"
     ]
    },
    {
     "name": "stdout",
     "output_type": "stream",
     "text": [
      "Train Loss at epoch 26: 0.02821452170610428\n",
      "\n"
     ]
    },
    {
     "name": "stderr",
     "output_type": "stream",
     "text": [
      "4it [00:00, 578.03it/s]\n"
     ]
    },
    {
     "name": "stdout",
     "output_type": "stream",
     "text": [
      "test Loss at epoch 26: 0.1515347957611084\n",
      "\n"
     ]
    },
    {
     "name": "stderr",
     "output_type": "stream",
     "text": [
      "43it [00:00, 231.78it/s]\n"
     ]
    },
    {
     "name": "stdout",
     "output_type": "stream",
     "text": [
      "Train Loss at epoch 27: 0.02314550243318081\n",
      "\n"
     ]
    },
    {
     "name": "stderr",
     "output_type": "stream",
     "text": [
      "4it [00:00, 582.32it/s]\n"
     ]
    },
    {
     "name": "stdout",
     "output_type": "stream",
     "text": [
      "test Loss at epoch 27: 0.14600512385368347\n",
      "\n"
     ]
    },
    {
     "name": "stderr",
     "output_type": "stream",
     "text": [
      "43it [00:00, 225.87it/s]\n"
     ]
    },
    {
     "name": "stdout",
     "output_type": "stream",
     "text": [
      "Train Loss at epoch 28: 0.01791302114725113\n",
      "\n"
     ]
    },
    {
     "name": "stderr",
     "output_type": "stream",
     "text": [
      "4it [00:00, 417.64it/s]\n"
     ]
    },
    {
     "name": "stdout",
     "output_type": "stream",
     "text": [
      "test Loss at epoch 28: 0.14213642477989197\n",
      "\n"
     ]
    },
    {
     "name": "stderr",
     "output_type": "stream",
     "text": [
      "43it [00:00, 219.34it/s]\n"
     ]
    },
    {
     "name": "stdout",
     "output_type": "stream",
     "text": [
      "Train Loss at epoch 29: 0.013536285609006882\n",
      "\n"
     ]
    },
    {
     "name": "stderr",
     "output_type": "stream",
     "text": [
      "4it [00:00, 452.74it/s]\n"
     ]
    },
    {
     "name": "stdout",
     "output_type": "stream",
     "text": [
      "test Loss at epoch 29: 0.13597574830055237\n",
      "\n"
     ]
    },
    {
     "name": "stderr",
     "output_type": "stream",
     "text": [
      "43it [00:00, 230.72it/s]\n"
     ]
    },
    {
     "name": "stdout",
     "output_type": "stream",
     "text": [
      "Train Loss at epoch 30: 0.009692131541669369\n",
      "\n"
     ]
    },
    {
     "name": "stderr",
     "output_type": "stream",
     "text": [
      "4it [00:00, 601.38it/s]\n"
     ]
    },
    {
     "name": "stdout",
     "output_type": "stream",
     "text": [
      "test Loss at epoch 30: 0.12770134210586548\n",
      "\n"
     ]
    },
    {
     "name": "stderr",
     "output_type": "stream",
     "text": [
      "43it [00:00, 235.91it/s]\n"
     ]
    },
    {
     "name": "stdout",
     "output_type": "stream",
     "text": [
      "Train Loss at epoch 31: 0.006738442927598953\n",
      "\n"
     ]
    },
    {
     "name": "stderr",
     "output_type": "stream",
     "text": [
      "4it [00:00, 562.28it/s]\n"
     ]
    },
    {
     "name": "stdout",
     "output_type": "stream",
     "text": [
      "test Loss at epoch 31: 0.12173301726579666\n",
      "\n"
     ]
    },
    {
     "name": "stderr",
     "output_type": "stream",
     "text": [
      "43it [00:00, 231.97it/s]\n"
     ]
    },
    {
     "name": "stdout",
     "output_type": "stream",
     "text": [
      "Train Loss at epoch 32: 0.0049725123681128025\n",
      "\n"
     ]
    },
    {
     "name": "stderr",
     "output_type": "stream",
     "text": [
      "4it [00:00, 535.11it/s]\n"
     ]
    },
    {
     "name": "stdout",
     "output_type": "stream",
     "text": [
      "test Loss at epoch 32: 0.11678452044725418\n",
      "\n"
     ]
    },
    {
     "name": "stderr",
     "output_type": "stream",
     "text": [
      "43it [00:00, 211.72it/s]\n"
     ]
    },
    {
     "name": "stdout",
     "output_type": "stream",
     "text": [
      "Train Loss at epoch 33: 0.003994944971054792\n",
      "\n"
     ]
    },
    {
     "name": "stderr",
     "output_type": "stream",
     "text": [
      "4it [00:00, 551.54it/s]\n"
     ]
    },
    {
     "name": "stdout",
     "output_type": "stream",
     "text": [
      "test Loss at epoch 33: 0.11400976032018661\n",
      "\n"
     ]
    },
    {
     "name": "stderr",
     "output_type": "stream",
     "text": [
      "43it [00:00, 220.62it/s]\n"
     ]
    },
    {
     "name": "stdout",
     "output_type": "stream",
     "text": [
      "Train Loss at epoch 34: 0.0035084718838334084\n",
      "\n"
     ]
    },
    {
     "name": "stderr",
     "output_type": "stream",
     "text": [
      "4it [00:00, 528.97it/s]\n"
     ]
    },
    {
     "name": "stdout",
     "output_type": "stream",
     "text": [
      "test Loss at epoch 34: 0.11290203034877777\n",
      "\n"
     ]
    },
    {
     "name": "stderr",
     "output_type": "stream",
     "text": [
      "43it [00:00, 226.44it/s]\n"
     ]
    },
    {
     "name": "stdout",
     "output_type": "stream",
     "text": [
      "Train Loss at epoch 35: 0.003237058874219656\n",
      "\n"
     ]
    },
    {
     "name": "stderr",
     "output_type": "stream",
     "text": [
      "4it [00:00, 537.66it/s]\n"
     ]
    },
    {
     "name": "stdout",
     "output_type": "stream",
     "text": [
      "test Loss at epoch 35: 0.11266990751028061\n",
      "\n"
     ]
    },
    {
     "name": "stderr",
     "output_type": "stream",
     "text": [
      "43it [00:00, 228.38it/s]\n"
     ]
    },
    {
     "name": "stdout",
     "output_type": "stream",
     "text": [
      "Train Loss at epoch 36: 0.0030695677269250154\n",
      "\n"
     ]
    },
    {
     "name": "stderr",
     "output_type": "stream",
     "text": [
      "4it [00:00, 534.83it/s]\n"
     ]
    },
    {
     "name": "stdout",
     "output_type": "stream",
     "text": [
      "test Loss at epoch 36: 0.1126408725976944\n",
      "\n"
     ]
    },
    {
     "name": "stderr",
     "output_type": "stream",
     "text": [
      "43it [00:00, 231.27it/s]\n"
     ]
    },
    {
     "name": "stdout",
     "output_type": "stream",
     "text": [
      "Train Loss at epoch 37: 0.002948782406747341\n",
      "\n"
     ]
    },
    {
     "name": "stderr",
     "output_type": "stream",
     "text": [
      "4it [00:00, 425.73it/s]\n"
     ]
    },
    {
     "name": "stdout",
     "output_type": "stream",
     "text": [
      "test Loss at epoch 37: 0.11265666037797928\n",
      "\n"
     ]
    },
    {
     "name": "stderr",
     "output_type": "stream",
     "text": [
      "43it [00:00, 224.83it/s]\n"
     ]
    },
    {
     "name": "stdout",
     "output_type": "stream",
     "text": [
      "Train Loss at epoch 38: 0.002857473911717534\n",
      "\n"
     ]
    },
    {
     "name": "stderr",
     "output_type": "stream",
     "text": [
      "4it [00:00, 419.84it/s]\n"
     ]
    },
    {
     "name": "stdout",
     "output_type": "stream",
     "text": [
      "test Loss at epoch 38: 0.11265929043292999\n",
      "\n"
     ]
    },
    {
     "name": "stderr",
     "output_type": "stream",
     "text": [
      "43it [00:00, 226.67it/s]\n"
     ]
    },
    {
     "name": "stdout",
     "output_type": "stream",
     "text": [
      "Train Loss at epoch 39: 0.002783403964713216\n",
      "\n"
     ]
    },
    {
     "name": "stderr",
     "output_type": "stream",
     "text": [
      "4it [00:00, 572.76it/s]\n"
     ]
    },
    {
     "name": "stdout",
     "output_type": "stream",
     "text": [
      "test Loss at epoch 39: 0.11274265497922897\n",
      "\n"
     ]
    },
    {
     "name": "stderr",
     "output_type": "stream",
     "text": [
      "43it [00:00, 223.26it/s]\n"
     ]
    },
    {
     "name": "stdout",
     "output_type": "stream",
     "text": [
      "Train Loss at epoch 40: 0.0027298384811729193\n",
      "\n"
     ]
    },
    {
     "name": "stderr",
     "output_type": "stream",
     "text": [
      "4it [00:00, 482.30it/s]\n"
     ]
    },
    {
     "name": "stdout",
     "output_type": "stream",
     "text": [
      "test Loss at epoch 40: 0.11274770647287369\n",
      "\n"
     ]
    },
    {
     "name": "stderr",
     "output_type": "stream",
     "text": [
      "43it [00:00, 234.86it/s]\n"
     ]
    },
    {
     "name": "stdout",
     "output_type": "stream",
     "text": [
      "Train Loss at epoch 41: 0.0026890637818723917\n",
      "\n"
     ]
    },
    {
     "name": "stderr",
     "output_type": "stream",
     "text": [
      "4it [00:00, 447.24it/s]\n"
     ]
    },
    {
     "name": "stdout",
     "output_type": "stream",
     "text": [
      "test Loss at epoch 41: 0.11280050128698349\n",
      "\n"
     ]
    },
    {
     "name": "stderr",
     "output_type": "stream",
     "text": [
      "43it [00:00, 199.22it/s]\n"
     ]
    },
    {
     "name": "stdout",
     "output_type": "stream",
     "text": [
      "Train Loss at epoch 42: 0.0026591909117996693\n",
      "\n"
     ]
    },
    {
     "name": "stderr",
     "output_type": "stream",
     "text": [
      "4it [00:00, 432.73it/s]\n"
     ]
    },
    {
     "name": "stdout",
     "output_type": "stream",
     "text": [
      "test Loss at epoch 42: 0.11280573159456253\n",
      "\n"
     ]
    },
    {
     "name": "stderr",
     "output_type": "stream",
     "text": [
      "43it [00:00, 215.82it/s]\n"
     ]
    },
    {
     "name": "stdout",
     "output_type": "stream",
     "text": [
      "Train Loss at epoch 43: 0.0026358691975474358\n",
      "\n"
     ]
    },
    {
     "name": "stderr",
     "output_type": "stream",
     "text": [
      "4it [00:00, 559.67it/s]\n"
     ]
    },
    {
     "name": "stdout",
     "output_type": "stream",
     "text": [
      "test Loss at epoch 43: 0.11281397938728333\n",
      "\n"
     ]
    },
    {
     "name": "stderr",
     "output_type": "stream",
     "text": [
      "43it [00:00, 228.26it/s]\n"
     ]
    },
    {
     "name": "stdout",
     "output_type": "stream",
     "text": [
      "Train Loss at epoch 44: 0.0026174827944487333\n",
      "\n"
     ]
    },
    {
     "name": "stderr",
     "output_type": "stream",
     "text": [
      "4it [00:00, 541.99it/s]\n"
     ]
    },
    {
     "name": "stdout",
     "output_type": "stream",
     "text": [
      "test Loss at epoch 44: 0.11284463107585907\n",
      "\n"
     ]
    },
    {
     "name": "stderr",
     "output_type": "stream",
     "text": [
      "43it [00:00, 233.91it/s]\n"
     ]
    },
    {
     "name": "stdout",
     "output_type": "stream",
     "text": [
      "Train Loss at epoch 45: 0.002603453118354082\n",
      "\n"
     ]
    },
    {
     "name": "stderr",
     "output_type": "stream",
     "text": [
      "4it [00:00, 598.87it/s]\n"
     ]
    },
    {
     "name": "stdout",
     "output_type": "stream",
     "text": [
      "test Loss at epoch 45: 0.11286721378564835\n",
      "\n"
     ]
    },
    {
     "name": "stderr",
     "output_type": "stream",
     "text": [
      "43it [00:00, 219.72it/s]\n"
     ]
    },
    {
     "name": "stdout",
     "output_type": "stream",
     "text": [
      "Train Loss at epoch 46: 0.002592119388282299\n",
      "\n"
     ]
    },
    {
     "name": "stderr",
     "output_type": "stream",
     "text": [
      "4it [00:00, 474.93it/s]\n"
     ]
    },
    {
     "name": "stdout",
     "output_type": "stream",
     "text": [
      "test Loss at epoch 46: 0.11286596953868866\n",
      "\n"
     ]
    },
    {
     "name": "stderr",
     "output_type": "stream",
     "text": [
      "43it [00:00, 229.95it/s]\n"
     ]
    },
    {
     "name": "stdout",
     "output_type": "stream",
     "text": [
      "Train Loss at epoch 47: 0.002583005465567112\n",
      "\n"
     ]
    },
    {
     "name": "stderr",
     "output_type": "stream",
     "text": [
      "4it [00:00, 483.42it/s]\n"
     ]
    },
    {
     "name": "stdout",
     "output_type": "stream",
     "text": [
      "test Loss at epoch 47: 0.11288765072822571\n",
      "\n"
     ]
    },
    {
     "name": "stderr",
     "output_type": "stream",
     "text": [
      "43it [00:00, 234.23it/s]"
     ]
    },
    {
     "name": "stdout",
     "output_type": "stream",
     "text": [
      "Train Loss at epoch 48: 0.0025751369539648294\n",
      "\n"
     ]
    },
    {
     "name": "stderr",
     "output_type": "stream",
     "text": [
      "\n",
      "4it [00:00, 568.45it/s]\n"
     ]
    },
    {
     "name": "stdout",
     "output_type": "stream",
     "text": [
      "test Loss at epoch 48: 0.11289317160844803\n",
      "\n"
     ]
    },
    {
     "name": "stderr",
     "output_type": "stream",
     "text": [
      "43it [00:00, 229.24it/s]\n"
     ]
    },
    {
     "name": "stdout",
     "output_type": "stream",
     "text": [
      "Train Loss at epoch 49: 0.0025682877749204636\n",
      "\n"
     ]
    },
    {
     "name": "stderr",
     "output_type": "stream",
     "text": [
      "4it [00:00, 439.17it/s]\n"
     ]
    },
    {
     "name": "stdout",
     "output_type": "stream",
     "text": [
      "test Loss at epoch 49: 0.11290929466485977\n",
      "\n"
     ]
    },
    {
     "name": "stderr",
     "output_type": "stream",
     "text": [
      "43it [00:00, 226.85it/s]\n"
     ]
    },
    {
     "name": "stdout",
     "output_type": "stream",
     "text": [
      "Train Loss at epoch 50: 0.0025626036804169416\n",
      "\n"
     ]
    },
    {
     "name": "stderr",
     "output_type": "stream",
     "text": [
      "4it [00:00, 518.30it/s]\n"
     ]
    },
    {
     "name": "stdout",
     "output_type": "stream",
     "text": [
      "test Loss at epoch 50: 0.11290940642356873\n",
      "\n"
     ]
    },
    {
     "name": "stderr",
     "output_type": "stream",
     "text": [
      "43it [00:00, 233.16it/s]\n"
     ]
    },
    {
     "name": "stdout",
     "output_type": "stream",
     "text": [
      "Train Loss at epoch 51: 0.002557779662311077\n",
      "\n"
     ]
    },
    {
     "name": "stderr",
     "output_type": "stream",
     "text": [
      "4it [00:00, 512.47it/s]\n"
     ]
    },
    {
     "name": "stdout",
     "output_type": "stream",
     "text": [
      "test Loss at epoch 51: 0.11289982497692108\n",
      "\n"
     ]
    },
    {
     "name": "stderr",
     "output_type": "stream",
     "text": [
      "43it [00:00, 229.28it/s]\n"
     ]
    },
    {
     "name": "stdout",
     "output_type": "stream",
     "text": [
      "Train Loss at epoch 52: 0.0025530443526804447\n",
      "\n"
     ]
    },
    {
     "name": "stderr",
     "output_type": "stream",
     "text": [
      "4it [00:00, 570.54it/s]\n"
     ]
    },
    {
     "name": "stdout",
     "output_type": "stream",
     "text": [
      "test Loss at epoch 52: 0.11289019882678986\n",
      "\n"
     ]
    },
    {
     "name": "stderr",
     "output_type": "stream",
     "text": [
      "43it [00:00, 232.13it/s]\n"
     ]
    },
    {
     "name": "stdout",
     "output_type": "stream",
     "text": [
      "Train Loss at epoch 53: 0.002549725817516446\n",
      "\n"
     ]
    },
    {
     "name": "stderr",
     "output_type": "stream",
     "text": [
      "4it [00:00, 503.71it/s]\n"
     ]
    },
    {
     "name": "stdout",
     "output_type": "stream",
     "text": [
      "test Loss at epoch 53: 0.11289100348949432\n",
      "\n"
     ]
    },
    {
     "name": "stderr",
     "output_type": "stream",
     "text": [
      "43it [00:00, 218.96it/s]\n"
     ]
    },
    {
     "name": "stdout",
     "output_type": "stream",
     "text": [
      "Train Loss at epoch 54: 0.002546305302530527\n",
      "\n"
     ]
    },
    {
     "name": "stderr",
     "output_type": "stream",
     "text": [
      "4it [00:00, 536.72it/s]\n"
     ]
    },
    {
     "name": "stdout",
     "output_type": "stream",
     "text": [
      "test Loss at epoch 54: 0.11288360506296158\n",
      "\n"
     ]
    },
    {
     "name": "stderr",
     "output_type": "stream",
     "text": [
      "43it [00:00, 228.90it/s]\n"
     ]
    },
    {
     "name": "stdout",
     "output_type": "stream",
     "text": [
      "Train Loss at epoch 55: 0.0025430379901081324\n",
      "\n"
     ]
    },
    {
     "name": "stderr",
     "output_type": "stream",
     "text": [
      "4it [00:00, 544.63it/s]\n"
     ]
    },
    {
     "name": "stdout",
     "output_type": "stream",
     "text": [
      "test Loss at epoch 55: 0.11286907643079758\n",
      "\n"
     ]
    },
    {
     "name": "stderr",
     "output_type": "stream",
     "text": [
      "43it [00:00, 228.43it/s]\n"
     ]
    },
    {
     "name": "stdout",
     "output_type": "stream",
     "text": [
      "Train Loss at epoch 56: 0.002539686392992735\n",
      "\n"
     ]
    },
    {
     "name": "stderr",
     "output_type": "stream",
     "text": [
      "4it [00:00, 564.07it/s]\n"
     ]
    },
    {
     "name": "stdout",
     "output_type": "stream",
     "text": [
      "test Loss at epoch 56: 0.11285202950239182\n",
      "\n"
     ]
    },
    {
     "name": "stderr",
     "output_type": "stream",
     "text": [
      "43it [00:00, 234.59it/s]\n"
     ]
    },
    {
     "name": "stdout",
     "output_type": "stream",
     "text": [
      "Train Loss at epoch 57: 0.002536801155656576\n",
      "\n"
     ]
    },
    {
     "name": "stderr",
     "output_type": "stream",
     "text": [
      "4it [00:00, 576.26it/s]\n"
     ]
    },
    {
     "name": "stdout",
     "output_type": "stream",
     "text": [
      "test Loss at epoch 57: 0.11283095926046371\n",
      "\n"
     ]
    },
    {
     "name": "stderr",
     "output_type": "stream",
     "text": [
      "43it [00:00, 224.38it/s]\n"
     ]
    },
    {
     "name": "stdout",
     "output_type": "stream",
     "text": [
      "Train Loss at epoch 58: 0.0025335936807096004\n",
      "\n"
     ]
    },
    {
     "name": "stderr",
     "output_type": "stream",
     "text": [
      "4it [00:00, 481.63it/s]\n"
     ]
    },
    {
     "name": "stdout",
     "output_type": "stream",
     "text": [
      "test Loss at epoch 58: 0.11281169205904007\n",
      "\n"
     ]
    },
    {
     "name": "stderr",
     "output_type": "stream",
     "text": [
      "43it [00:00, 234.32it/s]\n"
     ]
    },
    {
     "name": "stdout",
     "output_type": "stream",
     "text": [
      "Train Loss at epoch 59: 0.002530822530388832\n",
      "\n"
     ]
    },
    {
     "name": "stderr",
     "output_type": "stream",
     "text": [
      "4it [00:00, 589.21it/s]\n"
     ]
    },
    {
     "name": "stdout",
     "output_type": "stream",
     "text": [
      "test Loss at epoch 59: 0.11279039829969406\n",
      "\n"
     ]
    },
    {
     "name": "stderr",
     "output_type": "stream",
     "text": [
      "43it [00:00, 227.43it/s]\n"
     ]
    },
    {
     "name": "stdout",
     "output_type": "stream",
     "text": [
      "Train Loss at epoch 60: 0.002527739852666855\n",
      "\n"
     ]
    },
    {
     "name": "stderr",
     "output_type": "stream",
     "text": [
      "4it [00:00, 509.85it/s]\n"
     ]
    },
    {
     "name": "stdout",
     "output_type": "stream",
     "text": [
      "test Loss at epoch 60: 0.11277081072330475\n",
      "\n"
     ]
    },
    {
     "name": "stderr",
     "output_type": "stream",
     "text": [
      "43it [00:00, 225.80it/s]\n"
     ]
    },
    {
     "name": "stdout",
     "output_type": "stream",
     "text": [
      "Train Loss at epoch 61: 0.002525045769289136\n",
      "\n"
     ]
    },
    {
     "name": "stderr",
     "output_type": "stream",
     "text": [
      "4it [00:00, 454.06it/s]\n"
     ]
    },
    {
     "name": "stdout",
     "output_type": "stream",
     "text": [
      "test Loss at epoch 61: 0.1127239242196083\n",
      "\n"
     ]
    },
    {
     "name": "stderr",
     "output_type": "stream",
     "text": [
      "43it [00:00, 235.67it/s]\n"
     ]
    },
    {
     "name": "stdout",
     "output_type": "stream",
     "text": [
      "Train Loss at epoch 62: 0.0025219665840268135\n",
      "\n"
     ]
    },
    {
     "name": "stderr",
     "output_type": "stream",
     "text": [
      "4it [00:00, 492.52it/s]\n"
     ]
    },
    {
     "name": "stdout",
     "output_type": "stream",
     "text": [
      "test Loss at epoch 62: 0.11270622164011002\n",
      "\n"
     ]
    },
    {
     "name": "stderr",
     "output_type": "stream",
     "text": [
      "43it [00:00, 219.97it/s]\n"
     ]
    },
    {
     "name": "stdout",
     "output_type": "stream",
     "text": [
      "Train Loss at epoch 63: 0.002519435714930296\n",
      "\n"
     ]
    },
    {
     "name": "stderr",
     "output_type": "stream",
     "text": [
      "4it [00:00, 550.02it/s]\n"
     ]
    },
    {
     "name": "stdout",
     "output_type": "stream",
     "text": [
      "test Loss at epoch 63: 0.11268529295921326\n",
      "\n"
     ]
    },
    {
     "name": "stderr",
     "output_type": "stream",
     "text": [
      "43it [00:00, 219.59it/s]\n"
     ]
    },
    {
     "name": "stdout",
     "output_type": "stream",
     "text": [
      "Train Loss at epoch 64: 0.002517047571018338\n",
      "\n"
     ]
    },
    {
     "name": "stderr",
     "output_type": "stream",
     "text": [
      "4it [00:00, 470.03it/s]\n"
     ]
    },
    {
     "name": "stdout",
     "output_type": "stream",
     "text": [
      "test Loss at epoch 64: 0.11263565719127655\n",
      "\n"
     ]
    },
    {
     "name": "stderr",
     "output_type": "stream",
     "text": [
      "43it [00:00, 228.64it/s]\n"
     ]
    },
    {
     "name": "stdout",
     "output_type": "stream",
     "text": [
      "Train Loss at epoch 65: 0.0025142142549157143\n",
      "\n"
     ]
    },
    {
     "name": "stderr",
     "output_type": "stream",
     "text": [
      "4it [00:00, 443.27it/s]\n"
     ]
    },
    {
     "name": "stdout",
     "output_type": "stream",
     "text": [
      "test Loss at epoch 65: 0.11261679232120514\n",
      "\n"
     ]
    },
    {
     "name": "stderr",
     "output_type": "stream",
     "text": [
      "43it [00:00, 223.80it/s]\n"
     ]
    },
    {
     "name": "stdout",
     "output_type": "stream",
     "text": [
      "Train Loss at epoch 66: 0.002511918079108\n",
      "\n"
     ]
    },
    {
     "name": "stderr",
     "output_type": "stream",
     "text": [
      "4it [00:00, 492.43it/s]\n"
     ]
    },
    {
     "name": "stdout",
     "output_type": "stream",
     "text": [
      "test Loss at epoch 66: 0.11256930977106094\n",
      "\n"
     ]
    },
    {
     "name": "stderr",
     "output_type": "stream",
     "text": [
      "43it [00:00, 233.57it/s]\n"
     ]
    },
    {
     "name": "stdout",
     "output_type": "stream",
     "text": [
      "Train Loss at epoch 67: 0.00250925961881876\n",
      "\n"
     ]
    },
    {
     "name": "stderr",
     "output_type": "stream",
     "text": [
      "4it [00:00, 514.09it/s]\n"
     ]
    },
    {
     "name": "stdout",
     "output_type": "stream",
     "text": [
      "test Loss at epoch 67: 0.11255192011594772\n",
      "\n"
     ]
    },
    {
     "name": "stderr",
     "output_type": "stream",
     "text": [
      "43it [00:00, 229.29it/s]\n"
     ]
    },
    {
     "name": "stdout",
     "output_type": "stream",
     "text": [
      "Train Loss at epoch 68: 0.0025070796255022287\n",
      "\n"
     ]
    },
    {
     "name": "stderr",
     "output_type": "stream",
     "text": [
      "4it [00:00, 553.12it/s]\n"
     ]
    },
    {
     "name": "stdout",
     "output_type": "stream",
     "text": [
      "test Loss at epoch 68: 0.11253312975168228\n",
      "\n"
     ]
    },
    {
     "name": "stderr",
     "output_type": "stream",
     "text": [
      "43it [00:00, 215.29it/s]\n"
     ]
    },
    {
     "name": "stdout",
     "output_type": "stream",
     "text": [
      "Train Loss at epoch 69: 0.002505445620045066\n",
      "\n"
     ]
    },
    {
     "name": "stderr",
     "output_type": "stream",
     "text": [
      "4it [00:00, 577.83it/s]\n"
     ]
    },
    {
     "name": "stdout",
     "output_type": "stream",
     "text": [
      "test Loss at epoch 69: 0.11242181807756424\n",
      "\n"
     ]
    },
    {
     "name": "stderr",
     "output_type": "stream",
     "text": [
      "43it [00:00, 242.48it/s]\n"
     ]
    },
    {
     "name": "stdout",
     "output_type": "stream",
     "text": [
      "Train Loss at epoch 70: 0.0025019552558660507\n",
      "\n"
     ]
    },
    {
     "name": "stderr",
     "output_type": "stream",
     "text": [
      "4it [00:00, 450.99it/s]\n"
     ]
    },
    {
     "name": "stdout",
     "output_type": "stream",
     "text": [
      "test Loss at epoch 70: 0.11237703263759613\n",
      "\n"
     ]
    },
    {
     "name": "stderr",
     "output_type": "stream",
     "text": [
      "43it [00:00, 235.69it/s]\n"
     ]
    },
    {
     "name": "stdout",
     "output_type": "stream",
     "text": [
      "Train Loss at epoch 71: 0.0024995815474539995\n",
      "\n"
     ]
    },
    {
     "name": "stderr",
     "output_type": "stream",
     "text": [
      "4it [00:00, 508.05it/s]\n"
     ]
    },
    {
     "name": "stdout",
     "output_type": "stream",
     "text": [
      "test Loss at epoch 71: 0.11236267536878586\n",
      "\n"
     ]
    },
    {
     "name": "stderr",
     "output_type": "stream",
     "text": [
      "43it [00:00, 230.81it/s]\n"
     ]
    },
    {
     "name": "stdout",
     "output_type": "stream",
     "text": [
      "Train Loss at epoch 72: 0.002497725421562791\n",
      "\n"
     ]
    },
    {
     "name": "stderr",
     "output_type": "stream",
     "text": [
      "4it [00:00, 567.24it/s]\n"
     ]
    },
    {
     "name": "stdout",
     "output_type": "stream",
     "text": [
      "test Loss at epoch 72: 0.11234237998723984\n",
      "\n"
     ]
    },
    {
     "name": "stderr",
     "output_type": "stream",
     "text": [
      "43it [00:00, 224.91it/s]\n"
     ]
    },
    {
     "name": "stdout",
     "output_type": "stream",
     "text": [
      "Train Loss at epoch 73: 0.0024957815185189247\n",
      "\n"
     ]
    },
    {
     "name": "stderr",
     "output_type": "stream",
     "text": [
      "4it [00:00, 477.13it/s]\n"
     ]
    },
    {
     "name": "stdout",
     "output_type": "stream",
     "text": [
      "test Loss at epoch 73: 0.11232449114322662\n",
      "\n"
     ]
    },
    {
     "name": "stderr",
     "output_type": "stream",
     "text": [
      "43it [00:00, 227.24it/s]\n"
     ]
    },
    {
     "name": "stdout",
     "output_type": "stream",
     "text": [
      "Train Loss at epoch 74: 0.0024939156137406826\n",
      "\n"
     ]
    },
    {
     "name": "stderr",
     "output_type": "stream",
     "text": [
      "4it [00:00, 489.06it/s]\n"
     ]
    },
    {
     "name": "stdout",
     "output_type": "stream",
     "text": [
      "test Loss at epoch 74: 0.11230563372373581\n",
      "\n"
     ]
    },
    {
     "name": "stderr",
     "output_type": "stream",
     "text": [
      "43it [00:00, 228.49it/s]\n"
     ]
    },
    {
     "name": "stdout",
     "output_type": "stream",
     "text": [
      "Train Loss at epoch 75: 0.0024920543655753136\n",
      "\n"
     ]
    },
    {
     "name": "stderr",
     "output_type": "stream",
     "text": [
      "4it [00:00, 515.10it/s]\n"
     ]
    },
    {
     "name": "stdout",
     "output_type": "stream",
     "text": [
      "test Loss at epoch 75: 0.11228837072849274\n",
      "\n"
     ]
    },
    {
     "name": "stderr",
     "output_type": "stream",
     "text": [
      "43it [00:00, 222.30it/s]\n"
     ]
    },
    {
     "name": "stdout",
     "output_type": "stream",
     "text": [
      "Train Loss at epoch 76: 0.0024902368895709515\n",
      "\n"
     ]
    },
    {
     "name": "stderr",
     "output_type": "stream",
     "text": [
      "4it [00:00, 557.64it/s]\n"
     ]
    },
    {
     "name": "stdout",
     "output_type": "stream",
     "text": [
      "test Loss at epoch 76: 0.11226966232061386\n",
      "\n"
     ]
    },
    {
     "name": "stderr",
     "output_type": "stream",
     "text": [
      "43it [00:00, 224.80it/s]\n"
     ]
    },
    {
     "name": "stdout",
     "output_type": "stream",
     "text": [
      "Train Loss at epoch 77: 0.002488431753590703\n",
      "\n"
     ]
    },
    {
     "name": "stderr",
     "output_type": "stream",
     "text": [
      "4it [00:00, 514.62it/s]\n"
     ]
    },
    {
     "name": "stdout",
     "output_type": "stream",
     "text": [
      "test Loss at epoch 77: 0.11225241422653198\n",
      "\n"
     ]
    },
    {
     "name": "stderr",
     "output_type": "stream",
     "text": [
      "43it [00:00, 225.36it/s]\n"
     ]
    },
    {
     "name": "stdout",
     "output_type": "stream",
     "text": [
      "Train Loss at epoch 78: 0.0024866568855941296\n",
      "\n"
     ]
    },
    {
     "name": "stderr",
     "output_type": "stream",
     "text": [
      "4it [00:00, 558.63it/s]\n"
     ]
    },
    {
     "name": "stdout",
     "output_type": "stream",
     "text": [
      "test Loss at epoch 78: 0.11223609745502472\n",
      "\n"
     ]
    },
    {
     "name": "stderr",
     "output_type": "stream",
     "text": [
      "43it [00:00, 222.28it/s]\n"
     ]
    },
    {
     "name": "stdout",
     "output_type": "stream",
     "text": [
      "Train Loss at epoch 79: 0.0024850128684192896\n",
      "\n"
     ]
    },
    {
     "name": "stderr",
     "output_type": "stream",
     "text": [
      "4it [00:00, 516.89it/s]\n"
     ]
    },
    {
     "name": "stdout",
     "output_type": "stream",
     "text": [
      "test Loss at epoch 79: 0.11222073435783386\n",
      "\n"
     ]
    },
    {
     "name": "stderr",
     "output_type": "stream",
     "text": [
      "43it [00:00, 229.26it/s]\n"
     ]
    },
    {
     "name": "stdout",
     "output_type": "stream",
     "text": [
      "Train Loss at epoch 80: 0.002483345801010728\n",
      "\n"
     ]
    },
    {
     "name": "stderr",
     "output_type": "stream",
     "text": [
      "4it [00:00, 481.33it/s]\n"
     ]
    },
    {
     "name": "stdout",
     "output_type": "stream",
     "text": [
      "test Loss at epoch 80: 0.11220294237136841\n",
      "\n"
     ]
    },
    {
     "name": "stderr",
     "output_type": "stream",
     "text": [
      "43it [00:00, 225.43it/s]\n"
     ]
    },
    {
     "name": "stdout",
     "output_type": "stream",
     "text": [
      "Train Loss at epoch 81: 0.0024818223901093006\n",
      "\n"
     ]
    },
    {
     "name": "stderr",
     "output_type": "stream",
     "text": [
      "4it [00:00, 464.94it/s]\n"
     ]
    },
    {
     "name": "stdout",
     "output_type": "stream",
     "text": [
      "test Loss at epoch 81: 0.11215287446975708\n",
      "\n"
     ]
    },
    {
     "name": "stderr",
     "output_type": "stream",
     "text": [
      "43it [00:00, 228.79it/s]\n"
     ]
    },
    {
     "name": "stdout",
     "output_type": "stream",
     "text": [
      "Train Loss at epoch 82: 0.00247946591116488\n",
      "\n"
     ]
    },
    {
     "name": "stderr",
     "output_type": "stream",
     "text": [
      "4it [00:00, 428.71it/s]\n"
     ]
    },
    {
     "name": "stdout",
     "output_type": "stream",
     "text": [
      "test Loss at epoch 82: 0.11214780062437057\n",
      "\n"
     ]
    },
    {
     "name": "stderr",
     "output_type": "stream",
     "text": [
      "43it [00:00, 229.68it/s]\n"
     ]
    },
    {
     "name": "stdout",
     "output_type": "stream",
     "text": [
      "Train Loss at epoch 83: 0.0024781501851975918\n",
      "\n"
     ]
    },
    {
     "name": "stderr",
     "output_type": "stream",
     "text": [
      "4it [00:00, 568.22it/s]\n"
     ]
    },
    {
     "name": "stdout",
     "output_type": "stream",
     "text": [
      "test Loss at epoch 83: 0.1121319830417633\n",
      "\n"
     ]
    },
    {
     "name": "stderr",
     "output_type": "stream",
     "text": [
      "43it [00:00, 221.01it/s]\n"
     ]
    },
    {
     "name": "stdout",
     "output_type": "stream",
     "text": [
      "Train Loss at epoch 84: 0.0024766551796346903\n",
      "\n"
     ]
    },
    {
     "name": "stderr",
     "output_type": "stream",
     "text": [
      "4it [00:00, 442.25it/s]\n"
     ]
    },
    {
     "name": "stdout",
     "output_type": "stream",
     "text": [
      "test Loss at epoch 84: 0.11211109161376953\n",
      "\n"
     ]
    },
    {
     "name": "stderr",
     "output_type": "stream",
     "text": [
      "43it [00:00, 216.56it/s]\n"
     ]
    },
    {
     "name": "stdout",
     "output_type": "stream",
     "text": [
      "Train Loss at epoch 85: 0.0024752349127084017\n",
      "\n"
     ]
    },
    {
     "name": "stderr",
     "output_type": "stream",
     "text": [
      "4it [00:00, 445.68it/s]\n"
     ]
    },
    {
     "name": "stdout",
     "output_type": "stream",
     "text": [
      "test Loss at epoch 85: 0.11206148564815521\n",
      "\n"
     ]
    },
    {
     "name": "stderr",
     "output_type": "stream",
     "text": [
      "43it [00:00, 226.70it/s]\n"
     ]
    },
    {
     "name": "stdout",
     "output_type": "stream",
     "text": [
      "Train Loss at epoch 86: 0.002473254455253482\n",
      "\n"
     ]
    },
    {
     "name": "stderr",
     "output_type": "stream",
     "text": [
      "4it [00:00, 471.31it/s]\n"
     ]
    },
    {
     "name": "stdout",
     "output_type": "stream",
     "text": [
      "test Loss at epoch 86: 0.11204400658607483\n",
      "\n"
     ]
    },
    {
     "name": "stderr",
     "output_type": "stream",
     "text": [
      "43it [00:00, 226.24it/s]\n"
     ]
    },
    {
     "name": "stdout",
     "output_type": "stream",
     "text": [
      "Train Loss at epoch 87: 0.0024716341868042946\n",
      "\n"
     ]
    },
    {
     "name": "stderr",
     "output_type": "stream",
     "text": [
      "4it [00:00, 524.47it/s]\n"
     ]
    },
    {
     "name": "stdout",
     "output_type": "stream",
     "text": [
      "test Loss at epoch 87: 0.11202516406774521\n",
      "\n"
     ]
    },
    {
     "name": "stderr",
     "output_type": "stream",
     "text": [
      "43it [00:00, 232.83it/s]\n"
     ]
    },
    {
     "name": "stdout",
     "output_type": "stream",
     "text": [
      "Train Loss at epoch 88: 0.0024699794594198465\n",
      "\n"
     ]
    },
    {
     "name": "stderr",
     "output_type": "stream",
     "text": [
      "4it [00:00, 519.02it/s]\n"
     ]
    },
    {
     "name": "stdout",
     "output_type": "stream",
     "text": [
      "test Loss at epoch 88: 0.11200807243585587\n",
      "\n"
     ]
    },
    {
     "name": "stderr",
     "output_type": "stream",
     "text": [
      "43it [00:00, 232.41it/s]\n"
     ]
    },
    {
     "name": "stdout",
     "output_type": "stream",
     "text": [
      "Train Loss at epoch 89: 0.0024682863149791956\n",
      "\n"
     ]
    },
    {
     "name": "stderr",
     "output_type": "stream",
     "text": [
      "4it [00:00, 590.25it/s]\n"
     ]
    },
    {
     "name": "stdout",
     "output_type": "stream",
     "text": [
      "test Loss at epoch 89: 0.11200500279664993\n",
      "\n"
     ]
    },
    {
     "name": "stderr",
     "output_type": "stream",
     "text": [
      "43it [00:00, 224.80it/s]\n"
     ]
    },
    {
     "name": "stdout",
     "output_type": "stream",
     "text": [
      "Train Loss at epoch 90: 0.002466494683176279\n",
      "\n"
     ]
    },
    {
     "name": "stderr",
     "output_type": "stream",
     "text": [
      "4it [00:00, 465.83it/s]\n"
     ]
    },
    {
     "name": "stdout",
     "output_type": "stream",
     "text": [
      "test Loss at epoch 90: 0.11198877543210983\n",
      "\n"
     ]
    },
    {
     "name": "stderr",
     "output_type": "stream",
     "text": [
      "43it [00:00, 222.64it/s]\n"
     ]
    },
    {
     "name": "stdout",
     "output_type": "stream",
     "text": [
      "Train Loss at epoch 91: 0.0024650872219353914\n",
      "\n"
     ]
    },
    {
     "name": "stderr",
     "output_type": "stream",
     "text": [
      "4it [00:00, 562.20it/s]\n"
     ]
    },
    {
     "name": "stdout",
     "output_type": "stream",
     "text": [
      "test Loss at epoch 91: 0.11196763068437576\n",
      "\n"
     ]
    },
    {
     "name": "stderr",
     "output_type": "stream",
     "text": [
      "43it [00:00, 226.20it/s]\n"
     ]
    },
    {
     "name": "stdout",
     "output_type": "stream",
     "text": [
      "Train Loss at epoch 92: 0.0024634019937366247\n",
      "\n"
     ]
    },
    {
     "name": "stderr",
     "output_type": "stream",
     "text": [
      "4it [00:00, 438.77it/s]\n"
     ]
    },
    {
     "name": "stdout",
     "output_type": "stream",
     "text": [
      "test Loss at epoch 92: 0.11194848269224167\n",
      "\n"
     ]
    },
    {
     "name": "stderr",
     "output_type": "stream",
     "text": [
      "43it [00:00, 204.81it/s]\n"
     ]
    },
    {
     "name": "stdout",
     "output_type": "stream",
     "text": [
      "Train Loss at epoch 93: 0.002461866708472371\n",
      "\n"
     ]
    },
    {
     "name": "stderr",
     "output_type": "stream",
     "text": [
      "4it [00:00, 484.74it/s]\n"
     ]
    },
    {
     "name": "stdout",
     "output_type": "stream",
     "text": [
      "test Loss at epoch 93: 0.11192863434553146\n",
      "\n"
     ]
    },
    {
     "name": "stderr",
     "output_type": "stream",
     "text": [
      "43it [00:00, 229.56it/s]\n"
     ]
    },
    {
     "name": "stdout",
     "output_type": "stream",
     "text": [
      "Train Loss at epoch 94: 0.002460267161950469\n",
      "\n"
     ]
    },
    {
     "name": "stderr",
     "output_type": "stream",
     "text": [
      "4it [00:00, 480.41it/s]\n"
     ]
    },
    {
     "name": "stdout",
     "output_type": "stream",
     "text": [
      "test Loss at epoch 94: 0.11191071569919586\n",
      "\n"
     ]
    },
    {
     "name": "stderr",
     "output_type": "stream",
     "text": [
      "43it [00:00, 232.73it/s]\n"
     ]
    },
    {
     "name": "stdout",
     "output_type": "stream",
     "text": [
      "Train Loss at epoch 95: 0.0024587931111454964\n",
      "\n"
     ]
    },
    {
     "name": "stderr",
     "output_type": "stream",
     "text": [
      "4it [00:00, 558.44it/s]\n"
     ]
    },
    {
     "name": "stdout",
     "output_type": "stream",
     "text": [
      "test Loss at epoch 95: 0.11189049482345581\n",
      "\n"
     ]
    },
    {
     "name": "stderr",
     "output_type": "stream",
     "text": [
      "43it [00:00, 228.54it/s]\n"
     ]
    },
    {
     "name": "stdout",
     "output_type": "stream",
     "text": [
      "Train Loss at epoch 96: 0.002456983318552375\n",
      "\n"
     ]
    },
    {
     "name": "stderr",
     "output_type": "stream",
     "text": [
      "4it [00:00, 574.05it/s]\n"
     ]
    },
    {
     "name": "stdout",
     "output_type": "stream",
     "text": [
      "test Loss at epoch 96: 0.11188916116952896\n",
      "\n"
     ]
    },
    {
     "name": "stderr",
     "output_type": "stream",
     "text": [
      "43it [00:00, 222.21it/s]\n"
     ]
    },
    {
     "name": "stdout",
     "output_type": "stream",
     "text": [
      "Train Loss at epoch 97: 0.0024559067096561193\n",
      "\n"
     ]
    },
    {
     "name": "stderr",
     "output_type": "stream",
     "text": [
      "4it [00:00, 574.13it/s]\n"
     ]
    },
    {
     "name": "stdout",
     "output_type": "stream",
     "text": [
      "test Loss at epoch 97: 0.11186930537223816\n",
      "\n"
     ]
    },
    {
     "name": "stderr",
     "output_type": "stream",
     "text": [
      "43it [00:00, 220.99it/s]\n"
     ]
    },
    {
     "name": "stdout",
     "output_type": "stream",
     "text": [
      "Train Loss at epoch 98: 0.0024546219501644373\n",
      "\n"
     ]
    },
    {
     "name": "stderr",
     "output_type": "stream",
     "text": [
      "4it [00:00, 558.53it/s]\n"
     ]
    },
    {
     "name": "stdout",
     "output_type": "stream",
     "text": [
      "test Loss at epoch 98: 0.11184784024953842\n",
      "\n"
     ]
    },
    {
     "name": "stderr",
     "output_type": "stream",
     "text": [
      "43it [00:00, 227.16it/s]\n"
     ]
    },
    {
     "name": "stdout",
     "output_type": "stream",
     "text": [
      "Train Loss at epoch 99: 0.0024531385861337185\n",
      "\n"
     ]
    },
    {
     "name": "stderr",
     "output_type": "stream",
     "text": [
      "4it [00:00, 513.24it/s]\n"
     ]
    },
    {
     "name": "stdout",
     "output_type": "stream",
     "text": [
      "test Loss at epoch 99: 0.11182622611522675\n",
      "\n"
     ]
    },
    {
     "name": "stderr",
     "output_type": "stream",
     "text": [
      "43it [00:00, 223.44it/s]\n"
     ]
    },
    {
     "name": "stdout",
     "output_type": "stream",
     "text": [
      "Train Loss at epoch 100: 0.0024517031852155924\n",
      "\n"
     ]
    },
    {
     "name": "stderr",
     "output_type": "stream",
     "text": [
      "4it [00:00, 543.48it/s]\n"
     ]
    },
    {
     "name": "stdout",
     "output_type": "stream",
     "text": [
      "test Loss at epoch 100: 0.1118057519197464\n",
      "\n"
     ]
    },
    {
     "name": "stderr",
     "output_type": "stream",
     "text": [
      "43it [00:00, 224.38it/s]\n"
     ]
    },
    {
     "name": "stdout",
     "output_type": "stream",
     "text": [
      "Train Loss at epoch 101: 0.0024499574210494757\n",
      "\n"
     ]
    },
    {
     "name": "stderr",
     "output_type": "stream",
     "text": [
      "4it [00:00, 567.74it/s]\n"
     ]
    },
    {
     "name": "stdout",
     "output_type": "stream",
     "text": [
      "test Loss at epoch 101: 0.11180528253316879\n",
      "\n"
     ]
    },
    {
     "name": "stderr",
     "output_type": "stream",
     "text": [
      "43it [00:00, 236.43it/s]"
     ]
    },
    {
     "name": "stdout",
     "output_type": "stream",
     "text": [
      "Train Loss at epoch 102: 0.0024487171322107315\n",
      "\n"
     ]
    },
    {
     "name": "stderr",
     "output_type": "stream",
     "text": [
      "\n",
      "4it [00:00, 583.23it/s]\n"
     ]
    },
    {
     "name": "stdout",
     "output_type": "stream",
     "text": [
      "test Loss at epoch 102: 0.11180168390274048\n",
      "\n"
     ]
    },
    {
     "name": "stderr",
     "output_type": "stream",
     "text": [
      "43it [00:00, 235.77it/s]\n"
     ]
    },
    {
     "name": "stdout",
     "output_type": "stream",
     "text": [
      "Train Loss at epoch 103: 0.0024476302787661552\n",
      "\n"
     ]
    },
    {
     "name": "stderr",
     "output_type": "stream",
     "text": [
      "4it [00:00, 471.68it/s]\n"
     ]
    },
    {
     "name": "stdout",
     "output_type": "stream",
     "text": [
      "test Loss at epoch 103: 0.11177469789981842\n",
      "\n"
     ]
    },
    {
     "name": "stderr",
     "output_type": "stream",
     "text": [
      "43it [00:00, 220.77it/s]\n"
     ]
    },
    {
     "name": "stdout",
     "output_type": "stream",
     "text": [
      "Train Loss at epoch 104: 0.002446010010316968\n",
      "\n"
     ]
    },
    {
     "name": "stderr",
     "output_type": "stream",
     "text": [
      "4it [00:00, 598.67it/s]\n"
     ]
    },
    {
     "name": "stdout",
     "output_type": "stream",
     "text": [
      "test Loss at epoch 104: 0.11175018548965454\n",
      "\n"
     ]
    },
    {
     "name": "stderr",
     "output_type": "stream",
     "text": [
      "43it [00:00, 236.01it/s]\n"
     ]
    },
    {
     "name": "stdout",
     "output_type": "stream",
     "text": [
      "Train Loss at epoch 105: 0.002444291254505515\n",
      "\n"
     ]
    },
    {
     "name": "stderr",
     "output_type": "stream",
     "text": [
      "4it [00:00, 592.86it/s]\n"
     ]
    },
    {
     "name": "stdout",
     "output_type": "stream",
     "text": [
      "test Loss at epoch 105: 0.11174563318490982\n",
      "\n"
     ]
    },
    {
     "name": "stderr",
     "output_type": "stream",
     "text": [
      "43it [00:00, 216.01it/s]\n"
     ]
    },
    {
     "name": "stdout",
     "output_type": "stream",
     "text": [
      "Train Loss at epoch 106: 0.002442882629111409\n",
      "\n"
     ]
    },
    {
     "name": "stderr",
     "output_type": "stream",
     "text": [
      "4it [00:00, 525.49it/s]\n"
     ]
    },
    {
     "name": "stdout",
     "output_type": "stream",
     "text": [
      "test Loss at epoch 106: 0.11173136532306671\n",
      "\n"
     ]
    },
    {
     "name": "stderr",
     "output_type": "stream",
     "text": [
      "43it [00:00, 226.32it/s]\n"
     ]
    },
    {
     "name": "stdout",
     "output_type": "stream",
     "text": [
      "Train Loss at epoch 107: 0.002440571552142501\n",
      "\n"
     ]
    },
    {
     "name": "stderr",
     "output_type": "stream",
     "text": [
      "4it [00:00, 507.80it/s]\n"
     ]
    },
    {
     "name": "stdout",
     "output_type": "stream",
     "text": [
      "test Loss at epoch 107: 0.11169490218162537\n",
      "\n"
     ]
    },
    {
     "name": "stderr",
     "output_type": "stream",
     "text": [
      "43it [00:00, 233.48it/s]\n"
     ]
    },
    {
     "name": "stdout",
     "output_type": "stream",
     "text": [
      "Train Loss at epoch 108: 0.002438608091324568\n",
      "\n"
     ]
    },
    {
     "name": "stderr",
     "output_type": "stream",
     "text": [
      "4it [00:00, 549.80it/s]\n"
     ]
    },
    {
     "name": "stdout",
     "output_type": "stream",
     "text": [
      "test Loss at epoch 108: 0.11167716234922409\n",
      "\n"
     ]
    },
    {
     "name": "stderr",
     "output_type": "stream",
     "text": [
      "43it [00:00, 226.64it/s]\n"
     ]
    },
    {
     "name": "stdout",
     "output_type": "stream",
     "text": [
      "Train Loss at epoch 109: 0.0024371077306568623\n",
      "\n"
     ]
    },
    {
     "name": "stderr",
     "output_type": "stream",
     "text": [
      "4it [00:00, 467.77it/s]\n"
     ]
    },
    {
     "name": "stdout",
     "output_type": "stream",
     "text": [
      "test Loss at epoch 109: 0.11165708303451538\n",
      "\n"
     ]
    },
    {
     "name": "stderr",
     "output_type": "stream",
     "text": [
      "43it [00:00, 232.82it/s]\n"
     ]
    },
    {
     "name": "stdout",
     "output_type": "stream",
     "text": [
      "Train Loss at epoch 110: 0.0024357482325285673\n",
      "\n"
     ]
    },
    {
     "name": "stderr",
     "output_type": "stream",
     "text": [
      "4it [00:00, 502.21it/s]\n"
     ]
    },
    {
     "name": "stdout",
     "output_type": "stream",
     "text": [
      "test Loss at epoch 110: 0.11163608729839325\n",
      "\n"
     ]
    },
    {
     "name": "stderr",
     "output_type": "stream",
     "text": [
      "43it [00:00, 229.68it/s]\n"
     ]
    },
    {
     "name": "stdout",
     "output_type": "stream",
     "text": [
      "Train Loss at epoch 111: 0.0024341396056115627\n",
      "\n"
     ]
    },
    {
     "name": "stderr",
     "output_type": "stream",
     "text": [
      "4it [00:00, 537.28it/s]\n"
     ]
    },
    {
     "name": "stdout",
     "output_type": "stream",
     "text": [
      "test Loss at epoch 111: 0.11161291599273682\n",
      "\n"
     ]
    },
    {
     "name": "stderr",
     "output_type": "stream",
     "text": [
      "43it [00:00, 224.32it/s]\n"
     ]
    },
    {
     "name": "stdout",
     "output_type": "stream",
     "text": [
      "Train Loss at epoch 112: 0.0024326995480805635\n",
      "\n"
     ]
    },
    {
     "name": "stderr",
     "output_type": "stream",
     "text": [
      "4it [00:00, 467.71it/s]\n"
     ]
    },
    {
     "name": "stdout",
     "output_type": "stream",
     "text": [
      "test Loss at epoch 112: 0.11159169673919678\n",
      "\n"
     ]
    },
    {
     "name": "stderr",
     "output_type": "stream",
     "text": [
      "43it [00:00, 235.95it/s]\n"
     ]
    },
    {
     "name": "stdout",
     "output_type": "stream",
     "text": [
      "Train Loss at epoch 113: 0.002431012922897935\n",
      "\n"
     ]
    },
    {
     "name": "stderr",
     "output_type": "stream",
     "text": [
      "4it [00:00, 588.92it/s]\n"
     ]
    },
    {
     "name": "stdout",
     "output_type": "stream",
     "text": [
      "test Loss at epoch 113: 0.11160609126091003\n",
      "\n"
     ]
    },
    {
     "name": "stderr",
     "output_type": "stream",
     "text": [
      "43it [00:00, 225.97it/s]\n"
     ]
    },
    {
     "name": "stdout",
     "output_type": "stream",
     "text": [
      "Train Loss at epoch 114: 0.0024304583203047514\n",
      "\n"
     ]
    },
    {
     "name": "stderr",
     "output_type": "stream",
     "text": [
      "4it [00:00, 464.94it/s]\n"
     ]
    },
    {
     "name": "stdout",
     "output_type": "stream",
     "text": [
      "test Loss at epoch 114: 0.11159085482358932\n",
      "\n"
     ]
    },
    {
     "name": "stderr",
     "output_type": "stream",
     "text": [
      "43it [00:00, 231.80it/s]\n"
     ]
    },
    {
     "name": "stdout",
     "output_type": "stream",
     "text": [
      "Train Loss at epoch 115: 0.002429125364869833\n",
      "\n"
     ]
    },
    {
     "name": "stderr",
     "output_type": "stream",
     "text": [
      "4it [00:00, 537.39it/s]\n"
     ]
    },
    {
     "name": "stdout",
     "output_type": "stream",
     "text": [
      "test Loss at epoch 115: 0.11156467348337173\n",
      "\n"
     ]
    },
    {
     "name": "stderr",
     "output_type": "stream",
     "text": [
      "43it [00:00, 211.25it/s]\n"
     ]
    },
    {
     "name": "stdout",
     "output_type": "stream",
     "text": [
      "Train Loss at epoch 116: 0.0024277386255562305\n",
      "\n"
     ]
    },
    {
     "name": "stderr",
     "output_type": "stream",
     "text": [
      "4it [00:00, 573.87it/s]\n"
     ]
    },
    {
     "name": "stdout",
     "output_type": "stream",
     "text": [
      "test Loss at epoch 116: 0.1115289106965065\n",
      "\n"
     ]
    },
    {
     "name": "stderr",
     "output_type": "stream",
     "text": [
      "43it [00:00, 239.33it/s]\n"
     ]
    },
    {
     "name": "stdout",
     "output_type": "stream",
     "text": [
      "Train Loss at epoch 117: 0.0024260913487523794\n",
      "\n"
     ]
    },
    {
     "name": "stderr",
     "output_type": "stream",
     "text": [
      "4it [00:00, 438.20it/s]\n"
     ]
    },
    {
     "name": "stdout",
     "output_type": "stream",
     "text": [
      "test Loss at epoch 117: 0.11150594800710678\n",
      "\n"
     ]
    },
    {
     "name": "stderr",
     "output_type": "stream",
     "text": [
      "43it [00:00, 228.97it/s]\n"
     ]
    },
    {
     "name": "stdout",
     "output_type": "stream",
     "text": [
      "Train Loss at epoch 118: 0.0024247881956398487\n",
      "\n"
     ]
    },
    {
     "name": "stderr",
     "output_type": "stream",
     "text": [
      "4it [00:00, 442.08it/s]\n"
     ]
    },
    {
     "name": "stdout",
     "output_type": "stream",
     "text": [
      "test Loss at epoch 118: 0.11148537695407867\n",
      "\n"
     ]
    },
    {
     "name": "stderr",
     "output_type": "stream",
     "text": [
      "43it [00:00, 224.05it/s]\n"
     ]
    },
    {
     "name": "stdout",
     "output_type": "stream",
     "text": [
      "Train Loss at epoch 119: 0.002423370024189353\n",
      "\n"
     ]
    },
    {
     "name": "stderr",
     "output_type": "stream",
     "text": [
      "4it [00:00, 537.46it/s]\n"
     ]
    },
    {
     "name": "stdout",
     "output_type": "stream",
     "text": [
      "test Loss at epoch 119: 0.11146969348192215\n",
      "\n"
     ]
    },
    {
     "name": "stderr",
     "output_type": "stream",
     "text": [
      "43it [00:00, 230.78it/s]\n"
     ]
    },
    {
     "name": "stdout",
     "output_type": "stream",
     "text": [
      "Train Loss at epoch 120: 0.002422252669930458\n",
      "\n"
     ]
    },
    {
     "name": "stderr",
     "output_type": "stream",
     "text": [
      "4it [00:00, 484.40it/s]\n"
     ]
    },
    {
     "name": "stdout",
     "output_type": "stream",
     "text": [
      "test Loss at epoch 120: 0.11144780367612839\n",
      "\n"
     ]
    },
    {
     "name": "stderr",
     "output_type": "stream",
     "text": [
      "43it [00:00, 230.60it/s]\n"
     ]
    },
    {
     "name": "stdout",
     "output_type": "stream",
     "text": [
      "Train Loss at epoch 121: 0.002420992823317647\n",
      "\n"
     ]
    },
    {
     "name": "stderr",
     "output_type": "stream",
     "text": [
      "4it [00:00, 531.31it/s]\n"
     ]
    },
    {
     "name": "stdout",
     "output_type": "stream",
     "text": [
      "test Loss at epoch 121: 0.11142431199550629\n",
      "\n"
     ]
    },
    {
     "name": "stderr",
     "output_type": "stream",
     "text": [
      "43it [00:00, 223.53it/s]\n"
     ]
    },
    {
     "name": "stdout",
     "output_type": "stream",
     "text": [
      "Train Loss at epoch 122: 0.0024195595178753138\n",
      "\n"
     ]
    },
    {
     "name": "stderr",
     "output_type": "stream",
     "text": [
      "4it [00:00, 514.12it/s]\n"
     ]
    },
    {
     "name": "stdout",
     "output_type": "stream",
     "text": [
      "test Loss at epoch 122: 0.11140933632850647\n",
      "\n"
     ]
    },
    {
     "name": "stderr",
     "output_type": "stream",
     "text": [
      "43it [00:00, 224.88it/s]\n"
     ]
    },
    {
     "name": "stdout",
     "output_type": "stream",
     "text": [
      "Train Loss at epoch 123: 0.002418503165245056\n",
      "\n"
     ]
    },
    {
     "name": "stderr",
     "output_type": "stream",
     "text": [
      "4it [00:00, 455.94it/s]\n"
     ]
    },
    {
     "name": "stdout",
     "output_type": "stream",
     "text": [
      "test Loss at epoch 123: 0.1113872304558754\n",
      "\n"
     ]
    },
    {
     "name": "stderr",
     "output_type": "stream",
     "text": [
      "43it [00:00, 221.44it/s]\n"
     ]
    },
    {
     "name": "stdout",
     "output_type": "stream",
     "text": [
      "Train Loss at epoch 124: 0.00241727358661592\n",
      "\n"
     ]
    },
    {
     "name": "stderr",
     "output_type": "stream",
     "text": [
      "4it [00:00, 564.53it/s]\n"
     ]
    },
    {
     "name": "stdout",
     "output_type": "stream",
     "text": [
      "test Loss at epoch 124: 0.11136318743228912\n",
      "\n"
     ]
    },
    {
     "name": "stderr",
     "output_type": "stream",
     "text": [
      "43it [00:00, 230.92it/s]\n"
     ]
    },
    {
     "name": "stdout",
     "output_type": "stream",
     "text": [
      "Train Loss at epoch 125: 0.0024160423781722784\n",
      "\n"
     ]
    },
    {
     "name": "stderr",
     "output_type": "stream",
     "text": [
      "4it [00:00, 511.25it/s]\n"
     ]
    },
    {
     "name": "stdout",
     "output_type": "stream",
     "text": [
      "test Loss at epoch 125: 0.11134104430675507\n",
      "\n"
     ]
    },
    {
     "name": "stderr",
     "output_type": "stream",
     "text": [
      "43it [00:00, 236.19it/s]\n"
     ]
    },
    {
     "name": "stdout",
     "output_type": "stream",
     "text": [
      "Train Loss at epoch 126: 0.0024148141965270042\n",
      "\n"
     ]
    },
    {
     "name": "stderr",
     "output_type": "stream",
     "text": [
      "4it [00:00, 434.40it/s]\n"
     ]
    },
    {
     "name": "stdout",
     "output_type": "stream",
     "text": [
      "test Loss at epoch 126: 0.1113261878490448\n",
      "\n"
     ]
    },
    {
     "name": "stderr",
     "output_type": "stream",
     "text": [
      "43it [00:00, 209.81it/s]\n"
     ]
    },
    {
     "name": "stdout",
     "output_type": "stream",
     "text": [
      "Train Loss at epoch 127: 0.002414162503555417\n",
      "\n"
     ]
    },
    {
     "name": "stderr",
     "output_type": "stream",
     "text": [
      "4it [00:00, 437.65it/s]\n"
     ]
    },
    {
     "name": "stdout",
     "output_type": "stream",
     "text": [
      "test Loss at epoch 127: 0.1112983226776123\n",
      "\n"
     ]
    },
    {
     "name": "stderr",
     "output_type": "stream",
     "text": [
      "43it [00:00, 224.12it/s]\n"
     ]
    },
    {
     "name": "stdout",
     "output_type": "stream",
     "text": [
      "Train Loss at epoch 128: 0.002412923611700535\n",
      "\n"
     ]
    },
    {
     "name": "stderr",
     "output_type": "stream",
     "text": [
      "4it [00:00, 498.70it/s]\n"
     ]
    },
    {
     "name": "stdout",
     "output_type": "stream",
     "text": [
      "test Loss at epoch 128: 0.11127384006977081\n",
      "\n"
     ]
    },
    {
     "name": "stderr",
     "output_type": "stream",
     "text": [
      "43it [00:00, 231.57it/s]\n"
     ]
    },
    {
     "name": "stdout",
     "output_type": "stream",
     "text": [
      "Train Loss at epoch 129: 0.0024117245338857174\n",
      "\n"
     ]
    },
    {
     "name": "stderr",
     "output_type": "stream",
     "text": [
      "4it [00:00, 464.06it/s]\n"
     ]
    },
    {
     "name": "stdout",
     "output_type": "stream",
     "text": [
      "test Loss at epoch 129: 0.1112518310546875\n",
      "\n"
     ]
    },
    {
     "name": "stderr",
     "output_type": "stream",
     "text": [
      "43it [00:00, 235.52it/s]\n"
     ]
    },
    {
     "name": "stdout",
     "output_type": "stream",
     "text": [
      "Train Loss at epoch 130: 0.0024106381461024284\n",
      "\n"
     ]
    },
    {
     "name": "stderr",
     "output_type": "stream",
     "text": [
      "4it [00:00, 586.33it/s]\n"
     ]
    },
    {
     "name": "stdout",
     "output_type": "stream",
     "text": [
      "test Loss at epoch 130: 0.11122903227806091\n",
      "\n"
     ]
    },
    {
     "name": "stderr",
     "output_type": "stream",
     "text": [
      "43it [00:00, 226.44it/s]\n"
     ]
    },
    {
     "name": "stdout",
     "output_type": "stream",
     "text": [
      "Train Loss at epoch 131: 0.002409482840448618\n",
      "\n"
     ]
    },
    {
     "name": "stderr",
     "output_type": "stream",
     "text": [
      "4it [00:00, 482.98it/s]\n"
     ]
    },
    {
     "name": "stdout",
     "output_type": "stream",
     "text": [
      "test Loss at epoch 131: 0.11122208833694458\n",
      "\n"
     ]
    },
    {
     "name": "stderr",
     "output_type": "stream",
     "text": [
      "43it [00:00, 226.96it/s]\n"
     ]
    },
    {
     "name": "stdout",
     "output_type": "stream",
     "text": [
      "Train Loss at epoch 132: 0.0024086269550025463\n",
      "\n"
     ]
    },
    {
     "name": "stderr",
     "output_type": "stream",
     "text": [
      "4it [00:00, 548.76it/s]\n"
     ]
    },
    {
     "name": "stdout",
     "output_type": "stream",
     "text": [
      "test Loss at epoch 132: 0.11119940131902695\n",
      "\n"
     ]
    },
    {
     "name": "stderr",
     "output_type": "stream",
     "text": [
      "43it [00:00, 222.78it/s]\n"
     ]
    },
    {
     "name": "stdout",
     "output_type": "stream",
     "text": [
      "Train Loss at epoch 133: 0.0024077827110886574\n",
      "\n"
     ]
    },
    {
     "name": "stderr",
     "output_type": "stream",
     "text": [
      "4it [00:00, 583.78it/s]\n"
     ]
    },
    {
     "name": "stdout",
     "output_type": "stream",
     "text": [
      "test Loss at epoch 133: 0.11117205768823624\n",
      "\n"
     ]
    },
    {
     "name": "stderr",
     "output_type": "stream",
     "text": [
      "43it [00:00, 222.39it/s]\n"
     ]
    },
    {
     "name": "stdout",
     "output_type": "stream",
     "text": [
      "Train Loss at epoch 134: 0.002406600397080183\n",
      "\n"
     ]
    },
    {
     "name": "stderr",
     "output_type": "stream",
     "text": [
      "4it [00:00, 523.16it/s]\n"
     ]
    },
    {
     "name": "stdout",
     "output_type": "stream",
     "text": [
      "test Loss at epoch 134: 0.11114992201328278\n",
      "\n"
     ]
    },
    {
     "name": "stderr",
     "output_type": "stream",
     "text": [
      "43it [00:00, 228.45it/s]\n"
     ]
    },
    {
     "name": "stdout",
     "output_type": "stream",
     "text": [
      "Train Loss at epoch 135: 0.0024057948030531406\n",
      "\n"
     ]
    },
    {
     "name": "stderr",
     "output_type": "stream",
     "text": [
      "4it [00:00, 484.43it/s]\n"
     ]
    },
    {
     "name": "stdout",
     "output_type": "stream",
     "text": [
      "test Loss at epoch 135: 0.11109881848096848\n",
      "\n"
     ]
    },
    {
     "name": "stderr",
     "output_type": "stream",
     "text": [
      "43it [00:00, 226.93it/s]\n"
     ]
    },
    {
     "name": "stdout",
     "output_type": "stream",
     "text": [
      "Train Loss at epoch 136: 0.002404013415798545\n",
      "\n"
     ]
    },
    {
     "name": "stderr",
     "output_type": "stream",
     "text": [
      "4it [00:00, 504.30it/s]\n"
     ]
    },
    {
     "name": "stdout",
     "output_type": "stream",
     "text": [
      "test Loss at epoch 136: 0.1111057698726654\n",
      "\n"
     ]
    },
    {
     "name": "stderr",
     "output_type": "stream",
     "text": [
      "43it [00:00, 226.34it/s]\n"
     ]
    },
    {
     "name": "stdout",
     "output_type": "stream",
     "text": [
      "Train Loss at epoch 137: 0.0024038469418883324\n",
      "\n"
     ]
    },
    {
     "name": "stderr",
     "output_type": "stream",
     "text": [
      "4it [00:00, 440.36it/s]\n"
     ]
    },
    {
     "name": "stdout",
     "output_type": "stream",
     "text": [
      "test Loss at epoch 137: 0.11105744540691376\n",
      "\n"
     ]
    },
    {
     "name": "stderr",
     "output_type": "stream",
     "text": [
      "43it [00:00, 222.75it/s]\n"
     ]
    },
    {
     "name": "stdout",
     "output_type": "stream",
     "text": [
      "Train Loss at epoch 138: 0.002402346581220627\n",
      "\n"
     ]
    },
    {
     "name": "stderr",
     "output_type": "stream",
     "text": [
      "4it [00:00, 516.73it/s]\n"
     ]
    },
    {
     "name": "stdout",
     "output_type": "stream",
     "text": [
      "test Loss at epoch 138: 0.11105703562498093\n",
      "\n"
     ]
    },
    {
     "name": "stderr",
     "output_type": "stream",
     "text": [
      "43it [00:00, 212.25it/s]\n"
     ]
    },
    {
     "name": "stdout",
     "output_type": "stream",
     "text": [
      "Train Loss at epoch 139: 0.0024017628747969866\n",
      "\n"
     ]
    },
    {
     "name": "stderr",
     "output_type": "stream",
     "text": [
      "4it [00:00, 502.57it/s]\n"
     ]
    },
    {
     "name": "stdout",
     "output_type": "stream",
     "text": [
      "test Loss at epoch 139: 0.11103926599025726\n",
      "\n"
     ]
    },
    {
     "name": "stderr",
     "output_type": "stream",
     "text": [
      "43it [00:00, 236.11it/s]\n"
     ]
    },
    {
     "name": "stdout",
     "output_type": "stream",
     "text": [
      "Train Loss at epoch 140: 0.002401071134954691\n",
      "\n"
     ]
    },
    {
     "name": "stderr",
     "output_type": "stream",
     "text": [
      "4it [00:00, 463.36it/s]\n"
     ]
    },
    {
     "name": "stdout",
     "output_type": "stream",
     "text": [
      "test Loss at epoch 140: 0.11098582297563553\n",
      "\n"
     ]
    },
    {
     "name": "stderr",
     "output_type": "stream",
     "text": [
      "43it [00:00, 229.89it/s]\n"
     ]
    },
    {
     "name": "stdout",
     "output_type": "stream",
     "text": [
      "Train Loss at epoch 141: 0.0023994932416826487\n",
      "\n"
     ]
    },
    {
     "name": "stderr",
     "output_type": "stream",
     "text": [
      "4it [00:00, 549.24it/s]\n"
     ]
    },
    {
     "name": "stdout",
     "output_type": "stream",
     "text": [
      "test Loss at epoch 141: 0.110963374376297\n",
      "\n"
     ]
    },
    {
     "name": "stderr",
     "output_type": "stream",
     "text": [
      "43it [00:00, 222.85it/s]\n"
     ]
    },
    {
     "name": "stdout",
     "output_type": "stream",
     "text": [
      "Train Loss at epoch 142: 0.0023983900900930166\n",
      "\n"
     ]
    },
    {
     "name": "stderr",
     "output_type": "stream",
     "text": [
      "4it [00:00, 571.31it/s]\n"
     ]
    },
    {
     "name": "stdout",
     "output_type": "stream",
     "text": [
      "test Loss at epoch 142: 0.11097491532564163\n",
      "\n"
     ]
    },
    {
     "name": "stderr",
     "output_type": "stream",
     "text": [
      "43it [00:00, 234.42it/s]\n"
     ]
    },
    {
     "name": "stdout",
     "output_type": "stream",
     "text": [
      "Train Loss at epoch 143: 0.0023981458507478237\n",
      "\n"
     ]
    },
    {
     "name": "stderr",
     "output_type": "stream",
     "text": [
      "4it [00:00, 568.16it/s]\n"
     ]
    },
    {
     "name": "stdout",
     "output_type": "stream",
     "text": [
      "test Loss at epoch 143: 0.11095407605171204\n",
      "\n"
     ]
    },
    {
     "name": "stderr",
     "output_type": "stream",
     "text": [
      "43it [00:00, 227.02it/s]\n"
     ]
    },
    {
     "name": "stdout",
     "output_type": "stream",
     "text": [
      "Train Loss at epoch 144: 0.002397410571575165\n",
      "\n"
     ]
    },
    {
     "name": "stderr",
     "output_type": "stream",
     "text": [
      "4it [00:00, 465.21it/s]\n"
     ]
    },
    {
     "name": "stdout",
     "output_type": "stream",
     "text": [
      "test Loss at epoch 144: 0.11092592775821686\n",
      "\n"
     ]
    },
    {
     "name": "stderr",
     "output_type": "stream",
     "text": [
      "43it [00:00, 233.55it/s]\n"
     ]
    },
    {
     "name": "stdout",
     "output_type": "stream",
     "text": [
      "Train Loss at epoch 145: 0.0023965192958712578\n",
      "\n"
     ]
    },
    {
     "name": "stderr",
     "output_type": "stream",
     "text": [
      "4it [00:00, 550.25it/s]\n"
     ]
    },
    {
     "name": "stdout",
     "output_type": "stream",
     "text": [
      "test Loss at epoch 145: 0.11087680608034134\n",
      "\n"
     ]
    },
    {
     "name": "stderr",
     "output_type": "stream",
     "text": [
      "43it [00:00, 223.62it/s]\n"
     ]
    },
    {
     "name": "stdout",
     "output_type": "stream",
     "text": [
      "Train Loss at epoch 146: 0.002394895302131772\n",
      "\n"
     ]
    },
    {
     "name": "stderr",
     "output_type": "stream",
     "text": [
      "4it [00:00, 520.08it/s]\n"
     ]
    },
    {
     "name": "stdout",
     "output_type": "stream",
     "text": [
      "test Loss at epoch 146: 0.11088526248931885\n",
      "\n"
     ]
    },
    {
     "name": "stderr",
     "output_type": "stream",
     "text": [
      "43it [00:00, 224.06it/s]\n"
     ]
    },
    {
     "name": "stdout",
     "output_type": "stream",
     "text": [
      "Train Loss at epoch 147: 0.002394595416262746\n",
      "\n"
     ]
    },
    {
     "name": "stderr",
     "output_type": "stream",
     "text": [
      "4it [00:00, 479.34it/s]\n"
     ]
    },
    {
     "name": "stdout",
     "output_type": "stream",
     "text": [
      "test Loss at epoch 147: 0.11083798855543137\n",
      "\n"
     ]
    },
    {
     "name": "stderr",
     "output_type": "stream",
     "text": [
      "43it [00:00, 223.47it/s]\n"
     ]
    },
    {
     "name": "stdout",
     "output_type": "stream",
     "text": [
      "Train Loss at epoch 148: 0.002393231028690934\n",
      "\n"
     ]
    },
    {
     "name": "stderr",
     "output_type": "stream",
     "text": [
      "4it [00:00, 309.57it/s]\n"
     ]
    },
    {
     "name": "stdout",
     "output_type": "stream",
     "text": [
      "test Loss at epoch 148: 0.11081631481647491\n",
      "\n"
     ]
    },
    {
     "name": "stderr",
     "output_type": "stream",
     "text": [
      "43it [00:00, 215.34it/s]\n"
     ]
    },
    {
     "name": "stdout",
     "output_type": "stream",
     "text": [
      "Train Loss at epoch 149: 0.002392220078036189\n",
      "\n"
     ]
    },
    {
     "name": "stderr",
     "output_type": "stream",
     "text": [
      "4it [00:00, 519.16it/s]\n"
     ]
    },
    {
     "name": "stdout",
     "output_type": "stream",
     "text": [
      "test Loss at epoch 149: 0.110826276242733\n",
      "\n"
     ]
    },
    {
     "name": "stderr",
     "output_type": "stream",
     "text": [
      "43it [00:00, 231.35it/s]\n"
     ]
    },
    {
     "name": "stdout",
     "output_type": "stream",
     "text": [
      "Train Loss at epoch 150: 0.0023920119274407625\n",
      "\n"
     ]
    },
    {
     "name": "stderr",
     "output_type": "stream",
     "text": [
      "4it [00:00, 481.62it/s]\n"
     ]
    },
    {
     "name": "stdout",
     "output_type": "stream",
     "text": [
      "test Loss at epoch 150: 0.11080551892518997\n",
      "\n"
     ]
    },
    {
     "name": "stderr",
     "output_type": "stream",
     "text": [
      "43it [00:00, 224.74it/s]\n"
     ]
    },
    {
     "name": "stdout",
     "output_type": "stream",
     "text": [
      "Train Loss at epoch 151: 0.0023911253083497286\n",
      "\n"
     ]
    },
    {
     "name": "stderr",
     "output_type": "stream",
     "text": [
      "4it [00:00, 521.36it/s]\n"
     ]
    },
    {
     "name": "stdout",
     "output_type": "stream",
     "text": [
      "test Loss at epoch 151: 0.11078189313411713\n",
      "\n"
     ]
    },
    {
     "name": "stderr",
     "output_type": "stream",
     "text": [
      "43it [00:00, 228.21it/s]\n"
     ]
    },
    {
     "name": "stdout",
     "output_type": "stream",
     "text": [
      "Train Loss at epoch 152: 0.0023904137779027224\n",
      "\n"
     ]
    },
    {
     "name": "stderr",
     "output_type": "stream",
     "text": [
      "4it [00:00, 563.01it/s]\n"
     ]
    },
    {
     "name": "stdout",
     "output_type": "stream",
     "text": [
      "test Loss at epoch 152: 0.11075786501169205\n",
      "\n"
     ]
    },
    {
     "name": "stderr",
     "output_type": "stream",
     "text": [
      "43it [00:00, 227.50it/s]\n"
     ]
    },
    {
     "name": "stdout",
     "output_type": "stream",
     "text": [
      "Train Loss at epoch 153: 0.0023894794285297394\n",
      "\n"
     ]
    },
    {
     "name": "stderr",
     "output_type": "stream",
     "text": [
      "4it [00:00, 441.83it/s]\n"
     ]
    },
    {
     "name": "stdout",
     "output_type": "stream",
     "text": [
      "test Loss at epoch 153: 0.11074118316173553\n",
      "\n"
     ]
    },
    {
     "name": "stderr",
     "output_type": "stream",
     "text": [
      "43it [00:00, 226.35it/s]\n"
     ]
    },
    {
     "name": "stdout",
     "output_type": "stream",
     "text": [
      "Train Loss at epoch 154: 0.0023887234274297953\n",
      "\n"
     ]
    },
    {
     "name": "stderr",
     "output_type": "stream",
     "text": [
      "4it [00:00, 458.18it/s]\n"
     ]
    },
    {
     "name": "stdout",
     "output_type": "stream",
     "text": [
      "test Loss at epoch 154: 0.11072103679180145\n",
      "\n"
     ]
    },
    {
     "name": "stderr",
     "output_type": "stream",
     "text": [
      "43it [00:00, 237.13it/s]\n"
     ]
    },
    {
     "name": "stdout",
     "output_type": "stream",
     "text": [
      "Train Loss at epoch 155: 0.0023881071247160435\n",
      "\n"
     ]
    },
    {
     "name": "stderr",
     "output_type": "stream",
     "text": [
      "4it [00:00, 567.80it/s]\n"
     ]
    },
    {
     "name": "stdout",
     "output_type": "stream",
     "text": [
      "test Loss at epoch 155: 0.11067090183496475\n",
      "\n"
     ]
    },
    {
     "name": "stderr",
     "output_type": "stream",
     "text": [
      "43it [00:00, 227.02it/s]\n"
     ]
    },
    {
     "name": "stdout",
     "output_type": "stream",
     "text": [
      "Train Loss at epoch 156: 0.00238647498190403\n",
      "\n"
     ]
    },
    {
     "name": "stderr",
     "output_type": "stream",
     "text": [
      "4it [00:00, 426.02it/s]\n"
     ]
    },
    {
     "name": "stdout",
     "output_type": "stream",
     "text": [
      "test Loss at epoch 156: 0.11067909002304077\n",
      "\n"
     ]
    },
    {
     "name": "stderr",
     "output_type": "stream",
     "text": [
      "43it [00:00, 224.29it/s]\n"
     ]
    },
    {
     "name": "stdout",
     "output_type": "stream",
     "text": [
      "Train Loss at epoch 157: 0.0023862142115831375\n",
      "\n"
     ]
    },
    {
     "name": "stderr",
     "output_type": "stream",
     "text": [
      "4it [00:00, 505.25it/s]\n"
     ]
    },
    {
     "name": "stdout",
     "output_type": "stream",
     "text": [
      "test Loss at epoch 157: 0.11066285520792007\n",
      "\n"
     ]
    },
    {
     "name": "stderr",
     "output_type": "stream",
     "text": [
      "43it [00:00, 222.50it/s]\n"
     ]
    },
    {
     "name": "stdout",
     "output_type": "stream",
     "text": [
      "Train Loss at epoch 158: 0.002385438419878483\n",
      "\n"
     ]
    },
    {
     "name": "stderr",
     "output_type": "stream",
     "text": [
      "4it [00:00, 443.27it/s]\n"
     ]
    },
    {
     "name": "stdout",
     "output_type": "stream",
     "text": [
      "test Loss at epoch 158: 0.1106393039226532\n",
      "\n"
     ]
    },
    {
     "name": "stderr",
     "output_type": "stream",
     "text": [
      "43it [00:00, 233.04it/s]\n"
     ]
    },
    {
     "name": "stdout",
     "output_type": "stream",
     "text": [
      "Train Loss at epoch 159: 0.0023845515679568052\n",
      "\n"
     ]
    },
    {
     "name": "stderr",
     "output_type": "stream",
     "text": [
      "4it [00:00, 571.82it/s]\n"
     ]
    },
    {
     "name": "stdout",
     "output_type": "stream",
     "text": [
      "test Loss at epoch 159: 0.11062157154083252\n",
      "\n"
     ]
    },
    {
     "name": "stderr",
     "output_type": "stream",
     "text": [
      "43it [00:00, 223.02it/s]\n"
     ]
    },
    {
     "name": "stdout",
     "output_type": "stream",
     "text": [
      "Train Loss at epoch 160: 0.002383878454566002\n",
      "\n"
     ]
    },
    {
     "name": "stderr",
     "output_type": "stream",
     "text": [
      "4it [00:00, 551.70it/s]\n"
     ]
    },
    {
     "name": "stdout",
     "output_type": "stream",
     "text": [
      "test Loss at epoch 160: 0.1106017678976059\n",
      "\n"
     ]
    },
    {
     "name": "stderr",
     "output_type": "stream",
     "text": [
      "43it [00:00, 216.73it/s]\n"
     ]
    },
    {
     "name": "stdout",
     "output_type": "stream",
     "text": [
      "Train Loss at epoch 161: 0.0023830567952245474\n",
      "\n"
     ]
    },
    {
     "name": "stderr",
     "output_type": "stream",
     "text": [
      "4it [00:00, 547.10it/s]\n"
     ]
    },
    {
     "name": "stdout",
     "output_type": "stream",
     "text": [
      "test Loss at epoch 161: 0.1105809435248375\n",
      "\n"
     ]
    },
    {
     "name": "stderr",
     "output_type": "stream",
     "text": [
      "43it [00:00, 212.05it/s]\n"
     ]
    },
    {
     "name": "stdout",
     "output_type": "stream",
     "text": [
      "Train Loss at epoch 162: 0.0023822402581572533\n",
      "\n"
     ]
    },
    {
     "name": "stderr",
     "output_type": "stream",
     "text": [
      "4it [00:00, 532.61it/s]\n"
     ]
    },
    {
     "name": "stdout",
     "output_type": "stream",
     "text": [
      "test Loss at epoch 162: 0.11056089401245117\n",
      "\n"
     ]
    },
    {
     "name": "stderr",
     "output_type": "stream",
     "text": [
      "43it [00:00, 219.72it/s]\n"
     ]
    },
    {
     "name": "stdout",
     "output_type": "stream",
     "text": [
      "Train Loss at epoch 163: 0.0023816898465156555\n",
      "\n"
     ]
    },
    {
     "name": "stderr",
     "output_type": "stream",
     "text": [
      "4it [00:00, 537.99it/s]\n"
     ]
    },
    {
     "name": "stdout",
     "output_type": "stream",
     "text": [
      "test Loss at epoch 163: 0.11051300913095474\n",
      "\n"
     ]
    },
    {
     "name": "stderr",
     "output_type": "stream",
     "text": [
      "43it [00:00, 247.74it/s]\n"
     ]
    },
    {
     "name": "stdout",
     "output_type": "stream",
     "text": [
      "Train Loss at epoch 164: 0.002380277030169964\n",
      "\n"
     ]
    },
    {
     "name": "stderr",
     "output_type": "stream",
     "text": [
      "4it [00:00, 605.59it/s]\n"
     ]
    },
    {
     "name": "stdout",
     "output_type": "stream",
     "text": [
      "test Loss at epoch 164: 0.11051633954048157\n",
      "\n"
     ]
    },
    {
     "name": "stderr",
     "output_type": "stream",
     "text": [
      "43it [00:00, 226.77it/s]\n"
     ]
    },
    {
     "name": "stdout",
     "output_type": "stream",
     "text": [
      "Train Loss at epoch 165: 0.0023800174240022898\n",
      "\n"
     ]
    },
    {
     "name": "stderr",
     "output_type": "stream",
     "text": [
      "4it [00:00, 496.63it/s]\n"
     ]
    },
    {
     "name": "stdout",
     "output_type": "stream",
     "text": [
      "test Loss at epoch 165: 0.11049935966730118\n",
      "\n"
     ]
    },
    {
     "name": "stderr",
     "output_type": "stream",
     "text": [
      "43it [00:00, 224.32it/s]\n"
     ]
    },
    {
     "name": "stdout",
     "output_type": "stream",
     "text": [
      "Train Loss at epoch 166: 0.0023792667780071497\n",
      "\n"
     ]
    },
    {
     "name": "stderr",
     "output_type": "stream",
     "text": [
      "4it [00:00, 418.97it/s]\n"
     ]
    },
    {
     "name": "stdout",
     "output_type": "stream",
     "text": [
      "test Loss at epoch 166: 0.11047634482383728\n",
      "\n"
     ]
    },
    {
     "name": "stderr",
     "output_type": "stream",
     "text": [
      "43it [00:00, 227.21it/s]\n"
     ]
    },
    {
     "name": "stdout",
     "output_type": "stream",
     "text": [
      "Train Loss at epoch 167: 0.0023784267250448465\n",
      "\n"
     ]
    },
    {
     "name": "stderr",
     "output_type": "stream",
     "text": [
      "4it [00:00, 533.44it/s]\n"
     ]
    },
    {
     "name": "stdout",
     "output_type": "stream",
     "text": [
      "test Loss at epoch 167: 0.11045672744512558\n",
      "\n"
     ]
    },
    {
     "name": "stderr",
     "output_type": "stream",
     "text": [
      "43it [00:00, 225.09it/s]\n"
     ]
    },
    {
     "name": "stdout",
     "output_type": "stream",
     "text": [
      "Train Loss at epoch 168: 0.0023777401074767113\n",
      "\n"
     ]
    },
    {
     "name": "stderr",
     "output_type": "stream",
     "text": [
      "4it [00:00, 536.80it/s]\n"
     ]
    },
    {
     "name": "stdout",
     "output_type": "stream",
     "text": [
      "test Loss at epoch 168: 0.1104326993227005\n",
      "\n"
     ]
    },
    {
     "name": "stderr",
     "output_type": "stream",
     "text": [
      "43it [00:00, 223.85it/s]\n"
     ]
    },
    {
     "name": "stdout",
     "output_type": "stream",
     "text": [
      "Train Loss at epoch 169: 0.0023770539555698633\n",
      "\n"
     ]
    },
    {
     "name": "stderr",
     "output_type": "stream",
     "text": [
      "4it [00:00, 430.41it/s]\n"
     ]
    },
    {
     "name": "stdout",
     "output_type": "stream",
     "text": [
      "test Loss at epoch 169: 0.11038290709257126\n",
      "\n"
     ]
    },
    {
     "name": "stderr",
     "output_type": "stream",
     "text": [
      "43it [00:00, 200.38it/s]\n"
     ]
    },
    {
     "name": "stdout",
     "output_type": "stream",
     "text": [
      "Train Loss at epoch 170: 0.002375456504523754\n",
      "\n"
     ]
    },
    {
     "name": "stderr",
     "output_type": "stream",
     "text": [
      "4it [00:00, 443.44it/s]\n"
     ]
    },
    {
     "name": "stdout",
     "output_type": "stream",
     "text": [
      "test Loss at epoch 170: 0.1103917583823204\n",
      "\n"
     ]
    },
    {
     "name": "stderr",
     "output_type": "stream",
     "text": [
      "43it [00:00, 214.52it/s]\n"
     ]
    },
    {
     "name": "stdout",
     "output_type": "stream",
     "text": [
      "Train Loss at epoch 171: 0.0023752874694764614\n",
      "\n"
     ]
    },
    {
     "name": "stderr",
     "output_type": "stream",
     "text": [
      "4it [00:00, 444.35it/s]\n"
     ]
    },
    {
     "name": "stdout",
     "output_type": "stream",
     "text": [
      "test Loss at epoch 171: 0.110375314950943\n",
      "\n"
     ]
    },
    {
     "name": "stderr",
     "output_type": "stream",
     "text": [
      "43it [00:00, 225.82it/s]\n"
     ]
    },
    {
     "name": "stdout",
     "output_type": "stream",
     "text": [
      "Train Loss at epoch 172: 0.0023747659288346767\n",
      "\n"
     ]
    },
    {
     "name": "stderr",
     "output_type": "stream",
     "text": [
      "4it [00:00, 559.52it/s]\n"
     ]
    },
    {
     "name": "stdout",
     "output_type": "stream",
     "text": [
      "test Loss at epoch 172: 0.11032335460186005\n",
      "\n"
     ]
    },
    {
     "name": "stderr",
     "output_type": "stream",
     "text": [
      "43it [00:00, 226.73it/s]\n"
     ]
    },
    {
     "name": "stdout",
     "output_type": "stream",
     "text": [
      "Train Loss at epoch 173: 0.002373119816184044\n",
      "\n"
     ]
    },
    {
     "name": "stderr",
     "output_type": "stream",
     "text": [
      "4it [00:00, 465.53it/s]\n"
     ]
    },
    {
     "name": "stdout",
     "output_type": "stream",
     "text": [
      "test Loss at epoch 173: 0.11033188551664352\n",
      "\n"
     ]
    },
    {
     "name": "stderr",
     "output_type": "stream",
     "text": [
      "43it [00:00, 230.67it/s]\n"
     ]
    },
    {
     "name": "stdout",
     "output_type": "stream",
     "text": [
      "Train Loss at epoch 174: 0.0023729989770799875\n",
      "\n"
     ]
    },
    {
     "name": "stderr",
     "output_type": "stream",
     "text": [
      "4it [00:00, 612.53it/s]\n"
     ]
    },
    {
     "name": "stdout",
     "output_type": "stream",
     "text": [
      "test Loss at epoch 174: 0.1103176474571228\n",
      "\n"
     ]
    },
    {
     "name": "stderr",
     "output_type": "stream",
     "text": [
      "43it [00:00, 227.23it/s]\n"
     ]
    },
    {
     "name": "stdout",
     "output_type": "stream",
     "text": [
      "Train Loss at epoch 175: 0.00237241480499506\n",
      "\n"
     ]
    },
    {
     "name": "stderr",
     "output_type": "stream",
     "text": [
      "4it [00:00, 537.58it/s]\n"
     ]
    },
    {
     "name": "stdout",
     "output_type": "stream",
     "text": [
      "test Loss at epoch 175: 0.11029689759016037\n",
      "\n"
     ]
    },
    {
     "name": "stderr",
     "output_type": "stream",
     "text": [
      "43it [00:00, 229.91it/s]\n"
     ]
    },
    {
     "name": "stdout",
     "output_type": "stream",
     "text": [
      "Train Loss at epoch 176: 0.0023717964068055153\n",
      "\n"
     ]
    },
    {
     "name": "stderr",
     "output_type": "stream",
     "text": [
      "4it [00:00, 578.78it/s]\n"
     ]
    },
    {
     "name": "stdout",
     "output_type": "stream",
     "text": [
      "test Loss at epoch 176: 0.1102733165025711\n",
      "\n"
     ]
    },
    {
     "name": "stderr",
     "output_type": "stream",
     "text": [
      "43it [00:00, 225.23it/s]\n"
     ]
    },
    {
     "name": "stdout",
     "output_type": "stream",
     "text": [
      "Train Loss at epoch 177: 0.002370955189689994\n",
      "\n"
     ]
    },
    {
     "name": "stderr",
     "output_type": "stream",
     "text": [
      "4it [00:00, 403.45it/s]\n"
     ]
    },
    {
     "name": "stdout",
     "output_type": "stream",
     "text": [
      "test Loss at epoch 177: 0.11025286465883255\n",
      "\n"
     ]
    },
    {
     "name": "stderr",
     "output_type": "stream",
     "text": [
      "43it [00:00, 229.56it/s]\n"
     ]
    },
    {
     "name": "stdout",
     "output_type": "stream",
     "text": [
      "Train Loss at epoch 178: 0.0023701058235019445\n",
      "\n"
     ]
    },
    {
     "name": "stderr",
     "output_type": "stream",
     "text": [
      "4it [00:00, 547.43it/s]\n"
     ]
    },
    {
     "name": "stdout",
     "output_type": "stream",
     "text": [
      "test Loss at epoch 178: 0.11023347824811935\n",
      "\n"
     ]
    },
    {
     "name": "stderr",
     "output_type": "stream",
     "text": [
      "43it [00:00, 232.50it/s]\n"
     ]
    },
    {
     "name": "stdout",
     "output_type": "stream",
     "text": [
      "Train Loss at epoch 179: 0.0023693698458373547\n",
      "\n"
     ]
    },
    {
     "name": "stderr",
     "output_type": "stream",
     "text": [
      "4it [00:00, 430.36it/s]\n"
     ]
    },
    {
     "name": "stdout",
     "output_type": "stream",
     "text": [
      "test Loss at epoch 179: 0.11021281033754349\n",
      "\n"
     ]
    },
    {
     "name": "stderr",
     "output_type": "stream",
     "text": [
      "43it [00:00, 227.01it/s]\n"
     ]
    },
    {
     "name": "stdout",
     "output_type": "stream",
     "text": [
      "Train Loss at epoch 180: 0.002368590794503689\n",
      "\n"
     ]
    },
    {
     "name": "stderr",
     "output_type": "stream",
     "text": [
      "4it [00:00, 539.46it/s]\n"
     ]
    },
    {
     "name": "stdout",
     "output_type": "stream",
     "text": [
      "test Loss at epoch 180: 0.11019241809844971\n",
      "\n"
     ]
    },
    {
     "name": "stderr",
     "output_type": "stream",
     "text": [
      "43it [00:00, 224.20it/s]\n"
     ]
    },
    {
     "name": "stdout",
     "output_type": "stream",
     "text": [
      "Train Loss at epoch 181: 0.0023677630815654993\n",
      "\n"
     ]
    },
    {
     "name": "stderr",
     "output_type": "stream",
     "text": [
      "4it [00:00, 573.82it/s]\n"
     ]
    },
    {
     "name": "stdout",
     "output_type": "stream",
     "text": [
      "test Loss at epoch 181: 0.11017494648694992\n",
      "\n"
     ]
    },
    {
     "name": "stderr",
     "output_type": "stream",
     "text": [
      "43it [00:00, 232.76it/s]\n"
     ]
    },
    {
     "name": "stdout",
     "output_type": "stream",
     "text": [
      "Train Loss at epoch 182: 0.0023670971859246492\n",
      "\n"
     ]
    },
    {
     "name": "stderr",
     "output_type": "stream",
     "text": [
      "4it [00:00, 585.69it/s]\n"
     ]
    },
    {
     "name": "stdout",
     "output_type": "stream",
     "text": [
      "test Loss at epoch 182: 0.11015667021274567\n",
      "\n"
     ]
    },
    {
     "name": "stderr",
     "output_type": "stream",
     "text": [
      "43it [00:00, 235.67it/s]\n"
     ]
    },
    {
     "name": "stdout",
     "output_type": "stream",
     "text": [
      "Train Loss at epoch 183: 0.0023664962500333786\n",
      "\n"
     ]
    },
    {
     "name": "stderr",
     "output_type": "stream",
     "text": [
      "4it [00:00, 559.41it/s]\n"
     ]
    },
    {
     "name": "stdout",
     "output_type": "stream",
     "text": [
      "test Loss at epoch 183: 0.11013229936361313\n",
      "\n"
     ]
    },
    {
     "name": "stderr",
     "output_type": "stream",
     "text": [
      "43it [00:00, 226.68it/s]\n"
     ]
    },
    {
     "name": "stdout",
     "output_type": "stream",
     "text": [
      "Train Loss at epoch 184: 0.0023657113779336214\n",
      "\n"
     ]
    },
    {
     "name": "stderr",
     "output_type": "stream",
     "text": [
      "4it [00:00, 474.90it/s]\n"
     ]
    },
    {
     "name": "stdout",
     "output_type": "stream",
     "text": [
      "test Loss at epoch 184: 0.11011181026697159\n",
      "\n"
     ]
    },
    {
     "name": "stderr",
     "output_type": "stream",
     "text": [
      "43it [00:00, 228.35it/s]\n"
     ]
    },
    {
     "name": "stdout",
     "output_type": "stream",
     "text": [
      "Train Loss at epoch 185: 0.0023649344220757484\n",
      "\n"
     ]
    },
    {
     "name": "stderr",
     "output_type": "stream",
     "text": [
      "4it [00:00, 461.08it/s]\n"
     ]
    },
    {
     "name": "stdout",
     "output_type": "stream",
     "text": [
      "test Loss at epoch 185: 0.11009174585342407\n",
      "\n"
     ]
    },
    {
     "name": "stderr",
     "output_type": "stream",
     "text": [
      "43it [00:00, 209.69it/s]\n"
     ]
    },
    {
     "name": "stdout",
     "output_type": "stream",
     "text": [
      "Train Loss at epoch 186: 0.002364175394177437\n",
      "\n"
     ]
    },
    {
     "name": "stderr",
     "output_type": "stream",
     "text": [
      "4it [00:00, 484.61it/s]\n"
     ]
    },
    {
     "name": "stdout",
     "output_type": "stream",
     "text": [
      "test Loss at epoch 186: 0.11007168143987656\n",
      "\n"
     ]
    },
    {
     "name": "stderr",
     "output_type": "stream",
     "text": [
      "43it [00:00, 224.49it/s]\n"
     ]
    },
    {
     "name": "stdout",
     "output_type": "stream",
     "text": [
      "Train Loss at epoch 187: 0.0023634154349565506\n",
      "\n"
     ]
    },
    {
     "name": "stderr",
     "output_type": "stream",
     "text": [
      "4it [00:00, 430.16it/s]\n"
     ]
    },
    {
     "name": "stdout",
     "output_type": "stream",
     "text": [
      "test Loss at epoch 187: 0.11005152761936188\n",
      "\n"
     ]
    },
    {
     "name": "stderr",
     "output_type": "stream",
     "text": [
      "43it [00:00, 238.49it/s]\n"
     ]
    },
    {
     "name": "stdout",
     "output_type": "stream",
     "text": [
      "Train Loss at epoch 188: 0.0023626554757356644\n",
      "\n"
     ]
    },
    {
     "name": "stderr",
     "output_type": "stream",
     "text": [
      "4it [00:00, 578.15it/s]\n"
     ]
    },
    {
     "name": "stdout",
     "output_type": "stream",
     "text": [
      "test Loss at epoch 188: 0.11003127694129944\n",
      "\n"
     ]
    },
    {
     "name": "stderr",
     "output_type": "stream",
     "text": [
      "43it [00:00, 228.19it/s]\n"
     ]
    },
    {
     "name": "stdout",
     "output_type": "stream",
     "text": [
      "Train Loss at epoch 189: 0.0023620605934411287\n",
      "\n"
     ]
    },
    {
     "name": "stderr",
     "output_type": "stream",
     "text": [
      "4it [00:00, 567.53it/s]\n"
     ]
    },
    {
     "name": "stdout",
     "output_type": "stream",
     "text": [
      "test Loss at epoch 189: 0.11001040786504745\n",
      "\n"
     ]
    },
    {
     "name": "stderr",
     "output_type": "stream",
     "text": [
      "43it [00:00, 228.50it/s]\n"
     ]
    },
    {
     "name": "stdout",
     "output_type": "stream",
     "text": [
      "Train Loss at epoch 190: 0.0023612743243575096\n",
      "\n"
     ]
    },
    {
     "name": "stderr",
     "output_type": "stream",
     "text": [
      "4it [00:00, 539.03it/s]\n"
     ]
    },
    {
     "name": "stdout",
     "output_type": "stream",
     "text": [
      "test Loss at epoch 190: 0.10998830944299698\n",
      "\n"
     ]
    },
    {
     "name": "stderr",
     "output_type": "stream",
     "text": [
      "43it [00:00, 221.62it/s]\n"
     ]
    },
    {
     "name": "stdout",
     "output_type": "stream",
     "text": [
      "Train Loss at epoch 191: 0.002360490383580327\n",
      "\n"
     ]
    },
    {
     "name": "stderr",
     "output_type": "stream",
     "text": [
      "4it [00:00, 539.55it/s]\n"
     ]
    },
    {
     "name": "stdout",
     "output_type": "stream",
     "text": [
      "test Loss at epoch 191: 0.109967902302742\n",
      "\n"
     ]
    },
    {
     "name": "stderr",
     "output_type": "stream",
     "text": [
      "43it [00:00, 230.01it/s]\n"
     ]
    },
    {
     "name": "stdout",
     "output_type": "stream",
     "text": [
      "Train Loss at epoch 192: 0.002359737642109394\n",
      "\n"
     ]
    },
    {
     "name": "stderr",
     "output_type": "stream",
     "text": [
      "4it [00:00, 547.43it/s]\n"
     ]
    },
    {
     "name": "stdout",
     "output_type": "stream",
     "text": [
      "test Loss at epoch 192: 0.109946608543396\n",
      "\n"
     ]
    },
    {
     "name": "stderr",
     "output_type": "stream",
     "text": [
      "43it [00:00, 225.59it/s]\n"
     ]
    },
    {
     "name": "stdout",
     "output_type": "stream",
     "text": [
      "Train Loss at epoch 193: 0.002359016565605998\n",
      "\n"
     ]
    },
    {
     "name": "stderr",
     "output_type": "stream",
     "text": [
      "4it [00:00, 469.86it/s]\n"
     ]
    },
    {
     "name": "stdout",
     "output_type": "stream",
     "text": [
      "test Loss at epoch 193: 0.10992738604545593\n",
      "\n"
     ]
    },
    {
     "name": "stderr",
     "output_type": "stream",
     "text": [
      "43it [00:00, 238.69it/s]\n"
     ]
    },
    {
     "name": "stdout",
     "output_type": "stream",
     "text": [
      "Train Loss at epoch 194: 0.0023583127185702324\n",
      "\n"
     ]
    },
    {
     "name": "stderr",
     "output_type": "stream",
     "text": [
      "4it [00:00, 545.87it/s]\n"
     ]
    },
    {
     "name": "stdout",
     "output_type": "stream",
     "text": [
      "test Loss at epoch 194: 0.10987863689661026\n",
      "\n"
     ]
    },
    {
     "name": "stderr",
     "output_type": "stream",
     "text": [
      "43it [00:00, 227.23it/s]\n"
     ]
    },
    {
     "name": "stdout",
     "output_type": "stream",
     "text": [
      "Train Loss at epoch 195: 0.0023567432072013617\n",
      "\n"
     ]
    },
    {
     "name": "stderr",
     "output_type": "stream",
     "text": [
      "4it [00:00, 562.88it/s]\n"
     ]
    },
    {
     "name": "stdout",
     "output_type": "stream",
     "text": [
      "test Loss at epoch 195: 0.10988278687000275\n",
      "\n"
     ]
    },
    {
     "name": "stderr",
     "output_type": "stream",
     "text": [
      "43it [00:00, 226.28it/s]\n"
     ]
    },
    {
     "name": "stdout",
     "output_type": "stream",
     "text": [
      "Train Loss at epoch 196: 0.0023566565942019224\n",
      "\n"
     ]
    },
    {
     "name": "stderr",
     "output_type": "stream",
     "text": [
      "4it [00:00, 439.52it/s]\n"
     ]
    },
    {
     "name": "stdout",
     "output_type": "stream",
     "text": [
      "test Loss at epoch 196: 0.10986436903476715\n",
      "\n"
     ]
    },
    {
     "name": "stderr",
     "output_type": "stream",
     "text": [
      "43it [00:00, 225.58it/s]\n"
     ]
    },
    {
     "name": "stdout",
     "output_type": "stream",
     "text": [
      "Train Loss at epoch 197: 0.00235581467859447\n",
      "\n"
     ]
    },
    {
     "name": "stderr",
     "output_type": "stream",
     "text": [
      "4it [00:00, 539.34it/s]\n"
     ]
    },
    {
     "name": "stdout",
     "output_type": "stream",
     "text": [
      "test Loss at epoch 197: 0.10984072834253311\n",
      "\n"
     ]
    },
    {
     "name": "stderr",
     "output_type": "stream",
     "text": [
      "43it [00:00, 223.98it/s]\n"
     ]
    },
    {
     "name": "stdout",
     "output_type": "stream",
     "text": [
      "Train Loss at epoch 198: 0.002355028875172138\n",
      "\n"
     ]
    },
    {
     "name": "stderr",
     "output_type": "stream",
     "text": [
      "4it [00:00, 535.91it/s]\n"
     ]
    },
    {
     "name": "stdout",
     "output_type": "stream",
     "text": [
      "test Loss at epoch 198: 0.10981814563274384\n",
      "\n"
     ]
    },
    {
     "name": "stderr",
     "output_type": "stream",
     "text": [
      "43it [00:00, 221.24it/s]\n"
     ]
    },
    {
     "name": "stdout",
     "output_type": "stream",
     "text": [
      "Train Loss at epoch 199: 0.0023542880080640316\n",
      "\n"
     ]
    },
    {
     "name": "stderr",
     "output_type": "stream",
     "text": [
      "4it [00:00, 455.23it/s]"
     ]
    },
    {
     "name": "stdout",
     "output_type": "stream",
     "text": [
      "test Loss at epoch 199: 0.10979600250720978\n",
      "\n"
     ]
    },
    {
     "name": "stderr",
     "output_type": "stream",
     "text": [
      "\n"
     ]
    }
   ],
   "source": [
    "# roberta = RobertaModel.from_pretrained(\"roberta-large\").to(device)\n",
    "train_loss_record = []\n",
    "wandb.watch(model, log = 'all')\n",
    "for epoch in range(num_epochs):\n",
    "    train_loss = []\n",
    "    train_loss_sum = []\n",
    "    train_correct = 0\n",
    "    train_total = 0\n",
    "\n",
    "    for idx, data in tqdm(enumerate(train_loader, 0)):\n",
    "        x_numerical = data['x_numerical'].to(device, dtype = torch.float)\n",
    "        ids = data['ids'].to(device, dtype = torch.long)\n",
    "        masks = data['mask'].to(device, dtype = torch.long)\n",
    "        token_type_ids = data['token_type_ids'].to(device, dtype = torch.long)\n",
    "        targets = data['targets'].to(device, dtype = torch.float)\n",
    "\n",
    "\n",
    "\n",
    "\n",
    "        y_pred = model(x_numerical, ids, masks, token_type_ids)\n",
    "        # print('y_pred:', y_pred)\n",
    "        _, pred_label = torch.max(y_pred.data, 1)\n",
    "\n",
    "        loss = criterion(y_pred, targets.reshape(-1))\n",
    "\n",
    "         # Zero out gradient, else they will accumulate between epochs\n",
    "        optimiser.zero_grad()\n",
    "\n",
    "        # Backward pass\n",
    "        loss.backward()\n",
    "        torch.nn.utils.clip_grad_norm_(model.parameters(), 1)\n",
    "\n",
    "        for name, p in model.named_parameters():\n",
    "            if(p.requires_grad) and (\"bias\" not in name):\n",
    "                if p.grad is not None:\n",
    "                    wandb.log({'gradient_' + name: p.grad.abs().mean().cpu().data.numpy()})\n",
    "                else:\n",
    "                    wandb.log({'gradient_' + name: 0})\n",
    "\n",
    "\n",
    "        # plot_grad_flow(model.named_parameters(), idx, epoch) # version 1\n",
    "\n",
    "        # Update parameters\n",
    "        optimiser.step()\n",
    "\n",
    "\n",
    "\n",
    "        train_loss.append(loss.data.cpu())\n",
    "        train_loss_sum.append(loss.data.cpu())\n",
    "\n",
    "\n",
    "        wandb.log({'avg train loss in this batch': loss.item(), 'epoch': epoch, 'batch_id': idx})\n",
    "        # Get accuracy\n",
    "        train_total += targets.reshape(-1).size(0)\n",
    "        train_correct += (pred_label == targets.reshape(-1)).sum()\n",
    "    train_accuracy = 100 * train_correct / train_total\n",
    "\n",
    "    # Record at every epoch\n",
    "    print('Train Loss at epoch {}: {}\\n'.format(epoch, np.mean(train_loss_sum)))\n",
    "    train_loss_record.append(np.mean(train_loss_sum))\n",
    "    wandb.log({'avg train loss in this epoch': np.mean(train_loss_sum), 'epoch': epoch})\n",
    "    wandb.log({'train accuracy in this epoch': train_accuracy, 'epoch': epoch})\n",
    "\n",
    "\n",
    "\n",
    "\n",
    "\n",
    "\n",
    "    # evaluate on test set every epoch\n",
    "    test_loss = []\n",
    "    test_loss_sum = []\n",
    "\n",
    "    correct = 0\n",
    "    total = 0\n",
    "\n",
    "    for idx, data in tqdm(enumerate(test_loader, 0)):\n",
    "        test_x_numerical = data['x_numerical'].to(device, dtype = torch.float)\n",
    "        test_ids = data['ids'].to(device, dtype = torch.long)\n",
    "        test_masks = data['mask'].to(device, dtype = torch.long)\n",
    "        test_token_type_ids = data['token_type_ids'].to(device, dtype = torch.long)\n",
    "        test_targets = data['targets'].to(device, dtype = torch.long)\n",
    "\n",
    "        y_pred = model(test_x_numerical, test_ids, test_masks, test_token_type_ids)\n",
    "        _, pred_label = torch.max(y_pred.data, 1)\n",
    "\n",
    "#         print('y_pred:', y_pred)\n",
    "        tloss = criterion(y_pred, test_targets.reshape(-1))\n",
    "\n",
    "        test_loss.append(tloss.data.cpu())\n",
    "        test_loss_sum.append(tloss.data.cpu())\n",
    "\n",
    "        wandb.log({'avg test loss in this batch': tloss.item(), 'epoch': epoch, 'batch_id': idx})\n",
    "\n",
    "        # Get accuracy\n",
    "        total += test_targets.reshape(-1).size(0)\n",
    "        correct += (pred_label == test_targets.reshape(-1)).sum()\n",
    "    accuracy = 100 * correct / total\n",
    "\n",
    "    # Record at every epoch\n",
    "    print('test Loss at epoch {}: {}\\n'.format(epoch, np.mean(test_loss_sum)))\n",
    "    wandb.log({'avg test loss in this epoch': np.mean(test_loss_sum), 'epoch': epoch})\n",
    "    wandb.log({'test accuracy in this epoch': accuracy, 'epoch': epoch})\n",
    "\n",
    "\n",
    "\n",
    "\n",
    "    # save the model weights every save_freq_epoch epochs\n",
    "    # if (epoch % save_freq_epoch == 0):\n",
    "    #     output_model_file = output_path + '/roberta_stock_pred_' + str(epoch) + '.bin'\n",
    "    #     output_vocab_file = output_path\n",
    "\n",
    "    #     model_to_save = model\n",
    "    #     torch.save(model_to_save, output_model_file)\n",
    "    #     tokenizer.save_                                                                           vocabulary(output_vocab_file)\n",
    "\n",
    "\n",
    "\n",
    "\n",
    "\n",
    "\n",
    "\n"
   ]
  },
  {
   "cell_type": "code",
   "execution_count": null,
   "id": "Czyuam3JfJj2",
   "metadata": {
    "id": "Czyuam3JfJj2"
   },
   "outputs": [],
   "source": []
  },
  {
   "cell_type": "code",
   "execution_count": null,
   "id": "TB_GL_Ilbfy4",
   "metadata": {
    "id": "TB_GL_Ilbfy4"
   },
   "outputs": [],
   "source": []
  },
  {
   "cell_type": "code",
   "execution_count": null,
   "id": "bb6bbec1",
   "metadata": {
    "id": "bb6bbec1"
   },
   "outputs": [],
   "source": []
  },
  {
   "cell_type": "code",
   "execution_count": null,
   "id": "4aac5f8f",
   "metadata": {
    "id": "4aac5f8f"
   },
   "outputs": [],
   "source": []
  },
  {
   "cell_type": "markdown",
   "id": "Kcgrof1frlbM",
   "metadata": {
    "id": "Kcgrof1frlbM"
   },
   "source": [
    "## Save the model"
   ]
  },
  {
   "cell_type": "code",
   "execution_count": null,
   "id": "e1122c8c",
   "metadata": {
    "id": "e1122c8c"
   },
   "outputs": [],
   "source": [
    "output_model_file = output_path + '/roberta_stock_pred.bin'\n",
    "output_vocab_file = output_path\n",
    "\n",
    "model_to_save = model\n",
    "torch.save(model_to_save, output_model_file)\n",
    "tokenizer.save_vocabulary(output_vocab_file)\n"
   ]
  },
  {
   "cell_type": "code",
   "execution_count": null,
   "id": "3049d3f4",
   "metadata": {
    "id": "3049d3f4"
   },
   "outputs": [],
   "source": []
  },
  {
   "cell_type": "code",
   "execution_count": null,
   "id": "1807d2b1",
   "metadata": {
    "id": "1807d2b1"
   },
   "outputs": [],
   "source": []
  },
  {
   "cell_type": "code",
   "execution_count": null,
   "id": "2cf315ee",
   "metadata": {
    "id": "2cf315ee"
   },
   "outputs": [],
   "source": []
  }
 ],
 "metadata": {
  "accelerator": "GPU",
  "colab": {
   "gpuType": "T4",
   "provenance": []
  },
  "kernelspec": {
   "display_name": "conda_pytorch_p310",
   "language": "python",
   "name": "conda_pytorch_p310"
  },
  "language_info": {
   "codemirror_mode": {
    "name": "ipython",
    "version": 3
   },
   "file_extension": ".py",
   "mimetype": "text/x-python",
   "name": "python",
   "nbconvert_exporter": "python",
   "pygments_lexer": "ipython3",
   "version": "3.10.10"
  }
 },
 "nbformat": 4,
 "nbformat_minor": 5
}
