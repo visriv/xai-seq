{
 "cells": [
  {
   "cell_type": "code",
   "execution_count": null,
   "id": "7ff5a093",
   "metadata": {
    "id": "7ff5a093"
   },
   "outputs": [],
   "source": [
    "!pip install yfinance\n",
    "!pip install transformers\n",
    "!pip install wandb\n",
    "!pip install beautifulsoup4\n"
   ]
  },
  {
   "cell_type": "code",
   "execution_count": 1,
   "id": "1a3524a9",
   "metadata": {
    "id": "1a3524a9"
   },
   "outputs": [],
   "source": [
    "import yfinance as yf\n",
    "import datetime\n",
    "import numpy as np\n",
    "import pandas as pd\n",
    "from pylab import mpl, plt\n",
    "import itertools\n",
    "from datetime import datetime\n",
    "from operator import itemgetter\n",
    "from tqdm import tqdm\n",
    "from math import sqrt\n",
    "import torch\n",
    "import torch.nn as nn\n",
    "from torch.autograd import Variable\n",
    "from transformers import RobertaTokenizer, RobertaModel\n",
    "import torch.nn.functional as F\n",
    "import wandb\n"
   ]
  },
  {
   "cell_type": "code",
   "execution_count": 2,
   "id": "24afc749",
   "metadata": {
    "id": "24afc749"
   },
   "outputs": [],
   "source": [
    "from torch import cuda\n",
    "device = 'cuda' if cuda.is_available() else 'cpu'\n",
    "# from google.colab import drive\n",
    "# drive.mount('/content/drive')"
   ]
  },
  {
   "cell_type": "code",
   "execution_count": null,
   "id": "e128245b",
   "metadata": {
    "id": "e128245b"
   },
   "outputs": [],
   "source": [
    "wandb.login()\n",
    "wandb.init(project=\"stock_prediction\")"
   ]
  },
  {
   "cell_type": "markdown",
   "id": "76ea47cc",
   "metadata": {
    "id": "76ea47cc"
   },
   "source": [
    "### Hyperparams"
   ]
  },
  {
   "cell_type": "code",
   "execution_count": 3,
   "id": "9a8dec6d",
   "metadata": {
    "id": "9a8dec6d"
   },
   "outputs": [],
   "source": [
    "no_of_days_to_lookforward = 1\n",
    "no_of_days_to_lookback = 5\n",
    "up_threshold = 0.015\n",
    "down_threshold = -0.015\n",
    "max_text_per_iter = 20\n",
    "batch_size = 32\n",
    "MAX_LEN = 10\n",
    "num_epochs = 50\n",
    "save_freq_epoch = 10\n",
    "run_id = str(53)\n",
    "output_path = '/content/drive/MyDrive/machine_learning/projects/xai-seq/output/run_' + run_id\n",
    "# !mkdir $output_path\n",
    "# !mkdir /content/drive/MyDrive/machine_learning/projects/xai-seq/output/\n",
    "\n",
    "# define sweepable hyperparams for wandb\n",
    "sweep_configuration = {\n",
    "    'method': 'random',\n",
    "    'name': 'sweep',\n",
    "    'metric': {'goal': 'maximize', 'name': 'test accuracy in this epoch'},\n",
    "    'parameters': \n",
    "    {\n",
    "        'lr': {'max': 0.01, 'min': 0.00001},\n",
    "        'lstm_layers' : {'max': 8, 'min': 1},\n",
    "        'lstm_dim': {'max': 30, 'min': 10 },\n",
    "        'num_epochs': {'value': 50}\n",
    "     }\n",
    "}\n",
    "\n"
   ]
  },
  {
   "cell_type": "code",
   "execution_count": 4,
   "id": "76d4a6f1",
   "metadata": {},
   "outputs": [
    {
     "name": "stderr",
     "output_type": "stream",
     "text": [
      "Failed to detect the name of this notebook, you can set it manually with the WANDB_NOTEBOOK_NAME environment variable to enable code saving.\n"
     ]
    },
    {
     "name": "stdout",
     "output_type": "stream",
     "text": [
      "Create sweep with ID: txibdbxx\n",
      "Sweep URL: https://wandb.ai/visriv/stock_prediction/sweeps/txibdbxx\n"
     ]
    }
   ],
   "source": [
    "sweep_id = wandb.sweep(\n",
    "  sweep=sweep_configuration, \n",
    "  project='stock_prediction'\n",
    "  )"
   ]
  },
  {
   "cell_type": "markdown",
   "id": "af59387d",
   "metadata": {
    "id": "af59387d"
   },
   "source": [
    "### Get stocks data for last N days"
   ]
  },
  {
   "cell_type": "code",
   "execution_count": null,
   "id": "6ebb836a",
   "metadata": {
    "id": "6ebb836a"
   },
   "outputs": [],
   "source": [
    "!mkdir data\n"
   ]
  },
  {
   "cell_type": "code",
   "execution_count": 5,
   "id": "64983989",
   "metadata": {
    "id": "64983989"
   },
   "outputs": [
    {
     "name": "stdout",
     "output_type": "stream",
     "text": [
      "[*********************100%***********************]  1 of 1 completed\n"
     ]
    }
   ],
   "source": [
    "stock_symbols = [ 'XOM']\n",
    "no_of_days = 4*365\n",
    "\n",
    "EXPORT_DATA_FOLDER = './data/'\n",
    "# !mkdir data\n",
    "# Set the start and end dates for the data\n",
    "# here matching it with dates of news text available\n",
    "date_start = datetime.strptime('2017/01/01', '%Y/%m/%d')\n",
    "date_train_end = datetime.strptime('2022/09/30', '%Y/%m/%d')\n",
    "date_end = datetime.strptime('2023/07/01', '%Y/%m/%d')\n",
    "\n",
    "\n",
    "# start = datetime.datetime.now() - datetime.timedelta(days=no_of_days)\n",
    "# end = datetime.datetime.now()\n",
    "\n",
    "# Get training data\n",
    "for symbol in stock_symbols:\n",
    "    # Download the historical price and volume data using yfinance\n",
    "    all_data_raw = yf.download(symbol, start=date_start, end=date_end)\n",
    "\n",
    "    # Raw signals\n",
    "    open = all_data_raw['Open'].fillna(0)\n",
    "    high = all_data_raw['High'].fillna(0)\n",
    "    low = all_data_raw['Low'].fillna(0)\n",
    "    close = all_data_raw['Close'].fillna(0)\n",
    "    adjclose = all_data_raw['Adj Close'].fillna(0)\n",
    "    volume = all_data_raw['Volume'].fillna(0)\n",
    "    \n",
    "    \n",
    "    # Normalize features by percent of changes between today and yesterday\n",
    "    pct_change_open = all_data_raw['Open'].pct_change().fillna(0)\n",
    "    pct_change_high = all_data_raw['High'].pct_change().fillna(0)\n",
    "    pct_change_high_over_open = (all_data_raw['High']-all_data_raw['Open'])/all_data_raw['Open']\n",
    "    pct_change_low = all_data_raw['Low'].pct_change().fillna(0)\n",
    "    pct_change_low_over_open = (all_data_raw['Low']-all_data_raw['Open'])/all_data_raw['Open']\n",
    "    pct_change_close = all_data_raw['Close'].pct_change().fillna(0)\n",
    "    pct_change_close_over_open = (all_data_raw['Close']-all_data_raw['Open'])/all_data_raw['Open']\n",
    "    pct_change_adjclose = all_data_raw['Adj Close'].pct_change().fillna(0)\n",
    "    pct_change_adjclose_over_open = (all_data_raw['Adj Close']-all_data_raw['Open'])/all_data_raw['Open']\n",
    "    pct_change_volume = all_data_raw['Volume'].pct_change().fillna(0)\n",
    "\n",
    "    # Prepare labels: 2 means the close price of tomorow is higher than today's close price; 1 is down; 0 means the movement is between up_threshold and down_threshold\n",
    "    label = np.where(pct_change_close > up_threshold, 2, np.where(pct_change_close < down_threshold, 1, 0))[1:]\n",
    "    label = np.append(label, 0)\n",
    "\n",
    "    # Construct a train_data_norm data frame\n",
    "    all_data_norm = pd.DataFrame({\n",
    "                              'Open_abs': open,\n",
    "                              'High_abs': high,\n",
    "                              'Low_abs': low,\n",
    "                              'Close_abs': close,\n",
    "                              'AdjClose_abs': adjclose,\n",
    "                              'Volume_abs': volume,\n",
    "                              'Open_norm':pct_change_open,\n",
    "                              'High_norm':pct_change_high,\n",
    "                              'Low_norm': pct_change_low,\n",
    "                              'Close_norm':pct_change_close,\n",
    "                              'Volume_norm':pct_change_volume,\n",
    "                              'High-Open_norm':pct_change_high_over_open,\n",
    "                              'Low-Open_norm':pct_change_low_over_open,\n",
    "                              'Close-Open_norm':pct_change_close_over_open,\n",
    "                              'AdjClose_norm':pct_change_adjclose,\n",
    "                              'AdjClose-Open_norm':pct_change_adjclose_over_open,        \n",
    "                              'Label_2up1down':label})\n",
    "\n",
    "    # Normalize by min-max normalization after the pct normalization\n",
    "    all_data_norm['Open_abs'] = all_data_norm['Open_abs'].apply(lambda x: (x - all_data_norm['Open_abs'].min()) / (all_data_norm['Open_abs'].max() - all_data_norm['Open_abs'].min()))\n",
    "    all_data_norm['High_abs'] = all_data_norm['High_abs'].apply(lambda x: (x - all_data_norm['High_abs'].min()) / (all_data_norm['High_abs'].max() - all_data_norm['High_abs'].min()))\n",
    "    all_data_norm['Low_abs'] = all_data_norm['Low_abs'].apply(lambda x: (x - all_data_norm['Low_abs'].min()) / (all_data_norm['Low_abs'].max() - all_data_norm['Low_abs'].min()))\n",
    "    all_data_norm['Close_abs'] = all_data_norm['Close_abs'].apply(lambda x: (x - all_data_norm['Close_abs'].min()) / (all_data_norm['Close_abs'].max() - all_data_norm['Close_abs'].min()))\n",
    "    all_data_norm['AdjClose_abs'] = all_data_norm['AdjClose_abs'].apply(lambda x: (x - all_data_norm['AdjClose_abs'].min()) / (all_data_norm['AdjClose_abs'].max() - all_data_norm['AdjClose_abs'].min()))\n",
    "    all_data_norm['Volume_abs'] = all_data_norm['Volume_abs'].apply(lambda x: (x - all_data_norm['Volume_abs'].min()) / (all_data_norm['Volume_abs'].max() - all_data_norm['Volume_abs'].min()))\n",
    "\n",
    "    \n",
    "    all_data_norm['Open_norm'] = all_data_norm['Open_norm'].apply(lambda x: (x - all_data_norm['Open_norm'].min()) / (all_data_norm['Open_norm'].max() - all_data_norm['Open_norm'].min()))\n",
    "    all_data_norm['High_norm'] = all_data_norm['High_norm'].apply(lambda x: (x - all_data_norm['High_norm'].min()) / (all_data_norm['High_norm'].max() - all_data_norm['High_norm'].min()))\n",
    "    all_data_norm['Low_norm'] = all_data_norm['Low_norm'].apply(lambda x: (x - all_data_norm['Low_norm'].min()) / (all_data_norm['Low_norm'].max() - all_data_norm['Low_norm'].min()))\n",
    "    all_data_norm['Close_norm'] = all_data_norm['Close_norm'].apply(lambda x: (x - all_data_norm['Close_norm'].min()) / (all_data_norm['Close_norm'].max() - all_data_norm['Close_norm'].min()))\n",
    "    all_data_norm['Volume_norm'] = all_data_norm['Volume_norm'].apply(lambda x: (x - all_data_norm['Volume_norm'].min()) / (all_data_norm['Volume_norm'].max() - all_data_norm['Volume_norm'].min()))\n",
    "    all_data_norm['High-Open_norm'] = all_data_norm['High-Open_norm'].apply(lambda x: (x - all_data_norm['High-Open_norm'].min()) / (all_data_norm['High-Open_norm'].max() - all_data_norm['High-Open_norm'].min()))\n",
    "    all_data_norm['Low-Open_norm'] = all_data_norm['Low-Open_norm'].apply(lambda x: (x - all_data_norm['Low-Open_norm'].min()) / (all_data_norm['Low-Open_norm'].max() - all_data_norm['Low-Open_norm'].min()))\n",
    "    all_data_norm['Close-Open_norm'] = all_data_norm['Close-Open_norm'].apply(lambda x: (x - all_data_norm['Close-Open_norm'].min()) / (all_data_norm['Close-Open_norm'].max() - all_data_norm['Close-Open_norm'].min()))\n",
    "    all_data_norm['AdjClose_norm'] = all_data_norm['AdjClose_norm'].apply(lambda x: (x - all_data_norm['AdjClose_norm'].min()) / (all_data_norm['AdjClose_norm'].max() - all_data_norm['AdjClose_norm'].min()))\n",
    "    all_data_norm['AdjClose-Open_norm'] = all_data_norm['AdjClose-Open_norm'].apply(lambda x: (x - all_data_norm['AdjClose-Open_norm'].min()) / (all_data_norm['AdjClose-Open_norm'].max() - all_data_norm['AdjClose-Open_norm'].min()))\n",
    "\n",
    "    # Remove the first and the last row, becuase of NAN values\n",
    "    all_data_raw = all_data_raw.iloc[1:-1]\n",
    "    all_data_norm = all_data_norm.iloc[1:-1]\n",
    "\n",
    "    all_data_raw.to_csv(EXPORT_DATA_FOLDER+symbol+'all_data_raw.csv', index=True)\n",
    "    all_data_norm.to_csv(EXPORT_DATA_FOLDER+symbol+'all_data_norm.csv', index=True)\n",
    "\n",
    "train_data_raw = all_data_raw.loc[:date_train_end]\n",
    "test_data_raw = all_data_raw.loc[date_train_end:]\n",
    "train_data_norm = all_data_norm.loc[:date_train_end]\n",
    "test_data_norm = all_data_norm.loc[date_train_end:]\n",
    "\n"
   ]
  },
  {
   "cell_type": "code",
   "execution_count": null,
   "id": "044f2161",
   "metadata": {
    "id": "044f2161"
   },
   "outputs": [],
   "source": [
    "print(len(train_data_norm))\n",
    "print(len(test_data_norm))"
   ]
  },
  {
   "cell_type": "markdown",
   "id": "9ac476c4",
   "metadata": {
    "id": "9ac476c4"
   },
   "source": [
    "## TODO"
   ]
  },
  {
   "cell_type": "code",
   "execution_count": null,
   "id": "01cc7891",
   "metadata": {
    "id": "01cc7891"
   },
   "outputs": [],
   "source": [
    "'''\n",
    "(2023-06-05)\n",
    "cuda support check\n",
    "//read textual data into correct shape\n",
    "hyperparam tuning: number of neurons: tune to right number of neurons in FC in model\n",
    "//max_text_per_iter -> code in dataloader to maintain the size\n",
    "\n",
    "(2023-06-07)\n",
    "cuda check\n",
    "roberta encoder fix\n",
    "multi label - how to create target label?\n",
    "\n",
    "'''"
   ]
  },
  {
   "cell_type": "markdown",
   "id": "0f1b8731",
   "metadata": {
    "id": "0f1b8731"
   },
   "source": [
    "## Prep textual data"
   ]
  },
  {
   "cell_type": "markdown",
   "id": "SXhjZ2x4UuT2",
   "metadata": {
    "id": "SXhjZ2x4UuT2"
   },
   "source": [
    "### Crawl textual news data from internet"
   ]
  },
  {
   "cell_type": "code",
   "execution_count": null,
   "id": "4oOXAgDCUuz_",
   "metadata": {
    "id": "4oOXAgDCUuz_"
   },
   "outputs": [],
   "source": [
    "# Import libraries\n",
    "from bs4 import BeautifulSoup\n",
    "from urllib.request import urlopen\n",
    "from urllib.request import Request\n",
    "from nltk.sentiment.vader import SentimentIntensityAnalyzer\n",
    "\n",
    "# Parameters\n",
    "n = 3 #the # of article headlines displayed per ticker\n",
    "tickers = ['AAPL', 'TSLA', 'AMZN']\n",
    "\n",
    "\n",
    "\n",
    "# Get Data\n",
    "finviz_url = 'https://finviz.com/quote.ashx?t='\n",
    "news_tables = {}\n",
    "\n",
    "for ticker in tickers:\n",
    "    url = finviz_url + ticker\n",
    "    req = Request(url=url,\n",
    "                  headers={'user-agent': 'Mozilla/5.0',\n",
    "                                   'referer': 'https://...'})\n",
    "    resp = urlopen(req)\n",
    "    html = BeautifulSoup(resp, features=\"lxml\")\n",
    "    news_table = html.find(id='news-table')\n",
    "    news_tables[ticker] = news_table\n",
    "\n",
    "try:\n",
    "    for ticker in tickers:\n",
    "        df = news_tables[ticker]\n",
    "        df_tr = df.findAll('tr')\n",
    "\n",
    "        print ('\\n')\n",
    "        print ('Recent News Headlines for {}: '.format(ticker))\n",
    "\n",
    "        for i, table_row in enumerate(df_tr):\n",
    "            a_text = table_row.a.text\n",
    "            td_text = table_row.td.text\n",
    "            td_text = td_text.strip()\n",
    "            print(a_text,'(',td_text,')')\n",
    "            if i == n-1:\n",
    "                break\n",
    "except KeyError:\n",
    "    pass\n",
    "\n",
    "\n",
    "# Iterate through the news\n",
    "parsed_news = []\n",
    "for file_name, news_table in news_tables.items():\n",
    "    for x in news_table.findAll('tr'):\n",
    "        text = x.a.get_text()\n",
    "        date_scrape = x.td.text.split()\n",
    "\n",
    "        if len(date_scrape) == 1:\n",
    "            time = date_scrape[0]\n",
    "\n",
    "        else:\n",
    "            date = date_scrape[0]\n",
    "            time = date_scrape[1]\n",
    "\n",
    "        ticker = file_name.split('_')[0]\n",
    "\n",
    "        parsed_news.append([ticker, date, time, text])\n",
    "\n"
   ]
  },
  {
   "cell_type": "markdown",
   "id": "yjXll-U6U1fV",
   "metadata": {
    "id": "yjXll-U6U1fV"
   },
   "source": [
    "### Read downloaded data from saved files"
   ]
  },
  {
   "cell_type": "code",
   "execution_count": null,
   "id": "4t4-Er1hFOh7",
   "metadata": {
    "id": "4t4-Er1hFOh7"
   },
   "outputs": [],
   "source": []
  },
  {
   "cell_type": "code",
   "execution_count": 6,
   "id": "a8a06ae3",
   "metadata": {
    "id": "a8a06ae3"
   },
   "outputs": [],
   "source": [
    "text_data_df = pd.read_csv('./data/XOM_20200401_20230401_medium (1).csv',\n",
    "                           sep= ',',\n",
    "                           header= 0,\n",
    "                           engine='python',\n",
    "                           on_bad_lines = 'skip')\n",
    "text_data_df = text_data_df[['Date', 'News']]\n",
    "\n",
    "\n",
    "text_data_df = text_data_df.groupby('Date')['News'].apply('$$$###'.join)\n",
    "\n",
    "text_data_df.index = pd.to_datetime(text_data_df.index, dayfirst=True)\n",
    "# text_data_df\n"
   ]
  },
  {
   "cell_type": "code",
   "execution_count": 7,
   "id": "3155ea81",
   "metadata": {
    "id": "3155ea81"
   },
   "outputs": [
    {
     "name": "stdout",
     "output_type": "stream",
     "text": [
      "2017-01-04 00:00:00\n",
      "2022-09-30 00:00:00\n",
      "2022-09-30 00:00:00\n",
      "2023-06-29 00:00:00\n"
     ]
    }
   ],
   "source": [
    "all_train_df = train_data_norm.join(text_data_df, how = 'left')\n",
    "all_test_df = test_data_norm.join(text_data_df, how = 'left')\n",
    "\n",
    "print(all_train_df.index.min())\n",
    "print(all_train_df.index.max())\n",
    "print(all_test_df.index.min())\n",
    "print(all_test_df.index.max())"
   ]
  },
  {
   "cell_type": "code",
   "execution_count": 8,
   "id": "2WWhDJkjpOYV",
   "metadata": {
    "id": "2WWhDJkjpOYV"
   },
   "outputs": [
    {
     "data": {
      "text/plain": [
       "array([[<Axes: title={'center': 'Open_abs'}>,\n",
       "        <Axes: title={'center': 'High_abs'}>,\n",
       "        <Axes: title={'center': 'Low_abs'}>,\n",
       "        <Axes: title={'center': 'Close_abs'}>],\n",
       "       [<Axes: title={'center': 'AdjClose_abs'}>,\n",
       "        <Axes: title={'center': 'Volume_abs'}>,\n",
       "        <Axes: title={'center': 'Open_norm'}>,\n",
       "        <Axes: title={'center': 'High_norm'}>],\n",
       "       [<Axes: title={'center': 'Low_norm'}>,\n",
       "        <Axes: title={'center': 'Close_norm'}>,\n",
       "        <Axes: title={'center': 'Volume_norm'}>,\n",
       "        <Axes: title={'center': 'High-Open_norm'}>],\n",
       "       [<Axes: title={'center': 'Low-Open_norm'}>,\n",
       "        <Axes: title={'center': 'Close-Open_norm'}>,\n",
       "        <Axes: title={'center': 'AdjClose_norm'}>,\n",
       "        <Axes: title={'center': 'AdjClose-Open_norm'}>],\n",
       "       [<Axes: title={'center': 'Label_2up1down'}>, <Axes: >, <Axes: >,\n",
       "        <Axes: >]], dtype=object)"
      ]
     },
     "execution_count": 8,
     "metadata": {},
     "output_type": "execute_result"
    },
    {
     "data": {
      "image/png": "[encoded data removed]",
      "text/plain": [
       "<Figure size 640x480 with 20 Axes>"
      ]
     },
     "metadata": {},
     "output_type": "display_data"
    }
   ],
   "source": [
    "all_train_df.hist()"
   ]
  },
  {
   "cell_type": "code",
   "execution_count": 9,
   "id": "44fb1e6a",
   "metadata": {},
   "outputs": [
    {
     "data": {
      "image/png": "[encoded data removed]",
      "text/plain": [
       "<Figure size 640x480 with 1 Axes>"
      ]
     },
     "metadata": {},
     "output_type": "display_data"
    },
    {
     "data": {
      "image/png": "[encoded data removed]",
      "text/plain": [
       "<Figure size 640x480 with 1 Axes>"
      ]
     },
     "metadata": {},
     "output_type": "display_data"
    },
    {
     "data": {
      "image/png": "[encoded data removed]",
      "text/plain": [
       "<Figure size 640x480 with 1 Axes>"
      ]
     },
     "metadata": {},
     "output_type": "display_data"
    }
   ],
   "source": [
    "plt.plot(train_data_raw['Open'])\n",
    "plt.plot(test_data_raw['Open'])\n",
    "plt.show()\n",
    "plt.plot(all_train_df['Open_norm'])\n",
    "plt.plot(all_test_df['Open_norm'])\n",
    "plt.show()\n",
    "plt.plot(all_train_df['Open_abs'])\n",
    "plt.plot(all_test_df['Open_abs'])\n",
    "plt.show()"
   ]
  },
  {
   "cell_type": "markdown",
   "id": "nuUgt-MnU-aV",
   "metadata": {
    "id": "nuUgt-MnU-aV"
   },
   "source": [
    "### Merge textual and numerical data\n"
   ]
  },
  {
   "cell_type": "code",
   "execution_count": 10,
   "id": "56e91800",
   "metadata": {
    "id": "56e91800"
   },
   "outputs": [
    {
     "name": "stdout",
     "output_type": "stream",
     "text": [
      "<class 'numpy.ndarray'>\n",
      "<class 'numpy.ndarray'>\n",
      "1441\n",
      "1441\n",
      "1441\n",
      "torch.Size([1441, 5, 16])\n",
      "1441\n",
      "0\n",
      "<class 'numpy.ndarray'>\n",
      "<class 'numpy.ndarray'>\n",
      "182\n",
      "182\n",
      "182\n",
      "torch.Size([182, 5, 16])\n",
      "182\n",
      "20\n"
     ]
    }
   ],
   "source": [
    "all_train = all_train_df.values\n",
    "\n",
    "window_size = no_of_days_to_lookback\n",
    "\n",
    "X_numerical_train = []\n",
    "y_train = []\n",
    "X_text_train = []\n",
    "X_text_train_curr = []\n",
    "\n",
    "\n",
    "\n",
    "\n",
    "\n",
    "for i in range(window_size, len(all_train) - no_of_days_to_lookforward + 1):\n",
    "    X_numerical_train.append(all_train[i-window_size: i, :-2])\n",
    "\n",
    "    # split and append sequence of text\n",
    "    curr_seq = all_train[i-window_size: i, -1]\n",
    "    for j in range(window_size):\n",
    "        if (curr_seq[window_size - 1 -j] is not np.NaN):\n",
    "            split_curr_seq = curr_seq[window_size - 1 -j].split('$$$###')\n",
    "        else:\n",
    "            split_curr_seq = []\n",
    "        X_text_train_curr = X_text_train_curr + split_curr_seq\n",
    "\n",
    "    if len(X_text_train_curr) > max_text_per_iter:\n",
    "        X_text_train_curr = X_text_train_curr[:max_text_per_iter]\n",
    "\n",
    "    X_text_train.append(X_text_train_curr)\n",
    "\n",
    "    # target labels\n",
    "    y_train.append(all_train[i:i+no_of_days_to_lookforward, -2])\n",
    "\n",
    "X_numerical_train, y_train = np.array(X_numerical_train).astype(np.float16), np.array(y_train).astype(np.int32)\n",
    "print(type(X_numerical_train))\n",
    "print(type(y_train))\n",
    "\n",
    "X_numerical_train = torch.from_numpy(X_numerical_train).type(torch.Tensor)\n",
    "y_train = torch.from_numpy(y_train).long()\n",
    "\n",
    "print(len(X_numerical_train))\n",
    "print(len(X_text_train))\n",
    "print(len(y_train))\n",
    "print(X_numerical_train.shape)\n",
    "\n",
    "print(len(X_text_train))\n",
    "print(len(X_text_train[2]))\n",
    "# print(X_text_train[2])\n",
    "\n",
    "\n",
    "    \n",
    "    \n",
    "    \n",
    "all_test = all_test_df.values\n",
    "X_numerical_test = []\n",
    "y_test = []\n",
    "X_text_test = []\n",
    "X_text_test_curr = []\n",
    "\n",
    "for i in range(window_size, len(all_test) - no_of_days_to_lookforward + 1):\n",
    "    X_numerical_test.append(all_test[i-window_size: i, :-2])\n",
    "\n",
    "    # split and append sequence of text (in reverse order to add the latest news first)\n",
    "    curr_seq = all_test[i-window_size: i, -1]\n",
    "    for j in range(window_size):\n",
    "        if (curr_seq[window_size - 1 -j] is not np.NaN):\n",
    "            split_curr_seq = curr_seq[window_size - 1 -j].split('$$$###')\n",
    "        else:\n",
    "            split_curr_seq = []\n",
    "        X_text_test_curr = X_text_test_curr + split_curr_seq\n",
    "\n",
    "    if len(X_text_test_curr) > max_text_per_iter:\n",
    "        X_text_test_curr = X_text_test_curr[:max_text_per_iter]\n",
    "\n",
    "    X_text_test.append(X_text_test_curr)\n",
    "\n",
    "    # target labels\n",
    "    y_test.append(all_test[i:i+no_of_days_to_lookforward, -2])\n",
    "\n",
    "X_numerical_test, y_test = np.array(X_numerical_test).astype(np.float16), np.array(y_test).astype(np.int32)\n",
    "print(type(X_numerical_test))\n",
    "print(type(y_test))\n",
    "\n",
    "X_numerical_test = torch.from_numpy(X_numerical_test).type(torch.Tensor)\n",
    "y_test = torch.from_numpy(y_test).long()\n",
    "\n",
    "print(len(X_numerical_test))\n",
    "print(len(X_text_test))\n",
    "print(len(y_test))\n",
    "print(X_numerical_test.shape)\n",
    "\n",
    "print(len(X_text_test))\n",
    "print(len(X_text_test[2]))\n",
    "# print(X_text_test[2])\n",
    "\n",
    "\n",
    "\n",
    "# return X_numerical_train, y_train, X_text_train, X_numerical_test, y_test, X_text_test"
   ]
  },
  {
   "cell_type": "code",
   "execution_count": null,
   "id": "e404c5e2",
   "metadata": {
    "id": "e404c5e2"
   },
   "outputs": [],
   "source": []
  },
  {
   "cell_type": "markdown",
   "id": "b5b453b0",
   "metadata": {
    "id": "b5b453b0"
   },
   "source": [
    "## Data loader"
   ]
  },
  {
   "cell_type": "code",
   "execution_count": 11,
   "id": "dc5998e6",
   "metadata": {
    "id": "dc5998e6"
   },
   "outputs": [],
   "source": [
    "from torch.utils.data import Dataset\n",
    "from torch.utils.data import DataLoader\n",
    "\n",
    "\n",
    "class SiameseDataloader(Dataset):\n",
    "\n",
    "    def __init__(self, X_numerical_train, y_train, X_text_train, MAX_LEN, tokenizer):\n",
    "        self.X_numerical_train = X_numerical_train\n",
    "        self.X_text_train = X_text_train\n",
    "        self.MAX_LEN = MAX_LEN\n",
    "        self.tokenizer = tokenizer\n",
    "\n",
    "    def __getitem__(self, index):\n",
    "\n",
    "\n",
    "        input_ids = []\n",
    "        attention_masks = []\n",
    "        token_type_ids = []\n",
    "        input_seq = []\n",
    "        \n",
    "        \n",
    "#         for sent in X_text_train[index]:\n",
    "#             encoded_sent = self.tokenizer.encode_plus(\n",
    "#                 text=sent,\n",
    "#                 add_special_tokens=True,        # Add `[CLS]` and `[SEP]` special tokens\n",
    "#                 max_length=self.MAX_LEN,             # Choose max length to truncate/pad\n",
    "#                 pad_to_max_length=True,         # Pad sentence to max length\n",
    "#                 #return_attention_mask=True      # Return attention mask\n",
    "#                 return_token_type_ids=True\n",
    "#                 )\n",
    "#             input_ids.append(encoded_sent.get('input_ids'))\n",
    "#             attention_masks.append(encoded_sent.get('attention_mask'))\n",
    "#             token_type_ids.append(encoded_sent.get('token_type_ids'))\n",
    "\n",
    "#         # Convert lists to tensors\n",
    "#         input_ids = torch.tensor(input_ids)\n",
    "#         attention_masks = torch.tensor(attention_masks)\n",
    "#         token_type_ids = torch.tensor(token_type_ids)\n",
    "\n",
    "\n",
    "        return {\n",
    "            'x_numerical': X_numerical_train[index],\n",
    "#             'ids': torch.tensor(input_ids, dtype=torch.long),\n",
    "#             'mask': torch.tensor(attention_masks, dtype=torch.long),\n",
    "#             'token_type_ids': torch.tensor(token_type_ids, dtype=torch.long),\n",
    "            'targets': torch.tensor(y_train[index], dtype=torch.long)\n",
    "        }\n",
    "\n",
    "\n",
    "\n",
    "\n",
    "\n",
    "    def __len__(self):\n",
    "        return len(self.X_numerical_train)"
   ]
  },
  {
   "cell_type": "code",
   "execution_count": 12,
   "id": "77739763",
   "metadata": {},
   "outputs": [
    {
     "name": "stdout",
     "output_type": "stream",
     "text": [
      "torch.Size([1441, 5, 16])\n",
      "torch.Size([1441, 1])\n",
      "1441\n",
      "torch.Size([182, 5, 16])\n",
      "torch.Size([182, 1])\n",
      "182\n"
     ]
    }
   ],
   "source": [
    "print(X_numerical_train.shape)\n",
    "print(y_train.shape)\n",
    "print(len(X_text_train))\n",
    "print(X_numerical_test.shape)\n",
    "print(y_test.shape)\n",
    "print(len(X_text_test))\n"
   ]
  },
  {
   "cell_type": "code",
   "execution_count": null,
   "id": "2d148a2a",
   "metadata": {},
   "outputs": [],
   "source": [
    "y_train"
   ]
  },
  {
   "cell_type": "code",
   "execution_count": 13,
   "id": "28f5fe04",
   "metadata": {
    "id": "28f5fe04"
   },
   "outputs": [],
   "source": [
    "tokenizer = RobertaTokenizer.from_pretrained('roberta-large', truncation=True, do_lower_case=True)\n",
    "global X_numerical_train, y_train, X_text_train, X_numerical_test, y_test, X_text_test\n",
    "\n",
    "train_set = SiameseDataloader(X_numerical_train, y_train, X_text_train, MAX_LEN, tokenizer)\n",
    "train_loader = DataLoader(train_set, batch_size=batch_size, shuffle=False)\n",
    "\n",
    "\n",
    "test_set = SiameseDataloader(X_numerical_test, y_test, X_text_test, MAX_LEN, tokenizer)\n",
    "test_loader = DataLoader(test_set, batch_size=batch_size, shuffle=False)\n"
   ]
  },
  {
   "cell_type": "code",
   "execution_count": null,
   "id": "c672aec2",
   "metadata": {},
   "outputs": [],
   "source": [
    "def private_func():\n",
    "    print(len(X_numerical_train))\n",
    "\n",
    "private_func()"
   ]
  },
  {
   "cell_type": "markdown",
   "id": "bcf87d32",
   "metadata": {
    "id": "bcf87d32"
   },
   "source": [
    "## Build model\n"
   ]
  },
  {
   "cell_type": "markdown",
   "id": "mfKG9WSMQ74y",
   "metadata": {
    "id": "mfKG9WSMQ74y"
   },
   "source": [
    "### lstm1, lstm2, roberta, concat, lrelu\n"
   ]
  },
  {
   "cell_type": "code",
   "execution_count": null,
   "id": "KJUOPHMMRVK2",
   "metadata": {
    "id": "KJUOPHMMRVK2"
   },
   "outputs": [],
   "source": [
    "import torch.nn as nn\n",
    "\n",
    "class SiameseModel11(nn.Module):\n",
    "    def __init__(self, input_dim1, input_dim2,\n",
    "                 hidden_dim1, hidden_dim2, hidden_dim3, hidden_dim4,\n",
    "                 num_layers1, num_layers2, output_dim1, output_dim2):\n",
    "        super(SiameseModel11, self).__init__()\n",
    "        self.input_dim1 = input_dim1\n",
    "        self.input_dim2 = input_dim2\n",
    "        self.hidden_dim1 = hidden_dim1\n",
    "        self.hidden_dim2 = hidden_dim2\n",
    "        self.hidden_dim3 = hidden_dim3\n",
    "        self.hidden_dim4 = hidden_dim4\n",
    "        self.num_layers1 = num_layers1\n",
    "        self.num_layers2 = num_layers2\n",
    "        self.output_dim1 = output_dim1\n",
    "        self.output_dim2 = output_dim2\n",
    "\n",
    "        self.roberta = RobertaModel.from_pretrained(\"roberta-large\").to(device)\n",
    "\n",
    "        self.lstm1 = nn.LSTM(input_dim1, hidden_dim1, num_layers1, batch_first=True)\n",
    "        self.lstm2 = nn.LSTM(input_dim2, hidden_dim2, num_layers2, batch_first=True)\n",
    "\n",
    "        self.fc1 = nn.Linear(hidden_dim1, output_dim1)\n",
    "        self.fc2 = nn.Linear(hidden_dim2, output_dim2)\n",
    "        self.fc3 = nn.Linear(output_dim1+output_dim2, hidden_dim3)\n",
    "        self.fc4 = nn.Linear(hidden_dim3, hidden_dim4)\n",
    "        self.fc5 = nn.Linear(hidden_dim4, 3)\n",
    "        self.lrelu = nn.LeakyReLU(0.1)\n",
    "\n",
    "\n",
    "\n",
    "    def forward(self, x1, ids, masks, token_type_ids):\n",
    "        #left tower with numerical features\n",
    "        h_10 = Variable(torch.zeros(self.num_layers1, x1.size(0), self.hidden_dim1)).to(device)\n",
    "        c_10 = Variable(torch.zeros(self.num_layers1, x1.size(0), self.hidden_dim1)).to(device)\n",
    "        ula1, (h_out1, _) = self.lstm1(x1, (h_10, c_10))\n",
    "        h_out1 = h_out1.view(-1, self.hidden_dim1)\n",
    "        out1 = self.fc1(h_out1)\n",
    "\n",
    "\n",
    "        # right tower with roberta on textual features\n",
    "        batch_size_here = ids.shape[0]\n",
    "        e2 = torch.zeros(batch_size_here, max_text_per_iter,1024).to(device)\n",
    "\n",
    "        for k in range(ids.shape[1]):\n",
    "            seq_ids = ids[:,k,:]\n",
    "            seq_masks = masks[:,k,:]\n",
    "            seq_token_type_ids = token_type_ids[:,k,:]\n",
    "\n",
    "            e2k = self.roberta(input_ids= seq_ids, attention_mask=seq_masks, token_type_ids=seq_token_type_ids)\n",
    "            # first 0 is for last_hidden_state: https://huggingface.co/docs/transformers/main/en/model_doc/roberta#transformers.RobertaModel.forward.returns:~:text=transformers.modeling_outputs.-,BaseModelOutputWithPoolingAndCrossAttentions%20or%20tuple(torch.FloatTensor),-A%20transformers.modeling_outputs\n",
    "            # the shape of e2k[0] is (batch_size, sequence_length (<=MAX_LEN), hidden_size (=1024))\n",
    "            e2k1 = e2k[0][:, 0, :]\n",
    "            e2[:,k,:] = e2k1\n",
    "\n",
    "\n",
    "        print(e2.shape)\n",
    "        h_20 = Variable(torch.zeros(self.num_layers2, e2.size(0), self.hidden_dim2)).to(device)\n",
    "        c_20 = Variable(torch.zeros(self.num_layers2, e2.size(0), self.hidden_dim2)).to(device)\n",
    "        ula2, (h_out2, _) = self.lstm2(e2, (h_20, c_20))\n",
    "        h_out2 = h_out2.view(-1, self.hidden_dim2)\n",
    "        out2 = self.fc2(h_out2)\n",
    "\n",
    "        # siamese merging layers\n",
    "        output = torch.cat((out1, out2),1)\n",
    "        output = self.lrelu(self.fc3(output))\n",
    "        output = self.lrelu(self.fc4(output))\n",
    "\n",
    "\n",
    "        output = self.fc5(output)\n",
    "        return output\n"
   ]
  },
  {
   "cell_type": "markdown",
   "id": "vMwCdhg6Qtzj",
   "metadata": {
    "id": "vMwCdhg6Qtzj"
   },
   "source": [
    "### fcn1, fcn2, roberta, concat, lrelu"
   ]
  },
  {
   "cell_type": "code",
   "execution_count": null,
   "id": "s8ktZOz3QykD",
   "metadata": {
    "id": "s8ktZOz3QykD"
   },
   "outputs": [],
   "source": [
    "import torch.nn as nn\n",
    "\n",
    "class SiameseModel11_fcn(nn.Module):\n",
    "    def __init__(self, input_dim1, input_dim2,\n",
    "                 hidden_dim1, hidden_dim2, hidden_dim3, hidden_dim4, hidden_dim5, hidden_dim6):\n",
    "        super(SiameseModel11_fcn, self).__init__()\n",
    "        self.input_dim1 = input_dim1\n",
    "        self.input_dim2 = input_dim2\n",
    "        self.hidden_dim1 = hidden_dim1\n",
    "        self.hidden_dim2 = hidden_dim2\n",
    "        self.hidden_dim3 = hidden_dim3\n",
    "        self.hidden_dim4 = hidden_dim4\n",
    "        self.hidden_dim5 = hidden_dim5\n",
    "        self.hidden_dim6 = hidden_dim6\n",
    "\n",
    "\n",
    "        self.roberta = RobertaModel.from_pretrained(\"roberta-large\").to(device)\n",
    "\n",
    "\n",
    "        self.fc11 = nn.Linear(input_dim1, hidden_dim1)\n",
    "        self.fc12 = nn.Linear(hidden_dim1, hidden_dim2)\n",
    "\n",
    "        self.fc21 = nn.Linear(input_dim2, hidden_dim3)\n",
    "        self.fc22 = nn.Linear(hidden_dim3, hidden_dim4)\n",
    "\n",
    "        self.fc31 = nn.Linear(hidden_dim2+hidden_dim4, hidden_dim5)\n",
    "        self.fc32 = nn.Linear(hidden_dim5, hidden_dim6)\n",
    "        self.fc33 = nn.Linear(hidden_dim6, 3)\n",
    "        self.lrelu = nn.LeakyReLU(0.1)\n",
    "\n",
    "\n",
    "\n",
    "    def forward(self, x1, ids, masks, token_type_ids):\n",
    "        #left tower with numerical features\n",
    "\n",
    "        batch_size, seq_len, embedding_size = x1.size()\n",
    "        x1 = torch.reshape(x1, (batch_size, seq_len*embedding_size))\n",
    "\n",
    "        out1 = self.fc11(x1)\n",
    "        print('out1 shape:', out1.shape)\n",
    "\n",
    "        out1 = self.fc12(out1)\n",
    "        print('out1 shape:', out1.shape)\n",
    "\n",
    "        # right tower with roberta on textual features\n",
    "        batch_size_here = ids.shape[0]\n",
    "        e2 = torch.zeros(batch_size_here, max_text_per_iter,1024).to(device)\n",
    "\n",
    "        for k in range(ids.shape[1]):\n",
    "            seq_ids = ids[:,k,:]\n",
    "            seq_masks = masks[:,k,:]\n",
    "            seq_token_type_ids = token_type_ids[:,k,:]\n",
    "\n",
    "            e2k = self.roberta(input_ids= seq_ids, attention_mask=seq_masks, token_type_ids=seq_token_type_ids)\n",
    "            # first 0 is for last_hidden_state: https://huggingface.co/docs/transformers/main/en/model_doc/roberta#transformers.RobertaModel.forward.returns:~:text=transformers.modeling_outputs.-,BaseModelOutputWithPoolingAndCrossAttentions%20or%20tuple(torch.FloatTensor),-A%20transformers.modeling_outputs\n",
    "            # the shape of e2k[0] is (batch_size, sequence_length (<=MAX_LEN), hidden_size (=1024))\n",
    "            e2k1 = e2k[0][:, 0, :]\n",
    "            e2[:,k,:] = e2k1\n",
    "\n",
    "        print(e2.shape)\n",
    "        batch_size, seq_len, embedding_size = e2.size()\n",
    "        e2 = torch.reshape(e2, (batch_size, seq_len*embedding_size))\n",
    "        print(e2.shape)\n",
    "\n",
    "        out2 = self.fc21(e2)\n",
    "        print('out2 shape:', out2.shape)\n",
    "        out2 = self.fc22(out2)\n",
    "        print('out2 shape:', out2.shape)\n",
    "\n",
    "\n",
    "        # siamese merging layers\n",
    "        output = torch.cat((out1, out2),1)\n",
    "        output = self.lrelu(self.fc31(output))\n",
    "        output = self.lrelu(self.fc32(output))\n",
    "        output = self.fc33(output)\n",
    "        return output\n"
   ]
  },
  {
   "cell_type": "markdown",
   "id": "maQVSQvVR6CP",
   "metadata": {
    "id": "maQVSQvVR6CP"
   },
   "source": [
    "### lstm1, mlp, relu"
   ]
  },
  {
   "cell_type": "code",
   "execution_count": null,
   "id": "Yc1ZHghiRKPr",
   "metadata": {
    "id": "Yc1ZHghiRKPr"
   },
   "outputs": [],
   "source": [
    "import torch.nn as nn\n",
    "\n",
    "class SiameseModel10(nn.Module):\n",
    "    def __init__(self, input_dim1, input_dim2,\n",
    "                 hidden_dim1, hidden_dim2, hidden_dim3, hidden_dim4,\n",
    "                 num_layers1, num_layers2, output_dim1, output_dim2):\n",
    "        super(SiameseModel10, self).__init__()\n",
    "        self.input_dim1 = input_dim1\n",
    "        self.input_dim2 = input_dim2\n",
    "        self.hidden_dim1 = hidden_dim1\n",
    "        self.hidden_dim2 = hidden_dim2\n",
    "        self.hidden_dim3 = hidden_dim3\n",
    "        self.hidden_dim4 = hidden_dim4\n",
    "        self.num_layers1 = num_layers1\n",
    "        self.num_layers2 = num_layers2\n",
    "        self.output_dim1 = output_dim1\n",
    "        self.output_dim2 = output_dim2\n",
    "\n",
    "\n",
    "        self.lstm1 = nn.LSTM(input_dim1, hidden_dim1, num_layers1, batch_first=True)\n",
    "\n",
    "        self.fc1 = nn.Linear(hidden_dim1, output_dim1)\n",
    "        self.fc3 = nn.Linear(output_dim1, hidden_dim3)\n",
    "        self.fc4 = nn.Linear(hidden_dim3, hidden_dim4)\n",
    "        self.fc5 = nn.Linear(hidden_dim4, 3)\n",
    "\n",
    "\n",
    "\n",
    "    def forward(self, x1, ids, masks, token_type_ids):\n",
    "        #left tower with numerical features\n",
    "        h_10 = Variable(torch.zeros(self.num_layers1, x1.size(0), self.hidden_dim1)).to(device)\n",
    "        c_10 = Variable(torch.zeros(self.num_layers1, x1.size(0), self.hidden_dim1)).to(device)\n",
    "        ula1, (h_out1, _) = self.lstm1(x1, (h_10, c_10))\n",
    "        h_out1 = h_out1.view(-1, self.hidden_dim1)\n",
    "        out1 = self.fc1(h_out1)\n",
    "\n",
    "\n",
    "        # mlp layers\n",
    "        output = out1\n",
    "        output = F.relu(self.fc3(output))\n",
    "        output = F.relu(self.fc4(output))\n",
    "        output = self.fc5(output)\n",
    "        return output\n"
   ]
  },
  {
   "cell_type": "markdown",
   "id": "dcRte1yrTlYo",
   "metadata": {
    "id": "dcRte1yrTlYo"
   },
   "source": [
    "### lstm1, mlp, lrelu"
   ]
  },
  {
   "cell_type": "code",
   "execution_count": null,
   "id": "7Sm6o_cITpaX",
   "metadata": {
    "id": "7Sm6o_cITpaX"
   },
   "outputs": [],
   "source": [
    "import torch.nn as nn\n",
    "\n",
    "class SiameseModel10leaky(nn.Module):\n",
    "    def __init__(self, input_dim1,\n",
    "                 hidden_dim1, hidden_dim3, hidden_dim4,\n",
    "                 num_layers1, output_dim1):\n",
    "        super(SiameseModel10leaky, self).__init__()\n",
    "        self.input_dim1 = input_dim1\n",
    "        self.hidden_dim1 = hidden_dim1\n",
    "        self.hidden_dim3 = hidden_dim3\n",
    "        self.hidden_dim4 = hidden_dim4\n",
    "        self.num_layers1 = num_layers1\n",
    "        self.output_dim1 = output_dim1\n",
    "\n",
    "\n",
    "        self.lstm1 = nn.LSTM(input_dim1, hidden_dim1, num_layers1, batch_first=True)\n",
    "\n",
    "        self.fc1 = nn.Linear(hidden_dim1, output_dim1)\n",
    "        self.fc3 = nn.Linear(output_dim1, hidden_dim3)\n",
    "        # self.fc4 = nn.Linear(hidden_dim3, hidden_dim4)\n",
    "        self.fc5 = nn.Linear(hidden_dim3, 3)\n",
    "        self.lrelu = nn.LeakyReLU(0.1)\n",
    "\n",
    "\n",
    "\n",
    "    def forward(self, x1):#, ids, masks, token_type_ids):\n",
    "        #left tower with numerical features\n",
    "        h_10 = Variable(torch.zeros(self.num_layers1, x1.size(0), self.hidden_dim1)).to(device)\n",
    "        c_10 = Variable(torch.zeros(self.num_layers1, x1.size(0), self.hidden_dim1)).to(device)\n",
    "        ula1, (h_out1, _) = self.lstm1(x1, (h_10, c_10))\n",
    "#         print('h_out1 size', h_out1.shape)\n",
    "#         h_out1 = h_out1.view(-1, self.hidden_dim1)\n",
    "        ula1 = ula1[:, -1, :]\n",
    "#         print('h_out1 size after view', ula1.shape)\n",
    "        output = self.lrelu(self.fc1(ula1))\n",
    "\n",
    "\n",
    "        # mlp layers\n",
    "        output = self.lrelu(self.fc3(output))\n",
    "        # output = self.lrelu(self.fc4(output))\n",
    "        output = self.fc5(output)\n",
    "        return output\n"
   ]
  },
  {
   "cell_type": "markdown",
   "id": "Vo098_3sU_Hk",
   "metadata": {
    "id": "Vo098_3sU_Hk"
   },
   "source": [
    "### tranformer, mlp, relu\n"
   ]
  },
  {
   "cell_type": "code",
   "execution_count": 15,
   "id": "e4e33819",
   "metadata": {
    "id": "e4e33819"
   },
   "outputs": [],
   "source": [
    "import torch.nn as nn\n",
    "class PositionalEncoding(nn.Module):\n",
    "    def __init__(self, d_model, max_len=MAX_LEN):\n",
    "        super(PositionalEncoding, self).__init__()\n",
    "        pe = torch.zeros(max_len, d_model)\n",
    "        position = torch.arange(0, max_len, dtype=torch.float).unsqueeze(1)\n",
    "        div_term = torch.exp(torch.arange(0, d_model, 2).float() * (-math.log(10000.0) / d_model))\n",
    "        pe[:, 0::2] = torch.sin(position * div_term)\n",
    "        pe[:, 1::2] = torch.cos(position * div_term)\n",
    "        pe = pe.unsqueeze(0).transpose(0, 1)\n",
    "        #pe.requires_grad = False\n",
    "        self.register_buffer('pe', pe)\n",
    "    def forward(self, x):\n",
    "        return x + self.pe[:x.size(0), :]\n",
    "\n",
    "\n",
    "class SiameseModel20(nn.Module):\n",
    "    def __init__(self, input_dim1,\n",
    "                 hidden_dim1, hidden_dim2, hidden_dim3, hidden_dim4,\n",
    "                 num_layers1,  output_dim1,\n",
    "                 nhead, d_transformer, dropout=0.2 ):\n",
    "        super(SiameseModel20, self).__init__()\n",
    "\n",
    "        self.input_dim1 = input_dim1\n",
    "        self.hidden_dim1 = hidden_dim1\n",
    "        self.hidden_dim2 = hidden_dim2\n",
    "        self.hidden_dim3 = hidden_dim3\n",
    "        self.hidden_dim4 = hidden_dim4\n",
    "        self.num_layers1 = num_layers1\n",
    "        self.output_dim1 = output_dim1\n",
    "        self.lrelu = nn.LeakyReLU(0.1)\n",
    "\n",
    "        self.input_embedding  = nn.Linear(input_dim1, d_transformer)\n",
    "        self.src_mask = None\n",
    "        self.pos_encoder = PositionalEncoding(d_model=d_transformer)\n",
    "        self.encoder_layer = nn.TransformerEncoderLayer(d_model=d_transformer,\n",
    "                                                        nhead=nhead,\n",
    "                                                        dropout=dropout,\n",
    "                                                        batch_first=True,\n",
    "                                                        dim_feedforward = 24)\n",
    "        self.transformer_encoder = nn.TransformerEncoder(self.encoder_layer, num_layers=num_layers1)\n",
    "\n",
    "\n",
    "        # self.lstm1 = nn.LSTM(input_dim1, hidden_dim1, num_layers1, batch_first=True)\n",
    "\n",
    "\n",
    "        self.fc1 = nn.Linear(5*d_transformer, output_dim1)\n",
    "        self.fc3 = nn.Linear(output_dim1, hidden_dim3)\n",
    "        self.fc4 = nn.Linear(hidden_dim3, hidden_dim4)\n",
    "        self.fc5 = nn.Linear(hidden_dim4, 3)\n",
    "        self.init_weights()\n",
    "\n",
    "    def init_weights(self):\n",
    "        initrange = 0.1\n",
    "        self.fc1.bias.data.zero_()\n",
    "        self.fc1.weight.data.uniform_(-initrange, initrange)\n",
    "\n",
    "\n",
    "\n",
    "\n",
    "\n",
    "\n",
    "\n",
    "\n",
    "\n",
    "    def _generate_square_subsequent_mask(self, sz):\n",
    "        mask = (torch.triu(torch.ones(sz, sz)) == 1).transpose(0, 1)\n",
    "        mask = mask.float().masked_fill(mask == 0, float('-inf')).masked_fill(mask == 1, float(0.0))\n",
    "        return mask\n",
    "\n",
    "    def forward(self, x1):#, ids, masks, token_type_ids):\n",
    "        #left tower with numerical features\n",
    "        # h_10 = Variable(torch.zeros(self.num_layers1, x1.size(0), self.hidden_dim1)).to(device)\n",
    "        # c_10 = Variable(torch.zeros(self.num_layers1, x1.size(0), self.hidden_dim1)).to(device)\n",
    "        # ula1, (h_out1, _) = self.lstm1(x1, (h_10, c_10))\n",
    "        # h_out1 = h_out1.view(-1, self.hidden_dim1)\n",
    "        # out1 = self.fc1(h_out1)\n",
    "\n",
    "        #transformer encoder\n",
    "        if self.src_mask is None or self.src_mask.size(0) != len(x1):\n",
    "            device = x1.device\n",
    "            mask = self._generate_square_subsequent_mask(len(x1)).to(device)\n",
    "            self.src_mask = mask\n",
    "\n",
    "        x1 = self.input_embedding(x1) # linear transformation before positional embedding\n",
    "\n",
    "        x1 = self.pos_encoder(x1)\n",
    "        output = self.transformer_encoder(x1, self.src_mask)#, self.src_mask)\n",
    "        output = torch.flatten(output, start_dim=1)\n",
    "        # output = output.view(-1, self.hidden_dim1)\n",
    "\n",
    "        out1 = self.lrelu(self.fc1(output))\n",
    "\n",
    "\n",
    "        # mlp  layers\n",
    "        output = out1\n",
    "        output = self.lrelu(self.fc3(output))\n",
    "        output = self.lrelu(self.fc4(output))\n",
    "        output = self.fc5(output)\n",
    "        return output\n",
    "\n"
   ]
  },
  {
   "cell_type": "markdown",
   "id": "p8paRxDJVjWE",
   "metadata": {
    "id": "p8paRxDJVjWE"
   },
   "source": [
    "### Choose a model"
   ]
  },
  {
   "cell_type": "code",
   "execution_count": 18,
   "id": "33bdcfab",
   "metadata": {
    "id": "33bdcfab"
   },
   "outputs": [
    {
     "data": {
      "text/plain": [
       "'\\nSiameseModel10\\nSiameseModel10leaky\\nSiameseModel20\\n'"
      ]
     },
     "execution_count": 18,
     "metadata": {},
     "output_type": "execute_result"
    }
   ],
   "source": [
    "# model = SiameseModel11(input_dim1 = 8, input_dim2 = 1024,\n",
    "#                        hidden_dim1 = 20, hidden_dim2 = 768, output_dim1 = 10, output_dim2 = 256,\n",
    "#                        hidden_dim3 = 10, hidden_dim4 = 8,\n",
    "#                        num_layers1 = 1, num_layers2 = 1, ).to(device)\n",
    "\n",
    "# model = SiameseModel11_fcn(input_dim1 = 8*5, input_dim2 = 1024*20,\n",
    "#                  hidden_dim1 = 20, hidden_dim2 = 10, hidden_dim3 = 768, hidden_dim4 = 256, hidden_dim5 = 128, hidden_dim6 = 64 ).to(device)\n",
    "\n",
    "# model = SiameseModel10leaky(input_dim1 = 16,\n",
    "#                  hidden_dim1 = 20, output_dim1 = 10, hidden_dim3 = 10, hidden_dim4 = 8,\n",
    "#                  num_layers1 = 2).to(device)\n",
    "\n",
    "model = SiameseModel20(input_dim1 = 16,\n",
    "                 hidden_dim1 = 20, hidden_dim2 = 768, hidden_dim3 = 10, hidden_dim4 = 8,\n",
    "                 num_layers1 = 1, output_dim1 = 10,  nhead = 4, d_transformer = 20, dropout = 0.2).to(device)\n",
    "\n",
    "# model = SiameseModel10(input_dim1 = 8, input_dim2 = 1024,\n",
    "#                  hidden_dim1 = 20, hidden_dim2 = 768, hidden_dim3 = 10, hidden_dim4 = 8,\n",
    "#                  num_layers1 = 1, num_layers2 = 1, output_dim1 = 10, output_dim2 = 256).to(device)\n",
    "# for param in model.roberta.parameters():\n",
    "#     param.requires_grad = False\n",
    "# print(model)\n",
    "\n",
    "'''\n",
    "SiameseModel10\n",
    "SiameseModel10leaky\n",
    "SiameseModel20\n",
    "'''\n",
    "\n",
    "\n"
   ]
  },
  {
   "cell_type": "code",
   "execution_count": null,
   "id": "7d36SUCJmNGd",
   "metadata": {
    "id": "7d36SUCJmNGd"
   },
   "outputs": [],
   "source": [
    "model\n"
   ]
  },
  {
   "cell_type": "code",
   "execution_count": 19,
   "id": "BhZdTSfZmiVj",
   "metadata": {
    "id": "BhZdTSfZmiVj"
   },
   "outputs": [
    {
     "name": "stderr",
     "output_type": "stream",
     "text": [
      "0it [00:00, ?it/s]/tmp/ipykernel_32187/3194931825.py:46: UserWarning: To copy construct from a tensor, it is recommended to use sourceTensor.clone().detach() or sourceTensor.clone().detach().requires_grad_(True), rather than torch.tensor(sourceTensor).\n",
      "  'targets': torch.tensor(y_train[index], dtype=torch.long)\n",
      "0it [00:00, ?it/s]\n"
     ]
    },
    {
     "ename": "RuntimeError",
     "evalue": "The size of tensor a (32) must match the size of tensor b (10) at non-singleton dimension 0",
     "output_type": "error",
     "traceback": [
      "\u001b[0;31m---------------------------------------------------------------------------\u001b[0m",
      "\u001b[0;31mRuntimeError\u001b[0m                              Traceback (most recent call last)",
      "Cell \u001b[0;32mIn[19], line 9\u001b[0m\n\u001b[1;32m      3\u001b[0m \u001b[38;5;66;03m#     ids = data['ids'].to(device, dtype = torch.long)\u001b[39;00m\n\u001b[1;32m      4\u001b[0m \u001b[38;5;66;03m#     masks = data['mask'].to(device, dtype = torch.long)\u001b[39;00m\n\u001b[1;32m      5\u001b[0m \u001b[38;5;66;03m#     token_type_ids = data['token_type_ids'].to(device, dtype = torch.long)\u001b[39;00m\n\u001b[1;32m      6\u001b[0m     targets \u001b[38;5;241m=\u001b[39m data[\u001b[38;5;124m'\u001b[39m\u001b[38;5;124mtargets\u001b[39m\u001b[38;5;124m'\u001b[39m]\u001b[38;5;241m.\u001b[39mto(device, dtype \u001b[38;5;241m=\u001b[39m torch\u001b[38;5;241m.\u001b[39mlong)\n\u001b[0;32m----> 9\u001b[0m     y_pred \u001b[38;5;241m=\u001b[39m \u001b[43mmodel\u001b[49m\u001b[43m(\u001b[49m\u001b[43mx_numerical\u001b[49m\u001b[43m)\u001b[49m\u001b[38;5;66;03m#, ids, masks, token_type_ids)\u001b[39;00m\n\u001b[1;32m     10\u001b[0m     \u001b[38;5;28mprint\u001b[39m(y_pred)\n\u001b[1;32m     11\u001b[0m     \u001b[38;5;28mprint\u001b[39m(y_pred\u001b[38;5;241m.\u001b[39msize())\n",
      "File \u001b[0;32m~/anaconda3/envs/pytorch_p310/lib/python3.10/site-packages/torch/nn/modules/module.py:1501\u001b[0m, in \u001b[0;36mModule._call_impl\u001b[0;34m(self, *args, **kwargs)\u001b[0m\n\u001b[1;32m   1496\u001b[0m \u001b[38;5;66;03m# If we don't have any hooks, we want to skip the rest of the logic in\u001b[39;00m\n\u001b[1;32m   1497\u001b[0m \u001b[38;5;66;03m# this function, and just call forward.\u001b[39;00m\n\u001b[1;32m   1498\u001b[0m \u001b[38;5;28;01mif\u001b[39;00m \u001b[38;5;129;01mnot\u001b[39;00m (\u001b[38;5;28mself\u001b[39m\u001b[38;5;241m.\u001b[39m_backward_hooks \u001b[38;5;129;01mor\u001b[39;00m \u001b[38;5;28mself\u001b[39m\u001b[38;5;241m.\u001b[39m_backward_pre_hooks \u001b[38;5;129;01mor\u001b[39;00m \u001b[38;5;28mself\u001b[39m\u001b[38;5;241m.\u001b[39m_forward_hooks \u001b[38;5;129;01mor\u001b[39;00m \u001b[38;5;28mself\u001b[39m\u001b[38;5;241m.\u001b[39m_forward_pre_hooks\n\u001b[1;32m   1499\u001b[0m         \u001b[38;5;129;01mor\u001b[39;00m _global_backward_pre_hooks \u001b[38;5;129;01mor\u001b[39;00m _global_backward_hooks\n\u001b[1;32m   1500\u001b[0m         \u001b[38;5;129;01mor\u001b[39;00m _global_forward_hooks \u001b[38;5;129;01mor\u001b[39;00m _global_forward_pre_hooks):\n\u001b[0;32m-> 1501\u001b[0m     \u001b[38;5;28;01mreturn\u001b[39;00m \u001b[43mforward_call\u001b[49m\u001b[43m(\u001b[49m\u001b[38;5;241;43m*\u001b[39;49m\u001b[43margs\u001b[49m\u001b[43m,\u001b[49m\u001b[43m \u001b[49m\u001b[38;5;241;43m*\u001b[39;49m\u001b[38;5;241;43m*\u001b[39;49m\u001b[43mkwargs\u001b[49m\u001b[43m)\u001b[49m\n\u001b[1;32m   1502\u001b[0m \u001b[38;5;66;03m# Do not call functions when jit is used\u001b[39;00m\n\u001b[1;32m   1503\u001b[0m full_backward_hooks, non_full_backward_hooks \u001b[38;5;241m=\u001b[39m [], []\n",
      "Cell \u001b[0;32mIn[15], line 87\u001b[0m, in \u001b[0;36mSiameseModel20.forward\u001b[0;34m(self, x1)\u001b[0m\n\u001b[1;32m     83\u001b[0m     \u001b[38;5;28mself\u001b[39m\u001b[38;5;241m.\u001b[39msrc_mask \u001b[38;5;241m=\u001b[39m mask\n\u001b[1;32m     85\u001b[0m x1 \u001b[38;5;241m=\u001b[39m \u001b[38;5;28mself\u001b[39m\u001b[38;5;241m.\u001b[39minput_embedding(x1) \u001b[38;5;66;03m# linear transformation before positional embedding\u001b[39;00m\n\u001b[0;32m---> 87\u001b[0m x1 \u001b[38;5;241m=\u001b[39m \u001b[38;5;28;43mself\u001b[39;49m\u001b[38;5;241;43m.\u001b[39;49m\u001b[43mpos_encoder\u001b[49m\u001b[43m(\u001b[49m\u001b[43mx1\u001b[49m\u001b[43m)\u001b[49m\n\u001b[1;32m     88\u001b[0m output \u001b[38;5;241m=\u001b[39m \u001b[38;5;28mself\u001b[39m\u001b[38;5;241m.\u001b[39mtransformer_encoder(x1, \u001b[38;5;28mself\u001b[39m\u001b[38;5;241m.\u001b[39msrc_mask)\u001b[38;5;66;03m#, self.src_mask)\u001b[39;00m\n\u001b[1;32m     89\u001b[0m output \u001b[38;5;241m=\u001b[39m torch\u001b[38;5;241m.\u001b[39mflatten(output, start_dim\u001b[38;5;241m=\u001b[39m\u001b[38;5;241m1\u001b[39m)\n",
      "File \u001b[0;32m~/anaconda3/envs/pytorch_p310/lib/python3.10/site-packages/torch/nn/modules/module.py:1501\u001b[0m, in \u001b[0;36mModule._call_impl\u001b[0;34m(self, *args, **kwargs)\u001b[0m\n\u001b[1;32m   1496\u001b[0m \u001b[38;5;66;03m# If we don't have any hooks, we want to skip the rest of the logic in\u001b[39;00m\n\u001b[1;32m   1497\u001b[0m \u001b[38;5;66;03m# this function, and just call forward.\u001b[39;00m\n\u001b[1;32m   1498\u001b[0m \u001b[38;5;28;01mif\u001b[39;00m \u001b[38;5;129;01mnot\u001b[39;00m (\u001b[38;5;28mself\u001b[39m\u001b[38;5;241m.\u001b[39m_backward_hooks \u001b[38;5;129;01mor\u001b[39;00m \u001b[38;5;28mself\u001b[39m\u001b[38;5;241m.\u001b[39m_backward_pre_hooks \u001b[38;5;129;01mor\u001b[39;00m \u001b[38;5;28mself\u001b[39m\u001b[38;5;241m.\u001b[39m_forward_hooks \u001b[38;5;129;01mor\u001b[39;00m \u001b[38;5;28mself\u001b[39m\u001b[38;5;241m.\u001b[39m_forward_pre_hooks\n\u001b[1;32m   1499\u001b[0m         \u001b[38;5;129;01mor\u001b[39;00m _global_backward_pre_hooks \u001b[38;5;129;01mor\u001b[39;00m _global_backward_hooks\n\u001b[1;32m   1500\u001b[0m         \u001b[38;5;129;01mor\u001b[39;00m _global_forward_hooks \u001b[38;5;129;01mor\u001b[39;00m _global_forward_pre_hooks):\n\u001b[0;32m-> 1501\u001b[0m     \u001b[38;5;28;01mreturn\u001b[39;00m \u001b[43mforward_call\u001b[49m\u001b[43m(\u001b[49m\u001b[38;5;241;43m*\u001b[39;49m\u001b[43margs\u001b[49m\u001b[43m,\u001b[49m\u001b[43m \u001b[49m\u001b[38;5;241;43m*\u001b[39;49m\u001b[38;5;241;43m*\u001b[39;49m\u001b[43mkwargs\u001b[49m\u001b[43m)\u001b[49m\n\u001b[1;32m   1502\u001b[0m \u001b[38;5;66;03m# Do not call functions when jit is used\u001b[39;00m\n\u001b[1;32m   1503\u001b[0m full_backward_hooks, non_full_backward_hooks \u001b[38;5;241m=\u001b[39m [], []\n",
      "Cell \u001b[0;32mIn[15], line 14\u001b[0m, in \u001b[0;36mPositionalEncoding.forward\u001b[0;34m(self, x)\u001b[0m\n\u001b[1;32m     13\u001b[0m \u001b[38;5;28;01mdef\u001b[39;00m \u001b[38;5;21mforward\u001b[39m(\u001b[38;5;28mself\u001b[39m, x):\n\u001b[0;32m---> 14\u001b[0m     \u001b[38;5;28;01mreturn\u001b[39;00m \u001b[43mx\u001b[49m\u001b[43m \u001b[49m\u001b[38;5;241;43m+\u001b[39;49m\u001b[43m \u001b[49m\u001b[38;5;28;43mself\u001b[39;49m\u001b[38;5;241;43m.\u001b[39;49m\u001b[43mpe\u001b[49m\u001b[43m[\u001b[49m\u001b[43m:\u001b[49m\u001b[43mx\u001b[49m\u001b[38;5;241;43m.\u001b[39;49m\u001b[43msize\u001b[49m\u001b[43m(\u001b[49m\u001b[38;5;241;43m0\u001b[39;49m\u001b[43m)\u001b[49m\u001b[43m,\u001b[49m\u001b[43m \u001b[49m\u001b[43m:\u001b[49m\u001b[43m]\u001b[49m\n",
      "\u001b[0;31mRuntimeError\u001b[0m: The size of tensor a (32) must match the size of tensor b (10) at non-singleton dimension 0"
     ]
    }
   ],
   "source": [
    "for idx, data in tqdm(enumerate(train_loader, 0)):\n",
    "    x_numerical = data['x_numerical'].to(device, dtype = torch.float)\n",
    "#     ids = data['ids'].to(device, dtype = torch.long)\n",
    "#     masks = data['mask'].to(device, dtype = torch.long)\n",
    "#     token_type_ids = data['token_type_ids'].to(device, dtype = torch.long)\n",
    "    targets = data['targets'].to(device, dtype = torch.long)\n",
    "\n",
    "\n",
    "    y_pred = model(x_numerical)#, ids, masks, token_type_ids)\n",
    "    print(y_pred)\n",
    "    print(y_pred.size())\n"
   ]
  },
  {
   "cell_type": "code",
   "execution_count": null,
   "id": "FnrD0WkxQr4U",
   "metadata": {
    "id": "FnrD0WkxQr4U"
   },
   "outputs": [],
   "source": []
  },
  {
   "cell_type": "code",
   "execution_count": null,
   "id": "7tT0kAmpY015",
   "metadata": {
    "id": "7tT0kAmpY015"
   },
   "outputs": [],
   "source": []
  },
  {
   "cell_type": "markdown",
   "id": "05f5b46a",
   "metadata": {
    "id": "05f5b46a"
   },
   "source": [
    "## Train model"
   ]
  },
  {
   "cell_type": "code",
   "execution_count": null,
   "id": "088c2407",
   "metadata": {
    "id": "088c2407"
   },
   "outputs": [],
   "source": []
  },
  {
   "cell_type": "code",
   "execution_count": null,
   "id": "WZI4ATJNYcfp",
   "metadata": {
    "id": "WZI4ATJNYcfp"
   },
   "outputs": [],
   "source": [
    "def build_data_loader(MAX_LEN = 10):\n",
    "#     global X_numerical_train, y_train, X_text_train, X_numerical_test, y_test, X_text_test\n",
    "    \n",
    "    tokenizer = RobertaTokenizer.from_pretrained('roberta-large', truncation=True, do_lower_case=True)\n",
    "\n",
    "    \n",
    "    train_set = SiameseDataloader(X_numerical_train, y_train, X_text_train, MAX_LEN, tokenizer)\n",
    "    train_loader = DataLoader(train_set, batch_size=batch_size, shuffle=False)\n",
    "\n",
    "\n",
    "    test_set = SiameseDataloader(X_numerical_test, y_test, X_text_test, MAX_LEN, tokenizer)\n",
    "    test_loader = DataLoader(test_set, batch_size=batch_size, shuffle=False)\n",
    "\n",
    "    return train_loader, test_loader"
   ]
  },
  {
   "cell_type": "code",
   "execution_count": null,
   "id": "920cdb4a",
   "metadata": {},
   "outputs": [],
   "source": [
    "x,y = build_data_loader()\n",
    "x"
   ]
  },
  {
   "cell_type": "code",
   "execution_count": null,
   "id": "699d13c0",
   "metadata": {
    "id": "699d13c0"
   },
   "outputs": [],
   "source": [
    "def main(config=None):\n",
    "    # Initialize a new wandb run\n",
    "    with wandb.init(config=config, project=\"stock_prediction\"):\n",
    "        # If called by wandb.agent, as below,\n",
    "        # this config will be set by Sweep Controller\n",
    "        config = wandb.config\n",
    "        \n",
    "# def main():#train_loader, test_loader, device, num_epochs):\n",
    "#     run = wandb.init(project=\"stock_prediction\")\n",
    "    \n",
    "\n",
    "    \n",
    "        # note that we define values from `wandb.config`  \n",
    "        # instead of defining hard values\n",
    "        lr  =  wandb.config.lr\n",
    "        lstm_layers = wandb.config.lstm_layers\n",
    "        lstm_dim = wandb.config.lstm_dim\n",
    "        num_epochs = wandb.config.num_epochs\n",
    "        device = 'cuda' if cuda.is_available() else 'cpu'\n",
    "        \n",
    "        \n",
    "        train_loader, test_loader = build_data_loader()\n",
    "\n",
    "            \n",
    "            \n",
    "\n",
    "\n",
    "\n",
    "        model = SiameseModel10leaky(input_dim1 = 16,\n",
    "                     hidden_dim1 = lstm_dim, output_dim1 = 10, hidden_dim3 = 10, hidden_dim4 = 8,\n",
    "                     num_layers1 = lstm_layers).to(device)\n",
    "\n",
    "        criterion = nn.CrossEntropyLoss()\n",
    "        optimiser = torch.optim.Adam(model.parameters(), lr=lr)\n",
    "    #     loss_arr = np.zeros(num_epochs)\n",
    "\n",
    "\n",
    "        train_loss_record = []\n",
    "        # wandb.watch(model, log = 'all')\n",
    "        for epoch in range(num_epochs):\n",
    "            train_loss = []\n",
    "            train_loss_sum = []\n",
    "            train_correct = 0\n",
    "            train_total = 0\n",
    "\n",
    "            for idx, data in tqdm(enumerate(train_loader, 0)):\n",
    "                x_numerical = data['x_numerical'].to(device, dtype = torch.float)\n",
    "#                 ids = data['ids'].to(device, dtype = torch.long)\n",
    "#                 masks = data['mask'].to(device, dtype = torch.long)\n",
    "#                 token_type_ids = data['token_type_ids'].to(device, dtype = torch.long)\n",
    "                targets = data['targets'].to(device, dtype = torch.long)\n",
    "\n",
    "\n",
    "\n",
    "\n",
    "                y_pred = model(x_numerical)#, ids, masks, token_type_ids)\n",
    "        #         print('y_pred shape', y_pred.shape)\n",
    "        #         print('target shape', targets.reshape(-1).shape)\n",
    "                _, pred_label = torch.max(y_pred.data, 1)\n",
    "\n",
    "                loss = criterion(y_pred, targets.reshape(-1))\n",
    "\n",
    "                 # Zero out gradient, else they will accumulate between epochs\n",
    "                optimiser.zero_grad()\n",
    "\n",
    "                # Backward pass\n",
    "                loss.backward()\n",
    "                torch.nn.utils.clip_grad_norm_(model.parameters(), 1)\n",
    "\n",
    "                for name, p in model.named_parameters():\n",
    "                    if(p.requires_grad) and (\"bias\" not in name):\n",
    "                        if p.grad is not None:\n",
    "                            wandb.log({'gradient_' + name: p.grad.abs().mean().cpu().data.numpy()})\n",
    "                        else:\n",
    "                            wandb.log({'gradient_' + name: 0})\n",
    "\n",
    "\n",
    "                # plot_grad_flow(model.named_parameters(), idx, epoch) # version 1\n",
    "\n",
    "                # Update parameters\n",
    "                optimiser.step()\n",
    "\n",
    "\n",
    "\n",
    "                train_loss.append(loss.data.cpu())\n",
    "                train_loss_sum.append(loss.data.cpu())\n",
    "\n",
    "\n",
    "                wandb.log({'avg train loss in this batch': loss.item(), 'epoch': epoch, 'batch_id': idx})\n",
    "                # Get accuracy\n",
    "                train_total += targets.reshape(-1).size(0)\n",
    "                train_correct += (pred_label == targets.reshape(-1)).sum()\n",
    "            train_accuracy = 100 * train_correct / train_total\n",
    "\n",
    "            # Record at every epoch\n",
    "            print('Train Loss at epoch {}: {}\\n'.format(epoch, np.mean(train_loss_sum)))\n",
    "            train_loss_record.append(np.mean(train_loss_sum))\n",
    "            wandb.log({'avg train loss in this epoch': np.mean(train_loss_sum)})\n",
    "            wandb.log({'train accuracy in this epoch': train_accuracy})\n",
    "\n",
    "\n",
    "\n",
    "\n",
    "\n",
    "\n",
    "            # evaluate on test set every epoch\n",
    "            test_loss = []\n",
    "            test_loss_sum = []\n",
    "\n",
    "            correct = 0\n",
    "            total = 0\n",
    "\n",
    "            for idx, data in tqdm(enumerate(test_loader, 0)):\n",
    "                test_x_numerical = data['x_numerical'].to(device, dtype = torch.float)\n",
    "#                 test_ids = data['ids'].to(device, dtype = torch.long)\n",
    "#                 test_masks = data['mask'].to(device, dtype = torch.long)\n",
    "#                 test_token_type_ids = data['token_type_ids'].to(device, dtype = torch.long)\n",
    "                test_targets = data['targets'].to(device, dtype = torch.long)\n",
    "\n",
    "                y_pred = model(test_x_numerical)#, test_ids, test_masks, test_token_type_ids)\n",
    "                _, pred_label = torch.max(y_pred.data, 1)\n",
    "\n",
    "        #         print('y_pred:', y_pred)\n",
    "                tloss = criterion(y_pred, test_targets.reshape(-1))\n",
    "\n",
    "                test_loss.append(tloss.data.cpu())\n",
    "                test_loss_sum.append(tloss.data.cpu())\n",
    "\n",
    "                wandb.log({'avg test loss in this batch': tloss.item(),  'batch_id': idx})\n",
    "\n",
    "                # Get accuracy\n",
    "                total += test_targets.reshape(-1).size(0)\n",
    "                correct += (pred_label == test_targets.reshape(-1)).sum()\n",
    "            accuracy = 100 * correct / total\n",
    "\n",
    "            # Record at every epoch\n",
    "            print('test Loss at epoch {}: {}\\n'.format(epoch, np.mean(test_loss_sum)))\n",
    "            wandb.log({'avg test loss in this epoch': np.mean(test_loss_sum) })\n",
    "            wandb.log({'test accuracy in this epoch': accuracy})\n",
    "\n",
    "\n",
    "\n",
    "\n",
    "\n",
    "\n",
    "\n",
    "\n",
    "\n",
    "\n"
   ]
  },
  {
   "cell_type": "code",
   "execution_count": null,
   "id": "Czyuam3JfJj2",
   "metadata": {
    "id": "Czyuam3JfJj2"
   },
   "outputs": [],
   "source": [
    "wandb.agent(sweep_id, function=main, count=30)"
   ]
  },
  {
   "cell_type": "code",
   "execution_count": null,
   "id": "TB_GL_Ilbfy4",
   "metadata": {
    "id": "TB_GL_Ilbfy4"
   },
   "outputs": [],
   "source": []
  },
  {
   "cell_type": "code",
   "execution_count": null,
   "id": "bb6bbec1",
   "metadata": {
    "id": "bb6bbec1"
   },
   "outputs": [],
   "source": []
  },
  {
   "cell_type": "code",
   "execution_count": null,
   "id": "4aac5f8f",
   "metadata": {
    "id": "4aac5f8f"
   },
   "outputs": [],
   "source": []
  },
  {
   "cell_type": "markdown",
   "id": "Kcgrof1frlbM",
   "metadata": {
    "id": "Kcgrof1frlbM"
   },
   "source": [
    "## Save the model"
   ]
  },
  {
   "cell_type": "code",
   "execution_count": null,
   "id": "e1122c8c",
   "metadata": {
    "id": "e1122c8c"
   },
   "outputs": [],
   "source": [
    "output_model_file = output_path + '/roberta_stock_pred.bin'\n",
    "output_vocab_file = output_path\n",
    "\n",
    "model_to_save = model\n",
    "torch.save(model_to_save, output_model_file)\n",
    "tokenizer.save_vocabulary(output_vocab_file)\n"
   ]
  },
  {
   "cell_type": "code",
   "execution_count": null,
   "id": "08cd634e",
   "metadata": {},
   "outputs": [],
   "source": []
  },
  {
   "cell_type": "code",
   "execution_count": null,
   "id": "3049d3f4",
   "metadata": {
    "id": "3049d3f4"
   },
   "outputs": [],
   "source": []
  },
  {
   "cell_type": "code",
   "execution_count": null,
   "id": "1807d2b1",
   "metadata": {
    "id": "1807d2b1"
   },
   "outputs": [],
   "source": []
  },
  {
   "cell_type": "code",
   "execution_count": null,
   "id": "2cf315ee",
   "metadata": {
    "id": "2cf315ee"
   },
   "outputs": [],
   "source": []
  }
 ],
 "metadata": {
  "accelerator": "GPU",
  "colab": {
   "gpuType": "T4",
   "provenance": []
  },
  "kernelspec": {
   "display_name": "conda_pytorch_p310",
   "language": "python",
   "name": "conda_pytorch_p310"
  },
  "language_info": {
   "codemirror_mode": {
    "name": "ipython",
    "version": 3
   },
   "file_extension": ".py",
   "mimetype": "text/x-python",
   "name": "python",
   "nbconvert_exporter": "python",
   "pygments_lexer": "ipython3",
   "version": "3.10.10"
  }
 },
 "nbformat": 4,
 "nbformat_minor": 5
}
