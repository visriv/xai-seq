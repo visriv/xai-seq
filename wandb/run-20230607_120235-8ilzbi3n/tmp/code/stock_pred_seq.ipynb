{
 "cells": [
  {
   "cell_type": "code",
   "execution_count": null,
   "id": "45f86a57",
   "metadata": {},
   "outputs": [],
   "source": [
    "!pip install yfinance\n",
    "!pip install transformers"
   ]
  },
  {
   "cell_type": "code",
   "execution_count": null,
   "id": "2276d832",
   "metadata": {},
   "outputs": [],
   "source": [
    "import yfinance as yf\n",
    "import datetime\n",
    "import numpy as np\n",
    "import pandas as pd\n",
    "from pylab import mpl, plt\n",
    "import math, time\n",
    "import itertools\n",
    "from datetime import datetime\n",
    "from operator import itemgetter\n",
    "from tqdm import tqdm\n",
    "from math import sqrt\n",
    "import torch\n",
    "import torch.nn as nn\n",
    "from torch.autograd import Variable\n"
   ]
  },
  {
   "cell_type": "code",
   "execution_count": null,
   "id": "00c76ee6",
   "metadata": {},
   "outputs": [],
   "source": [
    "from torch import cuda\n",
    "device = 'cuda' if cuda.is_available() else 'cpu'"
   ]
  },
  {
   "cell_type": "code",
   "execution_count": null,
   "id": "e2f6a19e",
   "metadata": {},
   "outputs": [],
   "source": [
    "import wandb\n",
    "wandb.login()\n",
    "wandb.init(project=\"stock_prediction\")"
   ]
  },
  {
   "cell_type": "markdown",
   "id": "3862aa8b",
   "metadata": {},
   "source": [
    "### Hyperparams"
   ]
  },
  {
   "cell_type": "code",
   "execution_count": null,
   "id": "0c9808dc",
   "metadata": {},
   "outputs": [],
   "source": [
    "no_of_days_to_lookback = 5\n",
    "up_threshold = 0.015\n",
    "down_threshold = -0.015\n",
    "max_text_per_iter = 100\n",
    "batch_size = 32\n",
    "MAX_LEN = 1000\n",
    "num_epochs = 20"
   ]
  },
  {
   "cell_type": "markdown",
   "id": "9456c43f",
   "metadata": {},
   "source": [
    "### Get stocks data for last N days"
   ]
  },
  {
   "cell_type": "code",
   "execution_count": 356,
   "id": "3d786ba6",
   "metadata": {},
   "outputs": [],
   "source": []
  },
  {
   "cell_type": "code",
   "execution_count": null,
   "id": "64983989",
   "metadata": {},
   "outputs": [],
   "source": [
    "stock_symbols = [ 'XOM']\n",
    "no_of_days = 4*365\n",
    "\n",
    "EXPORT_DATA_FOLDER = './data/'\n",
    "\n",
    "# Set the start and end dates for the data \n",
    "# here matching it with dates of news text available\n",
    "start = datetime.strptime('2019/01/04', '%Y/%m/%d')\n",
    "end = datetime.strptime('2023/01/04', '%Y/%m/%d')\n",
    "\n",
    "\n",
    "# start = datetime.datetime.now() - datetime.timedelta(days=no_of_days)\n",
    "# end = datetime.datetime.now()\n",
    "\n",
    "for symbol in stock_symbols:\n",
    "    # Download the historical price and volume data using yfinance\n",
    "    data_raw = yf.download(symbol, start=start, end=end)\n",
    "\n",
    "    # Normalize features by percent of changes between today and yesterday\n",
    "    pct_change_open = data_raw['Open'].pct_change().fillna(0)\n",
    "    pct_change_high = data_raw['High'].pct_change().fillna(0)\n",
    "    pct_change_high_over_open = (data_raw['High']-data_raw['Open'])/data_raw['Open']\n",
    "    pct_change_low = data_raw['Low'].pct_change().fillna(0)\n",
    "    pct_change_low_over_open = (data_raw['Low']-data_raw['Open'])/data_raw['Open']\n",
    "    pct_change_close = data_raw['Close'].pct_change().fillna(0)\n",
    "    pct_change_close_over_open = (data_raw['Close']-data_raw['Open'])/data_raw['Open']\n",
    "    pct_change_adjclose = data_raw['Adj Close'].pct_change().fillna(0)\n",
    "    pct_change_adjclose_over_open = (data_raw['Adj Close']-data_raw['Open'])/data_raw['Open']\n",
    "    pct_change_volume = data_raw['Volume'].pct_change().fillna(0)\n",
    "\n",
    "    # Prepare labels: 2 means the close price of tomorow is higher than today's close price; 1 is down; 0 means the movement is between up_threshold and down_threshold\n",
    "    label = np.where(pct_change_close > up_threshold, 2, np.where(pct_change_close < down_threshold, 1, 0))[1:]\n",
    "    label = np.append(label, 0)\n",
    "\n",
    "    # Construct a data_norm data frame\n",
    "    data_norm = pd.DataFrame({'Open_norm':pct_change_open,\n",
    "                              'High_norm':pct_change_high,\n",
    "                              'Low_norm': pct_change_low,\n",
    "                              'Close_norm':pct_change_close,\n",
    "                              'Volume_norm':pct_change_volume,\n",
    "                              'High-Open_norm':pct_change_high_over_open,\n",
    "                              'Low-Open_norm':pct_change_low_over_open,\n",
    "                              'Close-Open_norm':pct_change_close_over_open,\n",
    "                              'Label_2up1down':label})\n",
    "\n",
    "    # Normalize by min-max normalization after the pct normalization\n",
    "    data_norm['Open_norm'] = data_norm['Open_norm'].apply(lambda x: (x - data_norm['Open_norm'].min()) / (data_norm['Open_norm'].max() - data_norm['Open_norm'].min()))\n",
    "    data_norm['High_norm'] = data_norm['High_norm'].apply(lambda x: (x - data_norm['High_norm'].min()) / (data_norm['High_norm'].max() - data_norm['High_norm'].min()))\n",
    "    data_norm['Low_norm'] = data_norm['Low_norm'].apply(lambda x: (x - data_norm['Low_norm'].min()) / (data_norm['Low_norm'].max() - data_norm['Low_norm'].min()))\n",
    "    data_norm['Close_norm'] = data_norm['Close_norm'].apply(lambda x: (x - data_norm['Close_norm'].min()) / (data_norm['Close_norm'].max() - data_norm['Close_norm'].min()))\n",
    "    data_norm['Volume_norm'] = data_norm['Volume_norm'].apply(lambda x: (x - data_norm['Volume_norm'].min()) / (data_norm['Volume_norm'].max() - data_norm['Volume_norm'].min()))\n",
    "    data_norm['High-Open_norm'] = data_norm['High-Open_norm'].apply(lambda x: (x - data_norm['High-Open_norm'].min()) / (data_norm['High-Open_norm'].max() - data_norm['High-Open_norm'].min()))\n",
    "    data_norm['Low-Open_norm'] = data_norm['Low-Open_norm'].apply(lambda x: (x - data_norm['Low-Open_norm'].min()) / (data_norm['Low-Open_norm'].max() - data_norm['Low-Open_norm'].min()))\n",
    "    data_norm['Close-Open_norm'] = data_norm['Close-Open_norm'].apply(lambda x: (x - data_norm['Close-Open_norm'].min()) / (data_norm['Close-Open_norm'].max() - data_norm['Close-Open_norm'].min()))\n",
    "\n",
    "    # Remove the first and the last row, becuase of NAN values\n",
    "    data_raw = data_raw.iloc[1:-1]\n",
    "    data_norm = data_norm.iloc[1:-1]\n",
    "\n",
    "    data_raw.to_csv(EXPORT_DATA_FOLDER+symbol+'_raw_data.csv', index=True)\n",
    "    data_norm.to_csv(EXPORT_DATA_FOLDER+symbol+'_norm_data.csv', index=True)\n",
    "\n"
   ]
  },
  {
   "cell_type": "code",
   "execution_count": null,
   "id": "56268dca",
   "metadata": {},
   "outputs": [],
   "source": []
  },
  {
   "cell_type": "markdown",
   "id": "cc253c48",
   "metadata": {},
   "source": [
    "## TODO (2023-06-05)\n"
   ]
  },
  {
   "cell_type": "code",
   "execution_count": null,
   "id": "af94833a",
   "metadata": {},
   "outputs": [],
   "source": [
    "'''\n",
    "cuda support check\n",
    "//read textual data into correct shape\n",
    "hyperparam tuning: number of neurons: tune to right number of neurons in FC in model\n",
    "//max_text_per_iter -> code in dataloader to maintain the size \n",
    "'''"
   ]
  },
  {
   "cell_type": "markdown",
   "id": "12af82f9",
   "metadata": {},
   "source": [
    "## Prep textual data"
   ]
  },
  {
   "cell_type": "code",
   "execution_count": null,
   "id": "41e13c54",
   "metadata": {},
   "outputs": [],
   "source": [
    "text_data_df = pd.read_csv('./data/XOM_20200401_20230401_medium.csv', sep= ',', header= 0)\n",
    "text_data_df = text_data_df[['Date', 'News']]\n",
    "\n",
    "\n",
    "text_data_df = text_data_df.groupby('Date')['News'].apply('$$$###'.join)\n",
    "\n",
    "text_data_df.index = pd.to_datetime(text_data_df.index, dayfirst=True)\n",
    "# text_data_df\n"
   ]
  },
  {
   "cell_type": "code",
   "execution_count": null,
   "id": "d7728432",
   "metadata": {},
   "outputs": [],
   "source": [
    "all_train_df = data_norm.join(text_data_df, how = 'inner')\n",
    "all_train_df"
   ]
  },
  {
   "cell_type": "code",
   "execution_count": 357,
   "id": "56e91800",
   "metadata": {},
   "outputs": [
    {
     "name": "stdout",
     "output_type": "stream",
     "text": [
      "<class 'numpy.ndarray'>\n"
     ]
    }
   ],
   "source": [
    "all_train = all_train_df.values\n",
    "\n",
    "window_size = no_of_days_to_lookback\n",
    "\n",
    "X_numerical_train = []\n",
    "y_train = []\n",
    "X_text_train = []\n",
    "X_text_train_curr = []\n",
    "\n",
    "\n",
    "for i in range(window_size, len(all_train)):\n",
    "    X_numerical_train.append(all_train[i-window_size: i, :-2])\n",
    "    \n",
    "    # split and append sequence\n",
    "    curr_seq = all_train[i-window_size: i, -1]\n",
    "    for j in range(window_size):\n",
    "        split_curr_seq = curr_seq[window_size - 1 -j].split('$$$###')\n",
    "        X_text_train_curr = X_text_train_curr + split_curr_seq\n",
    "    \n",
    "    if len(X_text_train_curr) > max_text_per_iter:\n",
    "        X_text_train_curr = X_text_train_curr[:100]\n",
    "    \n",
    "    X_text_train.append(X_text_train_curr)\n",
    "        \n",
    "    \n",
    "    y_train.append(all_train[i, -2]) \n",
    "\n",
    "X_numerical_train, y_train = np.array(X_numerical_train).astype(np.float16), np.array(y_train)\n",
    "print(type(X_numerical_train))\n",
    "\n",
    "X_numerical_train = torch.from_numpy(X_numerical_train).type(torch.Tensor)\n",
    "y_train = torch.from_numpy(y_train).long()\n",
    "\n"
   ]
  },
  {
   "cell_type": "code",
   "execution_count": 359,
   "id": "5dd1a021",
   "metadata": {},
   "outputs": [
    {
     "name": "stdout",
     "output_type": "stream",
     "text": [
      "453\n",
      "100\n",
      "['C-Suite Strategies (A Special Report): Management Top 250 --- Ready for Strained Supplies: Which companies are best positioned to deal with... Cargo ships stacked up at the ports of Los Angeles and Long Beach. Inventories of lumber, aluminum cans, tires, cardboard and plastic all running low. Asian electronics factories forced to delay production because of a shortage of computer ...', 'Dow Inc . - Annual Report of Employee Stock Purchase/Savings Plan (SEC Filing - 11-K) * Click here to view this document in its original format Annual Report of Employee Stock Purchase/Savings Plan (SEC Filing - 11-K) UNITED STATES', 'Is Shell Looking to Pivot From US Shale? Royal Dutch Shell may be looking for buyers for its Permian Basin shale assets, worth an estimated $10 billion, according to reporting from Reuters citing unnamed sources.', 'Supreme Court Rejects Big Oil Venue Change The US Supreme Court is mostly staying out of the fray on climate suits filed by cities against oil producers, at least for now, leaving the industry to fight it out in state courts across the country.', 'BREAKINGVIEWS-Shell’s U.S. rethink betrays lack of wiggle room (The author is a Reuters Breakingviews columnist. The opinions expressed are his own.) By George Hay LONDON, June 14 (Reuters Breakingviews) - Ben van Beurden is having to consider things he doesn’t really want to do. Royal Dutch Shell’s, ...', 'BREAKINGVIEWS-Fashion moves to the centre of activist crosshairs (The author is a Reuters Breakingviews columnist. The opinions expressed are her own.) By Aimee Donnellan LONDON, June 14 (Reuters Breakingviews) - Fast fashion is moving into activist crosshairs. The $2.5 trillion industry’s environmental, ...', 'INDUSTRY SNAPSHOTS; EUROPE - UNITED KINGDOM – PETROCHEMICALS - UPDATED 14 JUNE 2021 LATEST COMPANY NEWS News and Commentary Energy Voice - ‘Traumatic year’ sees North Sea operators hand back up to 1.1bn barrels of oil - 14/6/2021', 'INDUSTRY SNAPSHOTS; UNITED STATES - PETROLEUM AND GAS - UPDATED 14 JUNE 2021 LATEST COMPANY NEWS News and Commentary CNBC - Shell considering sale of holdings in largest U.S. oil field, worth up to $10 billion - 13/6/2021', 'A kinder, gentler capitalism? These lawmakers think it can work A pair of House Democrats with C-suite experience launched a Stakeholder Capitalism Caucus this month, embracing an economic concept that Republicans have increasingly railed against as “woke” capitalism.', 'Oil Major Mulls Drastic Move In The U.S. After Climate Ruling Royal Dutch Shell is reportedly considering selling its shale assets in the Permian Basin as the industry faces pressure to address climate change. Shell stock rose.', ' 圖表 FILE PHOTO: The logo of Exxon Mobil Corp is shown on a monitor above the floor of the New York Stock Exchange in New York FILE PHOTO: The logo of Exxon Mobil Corp is shown on a monitor above the floor of the New York Stock Exchange in New York, December 30, 2015./File Photo', \"EXCLUSIVE-Galp to hold off on LNG investment until Mozambique ensures security (Adds Exxon Mobil comment) By Sergio Goncalves LISBON, June 14 (Reuters) - Portugal's Galp Energia , a partner in an Exxon Mobil-led gas consortium in Mozambique, will not invest in onshore plants there until authorities guarantee security ...\", 'BUZZ-U.S. STOCKS ON THE MOVE-Lordstown Motors, RAPT Therapeutics, AMC Entertainment \\u2029 * Eikon search string for individual stock moves: * The Day Ahead newsletter: http://tmsnrt.rs/2ggOmBi * The Morning News Call newsletter: http://tmsnrt.rs/2fwPLTh The S&P 500 and the Dow eased on Monday, a day after ...', \"More Law Firms Are Vetting Cases for Political Risks. But There's No Foolproof Solution; THE FIRM Amid political polarization throughout the United States, an increasing number of law firms are seeking to vet their lawyers' engagements for potential political fallout in addition to client conflicts. As Barnes & Thornburg recently ...\", 'Global Vinyl Acetate Market (2021 to 2026) - Growth, Trends, COVID-19 Impact, and Forecasts - ResearchAndMarkets.com DUBLIN--(BUSINESS WIRE)--June 14, 2021-- The \"Vinyl Acetate Market - Growth, Trends, COVID-19 Impact, and Forecasts (2021 - 2026)\" report has been added to ResearchAndMarkets.com\\'s offering.', '21 Stocks for the Next Phase of the Oil Rebound Investing in almost any oil and gas stock has been extremely profitable this year. The SPDR S&P OIl & Gas Exploration & Production ETF (XOP) is up 66% and the VanEck Vectors Oil Refiners ETF (CRAK) is up 24%.', 'Worldwide Plastics Market for Passenger Cars Industry to 2025 - Key Drivers, Challenges and Trends - ResearchAndMarkets.com DUBLIN--(BUSINESS WIRE)--June 14, 2021-- The \"Global Plastics Market for Passenger Cars Industry 2021-2025\" report has been added to ResearchAndMarkets.com\\'s offering.', 'Expert Eye: Welspun Corp Ltd.: Piping gains! (Code: 532144) (FV: Rs.5) (CMP: Rs.153) Incorporated in 1995, Welspun Corp Ltd. (WCL) is a one-stop service provider offering complete pipe solution with the capability to manufacture line pipes ranging from 1½ inches to 140 inches, along with specialized coating, double jointing...', 'Aggregated results for trading of shares in Moscow Exchange 11.06.2021 Company Average Close Market Volume, Volume, price,rub price,rub price2,rub ths.rub shares Activision Blizzard 7032.0 ...', \"Keystone Illustrates Pipelines' Hurdles The failure of the Keystone XL project demonstrated the challenges of building new pipelines in the U.S. and Canada amid galvanized environmental groups and delivered a blow to oil-and-gas companies that now must rely on aging ...\", 'The Achilles’ heel of Biden’s plan President Joe Biden cannot deliver on his climate pledges if his administration keeps allowing meat and dairy corporations to emit vast amounts of planet-warming pollutants unchecked.', 'EXXON MOBIL CORP&nbsp;: JP Morgan remains its Buy rating (MarketScreener.com) Analyst Phil Gresh from JP Morgan research considers the stock attractive and recommends it with a Buy rating. The target price is unchanged at USD 76.', 'Citigroup Inc. - Annual Report of Employee Stock Purchase/Savings Plan (SEC Filing - 11-K) * Click here to view this document in its original format Annual Report of Employee Stock Purchase/Savings Plan (SEC Filing - 11-K) UNITED STATES', 'IOCs See Place for Russia in Transition While there is a perception that Russia has been slow to embrace the energy transition, international oil companies (IOCs) and top commodity traders still view the country as ripe in opportunities despite their enhanced focus on low-carbon ...', \"CPC Starts Paying Dividends The Caspian Pipeline Consortium (CPC) has started paying dividends to its shareholders for the first time since the consortium was founded in 1996 to build and operate an oil pipeline from Kazakhstan to Russia's Black Sea coast.\", 'Oil majors step up clean energy investment despite 2020 spending cuts Major oil and gas companies raised their clean energy investments even as they slashed overall spending during the coronavirus pandemic in 2020, led by the European producers who have set the most ambitious decarbonization targets in the ...', 'BREAKINGVIEWS-Exxon defeat could lead drillers back to Texas (The author is a Reuters Breakingviews columnist. The opinions expressed are his own.) By Robert Cyran NEW YORK, June 11 (Reuters Breakingviews) - Exxon Mobil’s board defeat last month shows investors want both higher returns and greener oil ...', \"Exxon Mobil Lost a Bruising Board Battle. Why Its Stock Has Been a Winner. Exxon Mobil's new board members aren't even listed on the company's website yet, but they already appear to be giving the stock a boost. Exxon stock has thrived since a contentious proxy battle last month resulted in shareholders electing ...\", \"Petroleum products rebound; Korea reaches all-time high April exports Petroleum products become driving force behind South Korea's export market Exports of petroleum products turned positive this year, driving South Korea to double-digit growth. As international oil prices recovered, petroleum products ...\", 'Natural gas in transition; renewables buyer bans forced labor in deals Solar farms like this one in San Joaquin County, Calif., often rely on materials from China. The solarindustry is under pressure to ensure forced labor is not involved in solar panel manufacturing.Source: Business Wire THE BIG STORY', 'HSBC USA Inc. - Primary Offering Prospectus (SEC Filing - 424B2) * Click here to view this document in its original format Primary Offering Prospectus (SEC Filing - 424B2) Title of Each Class ofSecurities Offered Maximum AggregateOffering Price Amount ofRegistration Fee(1) Debt Securities...', 'Research and Markets; Polymeric Modifiers Global Market to 2027 - Featuring Arkema, BASF and Clariant Among Others - ResearchAndMarkets.com 2021 JUN 20 (NewsRx) -- By a News Reporter-Staff News Editor at Medical Letter on the CDC & FDA -- The \"Polymeric Modifiers - Global Market Trajectory & Analytics\" report has been added to ResearchAndMarkets.com\\'s offering. Amid the ...', 'Chemistry - Physical Chemistry; Investigators at Exxon Mobil Corporation Discuss Findings in Physical Chemistry (Probing External Bronsted A... 2021 JUN 18 (VerticalNews) -- By a News Reporter-Staff News Editor at Energy Weekly News -- Investigators discuss new findings in Chemistry - Physical Chemistry. According to news originating from Clinton, New Jersey, by VerticalNews ...', 'Energy - Oil and Gas Research; Researchers from Exxon Mobil Corporation Detail New Studies and Findings in the Area of Oil and Gas Research... 2021 JUN 18 (VerticalNews) -- By a News Reporter-Staff News Editor at Energy Weekly News -- New research on Energy - Oil and Gas Research is the subject of a report. According to news originating from Spring, Texas, by VerticalNews ...', 'Research and Markets; Outlook on the Solvents Global Market to 2026 - Featuring Arkema, Ashland and BASF Among Others - ResearchAndMarkets.com 2021 JUN 19 (VerticalNews) -- By a News Reporter-Staff News Editor at Investment Weekly News -- The \"Global Solvents Market - Growth, Trends, COVID-19 Impact, and Forecasts (2021 - 2026)\" report has been added to ResearchAndMarkets.com\\'s ...', \"CPUSA - 60 million rural Americans: Brothers and sisters in the struggle * Click here to view this document in its original format 60 million rural Americans: Brothers and sisters in the struggle A popular bumper sticker reads: 'No Farms, No Food.' A similar notion was expressed by Lem Harris in his weekly column ...\", 'Research and Markets; Worldwide Oxygenated Solvents Industry to 2026 - Paints & Coatings Segment to Propel the Demand - ResearchAndMarkets... 2021 JUN 20 (NewsRx) -- By a News Reporter-Staff News Editor at Medical Letter on the CDC & FDA -- The \"Oxygenated Solvents Market - Growth, Trends, COVID-19 Impact, and Forecasts (2021 - 2026)\" report has been added to ...', 'Science - Computational Geosciences; New Computational Geosciences Study Results Reported from Exxon Mobil Corporation (Constrained Iterativ... 2021 JUN 18 (VerticalNews) -- By a News Reporter-Staff News Editor at Energy Weekly News -- Investigators publish new report on Science - Computational Geosciences. According to news reporting from Spring, Texas, by VerticalNews ...', 'EXCLUSIVE-TWO TOP CRUDE OIL TRADERS LEAVE EXXON MOBIL IN NEW BLOW TO ITS ENERGY TRADING UNIT -SOURCES EXCLUSIVE-TWO TOP CRUDE OIL TRADERS LEAVE EXXON MOBIL IN NEW BLOW TO ITS ENERGY TRADING UNIT -SOURCES', 'Turkey turns to US firms with plans of Black Sea gas extraction Turkey has shared data on its Black Sea discovery with US energy majors Chevron and Exxon Mobil ahead of possible cooperation in extracting the gas, a Turkish official with knowledge of the matter told Reuters.', 'Basra Operations Commander confirms that several security measures have been taken to facilitate the work of foreign oil companies A statement by the Operations Command stated this morning, that Al-Majidi met with the advanced cadres of the Exxon Mobil Oil Company in the West Qurna field/1, and confirmed during a meeting held at the company’s headquarters that included...', 'Global Plastic Resins Market Trends Analysis Report 2021 - World Market Forecast to Grow at a CAGR of 4.2% from 2021-2028... DUBLIN--(BUSINESS WIRE)--June 11, 2021-- The \"Plastic Resins Market Size, Share & Trends Analysis Report by Product (Crystalline Resin, Engineering Plastic), by Application (Packaging, Medical Devices), by Region (China, APAC), and Segment...', \"End of Keystone is an opportune time for Alberta to start a new chapter OPINION Whether by coincidence or design, it was a day of demarcation for energy in Canada. Wednesday marked the end of the odyssey that was Keystone XL, a pipeline proposal born from expectations of limitless demand for Alberta's oil ...\", \"How a Tiny Green Fund Turned the Exxon Tanker The energy giant's stunning loss was the work of a tiny hedge fund that believes investing for social good is also good for the bottom line.\", 'How post-market surveillance on insecticide resistant bednets will help end malaria *Vestergaard says investment in assessing bio efficacy of LLINs can play critical role to close evidence gap, inform procurement, deployment decisions', 'Vietnamese Governments and firms under pressure on CO2 as COP nears As a crucial climate summit in the United Kingdom approaches at the end of the year, both nations and corporations are being urged yet again of the importance of contributing towards carbon emissions cuts in order to save the planet from ...', 'Global Benzene Market 2021-2025 Published By: TechNavio Global Benzene Market 2021-2025 Technavio has been monitoring the benzene market and it is poised to grow by $ 6.11 bn during 2021-2025, progressing at a CAGR of about 4% during the forecast period. Our report on ...', \"America's Energy Gift to Dictators The U.S. is barreling toward one of the greatest self-inflicted wounds in its history. This came into sharper focus last week when President Biden suspended oil leases in Alaska's Arctic National Wildlife Refuge (ANWR), even as Russia and ...\", \"Keystone Pipeline Scrapped Amid Environmental Pressure Canada's TC Energy Corp. and the Albertan provincial government said Wednesday they would scuttle the Keystone XL oil pipeline project, bringing to an end a yearslong controversy over an effort to pipe more Canadian crude to the U.S.\", \" 圖表 Oil Pains Won't Easily Translate to Gains --- While Exxon and Chevron face the brunt of investors' scrutiny, it won't be easy for other ... [Financial Analysis and Commentary] Developments in the past couple of weeks showed the two American supermajors -- Exxon Mobil and Chevron -- can no longer kick the can down the road when it comes to climate risk. While the heat is on the ...\", 'Exxon Mobil Corporation - Annual Report of Employee Stock Purchase/Savings Plan (SEC Filing - 11-K) * Click here to view this document in its original format Annual Report of Employee Stock Purchase/Savings Plan (SEC Filing - 11-K) UNITED STATES', \"Dutch carbon capture awards dominate SDE++ auction result * Six projects account for 70% of target reductions * Rotterdam's Porthos at center of CCS awards * 3.5 GW new solar supported Around 70% of the CO2 reductions resulting from the first round of Dutch SDE++ subsidy awards will come from six ...\", 'End of Keystone XL Shows Hard Road for New Pipelines The failure of the Keystone XL project demonstrated the challenges of building new pipelines in the U.S. and Canada amid galvanized environmental groups and delivered a blow to oil-and-gas companies that now must rely on aging ...', \"Keystone XL Oil Project Abandoned by Developer; Decision ends a yearslong effort to pipe more Canadian crude to the U.S. Canada's TC Energy Corp. and the Albertan provincial government said Wednesday they would scuttle the Keystone XL oil pipeline project, bringing to an end a yearslong controversy over an effort to pipe more Canadian crude to the U.S.\", 'U.S. RESEARCH ROUNDUP-F5 Networks, FTC Solar, Original Bark \\u2029 June 10 (Reuters) - Wall Street securities analysts revised their ratings and price targets on several U.S.-listed companies, including F5 Networks, FTC Solar and Original Bark, on Thursday. HIGHLIGHTS * F5 Networks Inc...', 'IN DEPTH: Royal Dutch Shell thrust onto new and greener playing field (Alliance News) - Royal Dutch Shell PLC is spearheading the transition from fossil fuels to a greener future, whether it likes it or not, as public sentiment shifts and governments pass some of the pressure of a world under strain onto ...', 'Oil Companies Come Under Pressure From Climate Push. Top Executives Say Reducing Demand Will Be Key. -- Barrons.com Executives at oil companies that have faced calls for changes in their climate policies are starting to speak out. One point made by the chief executives at Chevron and Royal Dutch Shell in recent days is that targeting their climate ...', \"05:53 EDT Exxon Mobil to invest over $240M in Louisiana refineryLouisiana... 05:53 EDT Exxon Mobil to invest over $240M in Louisiana refineryLouisiana Governor John Bel Edwards and ExxonMobil announced the company's final investment decision for more than $240M in capital improvements at the ExxonMobil Baton Rouge ...\", 'Exxon’s board shakeup could force review of billions of dollars in spending The recent overhaul of Exxon Mobil Corp’s board of directors could shift billions of dollars in spending and strategy over several years, but any changes likely will take time, analysts and investors say.', 'Exxon, union negotiators to meet over U.S. refinery lockout -official Negotiators for the United Steelworkers union (USW) and Exxon Mobil Corp will meet on Thursday for the first time since a May 1 lockout of Beaumont, Texas, refinery workers.', 'Aggregated results for trading of shares in Moscow Exchange 09.06.2021 Company Average Close Market Volume, Volume, price,rub price,rub price2,rub ths.rub shares Activision Blizzard 7000.0 ...', \"Heard on the Street: Exxon and Chevron's Pains Won't Easily Translate to Gains -- WSJ This article is being republished as part of our daily reproduction of WSJ.com articles that also appeared in the U.S. print edition of The Wall Street Journal (June 10, 2021).\", 'Consensus Light; Exxon Mobil Consensus Average today: 2.31 1 month: 2.43 2 months: 2.75 3 months: 2.75 Buy today: 4.00 1 month: 4.00 2 months: 2.00 3 months: 2.00', 'The sustainability heat on companies By UK Sinha May 2021 will be remembered for the heat it generated on companies across the world on their sustainable business practices. In a global first, a judicial court in Netherlands has invoked the principles of human rights ...', 'Global Asphalt Market 2021-2025 Published By: TechNavio Global Asphalt Market 2021-2025 Technavio has been monitoring the asphalt market and it is poised to grow by 32.89 million tons during 2021-2025, progressing at a CAGR of almost 5% during the forecast period. Our ...', 'Miners Seek Green Investments Mining companies are trying to tap into the flood of cash targeting green investments by touting their production of materials that go into wind turbines, power lines and batteries.', \" 圖表 One Oil Company's Rocky Path To Renewable Energy --- Oersted's pivot holds lessons for oil giants targeting solar, wind power For years, Danish Oil and Natural Gas Co. did what many other big oil companies do: pumped hydrocarbons out of the North Sea. Today, it's the world's largest developer of offshore wind energy, and exceeds the market value of oil giants ...\", 'Global Autogas Market 2021-2025 Published By: TechNavio Global Autogas Market 2021-2025 Technavio has been monitoring the autogas market and it is poised to grow by 2432.32 thousand tons during 2021-2025, progressing at a CAGR of almost 2% during the forecast period. Our ...', 'Industrial Alcohol Market 2021 global outlook, research, trends and forecast to 2027 Astute Analytica published a new research report “Global Industrial alcohol Market– Industry Dynamics, Market Size, and Opportunity Forecast to 2027.” This analysis-based research report offers a comprehensive assessment of various market ...', \"Exxon, Union to Resume Talks Negotiators for the United Steelworkers union (USW) and Exxon Mobil will meet on Thursday for the first time since a May 1 lockout of Beaumont, Texas, refinery workers (OD May5'21).\", \"Exxon, Hess Find More Guyana Oil Exxon Mobil and its partners Hess and China's CNOOC reported another oil discovery in the prolific Stabroek Block offshore Guyana that could further boost the estimated recoverable reserves in the emerging play.\", 'Deal Diary: Engine No. 1 vs. Exxon Mobil Last week upstart ESG activist Engine No. 1 succeeded at installing its third dissident director candidate onto the board of Exxon Mobil Corp. (XOM).', \"America's Energy Gift to Dictators; China, Russia and Iran will exploit the U.S. retreat on fossil fuels. The U.S. is barreling toward one of the greatest self-inflicted wounds in its history. This came into sharper focus last week when President Biden suspended oil leases in Alaska's Arctic National Wildlife Refuge (ANWR), even as Russia and ...\", 'BREAKINGVIEWS-Big Smoke offers Big Oil tips to avoid dodo status (The author is a Reuters Breakingviews columnist. The opinions expressed are his own.) By George Hay LONDON, June 9 (Reuters Breakingviews) - Big Oil is staring dodo status in the face. Recent assertions by the International Energy Agency ...', \"Shale gas producers' ESG rhetoric ramps up in 2021 Across the board, pure-play shale gas producers are increasingly talking about environmental, social and governance issues in analyst and investor calls, according to an S&P Global Market Intelligence analysis of company call transcripts.\", 'Europe\\'s banks link executive pay to diversity; putting a price tag on nature The ESG Insider newsletter compiles news and insights on environmental, social and governance developments driving change in business and investment decisions. Subscribe to our ESG Insider newsletter and listen to the \"ESG Insider\" podcast ...', \"REFINERY NEWS ROUNDUP: Reduced runs at India's refiners (Platts)--09Jun2021/516 am EST/0916 GMT A number of refineries in India have been reducing throughput on surging COVID-19 cases. Indian Oil Corp, the country's top state-owned refiner, has been running its nine refineries at an average rate ...\", 'Exxon to invest $240 million in Louisiana refinery -Governor HOUSTON, June 9 (Reuters) - Exxon Mobil Corp plans to invest $240 million to expand the crude slate and improve pollution control at its 502,500 barrel-per-day refinery in Baton Rouge, Louisiana, said the state’s governor on Wednesday.', 'Houston upstream co. Talos Energy forms carbon capture JV with Storegga Geotechnologies Houston-based Talos Energy Inc. (NYSE: TALO) is carving a foothold for itself downstream via a joint venture with U.K.-based Storegga Geotechnologies Ltd.', \"Keystone XL Oil Project Abandoned by Developer -- Update Canada's TC Energy Corp. and the Albertan provincial government said Wednesday they would scuttle the Keystone XL oil pipeline project, bringing to an end a yearslong controversy over an effort to pipe more Canadian crude to the U.S.\", 'BMO - Primary Offering Prospectus (SEC Filing - 424B2) * Click here to view this document in its original format Primary Offering Prospectus (SEC Filing - 424B2) Registration Statement No. 333-237342', \"UPDATE 1-Exxon's shale output per well slips as total production rises -report * Exxon's per-well output falls to sixth from first in key basin * Shale acreage doubled with plan to sharply increase oil output (Adds Exxon comment)\", 'Exxon’s Board Defeat Signals the Rise of Social-Good Activists The energy giant’s stunning loss was the work of a tiny hedge fund that believes investing for social good is also good for the bottom line.', \"UPDATE 1-ExxonMobil makes new discovery off Guyana's coast (Updates with background on the discovery) June 9 (Reuters) - Exxon Mobil Corp said on Wednesday it has made a new discovery at Longtail-3 in the Stabroek Block offshore Guyana, as the U.S. oil major develops one of the world's most ...\", \"ExxonMobil makes new discovery off Guyana's coast June 9 (Reuters) - Exxon Mobil Corp said on Wednesday it has made a new discovery at Longtail-3 in the Stabroek Block offshore Guyana, as the U.S. oil major continues to develop one of the world's most important new oil and gas blocks in ...\", 'BRIEF-Exxonmobil Announces New Discovery At Longtail-3 Offshore Guyana June 9 (Reuters) - Exxon Mobil Corp: * EXXONMOBIL ANNOUNCES NEW DISCOVERY AT LONGTAIL-3 OFFSHORE GUYANA * EXXONMOBIL - MORE THAN 2,600 GUYANESE SUPPORTING OVERALL ACTIVITIES', \"More Firms Vetting Cases for Political Risks. But There's No Easy Solution Amid political polarization throughout the United States, an increasing number of law firms are seeking to vet their lawyers' engagements for potential political fallout in addition to client conflicts. As Barnes & Thornburg recently ...\", \"Thompson & Knight Losing More Lawyers Amid Holland & Knight Talks The legal industry's attraction to Austin continues as O'Melveny & Myers has launched an office in the Texas capital with an energy team from Thompson & Knight, which is losing lawyers prior to a pending merger with Holland & Knight.\", 'ExxonMobil Announces New Discovery at Longtail-3 Offshore Guyana -- Two drillships added in first quarter 2021; six drillships now operating offshore Guyana -- Additional drilling activity to support Stabroek development -- More than 2,600 Guyanese supporting overall activities ...', ' 圖表 FILE PHOTO: Ursula Burns, longtime Exxon Mobil board member, attends the World Economic Forum (WEF) annual meeting in Davos FILE PHOTO: Ursula Burns, longtime board member of Exxon Mobil Corp and former CEO of Xerox, gestures during the World Economic Forum (WEF) annual meeting in Davos, Switzerland January 25, 2018. REUTERS/Denis Balibouse/File Photo', 'These are the factors to take into account when investing in sustainable instruments It has already become clear: sustainable investment is not a passing fad. At the end of 2020, assets that have better environmental, social and governance (ESG) practices accumulated $1.6 trillion in 196 different investment products, ...', \"The World's Biggest Investors Get Louder About ESG By Tim Quinson (Bloomberg) - Perhaps never before have the world's biggest fund managers been so vocal about how they plan to vote in annual shareholder meetings.\", 'Synthetic Rubber Market: Global Forecast to 2026 - ResearchAndMarkets.com DUBLIN--(BUSINESS WIRE)--June 09, 2021-- The \"Synthetic Rubber Market by Type (SBR, BR, SBC, EPDM, IIR, NBR) Application (Tire, Automotive (Non-tire), Footwear, Industrial Goods, Consumer Goods, Textile), Region (North America, Europe, ...', \"IEA's 'Fantasy Island' roadmap to net zero could actually lead to $100 oil CALGARY - The International Energy Agency's road map inspired both praise from certain quarters for laying out actions to cut emissions sharply but also scorn from some energy industry experts and analysts, who say it would lead to a ...\", \"The Retreat of Exxon and the Oil Majors Won't Stop Fossil Fuel (Bloomberg) - When Exxon Mobil Corp. decided to get out of a big oil field in Iraq, the government took on the unusual role of salesman. Iraqi officials pitched West Qurna-1 to likely buyers from among Exxon's supermajor peers, including ...\", 'Blowing Agent Market by Type (HC, HFC, HCFC), Foam (Polyurethane Foam, Polystyrene Foam, Phenolic Foam, Polyolefin Foam), and Region (APAC... Published By: MarketsandMarkets Blowing Agent Market by Type (HC, HFC, HCFC), Foam (Polyurethane Foam, Polystyrene Foam, Phenolic Foam, Polyolefin Foam), and Region (APAC, North America, Europe, Middle East & Africa, South America) - Global ...', \"Fitch Assigns Globe Trade Centre S.A. First-Time 'BBB-' IDR; Outlook Stable Related Fitch Ratings Content: Globe Trade Centre S.A.: https://www.fitchratings.com/site/re/10165376 Fitch Ratings-Warsaw-08 June 2021: Fitch Ratings has assigned CEE-focused property company Globe Trade Centre S.A. (GTC) a first-time ...\", \"Tetra Technologies Inc at Cowen Sustainability & Energy Transition Summit (Virtual) - Final Presentation MARC BIANCHI, ANALYST, COWEN AND COMPANY: All right. Well, welcome back, everybody. I'm Marc Bianchi, Cowen's industrial, gas and hydrogen analyst, but also Cowen's oilfield services analyst, which is what this presentation is, ...\", 'Talos Signs Gulf Coast JV With CCS Developer US independent Talos Energy and London-based CO2 specialist Storegga Geotechnologies have formed a joint venture to pursue carbon capture and storage (CCS) opportunities on the US Gulf Coast and in the Gulf of Mexico.', 'ENERGY & RESOURCES; Kazakhstan revises 2021 oil output target for Kashagan up to 15.15 mln tonnes ALMATY. June 2 (Interfax) - Kazakhstan now expects the Kashagan field to produce 15.15 million tonnes of oil this year, an increase of 4.5% from the previous outlook of 14.5 million tones, the Kazakh government said on Wednesday.']\n"
     ]
    }
   ],
   "source": [
    "print(len(X_text_train))\n",
    "print(len(X_text_train[2]))\n",
    "print(X_text_train[2])"
   ]
  },
  {
   "cell_type": "code",
   "execution_count": null,
   "id": "23497436",
   "metadata": {},
   "outputs": [],
   "source": []
  },
  {
   "cell_type": "markdown",
   "id": "318bb1a4",
   "metadata": {},
   "source": [
    "## Data loader"
   ]
  },
  {
   "cell_type": "code",
   "execution_count": 360,
   "id": "f0577f63",
   "metadata": {},
   "outputs": [],
   "source": [
    "from torch.utils.data import Dataset\n",
    "from torch.utils.data import DataLoader\n",
    "\n",
    "tokenizer = RobertaTokenizer.from_pretrained('roberta-large', truncation=True, do_lower_case=True)\n",
    "\n",
    "class SiameseDataloader(Dataset):\n",
    "    \n",
    "    def __init__(self, X_numerical_train, y_train, X_text_train, MAX_LEN, tokenizer):\n",
    "        self.X_numerical_train = X_numerical_train\n",
    "        self.X_text_train = X_text_train\n",
    "        self.MAX_LEN = MAX_LEN\n",
    "        self.tokenizer = tokenizer\n",
    "        \n",
    "    def __getitem__(self, index):\n",
    "\n",
    "        \n",
    "        input_ids = []\n",
    "        attention_masks = []\n",
    "        token_type_ids = []\n",
    "        input_seq = []\n",
    "\n",
    "        for sent in X_text_train[index]:\n",
    "            encoded_sent = self.tokenizer.encode_plus(\n",
    "                text=sent,\n",
    "                add_special_tokens=True,        # Add `[CLS]` and `[SEP]` special tokens\n",
    "                max_length=self.MAX_LEN,             # Choose max length to truncate/pad\n",
    "                pad_to_max_length=True,         # Pad sentence to max length \n",
    "                #return_attention_mask=True      # Return attention mask\n",
    "                return_token_type_ids=True\n",
    "                )\n",
    "            input_ids.append(encoded_sent.get('input_ids'))\n",
    "            attention_masks.append(encoded_sent.get('attention_mask'))\n",
    "            token_type_ids.append(encoded_sent.get('token_type_ids'))\n",
    "\n",
    "        # Convert lists to tensors\n",
    "        input_ids = torch.tensor(input_ids)\n",
    "        attention_masks = torch.tensor(attention_masks)\n",
    "        token_type_ids = torch.tensor(token_type_ids)\n",
    "\n",
    "\n",
    "        return {\n",
    "            'x_numerical': X_train[index],\n",
    "            'ids': torch.tensor(input_ids, dtype=torch.long),\n",
    "            'mask': torch.tensor(attention_masks, dtype=torch.long),\n",
    "            'token_type_ids': torch.tensor(token_type_ids, dtype=torch.long),\n",
    "            'targets': torch.tensor(y_train[index], dtype=torch.float)\n",
    "        }\n",
    "    \n",
    "    \n",
    "    \n",
    "    \n",
    "\n",
    "    def __len__(self):\n",
    "        return len(self.X_numerical_train)"
   ]
  },
  {
   "cell_type": "code",
   "execution_count": 361,
   "id": "fdff48d9",
   "metadata": {},
   "outputs": [],
   "source": [
    "train_set = SiameseDataloader(X_numerical_train, y_train, X_text_train, MAX_LEN, tokenizer)\n",
    "train_loader = DataLoader(train_set, batch_size=batch_size, shuffle=True)\n"
   ]
  },
  {
   "cell_type": "code",
   "execution_count": null,
   "id": "e08086b1",
   "metadata": {},
   "outputs": [],
   "source": []
  },
  {
   "cell_type": "code",
   "execution_count": null,
   "id": "b0376e31",
   "metadata": {},
   "outputs": [],
   "source": []
  },
  {
   "cell_type": "code",
   "execution_count": null,
   "id": "30b7b910",
   "metadata": {},
   "outputs": [],
   "source": []
  },
  {
   "cell_type": "code",
   "execution_count": null,
   "id": "5d06f6f0",
   "metadata": {},
   "outputs": [],
   "source": []
  },
  {
   "cell_type": "code",
   "execution_count": null,
   "id": "4503e3f2",
   "metadata": {},
   "outputs": [],
   "source": []
  },
  {
   "cell_type": "code",
   "execution_count": null,
   "id": "bac7b100",
   "metadata": {},
   "outputs": [],
   "source": []
  },
  {
   "cell_type": "code",
   "execution_count": null,
   "id": "ccbfa4e5",
   "metadata": {},
   "outputs": [],
   "source": []
  },
  {
   "cell_type": "code",
   "execution_count": null,
   "id": "a63aa730",
   "metadata": {},
   "outputs": [],
   "source": []
  },
  {
   "cell_type": "code",
   "execution_count": null,
   "id": "477cfb58",
   "metadata": {},
   "outputs": [],
   "source": []
  },
  {
   "cell_type": "markdown",
   "id": "9cf9516f",
   "metadata": {},
   "source": [
    "## Build model\n"
   ]
  },
  {
   "cell_type": "code",
   "execution_count": 362,
   "id": "e3c89acf",
   "metadata": {},
   "outputs": [
    {
     "name": "stderr",
     "output_type": "stream",
     "text": [
      "Some weights of the model checkpoint at roberta-large were not used when initializing RobertaModel: ['lm_head.decoder.weight', 'lm_head.bias', 'lm_head.layer_norm.weight', 'lm_head.dense.bias', 'lm_head.layer_norm.bias', 'lm_head.dense.weight']\n",
      "- This IS expected if you are initializing RobertaModel from the checkpoint of a model trained on another task or with another architecture (e.g. initializing a BertForSequenceClassification model from a BertForPreTraining model).\n",
      "- This IS NOT expected if you are initializing RobertaModel from the checkpoint of a model that you expect to be exactly identical (initializing a BertForSequenceClassification model from a BertForSequenceClassification model).\n"
     ]
    }
   ],
   "source": [
    "\n",
    "\n",
    "from transformers import RobertaTokenizer, RobertaModel\n",
    "\n",
    "class SiameseModel(nn.Module):\n",
    "    def __init__(self, input_dim1, input_dim2, \n",
    "                 hidden_dim1, hidden_dim2, hidden_dim3, hidden_dim4,\n",
    "                 num_layers1, num_layers2, output_dim1, output_dim2):\n",
    "        super(SiameseModel, self).__init__()\n",
    "        self.input_dim1 = input_dim1\n",
    "        self.input_dim2 = input_dim2\n",
    "        self.hidden_dim1 = hidden_dim1\n",
    "        self.hidden_dim2 = hidden_dim2\n",
    "        self.hidden_dim3 = hidden_dim3\n",
    "        self.hidden_dim4 = hidden_dim4\n",
    "        self.num_layers1 = num_layers1\n",
    "        self.num_layers2 = num_layers2\n",
    "        self.output_dim1 = output_dim1\n",
    "        self.output_dim2 = output_dim2\n",
    "        \n",
    "        \n",
    "\n",
    "        self.roberta = RobertaModel.from_pretrained(\"roberta-large\")\n",
    "        \n",
    "        \n",
    "        self.lstm1 = nn.LSTM(input_dim1, hidden_dim1, num_layers1, batch_first=True)\n",
    "        self.lstm2 = nn.LSTM(input_dim2, hidden_dim2, num_layers2, batch_first=True)\n",
    "\n",
    "\n",
    "        self.fc1 = nn.Linear(hidden_dim1, output_dim1)\n",
    "        self.fc2 = nn.Linear(hidden_dim2, output_dim2)\n",
    "        self.fc3 = nn.Linear(output_dim1+output_dim2, hidden_dim3)\n",
    "        self.fc4 = nn.Linear(hidden_dim3, hidden_dim4)\n",
    "        self.fc5 = nn.Linear(hidden_dim4, 3)\n",
    "        \n",
    "        \n",
    "        \n",
    "    def forward(self, x1, ids, masks, token_type_ids):\n",
    "        #left tower with numerical features\n",
    "        \n",
    "        h_10 = Variable(torch.zeros(self.num_layers1, x1.size(0), self.hidden_dim1))\n",
    "        c_10 = Variable(torch.zeros(self.num_layers1, x1.size(0), self.hidden_dim1))\n",
    "        ula1, (h_out1, _) = self.lstm1(x1, (h_10, c_10))\n",
    "        h_out1 = h_out1.view(-1, self.hidden_dim1)\n",
    "        out1 = self.fc1(h_out1)\n",
    "        \n",
    "        \n",
    "        \n",
    "\n",
    "        e2 = torch.zeros()\n",
    "        # right tower with roberta on textual features  \n",
    "        for k in range(ids.shape[1]):\n",
    "            seq_ids = ids[:,k,:]\n",
    "            seq_masks = masks[:,k,:]\n",
    "            seq_token_type_ids = token_type_ids[:,k,:]\n",
    "            \n",
    "            \n",
    "            e2k = self.roberta(input_ids= seq_ids, attention_mask=seq_masks, token_type_ids=seq_token_type_ids)\n",
    "            e2k = e2k[0][:, 0, :]\n",
    "    \n",
    "        \n",
    "        \n",
    "        h_20 = Variable(torch.zeros(self.num_layers2, e2.size(0), self.hidden_dim2))\n",
    "        c_20 = Variable(torch.zeros(self.num_layers2, e2.size(0), self.hidden_dim2))\n",
    "        ula2, (h_out2, _) = self.lstm2(x2, (h_20, c_20))\n",
    "        h_out2 = h_out2.view(-1, self.hidden_dim2)\n",
    "        out2 = self.fc2(h_out2)\n",
    "        \n",
    "        \n",
    "        \n",
    "        \n",
    "        # siamese merging layers\n",
    "        \n",
    "#         output = torch.cat((out1, out2),1)\n",
    "#         output = F.relu(self.fc3(output))\n",
    "#         output = F.relu(self.fc4(output))\n",
    "#         output = self.fc5(output)\n",
    "#         return output\n",
    "    \n",
    "#TODO : correct these values\n",
    "model = SiameseModel(input_dim1 = 8, input_dim2 = 1024, \n",
    "                 hidden_dim1 = 20, hidden_dim2 = 768, hidden_dim3 = 128, hidden_dim4 = 64,\n",
    "                 num_layers1 = 1, num_layers2 = 1, output_dim1 = 10, output_dim2 = 256)\n",
    "\n",
    "\n",
    "    \n",
    "    \n"
   ]
  },
  {
   "cell_type": "code",
   "execution_count": null,
   "id": "39c6f563",
   "metadata": {},
   "outputs": [],
   "source": [
    "print(model)\n",
    "print(len(list(model.parameters())))\n",
    "# for i in range(len(list(model.parameters()))):\n",
    "#     print(list(model.parameters())[i].size())\n"
   ]
  },
  {
   "cell_type": "markdown",
   "id": "b1f84ab1",
   "metadata": {},
   "source": [
    "## Train model"
   ]
  },
  {
   "cell_type": "code",
   "execution_count": null,
   "id": "60000bd5",
   "metadata": {},
   "outputs": [
    {
     "name": "stderr",
     "output_type": "stream",
     "text": [
      "Some weights of the model checkpoint at roberta-large were not used when initializing RobertaModel: ['lm_head.decoder.weight', 'lm_head.bias', 'lm_head.layer_norm.weight', 'lm_head.dense.bias', 'lm_head.layer_norm.bias', 'lm_head.dense.weight']\n",
      "- This IS expected if you are initializing RobertaModel from the checkpoint of a model trained on another task or with another architecture (e.g. initializing a BertForSequenceClassification model from a BertForPreTraining model).\n",
      "- This IS NOT expected if you are initializing RobertaModel from the checkpoint of a model that you expect to be exactly identical (initializing a BertForSequenceClassification model from a BertForSequenceClassification model).\n",
      "0it [00:00, ?it/s]Truncation was not explicitly activated but `max_length` is provided a specific value, please use `truncation=True` to explicitly truncate examples to max length. Defaulting to 'longest_first' truncation strategy. If you encode pairs of sequences (GLUE-style) with the tokenizer you can select this strategy more precisely by providing a specific strategy to `truncation`.\n",
      "/Users/visriv/Library/Python/3.9/lib/python/site-packages/transformers/tokenization_utils_base.py:2364: FutureWarning: The `pad_to_max_length` argument is deprecated and will be removed in a future version, use `padding=True` or `padding='longest'` to pad to the longest sequence in the batch, or use `padding='max_length'` to pad to a max length. In this case, you can give a specific length with `max_length` (e.g. `max_length=45`) or leave max_length to None to pad to the maximal input size of the model (e.g. 512 for Bert).\n",
      "  warnings.warn(\n",
      "/var/folders/tw/t5br5nkd2k3f065pr50zxvn80000gn/T/ipykernel_22948/225503307.py:43: UserWarning: To copy construct from a tensor, it is recommended to use sourceTensor.clone().detach() or sourceTensor.clone().detach().requires_grad_(True), rather than torch.tensor(sourceTensor).\n",
      "  'ids': torch.tensor(input_ids, dtype=torch.long),\n",
      "/var/folders/tw/t5br5nkd2k3f065pr50zxvn80000gn/T/ipykernel_22948/225503307.py:44: UserWarning: To copy construct from a tensor, it is recommended to use sourceTensor.clone().detach() or sourceTensor.clone().detach().requires_grad_(True), rather than torch.tensor(sourceTensor).\n",
      "  'mask': torch.tensor(attention_masks, dtype=torch.long),\n",
      "/var/folders/tw/t5br5nkd2k3f065pr50zxvn80000gn/T/ipykernel_22948/225503307.py:45: UserWarning: To copy construct from a tensor, it is recommended to use sourceTensor.clone().detach() or sourceTensor.clone().detach().requires_grad_(True), rather than torch.tensor(sourceTensor).\n",
      "  'token_type_ids': torch.tensor(token_type_ids, dtype=torch.long),\n",
      "/var/folders/tw/t5br5nkd2k3f065pr50zxvn80000gn/T/ipykernel_22948/225503307.py:46: UserWarning: To copy construct from a tensor, it is recommended to use sourceTensor.clone().detach() or sourceTensor.clone().detach().requires_grad_(True), rather than torch.tensor(sourceTensor).\n",
      "  'targets': torch.tensor(y_train[index], dtype=torch.float)\n"
     ]
    }
   ],
   "source": [
    "roberta = RobertaModel.from_pretrained(\"roberta-large\")\n",
    "for idx, data in tqdm(enumerate(train_loader, 0)):\n",
    "    x_numerical = data['x_numerical'].to(device, dtype = torch.float)\n",
    "    ids = data['ids'].to(device, dtype = torch.long)\n",
    "    masks = data['mask'].to(device, dtype = torch.long)\n",
    "    token_type_ids = data['token_type_ids'].to(device, dtype = torch.long)\n",
    "    targets = data['targets'].to(device, dtype = torch.long)\n",
    "    \n",
    "    # debugging roberta encoder\n",
    "    \n",
    "    for k in range(ids.shape[1]):\n",
    "        seq_ids = ids[:,k,:]\n",
    "        seq_masks = masks[:,k,:]\n",
    "        seq_token_type_ids = token_type_ids[:,k,:]\n",
    "\n",
    "\n",
    "        e2k = roberta(input_ids= seq_ids, attention_mask=seq_masks, token_type_ids=seq_token_type_ids)\n",
    "        print(type(e2k))\n",
    "        e2k1 = e2k[0][:, 0, :]\n",
    "        print(type(e2k1))\n",
    "        print((e2k1.shape))\n",
    "\n",
    "        print(type(e2k1))\n",
    "\n",
    "#     print(ids.shape)\n",
    "#     print(masks.shape)\n",
    "#     print(token_type_ids.shape)\n",
    "#     outputs = model(x_numerical, ids, masks, token_type_ids)\n",
    "#     print(outputs)\n",
    "    if idx > 1:\n",
    "        break\n",
    "        \n",
    "        "
   ]
  },
  {
   "cell_type": "code",
   "execution_count": null,
   "id": "0e2841c8",
   "metadata": {},
   "outputs": [],
   "source": []
  },
  {
   "cell_type": "code",
   "execution_count": null,
   "id": "b1679419",
   "metadata": {},
   "outputs": [],
   "source": []
  },
  {
   "cell_type": "code",
   "execution_count": null,
   "id": "10536506",
   "metadata": {},
   "outputs": [],
   "source": [
    "\n",
    "criterion = nn.CrossEntropyLoss()\n",
    "\n",
    "optimiser = torch.optim.Adam(model.parameters(), lr=0.01)\n",
    "\n",
    "\n",
    "loss_arr = np.zeros(num_epochs)\n",
    "\n",
    "for epoch in range(num_epochs):\n",
    "    \n",
    "    for batch_idx, (x1, x2, y_train) in enumerate(train_loader):\n",
    "        \n",
    "        # Forward pass\n",
    "        y_train_pred = model(x1, x2)\n",
    "\n",
    "\n",
    "        loss = criterion(y_train_pred, y_train)\n",
    "        if epoch % 10 == 0 and epoch !=0:\n",
    "            print(\"Epoch \", t, \"CELoss: \", loss.item())\n",
    "        loss_arr[t=epoch] = loss.item()\n",
    "        wandb.log({'celoss': loss.item().avg, 'epoch': epoch, 'batch_id': batch_id})\n",
    "\n",
    "        # Zero out gradient, else they will accumulate between epochs\n",
    "        optimiser.zero_grad()\n",
    "\n",
    "        # Backward pass\n",
    "        loss.backward()\n",
    "\n",
    "        # Update parameters\n",
    "        optimiser.step()\n",
    "    \n",
    "    \n",
    "\n",
    "    \n",
    "\n",
    "\n",
    "\n",
    "   \n",
    "        \n",
    "        \n",
    "        \n",
    "\n"
   ]
  },
  {
   "cell_type": "code",
   "execution_count": null,
   "id": "d556802e",
   "metadata": {},
   "outputs": [],
   "source": [
    "plt.plot(loss_arr, label=\"Training loss\")\n",
    "plt.legend()\n",
    "plt.show()"
   ]
  },
  {
   "cell_type": "code",
   "execution_count": null,
   "id": "777248db",
   "metadata": {},
   "outputs": [],
   "source": [
    "\n",
    "'''"
   ]
  }
 ],
 "metadata": {
  "kernelspec": {
   "display_name": "Python 3 (ipykernel)",
   "language": "python",
   "name": "python3"
  },
  "language_info": {
   "codemirror_mode": {
    "name": "ipython",
    "version": 3
   },
   "file_extension": ".py",
   "mimetype": "text/x-python",
   "name": "python",
   "nbconvert_exporter": "python",
   "pygments_lexer": "ipython3",
   "version": "3.9.6"
  }
 },
 "nbformat": 4,
 "nbformat_minor": 5
}
